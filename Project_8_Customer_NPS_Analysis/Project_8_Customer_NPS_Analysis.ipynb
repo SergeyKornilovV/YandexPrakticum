{
 "cells": [
  {
   "cell_type": "markdown",
   "id": "7afc5411",
   "metadata": {},
   "source": [
    "# Анализ NPS у клиентов "
   ]
  },
  {
   "cell_type": "markdown",
   "id": "48d58ae2",
   "metadata": {},
   "source": [
    "Заказчик этого исследования — большая телекоммуникационная компания, которая оказывает услуги на территории всего СНГ. Перед компанией стоит задача определить текущий уровень потребительской лояльности, или NPS (от англ. Net Promoter Score), среди клиентов из России. \n",
    "\n",
    "\n",
    "Для того чтобы определить уровень лояльности, был проведен опрос в котором клиентам задавали классический вопрос:  \n",
    "`«Оцените по шкале от 1 до 10 вероятность того, что вы порекомендуете компанию друзьям и знакомым»`.  \n",
    "\n",
    "`Итоговое значение NPS рассчитывается по формуле: % «сторонников» - % «критиков»`\n",
    "\n",
    "Данные с результатами загружены в БД SQLite.  \n",
    "\n",
    "Описание данных\n",
    "Таблица `user`\n",
    "Содержит основную информацию о клиентах.\n",
    "- `user_id` - идентификатор клиента, первичный ключ таблицы\n",
    "- `lt_day` - количество дней «жизни» клиента\n",
    "- `age` - возраст клиента в годах\n",
    "- `gender_segment` - пол клиента (1 – женщина, 0 – мужчина)\n",
    "- `os_name` - тип операционной системы\n",
    "- `cpe_type_name` - тип устройства\n",
    "- `location_id` - идентификатор домашнего региона клиента, внешний ключ, отсылающий к таблице location\n",
    "- `age_gr_id` - идентификатор возрастного сегмента клиента, внешний ключ, отсылающий к таблице age_segment\n",
    "- `tr_gr_id` - идентификатор сегмента клиента по объёму потребляемого трафика в месяц, внешний ключ, отсылающий к таблице `traffic_segment`\n",
    "- `lt_gr_id` - идентификатор сегмента клиента по количеству месяцев «жизни», внешний ключ, отсылающий к таблице `lifetime_segment`\n",
    "- `nps_score` - оценка клиента в NPS-опросе (от 1 до 10)  \n",
    "\n",
    "Таблица `location`\n",
    "Справочник территорий, в которых телеком-компания оказывает услуги.\n",
    "- `location_id` - идентификатор записи, первичный ключ\n",
    "- `country`\t- страна\n",
    "- `city` - город  \n",
    "\n",
    "Таблица `age_segment`\n",
    "Данные о возрастных сегментах клиентов.  \n",
    "- `age_gr_id` - идентификатор сегмента, первичный ключ\n",
    "- `bucket_min` - минимальная граница сегмента\n",
    "- `bucket_max` - максимальная граница сегмента\n",
    "- `title` - название сегмента  \n",
    "\n",
    "Таблица `traffic_segment`\n",
    "Данные о выделяемых сегментах по объёму потребляемого трафика.\n",
    "- `tr_gr_id` - идентификатор сегмента, первичный ключ\n",
    "- `bucket_min` - минимальная граница сегмента\n",
    "- `bucket_max` - максимальная граница сегмента\n",
    "- `title` - название сегмента  \n",
    "\n",
    "Таблица `lifetime_segment`\n",
    "Данные о выделяемых сегментах по количеству месяцев «жизни» клиента — лайфтайму.\n",
    "- `lt_gr_id` - идентификатор сегмента, первичный ключ\n",
    "- `bucket_min` - минимальная граница сегмента\n",
    "- `bucket_max` - максимальная граница сегмента\n",
    "- `title` - название сегмента  \n",
    "\n",
    "Мы будем объединять все данные в одну таблицу, проводить анализ и готовить презентацию с помощью `Tableau`.     \n",
    "\n",
    "Ссылку на готовую презентацию отправим клиенту."
   ]
  },
  {
   "cell_type": "markdown",
   "id": "2f605ed1",
   "metadata": {},
   "source": [
    "## 1 Подключение библиотек и подключение к БД"
   ]
  },
  {
   "cell_type": "code",
   "execution_count": 1,
   "id": "fc7efa54",
   "metadata": {},
   "outputs": [],
   "source": [
    "import os\n",
    "import pandas as pd\n",
    "import numpy as np\n",
    "\n",
    "from sqlalchemy import create_engine"
   ]
  },
  {
   "cell_type": "code",
   "execution_count": 2,
   "id": "0017f8e7",
   "metadata": {},
   "outputs": [],
   "source": [
    "path_to_db_local = 'telecomm_csi.db'\n",
    "path_to_db_platform = '/datasets/telecomm_csi.db'\n",
    "path_to_db = None\n",
    "\n",
    "if os.path.exists(path_to_db_local):\n",
    "    path_to_db = path_to_db_local\n",
    "elif os.path.exists(path_to_db_platform):\n",
    "    path_to_db = path_to_db_platform\n",
    "else:\n",
    "    raise Exception('Файл с базой данных SQLite не найден!')\n",
    "\n",
    "if path_to_db:\n",
    "    engine = create_engine(f'sqlite:///{path_to_db}', echo=False)"
   ]
  },
  {
   "cell_type": "markdown",
   "id": "f74b25df",
   "metadata": {},
   "source": [
    "## 2 Смотрим на таблицы перед их объединением"
   ]
  },
  {
   "cell_type": "markdown",
   "id": "eacba2e5",
   "metadata": {},
   "source": [
    "Псмотрим на данные перед их объединением"
   ]
  },
  {
   "cell_type": "markdown",
   "id": "7ab82a42",
   "metadata": {},
   "source": [
    "### 2.1 Таблица user"
   ]
  },
  {
   "cell_type": "code",
   "execution_count": 3,
   "id": "18038a77",
   "metadata": {},
   "outputs": [],
   "source": [
    "query = \"\"\"\n",
    "select * from user\n",
    "\"\"\""
   ]
  },
  {
   "cell_type": "code",
   "execution_count": 4,
   "id": "073272a8",
   "metadata": {},
   "outputs": [
    {
     "data": {
      "text/html": [
       "<div>\n",
       "<style scoped>\n",
       "    .dataframe tbody tr th:only-of-type {\n",
       "        vertical-align: middle;\n",
       "    }\n",
       "\n",
       "    .dataframe tbody tr th {\n",
       "        vertical-align: top;\n",
       "    }\n",
       "\n",
       "    .dataframe thead th {\n",
       "        text-align: right;\n",
       "    }\n",
       "</style>\n",
       "<table border=\"1\" class=\"dataframe\">\n",
       "  <thead>\n",
       "    <tr style=\"text-align: right;\">\n",
       "      <th></th>\n",
       "      <th>user_id</th>\n",
       "      <th>lt_day</th>\n",
       "      <th>age</th>\n",
       "      <th>gender_segment</th>\n",
       "      <th>os_name</th>\n",
       "      <th>cpe_type_name</th>\n",
       "      <th>location_id</th>\n",
       "      <th>age_gr_id</th>\n",
       "      <th>tr_gr_id</th>\n",
       "      <th>lt_gr_id</th>\n",
       "      <th>nps_score</th>\n",
       "    </tr>\n",
       "  </thead>\n",
       "  <tbody>\n",
       "    <tr>\n",
       "      <th>0</th>\n",
       "      <td>A001A2</td>\n",
       "      <td>2320</td>\n",
       "      <td>45.0</td>\n",
       "      <td>1.0</td>\n",
       "      <td>ANDROID</td>\n",
       "      <td>SMARTPHONE</td>\n",
       "      <td>55</td>\n",
       "      <td>5</td>\n",
       "      <td>5</td>\n",
       "      <td>8</td>\n",
       "      <td>10</td>\n",
       "    </tr>\n",
       "    <tr>\n",
       "      <th>1</th>\n",
       "      <td>A001WF</td>\n",
       "      <td>2344</td>\n",
       "      <td>53.0</td>\n",
       "      <td>0.0</td>\n",
       "      <td>ANDROID</td>\n",
       "      <td>SMARTPHONE</td>\n",
       "      <td>21</td>\n",
       "      <td>5</td>\n",
       "      <td>5</td>\n",
       "      <td>8</td>\n",
       "      <td>10</td>\n",
       "    </tr>\n",
       "    <tr>\n",
       "      <th>2</th>\n",
       "      <td>A003Q7</td>\n",
       "      <td>467</td>\n",
       "      <td>57.0</td>\n",
       "      <td>0.0</td>\n",
       "      <td>ANDROID</td>\n",
       "      <td>SMARTPHONE</td>\n",
       "      <td>28</td>\n",
       "      <td>6</td>\n",
       "      <td>9</td>\n",
       "      <td>6</td>\n",
       "      <td>10</td>\n",
       "    </tr>\n",
       "    <tr>\n",
       "      <th>3</th>\n",
       "      <td>A004TB</td>\n",
       "      <td>4190</td>\n",
       "      <td>44.0</td>\n",
       "      <td>1.0</td>\n",
       "      <td>IOS</td>\n",
       "      <td>SMARTPHONE</td>\n",
       "      <td>38</td>\n",
       "      <td>4</td>\n",
       "      <td>4</td>\n",
       "      <td>8</td>\n",
       "      <td>10</td>\n",
       "    </tr>\n",
       "    <tr>\n",
       "      <th>4</th>\n",
       "      <td>A004XT</td>\n",
       "      <td>1163</td>\n",
       "      <td>24.0</td>\n",
       "      <td>0.0</td>\n",
       "      <td>ANDROID</td>\n",
       "      <td>SMARTPHONE</td>\n",
       "      <td>39</td>\n",
       "      <td>2</td>\n",
       "      <td>6</td>\n",
       "      <td>8</td>\n",
       "      <td>10</td>\n",
       "    </tr>\n",
       "  </tbody>\n",
       "</table>\n",
       "</div>"
      ],
      "text/plain": [
       "  user_id  lt_day   age  gender_segment  os_name cpe_type_name  location_id  \\\n",
       "0  A001A2    2320  45.0             1.0  ANDROID    SMARTPHONE           55   \n",
       "1  A001WF    2344  53.0             0.0  ANDROID    SMARTPHONE           21   \n",
       "2  A003Q7     467  57.0             0.0  ANDROID    SMARTPHONE           28   \n",
       "3  A004TB    4190  44.0             1.0      IOS    SMARTPHONE           38   \n",
       "4  A004XT    1163  24.0             0.0  ANDROID    SMARTPHONE           39   \n",
       "\n",
       "   age_gr_id  tr_gr_id  lt_gr_id  nps_score  \n",
       "0          5         5         8         10  \n",
       "1          5         5         8         10  \n",
       "2          6         9         6         10  \n",
       "3          4         4         8         10  \n",
       "4          2         6         8         10  "
      ]
     },
     "execution_count": 4,
     "metadata": {},
     "output_type": "execute_result"
    }
   ],
   "source": [
    "df_user = pd.read_sql(query, engine)\n",
    "df_user.head()"
   ]
  },
  {
   "cell_type": "code",
   "execution_count": 5,
   "id": "71e38eb8",
   "metadata": {},
   "outputs": [
    {
     "name": "stdout",
     "output_type": "stream",
     "text": [
      "<class 'pandas.core.frame.DataFrame'>\n",
      "RangeIndex: 502493 entries, 0 to 502492\n",
      "Data columns (total 11 columns):\n",
      " #   Column          Non-Null Count   Dtype  \n",
      "---  ------          --------------   -----  \n",
      " 0   user_id         502493 non-null  object \n",
      " 1   lt_day          502493 non-null  int64  \n",
      " 2   age             501939 non-null  float64\n",
      " 3   gender_segment  501192 non-null  float64\n",
      " 4   os_name         502493 non-null  object \n",
      " 5   cpe_type_name   502493 non-null  object \n",
      " 6   location_id     502493 non-null  int64  \n",
      " 7   age_gr_id       502493 non-null  int64  \n",
      " 8   tr_gr_id        502493 non-null  int64  \n",
      " 9   lt_gr_id        502493 non-null  int64  \n",
      " 10  nps_score       502493 non-null  int64  \n",
      "dtypes: float64(2), int64(6), object(3)\n",
      "memory usage: 42.2+ MB\n"
     ]
    }
   ],
   "source": [
    "df_user.info()"
   ]
  },
  {
   "cell_type": "code",
   "execution_count": 6,
   "id": "b542411b",
   "metadata": {},
   "outputs": [
    {
     "data": {
      "text/html": [
       "<div>\n",
       "<style scoped>\n",
       "    .dataframe tbody tr th:only-of-type {\n",
       "        vertical-align: middle;\n",
       "    }\n",
       "\n",
       "    .dataframe tbody tr th {\n",
       "        vertical-align: top;\n",
       "    }\n",
       "\n",
       "    .dataframe thead th {\n",
       "        text-align: right;\n",
       "    }\n",
       "</style>\n",
       "<table border=\"1\" class=\"dataframe\">\n",
       "  <thead>\n",
       "    <tr style=\"text-align: right;\">\n",
       "      <th></th>\n",
       "      <th>lt_day</th>\n",
       "      <th>age</th>\n",
       "      <th>gender_segment</th>\n",
       "      <th>location_id</th>\n",
       "      <th>age_gr_id</th>\n",
       "      <th>tr_gr_id</th>\n",
       "      <th>lt_gr_id</th>\n",
       "      <th>nps_score</th>\n",
       "    </tr>\n",
       "  </thead>\n",
       "  <tbody>\n",
       "    <tr>\n",
       "      <th>count</th>\n",
       "      <td>502493.000000</td>\n",
       "      <td>501939.000000</td>\n",
       "      <td>501192.000000</td>\n",
       "      <td>502493.000000</td>\n",
       "      <td>502493.000000</td>\n",
       "      <td>502493.00000</td>\n",
       "      <td>502493.000000</td>\n",
       "      <td>502493.000000</td>\n",
       "    </tr>\n",
       "    <tr>\n",
       "      <th>mean</th>\n",
       "      <td>1868.841439</td>\n",
       "      <td>39.621946</td>\n",
       "      <td>0.543588</td>\n",
       "      <td>31.237321</td>\n",
       "      <td>4.011045</td>\n",
       "      <td>8.51829</td>\n",
       "      <td>6.890339</td>\n",
       "      <td>7.508562</td>\n",
       "    </tr>\n",
       "    <tr>\n",
       "      <th>std</th>\n",
       "      <td>1683.701762</td>\n",
       "      <td>11.188249</td>\n",
       "      <td>0.498097</td>\n",
       "      <td>15.175477</td>\n",
       "      <td>1.159203</td>\n",
       "      <td>4.64590</td>\n",
       "      <td>1.525189</td>\n",
       "      <td>3.020378</td>\n",
       "    </tr>\n",
       "    <tr>\n",
       "      <th>min</th>\n",
       "      <td>-21.000000</td>\n",
       "      <td>10.000000</td>\n",
       "      <td>0.000000</td>\n",
       "      <td>1.000000</td>\n",
       "      <td>1.000000</td>\n",
       "      <td>1.00000</td>\n",
       "      <td>1.000000</td>\n",
       "      <td>1.000000</td>\n",
       "    </tr>\n",
       "    <tr>\n",
       "      <th>25%</th>\n",
       "      <td>533.000000</td>\n",
       "      <td>31.000000</td>\n",
       "      <td>0.000000</td>\n",
       "      <td>20.000000</td>\n",
       "      <td>3.000000</td>\n",
       "      <td>5.00000</td>\n",
       "      <td>6.000000</td>\n",
       "      <td>5.000000</td>\n",
       "    </tr>\n",
       "    <tr>\n",
       "      <th>50%</th>\n",
       "      <td>1239.000000</td>\n",
       "      <td>38.000000</td>\n",
       "      <td>1.000000</td>\n",
       "      <td>30.000000</td>\n",
       "      <td>4.000000</td>\n",
       "      <td>7.00000</td>\n",
       "      <td>8.000000</td>\n",
       "      <td>9.000000</td>\n",
       "    </tr>\n",
       "    <tr>\n",
       "      <th>75%</th>\n",
       "      <td>3064.000000</td>\n",
       "      <td>47.000000</td>\n",
       "      <td>1.000000</td>\n",
       "      <td>41.000000</td>\n",
       "      <td>5.000000</td>\n",
       "      <td>10.00000</td>\n",
       "      <td>8.000000</td>\n",
       "      <td>10.000000</td>\n",
       "    </tr>\n",
       "    <tr>\n",
       "      <th>max</th>\n",
       "      <td>9162.000000</td>\n",
       "      <td>89.000000</td>\n",
       "      <td>1.000000</td>\n",
       "      <td>62.000000</td>\n",
       "      <td>8.000000</td>\n",
       "      <td>25.00000</td>\n",
       "      <td>8.000000</td>\n",
       "      <td>10.000000</td>\n",
       "    </tr>\n",
       "  </tbody>\n",
       "</table>\n",
       "</div>"
      ],
      "text/plain": [
       "              lt_day            age  gender_segment    location_id  \\\n",
       "count  502493.000000  501939.000000   501192.000000  502493.000000   \n",
       "mean     1868.841439      39.621946        0.543588      31.237321   \n",
       "std      1683.701762      11.188249        0.498097      15.175477   \n",
       "min       -21.000000      10.000000        0.000000       1.000000   \n",
       "25%       533.000000      31.000000        0.000000      20.000000   \n",
       "50%      1239.000000      38.000000        1.000000      30.000000   \n",
       "75%      3064.000000      47.000000        1.000000      41.000000   \n",
       "max      9162.000000      89.000000        1.000000      62.000000   \n",
       "\n",
       "           age_gr_id      tr_gr_id       lt_gr_id      nps_score  \n",
       "count  502493.000000  502493.00000  502493.000000  502493.000000  \n",
       "mean        4.011045       8.51829       6.890339       7.508562  \n",
       "std         1.159203       4.64590       1.525189       3.020378  \n",
       "min         1.000000       1.00000       1.000000       1.000000  \n",
       "25%         3.000000       5.00000       6.000000       5.000000  \n",
       "50%         4.000000       7.00000       8.000000       9.000000  \n",
       "75%         5.000000      10.00000       8.000000      10.000000  \n",
       "max         8.000000      25.00000       8.000000      10.000000  "
      ]
     },
     "execution_count": 6,
     "metadata": {},
     "output_type": "execute_result"
    }
   ],
   "source": [
    "df_user.describe()"
   ]
  },
  {
   "cell_type": "markdown",
   "id": "81272bef",
   "metadata": {},
   "source": [
    "### 2.2 Таблица location"
   ]
  },
  {
   "cell_type": "code",
   "execution_count": 7,
   "id": "84ebad43",
   "metadata": {},
   "outputs": [],
   "source": [
    "query = \"\"\"\n",
    "select * from location\n",
    "\"\"\""
   ]
  },
  {
   "cell_type": "code",
   "execution_count": 8,
   "id": "03fbbb8c",
   "metadata": {},
   "outputs": [
    {
     "data": {
      "text/html": [
       "<div>\n",
       "<style scoped>\n",
       "    .dataframe tbody tr th:only-of-type {\n",
       "        vertical-align: middle;\n",
       "    }\n",
       "\n",
       "    .dataframe tbody tr th {\n",
       "        vertical-align: top;\n",
       "    }\n",
       "\n",
       "    .dataframe thead th {\n",
       "        text-align: right;\n",
       "    }\n",
       "</style>\n",
       "<table border=\"1\" class=\"dataframe\">\n",
       "  <thead>\n",
       "    <tr style=\"text-align: right;\">\n",
       "      <th></th>\n",
       "      <th>location_id</th>\n",
       "      <th>city</th>\n",
       "      <th>country</th>\n",
       "    </tr>\n",
       "  </thead>\n",
       "  <tbody>\n",
       "    <tr>\n",
       "      <th>0</th>\n",
       "      <td>1</td>\n",
       "      <td>Архангельск</td>\n",
       "      <td>Россия</td>\n",
       "    </tr>\n",
       "    <tr>\n",
       "      <th>1</th>\n",
       "      <td>2</td>\n",
       "      <td>Астрахань</td>\n",
       "      <td>Россия</td>\n",
       "    </tr>\n",
       "    <tr>\n",
       "      <th>2</th>\n",
       "      <td>3</td>\n",
       "      <td>Балашиха</td>\n",
       "      <td>Россия</td>\n",
       "    </tr>\n",
       "    <tr>\n",
       "      <th>3</th>\n",
       "      <td>4</td>\n",
       "      <td>Барнаул</td>\n",
       "      <td>Россия</td>\n",
       "    </tr>\n",
       "    <tr>\n",
       "      <th>4</th>\n",
       "      <td>5</td>\n",
       "      <td>Белгород</td>\n",
       "      <td>Россия</td>\n",
       "    </tr>\n",
       "  </tbody>\n",
       "</table>\n",
       "</div>"
      ],
      "text/plain": [
       "   location_id         city country\n",
       "0            1  Архангельск  Россия\n",
       "1            2    Астрахань  Россия\n",
       "2            3     Балашиха  Россия\n",
       "3            4      Барнаул  Россия\n",
       "4            5     Белгород  Россия"
      ]
     },
     "execution_count": 8,
     "metadata": {},
     "output_type": "execute_result"
    }
   ],
   "source": [
    "df_loc = pd.read_sql(query, engine)\n",
    "df_loc.head()"
   ]
  },
  {
   "cell_type": "code",
   "execution_count": 9,
   "id": "a5faf1ed",
   "metadata": {},
   "outputs": [
    {
     "data": {
      "text/plain": [
       "Череповец    1\n",
       "Саратов      1\n",
       "Иваново      1\n",
       "Курск        1\n",
       "Сургут       1\n",
       "            ..\n",
       "Грозный      1\n",
       "Уфа          1\n",
       "Волжский     1\n",
       "Кемерово     1\n",
       "УланУдэ      1\n",
       "Name: city, Length: 62, dtype: int64"
      ]
     },
     "execution_count": 9,
     "metadata": {},
     "output_type": "execute_result"
    }
   ],
   "source": [
    "df_loc['city'].value_counts()"
   ]
  },
  {
   "cell_type": "markdown",
   "id": "ad8dcfc8",
   "metadata": {},
   "source": [
    "### 2.3 Таблица age_segment"
   ]
  },
  {
   "cell_type": "code",
   "execution_count": 10,
   "id": "96ff92e4",
   "metadata": {},
   "outputs": [],
   "source": [
    "query = \"\"\"\n",
    "select * from age_segment\n",
    "\"\"\""
   ]
  },
  {
   "cell_type": "code",
   "execution_count": 11,
   "id": "41d7c6e8",
   "metadata": {
    "scrolled": true
   },
   "outputs": [
    {
     "data": {
      "text/html": [
       "<div>\n",
       "<style scoped>\n",
       "    .dataframe tbody tr th:only-of-type {\n",
       "        vertical-align: middle;\n",
       "    }\n",
       "\n",
       "    .dataframe tbody tr th {\n",
       "        vertical-align: top;\n",
       "    }\n",
       "\n",
       "    .dataframe thead th {\n",
       "        text-align: right;\n",
       "    }\n",
       "</style>\n",
       "<table border=\"1\" class=\"dataframe\">\n",
       "  <thead>\n",
       "    <tr style=\"text-align: right;\">\n",
       "      <th></th>\n",
       "      <th>age_gr_id</th>\n",
       "      <th>bucket_min</th>\n",
       "      <th>bucket_max</th>\n",
       "      <th>title</th>\n",
       "    </tr>\n",
       "  </thead>\n",
       "  <tbody>\n",
       "    <tr>\n",
       "      <th>0</th>\n",
       "      <td>1</td>\n",
       "      <td>NaN</td>\n",
       "      <td>15.0</td>\n",
       "      <td>01 до 16</td>\n",
       "    </tr>\n",
       "    <tr>\n",
       "      <th>1</th>\n",
       "      <td>2</td>\n",
       "      <td>16.0</td>\n",
       "      <td>24.0</td>\n",
       "      <td>02 16-24</td>\n",
       "    </tr>\n",
       "    <tr>\n",
       "      <th>2</th>\n",
       "      <td>3</td>\n",
       "      <td>25.0</td>\n",
       "      <td>34.0</td>\n",
       "      <td>03 25-34</td>\n",
       "    </tr>\n",
       "    <tr>\n",
       "      <th>3</th>\n",
       "      <td>4</td>\n",
       "      <td>35.0</td>\n",
       "      <td>44.0</td>\n",
       "      <td>04 35-44</td>\n",
       "    </tr>\n",
       "    <tr>\n",
       "      <th>4</th>\n",
       "      <td>5</td>\n",
       "      <td>45.0</td>\n",
       "      <td>54.0</td>\n",
       "      <td>05 45-54</td>\n",
       "    </tr>\n",
       "    <tr>\n",
       "      <th>5</th>\n",
       "      <td>6</td>\n",
       "      <td>55.0</td>\n",
       "      <td>64.0</td>\n",
       "      <td>06 55-64</td>\n",
       "    </tr>\n",
       "    <tr>\n",
       "      <th>6</th>\n",
       "      <td>7</td>\n",
       "      <td>66.0</td>\n",
       "      <td>NaN</td>\n",
       "      <td>07 66 +</td>\n",
       "    </tr>\n",
       "    <tr>\n",
       "      <th>7</th>\n",
       "      <td>8</td>\n",
       "      <td>NaN</td>\n",
       "      <td>NaN</td>\n",
       "      <td>08 n/a</td>\n",
       "    </tr>\n",
       "  </tbody>\n",
       "</table>\n",
       "</div>"
      ],
      "text/plain": [
       "   age_gr_id  bucket_min  bucket_max     title\n",
       "0          1         NaN        15.0  01 до 16\n",
       "1          2        16.0        24.0  02 16-24\n",
       "2          3        25.0        34.0  03 25-34\n",
       "3          4        35.0        44.0  04 35-44\n",
       "4          5        45.0        54.0  05 45-54\n",
       "5          6        55.0        64.0  06 55-64\n",
       "6          7        66.0         NaN   07 66 +\n",
       "7          8         NaN         NaN    08 n/a"
      ]
     },
     "execution_count": 11,
     "metadata": {},
     "output_type": "execute_result"
    }
   ],
   "source": [
    "df_age = pd.read_sql(query, engine)\n",
    "df_age"
   ]
  },
  {
   "cell_type": "markdown",
   "id": "b947ca2e",
   "metadata": {},
   "source": [
    "### 2.4 Таблица traffic_segment"
   ]
  },
  {
   "cell_type": "code",
   "execution_count": 12,
   "id": "7ad31565",
   "metadata": {},
   "outputs": [],
   "source": [
    "query = \"\"\"\n",
    "select * from traffic_segment\n",
    "\"\"\""
   ]
  },
  {
   "cell_type": "code",
   "execution_count": 13,
   "id": "534f41a5",
   "metadata": {},
   "outputs": [
    {
     "data": {
      "text/html": [
       "<div>\n",
       "<style scoped>\n",
       "    .dataframe tbody tr th:only-of-type {\n",
       "        vertical-align: middle;\n",
       "    }\n",
       "\n",
       "    .dataframe tbody tr th {\n",
       "        vertical-align: top;\n",
       "    }\n",
       "\n",
       "    .dataframe thead th {\n",
       "        text-align: right;\n",
       "    }\n",
       "</style>\n",
       "<table border=\"1\" class=\"dataframe\">\n",
       "  <thead>\n",
       "    <tr style=\"text-align: right;\">\n",
       "      <th></th>\n",
       "      <th>tr_gr_id</th>\n",
       "      <th>bucket_min</th>\n",
       "      <th>bucket_max</th>\n",
       "      <th>title</th>\n",
       "    </tr>\n",
       "  </thead>\n",
       "  <tbody>\n",
       "    <tr>\n",
       "      <th>0</th>\n",
       "      <td>1</td>\n",
       "      <td>0.00</td>\n",
       "      <td>0.00</td>\n",
       "      <td>01 0</td>\n",
       "    </tr>\n",
       "    <tr>\n",
       "      <th>1</th>\n",
       "      <td>2</td>\n",
       "      <td>0.00</td>\n",
       "      <td>0.01</td>\n",
       "      <td>01 0-0.01</td>\n",
       "    </tr>\n",
       "    <tr>\n",
       "      <th>2</th>\n",
       "      <td>3</td>\n",
       "      <td>0.01</td>\n",
       "      <td>0.10</td>\n",
       "      <td>02 0.01-0.1</td>\n",
       "    </tr>\n",
       "    <tr>\n",
       "      <th>3</th>\n",
       "      <td>4</td>\n",
       "      <td>0.10</td>\n",
       "      <td>1.00</td>\n",
       "      <td>03 0.1-1</td>\n",
       "    </tr>\n",
       "    <tr>\n",
       "      <th>4</th>\n",
       "      <td>5</td>\n",
       "      <td>1.00</td>\n",
       "      <td>5.00</td>\n",
       "      <td>04 1-5</td>\n",
       "    </tr>\n",
       "    <tr>\n",
       "      <th>5</th>\n",
       "      <td>6</td>\n",
       "      <td>5.00</td>\n",
       "      <td>10.00</td>\n",
       "      <td>05 5-10</td>\n",
       "    </tr>\n",
       "    <tr>\n",
       "      <th>6</th>\n",
       "      <td>7</td>\n",
       "      <td>10.00</td>\n",
       "      <td>15.00</td>\n",
       "      <td>06 10-15</td>\n",
       "    </tr>\n",
       "    <tr>\n",
       "      <th>7</th>\n",
       "      <td>8</td>\n",
       "      <td>15.00</td>\n",
       "      <td>20.00</td>\n",
       "      <td>07 15-20</td>\n",
       "    </tr>\n",
       "    <tr>\n",
       "      <th>8</th>\n",
       "      <td>9</td>\n",
       "      <td>20.00</td>\n",
       "      <td>25.00</td>\n",
       "      <td>08 20-25</td>\n",
       "    </tr>\n",
       "    <tr>\n",
       "      <th>9</th>\n",
       "      <td>10</td>\n",
       "      <td>25.00</td>\n",
       "      <td>30.00</td>\n",
       "      <td>09 25-30</td>\n",
       "    </tr>\n",
       "    <tr>\n",
       "      <th>10</th>\n",
       "      <td>11</td>\n",
       "      <td>30.00</td>\n",
       "      <td>35.00</td>\n",
       "      <td>10 30-35</td>\n",
       "    </tr>\n",
       "    <tr>\n",
       "      <th>11</th>\n",
       "      <td>12</td>\n",
       "      <td>35.00</td>\n",
       "      <td>40.00</td>\n",
       "      <td>11 35-40</td>\n",
       "    </tr>\n",
       "    <tr>\n",
       "      <th>12</th>\n",
       "      <td>13</td>\n",
       "      <td>40.00</td>\n",
       "      <td>45.00</td>\n",
       "      <td>12 40-45</td>\n",
       "    </tr>\n",
       "    <tr>\n",
       "      <th>13</th>\n",
       "      <td>14</td>\n",
       "      <td>45.00</td>\n",
       "      <td>50.00</td>\n",
       "      <td>13 45-50</td>\n",
       "    </tr>\n",
       "    <tr>\n",
       "      <th>14</th>\n",
       "      <td>15</td>\n",
       "      <td>50.00</td>\n",
       "      <td>55.00</td>\n",
       "      <td>14 50-55</td>\n",
       "    </tr>\n",
       "    <tr>\n",
       "      <th>15</th>\n",
       "      <td>16</td>\n",
       "      <td>55.00</td>\n",
       "      <td>60.00</td>\n",
       "      <td>15 55-60</td>\n",
       "    </tr>\n",
       "    <tr>\n",
       "      <th>16</th>\n",
       "      <td>17</td>\n",
       "      <td>60.00</td>\n",
       "      <td>65.00</td>\n",
       "      <td>16 60-65</td>\n",
       "    </tr>\n",
       "    <tr>\n",
       "      <th>17</th>\n",
       "      <td>18</td>\n",
       "      <td>65.00</td>\n",
       "      <td>70.00</td>\n",
       "      <td>17 65-70</td>\n",
       "    </tr>\n",
       "    <tr>\n",
       "      <th>18</th>\n",
       "      <td>19</td>\n",
       "      <td>70.00</td>\n",
       "      <td>75.00</td>\n",
       "      <td>18 70-75</td>\n",
       "    </tr>\n",
       "    <tr>\n",
       "      <th>19</th>\n",
       "      <td>20</td>\n",
       "      <td>75.00</td>\n",
       "      <td>80.00</td>\n",
       "      <td>19 75-80</td>\n",
       "    </tr>\n",
       "    <tr>\n",
       "      <th>20</th>\n",
       "      <td>21</td>\n",
       "      <td>80.00</td>\n",
       "      <td>85.00</td>\n",
       "      <td>20 80-85</td>\n",
       "    </tr>\n",
       "    <tr>\n",
       "      <th>21</th>\n",
       "      <td>22</td>\n",
       "      <td>85.00</td>\n",
       "      <td>90.00</td>\n",
       "      <td>21 85-90</td>\n",
       "    </tr>\n",
       "    <tr>\n",
       "      <th>22</th>\n",
       "      <td>23</td>\n",
       "      <td>90.00</td>\n",
       "      <td>95.00</td>\n",
       "      <td>22 90-95</td>\n",
       "    </tr>\n",
       "    <tr>\n",
       "      <th>23</th>\n",
       "      <td>24</td>\n",
       "      <td>95.00</td>\n",
       "      <td>100.00</td>\n",
       "      <td>23 95-100</td>\n",
       "    </tr>\n",
       "    <tr>\n",
       "      <th>24</th>\n",
       "      <td>25</td>\n",
       "      <td>100.00</td>\n",
       "      <td>NaN</td>\n",
       "      <td>24 100+</td>\n",
       "    </tr>\n",
       "  </tbody>\n",
       "</table>\n",
       "</div>"
      ],
      "text/plain": [
       "    tr_gr_id  bucket_min  bucket_max        title\n",
       "0          1        0.00        0.00         01 0\n",
       "1          2        0.00        0.01    01 0-0.01\n",
       "2          3        0.01        0.10  02 0.01-0.1\n",
       "3          4        0.10        1.00     03 0.1-1\n",
       "4          5        1.00        5.00       04 1-5\n",
       "5          6        5.00       10.00      05 5-10\n",
       "6          7       10.00       15.00     06 10-15\n",
       "7          8       15.00       20.00     07 15-20\n",
       "8          9       20.00       25.00     08 20-25\n",
       "9         10       25.00       30.00     09 25-30\n",
       "10        11       30.00       35.00     10 30-35\n",
       "11        12       35.00       40.00     11 35-40\n",
       "12        13       40.00       45.00     12 40-45\n",
       "13        14       45.00       50.00     13 45-50\n",
       "14        15       50.00       55.00     14 50-55\n",
       "15        16       55.00       60.00     15 55-60\n",
       "16        17       60.00       65.00     16 60-65\n",
       "17        18       65.00       70.00     17 65-70\n",
       "18        19       70.00       75.00     18 70-75\n",
       "19        20       75.00       80.00     19 75-80\n",
       "20        21       80.00       85.00     20 80-85\n",
       "21        22       85.00       90.00     21 85-90\n",
       "22        23       90.00       95.00     22 90-95\n",
       "23        24       95.00      100.00    23 95-100\n",
       "24        25      100.00         NaN      24 100+"
      ]
     },
     "execution_count": 13,
     "metadata": {},
     "output_type": "execute_result"
    }
   ],
   "source": [
    "df_trf = pd.read_sql(query, engine)\n",
    "df_trf"
   ]
  },
  {
   "cell_type": "markdown",
   "id": "e4cf707a",
   "metadata": {},
   "source": [
    "### 2.5 Таблица lifetime_segment"
   ]
  },
  {
   "cell_type": "code",
   "execution_count": 14,
   "id": "1e5e1514",
   "metadata": {},
   "outputs": [],
   "source": [
    "query = \"\"\"\n",
    "select * from lifetime_segment\n",
    "\"\"\""
   ]
  },
  {
   "cell_type": "code",
   "execution_count": 15,
   "id": "cb69dccd",
   "metadata": {
    "scrolled": true
   },
   "outputs": [
    {
     "data": {
      "text/html": [
       "<div>\n",
       "<style scoped>\n",
       "    .dataframe tbody tr th:only-of-type {\n",
       "        vertical-align: middle;\n",
       "    }\n",
       "\n",
       "    .dataframe tbody tr th {\n",
       "        vertical-align: top;\n",
       "    }\n",
       "\n",
       "    .dataframe thead th {\n",
       "        text-align: right;\n",
       "    }\n",
       "</style>\n",
       "<table border=\"1\" class=\"dataframe\">\n",
       "  <thead>\n",
       "    <tr style=\"text-align: right;\">\n",
       "      <th></th>\n",
       "      <th>lt_gr_id</th>\n",
       "      <th>bucket_min</th>\n",
       "      <th>bucket_max</th>\n",
       "      <th>title</th>\n",
       "    </tr>\n",
       "  </thead>\n",
       "  <tbody>\n",
       "    <tr>\n",
       "      <th>0</th>\n",
       "      <td>1</td>\n",
       "      <td>1.0</td>\n",
       "      <td>1.0</td>\n",
       "      <td>01 1</td>\n",
       "    </tr>\n",
       "    <tr>\n",
       "      <th>1</th>\n",
       "      <td>2</td>\n",
       "      <td>2.0</td>\n",
       "      <td>2.0</td>\n",
       "      <td>02 2</td>\n",
       "    </tr>\n",
       "    <tr>\n",
       "      <th>2</th>\n",
       "      <td>3</td>\n",
       "      <td>3.0</td>\n",
       "      <td>3.0</td>\n",
       "      <td>03 3</td>\n",
       "    </tr>\n",
       "    <tr>\n",
       "      <th>3</th>\n",
       "      <td>4</td>\n",
       "      <td>4.0</td>\n",
       "      <td>6.0</td>\n",
       "      <td>04 4-6</td>\n",
       "    </tr>\n",
       "    <tr>\n",
       "      <th>4</th>\n",
       "      <td>5</td>\n",
       "      <td>7.0</td>\n",
       "      <td>12.0</td>\n",
       "      <td>05 7-12</td>\n",
       "    </tr>\n",
       "    <tr>\n",
       "      <th>5</th>\n",
       "      <td>6</td>\n",
       "      <td>13.0</td>\n",
       "      <td>24.0</td>\n",
       "      <td>06 13-24</td>\n",
       "    </tr>\n",
       "    <tr>\n",
       "      <th>6</th>\n",
       "      <td>7</td>\n",
       "      <td>25.0</td>\n",
       "      <td>36.0</td>\n",
       "      <td>07 25-36</td>\n",
       "    </tr>\n",
       "    <tr>\n",
       "      <th>7</th>\n",
       "      <td>8</td>\n",
       "      <td>36.0</td>\n",
       "      <td>NaN</td>\n",
       "      <td>08 36+</td>\n",
       "    </tr>\n",
       "  </tbody>\n",
       "</table>\n",
       "</div>"
      ],
      "text/plain": [
       "   lt_gr_id  bucket_min  bucket_max     title\n",
       "0         1         1.0         1.0      01 1\n",
       "1         2         2.0         2.0      02 2\n",
       "2         3         3.0         3.0      03 3\n",
       "3         4         4.0         6.0    04 4-6\n",
       "4         5         7.0        12.0   05 7-12\n",
       "5         6        13.0        24.0  06 13-24\n",
       "6         7        25.0        36.0  07 25-36\n",
       "7         8        36.0         NaN    08 36+"
      ]
     },
     "execution_count": 15,
     "metadata": {},
     "output_type": "execute_result"
    }
   ],
   "source": [
    "df_life = pd.read_sql(query, engine)\n",
    "df_life"
   ]
  },
  {
   "cell_type": "markdown",
   "id": "8dd471e5",
   "metadata": {},
   "source": [
    "### 3 Объединяем все данные"
   ]
  },
  {
   "cell_type": "code",
   "execution_count": 16,
   "id": "4edc303f",
   "metadata": {},
   "outputs": [],
   "source": [
    "query = \"\"\"\n",
    "select user_id, lt_day, \n",
    "        case \n",
    "            when u.lt_day <= 365 then 'новый'\n",
    "            when u.lt_day > 365 then 'старый'\n",
    "            else 'не известно'\n",
    "            end as is_new, \n",
    "        age, \n",
    "        case\n",
    "            when gender_segment = 1 then 'женщина'\n",
    "            when gender_segment = 0 then 'мужчина'\n",
    "            else 'не известно'\n",
    "        end as gender_segment, \n",
    "        os_name, cpe_type_name, \n",
    "        country, city, \n",
    "        a.title as age_segment, \n",
    "        t.title as traffic_segment, \n",
    "        lt.title as lifetime_segment, \n",
    "        nps_score,\n",
    "        case\n",
    "            when nps_score in (9,10) then 'promoters'\n",
    "            when nps_score in (7,8,9) then 'passives'\n",
    "            when nps_score in (0,1,2,3,4,5,6) then 'detractors'\n",
    "            end as nps_group\n",
    " from user as u \n",
    " left join location as l on u.location_id = l.location_id\n",
    " left join age_segment as a on u.age_gr_id = a.age_gr_id\n",
    " left join traffic_segment as t on u.tr_gr_id = t.tr_gr_id\n",
    " left join lifetime_segment as lt on u.lt_gr_id = lt.lt_gr_id\n",
    "\"\"\""
   ]
  },
  {
   "cell_type": "markdown",
   "id": "60dcccb8",
   "metadata": {},
   "source": [
    "Смотрим на получившиеся данные"
   ]
  },
  {
   "cell_type": "code",
   "execution_count": 17,
   "id": "35434d44",
   "metadata": {},
   "outputs": [
    {
     "data": {
      "text/html": [
       "<div>\n",
       "<style scoped>\n",
       "    .dataframe tbody tr th:only-of-type {\n",
       "        vertical-align: middle;\n",
       "    }\n",
       "\n",
       "    .dataframe tbody tr th {\n",
       "        vertical-align: top;\n",
       "    }\n",
       "\n",
       "    .dataframe thead th {\n",
       "        text-align: right;\n",
       "    }\n",
       "</style>\n",
       "<table border=\"1\" class=\"dataframe\">\n",
       "  <thead>\n",
       "    <tr style=\"text-align: right;\">\n",
       "      <th></th>\n",
       "      <th>user_id</th>\n",
       "      <th>lt_day</th>\n",
       "      <th>is_new</th>\n",
       "      <th>age</th>\n",
       "      <th>gender_segment</th>\n",
       "      <th>os_name</th>\n",
       "      <th>cpe_type_name</th>\n",
       "      <th>country</th>\n",
       "      <th>city</th>\n",
       "      <th>age_segment</th>\n",
       "      <th>traffic_segment</th>\n",
       "      <th>lifetime_segment</th>\n",
       "      <th>nps_score</th>\n",
       "      <th>nps_group</th>\n",
       "    </tr>\n",
       "  </thead>\n",
       "  <tbody>\n",
       "    <tr>\n",
       "      <th>0</th>\n",
       "      <td>A001A2</td>\n",
       "      <td>2320</td>\n",
       "      <td>старый</td>\n",
       "      <td>45.0</td>\n",
       "      <td>женщина</td>\n",
       "      <td>ANDROID</td>\n",
       "      <td>SMARTPHONE</td>\n",
       "      <td>Россия</td>\n",
       "      <td>Уфа</td>\n",
       "      <td>05 45-54</td>\n",
       "      <td>04 1-5</td>\n",
       "      <td>08 36+</td>\n",
       "      <td>10</td>\n",
       "      <td>promoters</td>\n",
       "    </tr>\n",
       "    <tr>\n",
       "      <th>1</th>\n",
       "      <td>A001WF</td>\n",
       "      <td>2344</td>\n",
       "      <td>старый</td>\n",
       "      <td>53.0</td>\n",
       "      <td>мужчина</td>\n",
       "      <td>ANDROID</td>\n",
       "      <td>SMARTPHONE</td>\n",
       "      <td>Россия</td>\n",
       "      <td>Киров</td>\n",
       "      <td>05 45-54</td>\n",
       "      <td>04 1-5</td>\n",
       "      <td>08 36+</td>\n",
       "      <td>10</td>\n",
       "      <td>promoters</td>\n",
       "    </tr>\n",
       "    <tr>\n",
       "      <th>2</th>\n",
       "      <td>A003Q7</td>\n",
       "      <td>467</td>\n",
       "      <td>старый</td>\n",
       "      <td>57.0</td>\n",
       "      <td>мужчина</td>\n",
       "      <td>ANDROID</td>\n",
       "      <td>SMARTPHONE</td>\n",
       "      <td>Россия</td>\n",
       "      <td>Москва</td>\n",
       "      <td>06 55-64</td>\n",
       "      <td>08 20-25</td>\n",
       "      <td>06 13-24</td>\n",
       "      <td>10</td>\n",
       "      <td>promoters</td>\n",
       "    </tr>\n",
       "    <tr>\n",
       "      <th>3</th>\n",
       "      <td>A004TB</td>\n",
       "      <td>4190</td>\n",
       "      <td>старый</td>\n",
       "      <td>44.0</td>\n",
       "      <td>женщина</td>\n",
       "      <td>IOS</td>\n",
       "      <td>SMARTPHONE</td>\n",
       "      <td>Россия</td>\n",
       "      <td>РостовнаДону</td>\n",
       "      <td>04 35-44</td>\n",
       "      <td>03 0.1-1</td>\n",
       "      <td>08 36+</td>\n",
       "      <td>10</td>\n",
       "      <td>promoters</td>\n",
       "    </tr>\n",
       "    <tr>\n",
       "      <th>4</th>\n",
       "      <td>A004XT</td>\n",
       "      <td>1163</td>\n",
       "      <td>старый</td>\n",
       "      <td>24.0</td>\n",
       "      <td>мужчина</td>\n",
       "      <td>ANDROID</td>\n",
       "      <td>SMARTPHONE</td>\n",
       "      <td>Россия</td>\n",
       "      <td>Рязань</td>\n",
       "      <td>02 16-24</td>\n",
       "      <td>05 5-10</td>\n",
       "      <td>08 36+</td>\n",
       "      <td>10</td>\n",
       "      <td>promoters</td>\n",
       "    </tr>\n",
       "    <tr>\n",
       "      <th>...</th>\n",
       "      <td>...</td>\n",
       "      <td>...</td>\n",
       "      <td>...</td>\n",
       "      <td>...</td>\n",
       "      <td>...</td>\n",
       "      <td>...</td>\n",
       "      <td>...</td>\n",
       "      <td>...</td>\n",
       "      <td>...</td>\n",
       "      <td>...</td>\n",
       "      <td>...</td>\n",
       "      <td>...</td>\n",
       "      <td>...</td>\n",
       "      <td>...</td>\n",
       "    </tr>\n",
       "    <tr>\n",
       "      <th>502488</th>\n",
       "      <td>ZZZKLD</td>\n",
       "      <td>1249</td>\n",
       "      <td>старый</td>\n",
       "      <td>54.0</td>\n",
       "      <td>женщина</td>\n",
       "      <td>ANDROID</td>\n",
       "      <td>SMARTPHONE</td>\n",
       "      <td>Россия</td>\n",
       "      <td>Москва</td>\n",
       "      <td>05 45-54</td>\n",
       "      <td>04 1-5</td>\n",
       "      <td>08 36+</td>\n",
       "      <td>5</td>\n",
       "      <td>detractors</td>\n",
       "    </tr>\n",
       "    <tr>\n",
       "      <th>502489</th>\n",
       "      <td>ZZZLWY</td>\n",
       "      <td>129</td>\n",
       "      <td>новый</td>\n",
       "      <td>31.0</td>\n",
       "      <td>мужчина</td>\n",
       "      <td>ANDROID</td>\n",
       "      <td>SMARTPHONE</td>\n",
       "      <td>Россия</td>\n",
       "      <td>Москва</td>\n",
       "      <td>03 25-34</td>\n",
       "      <td>04 1-5</td>\n",
       "      <td>04 4-6</td>\n",
       "      <td>8</td>\n",
       "      <td>passives</td>\n",
       "    </tr>\n",
       "    <tr>\n",
       "      <th>502490</th>\n",
       "      <td>ZZZQ5F</td>\n",
       "      <td>522</td>\n",
       "      <td>старый</td>\n",
       "      <td>36.0</td>\n",
       "      <td>мужчина</td>\n",
       "      <td>ANDROID</td>\n",
       "      <td>SMARTPHONE</td>\n",
       "      <td>Россия</td>\n",
       "      <td>Сургут</td>\n",
       "      <td>04 35-44</td>\n",
       "      <td>09 25-30</td>\n",
       "      <td>06 13-24</td>\n",
       "      <td>10</td>\n",
       "      <td>promoters</td>\n",
       "    </tr>\n",
       "    <tr>\n",
       "      <th>502491</th>\n",
       "      <td>ZZZQ8E</td>\n",
       "      <td>2936</td>\n",
       "      <td>старый</td>\n",
       "      <td>37.0</td>\n",
       "      <td>женщина</td>\n",
       "      <td>ANDROID</td>\n",
       "      <td>SMARTPHONE</td>\n",
       "      <td>Россия</td>\n",
       "      <td>УланУдэ</td>\n",
       "      <td>04 35-44</td>\n",
       "      <td>17 65-70</td>\n",
       "      <td>08 36+</td>\n",
       "      <td>9</td>\n",
       "      <td>promoters</td>\n",
       "    </tr>\n",
       "    <tr>\n",
       "      <th>502492</th>\n",
       "      <td>ZZZYH0</td>\n",
       "      <td>2471</td>\n",
       "      <td>старый</td>\n",
       "      <td>37.0</td>\n",
       "      <td>мужчина</td>\n",
       "      <td>IOS</td>\n",
       "      <td>SMARTPHONE</td>\n",
       "      <td>Россия</td>\n",
       "      <td>Самара</td>\n",
       "      <td>04 35-44</td>\n",
       "      <td>06 10-15</td>\n",
       "      <td>08 36+</td>\n",
       "      <td>2</td>\n",
       "      <td>detractors</td>\n",
       "    </tr>\n",
       "  </tbody>\n",
       "</table>\n",
       "<p>502493 rows × 14 columns</p>\n",
       "</div>"
      ],
      "text/plain": [
       "       user_id  lt_day  is_new   age gender_segment  os_name cpe_type_name  \\\n",
       "0       A001A2    2320  старый  45.0        женщина  ANDROID    SMARTPHONE   \n",
       "1       A001WF    2344  старый  53.0        мужчина  ANDROID    SMARTPHONE   \n",
       "2       A003Q7     467  старый  57.0        мужчина  ANDROID    SMARTPHONE   \n",
       "3       A004TB    4190  старый  44.0        женщина      IOS    SMARTPHONE   \n",
       "4       A004XT    1163  старый  24.0        мужчина  ANDROID    SMARTPHONE   \n",
       "...        ...     ...     ...   ...            ...      ...           ...   \n",
       "502488  ZZZKLD    1249  старый  54.0        женщина  ANDROID    SMARTPHONE   \n",
       "502489  ZZZLWY     129   новый  31.0        мужчина  ANDROID    SMARTPHONE   \n",
       "502490  ZZZQ5F     522  старый  36.0        мужчина  ANDROID    SMARTPHONE   \n",
       "502491  ZZZQ8E    2936  старый  37.0        женщина  ANDROID    SMARTPHONE   \n",
       "502492  ZZZYH0    2471  старый  37.0        мужчина      IOS    SMARTPHONE   \n",
       "\n",
       "       country          city age_segment traffic_segment lifetime_segment  \\\n",
       "0       Россия           Уфа    05 45-54          04 1-5           08 36+   \n",
       "1       Россия         Киров    05 45-54          04 1-5           08 36+   \n",
       "2       Россия        Москва    06 55-64        08 20-25         06 13-24   \n",
       "3       Россия  РостовнаДону    04 35-44        03 0.1-1           08 36+   \n",
       "4       Россия        Рязань    02 16-24         05 5-10           08 36+   \n",
       "...        ...           ...         ...             ...              ...   \n",
       "502488  Россия        Москва    05 45-54          04 1-5           08 36+   \n",
       "502489  Россия        Москва    03 25-34          04 1-5           04 4-6   \n",
       "502490  Россия        Сургут    04 35-44        09 25-30         06 13-24   \n",
       "502491  Россия       УланУдэ    04 35-44        17 65-70           08 36+   \n",
       "502492  Россия        Самара    04 35-44        06 10-15           08 36+   \n",
       "\n",
       "        nps_score   nps_group  \n",
       "0              10   promoters  \n",
       "1              10   promoters  \n",
       "2              10   promoters  \n",
       "3              10   promoters  \n",
       "4              10   promoters  \n",
       "...           ...         ...  \n",
       "502488          5  detractors  \n",
       "502489          8    passives  \n",
       "502490         10   promoters  \n",
       "502491          9   promoters  \n",
       "502492          2  detractors  \n",
       "\n",
       "[502493 rows x 14 columns]"
      ]
     },
     "execution_count": 17,
     "metadata": {},
     "output_type": "execute_result"
    }
   ],
   "source": [
    "df = pd.read_sql(query, engine)\n",
    "df"
   ]
  },
  {
   "cell_type": "markdown",
   "id": "3bfdfb7b",
   "metadata": {},
   "source": [
    "Проверяем типы данных и наличие пропусков в данных"
   ]
  },
  {
   "cell_type": "code",
   "execution_count": 18,
   "id": "195a37be",
   "metadata": {},
   "outputs": [
    {
     "name": "stdout",
     "output_type": "stream",
     "text": [
      "<class 'pandas.core.frame.DataFrame'>\n",
      "RangeIndex: 502493 entries, 0 to 502492\n",
      "Data columns (total 14 columns):\n",
      " #   Column            Non-Null Count   Dtype  \n",
      "---  ------            --------------   -----  \n",
      " 0   user_id           502493 non-null  object \n",
      " 1   lt_day            502493 non-null  int64  \n",
      " 2   is_new            502493 non-null  object \n",
      " 3   age               501939 non-null  float64\n",
      " 4   gender_segment    502493 non-null  object \n",
      " 5   os_name           502493 non-null  object \n",
      " 6   cpe_type_name     502493 non-null  object \n",
      " 7   country           502493 non-null  object \n",
      " 8   city              502493 non-null  object \n",
      " 9   age_segment       502493 non-null  object \n",
      " 10  traffic_segment   502493 non-null  object \n",
      " 11  lifetime_segment  502493 non-null  object \n",
      " 12  nps_score         502493 non-null  int64  \n",
      " 13  nps_group         502493 non-null  object \n",
      "dtypes: float64(1), int64(2), object(11)\n",
      "memory usage: 53.7+ MB\n"
     ]
    }
   ],
   "source": [
    "df.info()"
   ]
  },
  {
   "cell_type": "code",
   "execution_count": 19,
   "id": "dcde8956",
   "metadata": {},
   "outputs": [
    {
     "data": {
      "text/plain": [
       "user_id             0.000000\n",
       "lt_day              0.000000\n",
       "is_new              0.000000\n",
       "age                 0.001103\n",
       "gender_segment      0.000000\n",
       "os_name             0.000000\n",
       "cpe_type_name       0.000000\n",
       "country             0.000000\n",
       "city                0.000000\n",
       "age_segment         0.000000\n",
       "traffic_segment     0.000000\n",
       "lifetime_segment    0.000000\n",
       "nps_score           0.000000\n",
       "nps_group           0.000000\n",
       "dtype: float64"
      ]
     },
     "execution_count": 19,
     "metadata": {},
     "output_type": "execute_result"
    }
   ],
   "source": [
    "df.isna().mean()"
   ]
  },
  {
   "cell_type": "markdown",
   "id": "dafaceea",
   "metadata": {},
   "source": [
    "Итак, в данных мы видим пропуски в колонках \n",
    "- `age` (0.11%)\n",
    "- `gender_segment` (0.26%). \n",
    "\n",
    "Заменить пропуски значениями мы не можем, но их наличие не повлияет на результат нашего исследования, так как их количество незначительно"
   ]
  },
  {
   "cell_type": "markdown",
   "id": "3339b660",
   "metadata": {},
   "source": [
    "Проверим к какой группе отнесены пропуски в колонке `age`"
   ]
  },
  {
   "cell_type": "code",
   "execution_count": 20,
   "id": "e7267b3c",
   "metadata": {},
   "outputs": [
    {
     "data": {
      "text/plain": [
       "08 n/a    554\n",
       "Name: age_segment, dtype: int64"
      ]
     },
     "execution_count": 20,
     "metadata": {},
     "output_type": "execute_result"
    }
   ],
   "source": [
    "df.query('age.isna()')['age_segment'].value_counts()"
   ]
  },
  {
   "cell_type": "markdown",
   "id": "50d63bcf",
   "metadata": {},
   "source": [
    "Название группы для отсутствующих значений подобрано корректно"
   ]
  },
  {
   "cell_type": "markdown",
   "id": "3dcf7636",
   "metadata": {},
   "source": [
    "В колонках `age_segment`, `age_segment`, `lifetime_segment` значения начинаются с порядкового номера группы. Его оставим для того чтобы группы были отсортированы по порядку на графиках в презентации"
   ]
  },
  {
   "cell_type": "markdown",
   "id": "dd61bb73",
   "metadata": {},
   "source": [
    "## Выгрузка данных для анализа в Tableau"
   ]
  },
  {
   "cell_type": "code",
   "execution_count": 21,
   "id": "9ff57f86",
   "metadata": {},
   "outputs": [],
   "source": [
    "df.to_csv('telecomm_csi_tableau.csv', index=False)"
   ]
  },
  {
   "cell_type": "markdown",
   "id": "c81379d2",
   "metadata": {},
   "source": [
    "## Презентация с результатами анализа NPS клиентов"
   ]
  },
  {
   "cell_type": "markdown",
   "id": "62c330d9",
   "metadata": {},
   "source": [
    "Выводы полученные в ходе анализа данных\n",
    "1. Общий это показатель уровня лояльности клиентов NPS для клиентов оператора составляет 21,9% и рассчитывается на основе ответов на вопросы об их готовности рекомендовать компанию другим.\n",
    "\n",
    "2. Исходя из опроса, клиенты, относящиеся к группе \"промоутеры\" , в основном - это Москвичи в возрасте от 35 до 45 лет, пользующиеся операционной системой Android и использующие от 1 до 5 гигабайт трафика.\n",
    "\n",
    "3. Распределение NPS характеризуется некоторыми особенностями: лояльность клиентов возрастает с возрастом, с достижением максимума среди людей старшего поколения. Значения NPS выше среди женщин, чем среди мужчин во всех возрастных категориях. Также наблюдается снижение NPS при увеличении стажа абонента и более высокие значения в небольших городах. Однако, NPS снижается при росте объема скачанного трафика и при низком объеме трафика. Значения NPS примерно одинаковы для всех операционных систем, за исключением клиентов с iOS, где значение значительно ниже.\n",
    "\n",
    "4. Выводы и наблюдения по распределению клиентов оператора в опросе: в опросе приняло участие 500000 человек из 62 городов, с наибольшим количеством участников в возрастной категории от 25 до 44 лет. Количество опрошенных женщин превышает количество мужчин во всех возрастных категориях. Более 90% участников опроса являются абонентами с стажем свыше 1 года. Распределение опрошенных по городам соответствует распределению населения. Операционная система Android является самой популярной среди участников опроса, за ней идет iOS."
   ]
  },
  {
   "cell_type": "markdown",
   "id": "972d723a",
   "metadata": {},
   "source": [
    "Ссылка на презентацию"
   ]
  },
  {
   "cell_type": "markdown",
   "id": "454a7309",
   "metadata": {},
   "source": [
    "https://public.tableau.com/shared/4D8PFMCW9?:display_count=n&:origin=viz_share_link"
   ]
  }
 ],
 "metadata": {
  "ExecuteTimeLog": [
   {
    "duration": 604,
    "start_time": "2023-05-29T09:00:31.839Z"
   },
   {
    "duration": 107,
    "start_time": "2023-05-29T09:00:32.445Z"
   },
   {
    "duration": 4,
    "start_time": "2023-05-29T09:00:32.554Z"
   },
   {
    "duration": 741,
    "start_time": "2023-05-29T09:00:32.559Z"
   },
   {
    "duration": 9,
    "start_time": "2023-05-29T09:01:03.715Z"
   },
   {
    "duration": 5,
    "start_time": "2023-05-29T09:01:19.115Z"
   },
   {
    "duration": 530,
    "start_time": "2023-05-29T09:01:51.842Z"
   },
   {
    "duration": 74,
    "start_time": "2023-05-29T09:01:52.374Z"
   },
   {
    "duration": 3,
    "start_time": "2023-05-29T09:01:52.449Z"
   },
   {
    "duration": 716,
    "start_time": "2023-05-29T09:01:52.454Z"
   },
   {
    "duration": 713,
    "start_time": "2023-05-29T09:02:39.412Z"
   },
   {
    "duration": 661,
    "start_time": "2023-05-29T09:05:01.644Z"
   },
   {
    "duration": 135,
    "start_time": "2023-05-29T09:05:02.309Z"
   },
   {
    "duration": 4,
    "start_time": "2023-05-29T09:05:02.446Z"
   },
   {
    "duration": 835,
    "start_time": "2023-05-29T09:05:02.451Z"
   },
   {
    "duration": 636,
    "start_time": "2023-05-29T09:06:57.873Z"
   },
   {
    "duration": 68,
    "start_time": "2023-05-29T09:06:58.512Z"
   },
   {
    "duration": 19,
    "start_time": "2023-05-29T09:06:58.582Z"
   },
   {
    "duration": 659,
    "start_time": "2023-05-29T09:06:58.608Z"
   },
   {
    "duration": 527,
    "start_time": "2023-05-29T09:07:47.513Z"
   },
   {
    "duration": 84,
    "start_time": "2023-05-29T09:07:48.042Z"
   },
   {
    "duration": 3,
    "start_time": "2023-05-29T09:07:48.128Z"
   },
   {
    "duration": 837,
    "start_time": "2023-05-29T09:07:48.133Z"
   },
   {
    "duration": 564,
    "start_time": "2023-05-29T09:08:16.152Z"
   },
   {
    "duration": 52,
    "start_time": "2023-05-29T09:08:16.718Z"
   },
   {
    "duration": 3,
    "start_time": "2023-05-29T09:08:16.772Z"
   },
   {
    "duration": 4335,
    "start_time": "2023-05-29T09:08:16.776Z"
   },
   {
    "duration": 13,
    "start_time": "2023-05-29T09:08:58.004Z"
   },
   {
    "duration": 10,
    "start_time": "2023-05-29T09:15:39.552Z"
   },
   {
    "duration": 10,
    "start_time": "2023-05-29T09:15:55.616Z"
   },
   {
    "duration": 12,
    "start_time": "2023-05-29T09:16:09.916Z"
   },
   {
    "duration": 14,
    "start_time": "2023-05-29T09:16:38.908Z"
   },
   {
    "duration": 4370,
    "start_time": "2023-05-29T09:17:50.959Z"
   },
   {
    "duration": 128,
    "start_time": "2023-05-29T09:18:17.622Z"
   },
   {
    "duration": 4107,
    "start_time": "2023-05-29T09:21:21.237Z"
   },
   {
    "duration": 1236,
    "start_time": "2023-05-29T09:22:25.712Z"
   },
   {
    "duration": 584,
    "start_time": "2023-05-29T09:26:52.655Z"
   },
   {
    "duration": 89,
    "start_time": "2023-05-29T09:26:53.242Z"
   },
   {
    "duration": 3,
    "start_time": "2023-05-29T09:26:53.455Z"
   },
   {
    "duration": 796,
    "start_time": "2023-05-29T09:26:53.461Z"
   },
   {
    "duration": 1197,
    "start_time": "2023-05-29T09:26:54.260Z"
   },
   {
    "duration": 6,
    "start_time": "2023-05-29T09:26:55.459Z"
   },
   {
    "duration": 12,
    "start_time": "2023-05-29T09:26:55.467Z"
   },
   {
    "duration": 1188,
    "start_time": "2023-05-29T09:27:07.106Z"
   },
   {
    "duration": 7,
    "start_time": "2023-05-29T09:27:28.509Z"
   },
   {
    "duration": 758,
    "start_time": "2023-05-29T09:28:03.255Z"
   },
   {
    "duration": 3,
    "start_time": "2023-05-29T09:28:16.422Z"
   },
   {
    "duration": 683,
    "start_time": "2023-05-29T09:28:19.603Z"
   },
   {
    "duration": 7,
    "start_time": "2023-05-29T09:28:49.511Z"
   },
   {
    "duration": 735,
    "start_time": "2023-05-29T09:29:05.198Z"
   },
   {
    "duration": 3,
    "start_time": "2023-05-29T09:53:27.145Z"
   },
   {
    "duration": 748,
    "start_time": "2023-05-29T09:53:29.407Z"
   },
   {
    "duration": 2,
    "start_time": "2023-05-29T09:59:30.508Z"
   },
   {
    "duration": 720,
    "start_time": "2023-05-29T09:59:32.848Z"
   },
   {
    "duration": 731,
    "start_time": "2023-05-29T10:00:28.854Z"
   },
   {
    "duration": 3,
    "start_time": "2023-05-29T10:00:33.905Z"
   },
   {
    "duration": 4747,
    "start_time": "2023-05-29T10:00:35.909Z"
   },
   {
    "duration": 79,
    "start_time": "2023-05-29T10:00:42.110Z"
   },
   {
    "duration": 160,
    "start_time": "2023-05-29T10:00:49.561Z"
   },
   {
    "duration": 186,
    "start_time": "2023-05-29T10:00:59.112Z"
   },
   {
    "duration": 3,
    "start_time": "2023-05-29T10:13:56.809Z"
   },
   {
    "duration": 834,
    "start_time": "2023-05-29T10:13:59.419Z"
   },
   {
    "duration": 3,
    "start_time": "2023-05-29T10:17:05.369Z"
   },
   {
    "duration": 870,
    "start_time": "2023-05-29T10:17:07.458Z"
   },
   {
    "duration": 3,
    "start_time": "2023-05-29T10:20:32.266Z"
   },
   {
    "duration": 805,
    "start_time": "2023-05-29T10:20:34.766Z"
   },
   {
    "duration": 4,
    "start_time": "2023-05-29T10:23:04.403Z"
   },
   {
    "duration": 5894,
    "start_time": "2023-05-29T10:23:06.615Z"
   },
   {
    "duration": 4,
    "start_time": "2023-05-29T10:29:52.708Z"
   },
   {
    "duration": 800,
    "start_time": "2023-05-29T10:29:54.942Z"
   },
   {
    "duration": 28,
    "start_time": "2023-05-29T10:30:17.970Z"
   },
   {
    "duration": 982,
    "start_time": "2023-05-29T10:30:20.018Z"
   },
   {
    "duration": 5,
    "start_time": "2023-05-29T10:30:43.212Z"
   },
   {
    "duration": 7306,
    "start_time": "2023-05-29T10:30:45.471Z"
   },
   {
    "duration": 6605,
    "start_time": "2023-05-29T10:47:26.117Z"
   },
   {
    "duration": 553,
    "start_time": "2023-05-29T10:47:34.609Z"
   },
   {
    "duration": 47,
    "start_time": "2023-05-29T10:48:53.750Z"
   },
   {
    "duration": 61,
    "start_time": "2023-05-29T10:49:11.398Z"
   },
   {
    "duration": 18,
    "start_time": "2023-05-29T10:49:29.902Z"
   },
   {
    "duration": 13,
    "start_time": "2023-05-29T11:01:13.202Z"
   },
   {
    "duration": 18,
    "start_time": "2023-05-29T11:03:29.675Z"
   },
   {
    "duration": 450,
    "start_time": "2023-05-29T11:06:54.014Z"
   },
   {
    "duration": 46,
    "start_time": "2023-05-29T13:05:25.839Z"
   },
   {
    "duration": 542,
    "start_time": "2023-05-29T13:05:36.289Z"
   },
   {
    "duration": 255,
    "start_time": "2023-05-29T13:05:36.835Z"
   },
   {
    "duration": 3,
    "start_time": "2023-05-29T13:05:37.093Z"
   },
   {
    "duration": 5049,
    "start_time": "2023-05-29T13:05:37.104Z"
   },
   {
    "duration": 165,
    "start_time": "2023-05-29T13:05:42.156Z"
   },
   {
    "duration": 176,
    "start_time": "2023-05-29T13:05:42.324Z"
   },
   {
    "duration": 2,
    "start_time": "2023-05-29T13:05:42.502Z"
   },
   {
    "duration": 608,
    "start_time": "2023-05-29T13:05:42.506Z"
   },
   {
    "duration": 6,
    "start_time": "2023-05-29T13:05:43.116Z"
   },
   {
    "duration": 6,
    "start_time": "2023-05-29T13:05:43.124Z"
   },
   {
    "duration": 593,
    "start_time": "2023-05-29T13:05:43.132Z"
   },
   {
    "duration": 3,
    "start_time": "2023-05-29T13:05:43.727Z"
   },
   {
    "duration": 527,
    "start_time": "2023-05-29T13:05:43.731Z"
   },
   {
    "duration": 2,
    "start_time": "2023-05-29T13:05:44.260Z"
   },
   {
    "duration": 603,
    "start_time": "2023-05-29T13:05:44.264Z"
   },
   {
    "duration": 2,
    "start_time": "2023-05-29T13:05:44.869Z"
   },
   {
    "duration": 5014,
    "start_time": "2023-05-29T13:05:44.873Z"
   },
   {
    "duration": 429,
    "start_time": "2023-05-29T13:05:49.889Z"
   },
   {
    "duration": 410,
    "start_time": "2023-05-29T13:05:50.319Z"
   },
   {
    "duration": 12,
    "start_time": "2023-05-29T13:05:50.730Z"
   },
   {
    "duration": 93,
    "start_time": "2023-05-29T13:05:50.744Z"
   },
   {
    "duration": 4617,
    "start_time": "2023-05-29T13:05:50.838Z"
   },
   {
    "duration": 115,
    "start_time": "2023-05-29T13:06:41.581Z"
   },
   {
    "duration": 38,
    "start_time": "2023-05-29T13:07:09.541Z"
   },
   {
    "duration": 801,
    "start_time": "2023-05-29T13:07:24.939Z"
   },
   {
    "duration": 5505,
    "start_time": "2023-05-29T13:09:11.491Z"
   },
   {
    "duration": 102,
    "start_time": "2023-05-29T13:25:41.241Z"
   },
   {
    "duration": 547,
    "start_time": "2023-05-30T04:53:17.702Z"
   },
   {
    "duration": 144,
    "start_time": "2023-05-30T04:53:18.252Z"
   },
   {
    "duration": 9,
    "start_time": "2023-05-30T04:53:18.408Z"
   },
   {
    "duration": 4856,
    "start_time": "2023-05-30T04:53:18.423Z"
   },
   {
    "duration": 150,
    "start_time": "2023-05-30T04:53:23.288Z"
   },
   {
    "duration": 189,
    "start_time": "2023-05-30T04:53:23.440Z"
   },
   {
    "duration": 3,
    "start_time": "2023-05-30T04:53:23.633Z"
   },
   {
    "duration": 888,
    "start_time": "2023-05-30T04:53:23.638Z"
   },
   {
    "duration": 18,
    "start_time": "2023-05-30T04:53:24.528Z"
   },
   {
    "duration": 3,
    "start_time": "2023-05-30T04:53:24.548Z"
   },
   {
    "duration": 892,
    "start_time": "2023-05-30T04:53:24.553Z"
   },
   {
    "duration": 2,
    "start_time": "2023-05-30T04:53:25.446Z"
   },
   {
    "duration": 888,
    "start_time": "2023-05-30T04:53:25.450Z"
   },
   {
    "duration": 3,
    "start_time": "2023-05-30T04:53:26.342Z"
   },
   {
    "duration": 872,
    "start_time": "2023-05-30T04:53:26.347Z"
   },
   {
    "duration": 9,
    "start_time": "2023-05-30T04:53:27.221Z"
   },
   {
    "duration": 6773,
    "start_time": "2023-05-30T04:53:27.231Z"
   },
   {
    "duration": 641,
    "start_time": "2023-05-30T04:53:34.005Z"
   },
   {
    "duration": 605,
    "start_time": "2023-05-30T04:53:34.648Z"
   },
   {
    "duration": 41,
    "start_time": "2023-05-30T04:53:35.255Z"
   },
   {
    "duration": 7256,
    "start_time": "2023-05-30T04:53:35.309Z"
   },
   {
    "duration": 171,
    "start_time": "2023-05-30T04:53:42.568Z"
   },
   {
    "duration": 149,
    "start_time": "2023-05-30T04:56:43.040Z"
   },
   {
    "duration": 512,
    "start_time": "2023-05-30T10:36:01.853Z"
   },
   {
    "duration": 83,
    "start_time": "2023-05-30T10:36:02.366Z"
   },
   {
    "duration": 3,
    "start_time": "2023-05-30T10:36:02.451Z"
   },
   {
    "duration": 4150,
    "start_time": "2023-05-30T10:36:03.400Z"
   },
   {
    "duration": 169,
    "start_time": "2023-05-30T10:36:07.552Z"
   },
   {
    "duration": 190,
    "start_time": "2023-05-30T10:36:07.728Z"
   },
   {
    "duration": 4,
    "start_time": "2023-05-30T10:36:07.919Z"
   },
   {
    "duration": 775,
    "start_time": "2023-05-30T10:36:07.925Z"
   },
   {
    "duration": 16,
    "start_time": "2023-05-30T10:36:08.702Z"
   },
   {
    "duration": 4,
    "start_time": "2023-05-30T10:36:08.720Z"
   },
   {
    "duration": 743,
    "start_time": "2023-05-30T10:36:08.726Z"
   },
   {
    "duration": 2,
    "start_time": "2023-05-30T10:36:09.471Z"
   },
   {
    "duration": 767,
    "start_time": "2023-05-30T10:36:09.474Z"
   },
   {
    "duration": 2,
    "start_time": "2023-05-30T10:36:10.243Z"
   },
   {
    "duration": 724,
    "start_time": "2023-05-30T10:36:10.246Z"
   },
   {
    "duration": 3,
    "start_time": "2023-05-30T10:36:10.972Z"
   },
   {
    "duration": 6089,
    "start_time": "2023-05-30T10:36:10.979Z"
   },
   {
    "duration": 625,
    "start_time": "2023-05-30T10:36:17.069Z"
   },
   {
    "duration": 604,
    "start_time": "2023-05-30T10:36:17.697Z"
   },
   {
    "duration": 18,
    "start_time": "2023-05-30T10:36:18.305Z"
   },
   {
    "duration": 5744,
    "start_time": "2023-05-30T10:36:18.325Z"
   },
   {
    "duration": 131,
    "start_time": "2023-05-31T15:23:56.974Z"
   },
   {
    "duration": 573,
    "start_time": "2023-05-31T16:25:55.299Z"
   },
   {
    "duration": 256,
    "start_time": "2023-05-31T16:25:55.875Z"
   },
   {
    "duration": 4,
    "start_time": "2023-05-31T16:25:56.133Z"
   },
   {
    "duration": 4926,
    "start_time": "2023-05-31T16:25:56.139Z"
   },
   {
    "duration": 172,
    "start_time": "2023-05-31T16:26:01.067Z"
   },
   {
    "duration": 187,
    "start_time": "2023-05-31T16:26:01.241Z"
   },
   {
    "duration": 14,
    "start_time": "2023-05-31T16:26:01.431Z"
   },
   {
    "duration": 621,
    "start_time": "2023-05-31T16:26:01.446Z"
   },
   {
    "duration": 7,
    "start_time": "2023-05-31T16:26:02.069Z"
   },
   {
    "duration": 12,
    "start_time": "2023-05-31T16:26:02.079Z"
   },
   {
    "duration": 601,
    "start_time": "2023-05-31T16:26:02.092Z"
   },
   {
    "duration": 3,
    "start_time": "2023-05-31T16:26:02.694Z"
   },
   {
    "duration": 564,
    "start_time": "2023-05-31T16:26:02.698Z"
   },
   {
    "duration": 4,
    "start_time": "2023-05-31T16:26:03.264Z"
   },
   {
    "duration": 567,
    "start_time": "2023-05-31T16:26:03.270Z"
   },
   {
    "duration": 6,
    "start_time": "2023-05-31T16:26:03.839Z"
   },
   {
    "duration": 6428,
    "start_time": "2023-05-31T16:26:03.852Z"
   },
   {
    "duration": 698,
    "start_time": "2023-05-31T16:26:10.282Z"
   },
   {
    "duration": 699,
    "start_time": "2023-05-31T16:26:10.982Z"
   },
   {
    "duration": 15,
    "start_time": "2023-05-31T16:26:11.682Z"
   },
   {
    "duration": 5601,
    "start_time": "2023-05-31T16:26:11.699Z"
   },
   {
    "duration": 428,
    "start_time": "2023-05-31T16:26:17.303Z"
   },
   {
    "duration": 570,
    "start_time": "2023-05-31T16:27:40.523Z"
   },
   {
    "duration": 94,
    "start_time": "2023-05-31T16:27:41.095Z"
   },
   {
    "duration": 4,
    "start_time": "2023-05-31T16:27:41.190Z"
   },
   {
    "duration": 3968,
    "start_time": "2023-05-31T16:27:41.197Z"
   },
   {
    "duration": 163,
    "start_time": "2023-05-31T16:27:45.168Z"
   },
   {
    "duration": 181,
    "start_time": "2023-05-31T16:27:45.333Z"
   },
   {
    "duration": 4,
    "start_time": "2023-05-31T16:27:45.515Z"
   },
   {
    "duration": 556,
    "start_time": "2023-05-31T16:27:45.520Z"
   },
   {
    "duration": 8,
    "start_time": "2023-05-31T16:27:46.077Z"
   },
   {
    "duration": 5,
    "start_time": "2023-05-31T16:27:46.087Z"
   },
   {
    "duration": 570,
    "start_time": "2023-05-31T16:27:46.094Z"
   },
   {
    "duration": 3,
    "start_time": "2023-05-31T16:27:46.665Z"
   },
   {
    "duration": 530,
    "start_time": "2023-05-31T16:27:46.669Z"
   },
   {
    "duration": 3,
    "start_time": "2023-05-31T16:27:47.202Z"
   },
   {
    "duration": 572,
    "start_time": "2023-05-31T16:27:47.207Z"
   },
   {
    "duration": 4,
    "start_time": "2023-05-31T16:27:47.781Z"
   },
   {
    "duration": 6688,
    "start_time": "2023-05-31T16:27:47.787Z"
   },
   {
    "duration": 784,
    "start_time": "2023-05-31T16:27:54.477Z"
   },
   {
    "duration": 753,
    "start_time": "2023-05-31T16:27:55.264Z"
   },
   {
    "duration": 97,
    "start_time": "2023-05-31T16:27:56.019Z"
   },
   {
    "duration": 6011,
    "start_time": "2023-05-31T16:27:56.118Z"
   },
   {
    "duration": 107,
    "start_time": "2023-05-31T16:28:02.131Z"
   },
   {
    "duration": 541,
    "start_time": "2023-05-31T16:30:29.291Z"
   },
   {
    "duration": 98,
    "start_time": "2023-05-31T16:30:29.835Z"
   },
   {
    "duration": 4,
    "start_time": "2023-05-31T16:30:29.935Z"
   },
   {
    "duration": 4021,
    "start_time": "2023-05-31T16:30:29.941Z"
   },
   {
    "duration": 176,
    "start_time": "2023-05-31T16:30:33.964Z"
   },
   {
    "duration": 204,
    "start_time": "2023-05-31T16:30:34.143Z"
   },
   {
    "duration": 6,
    "start_time": "2023-05-31T16:30:34.356Z"
   },
   {
    "duration": 550,
    "start_time": "2023-05-31T16:30:34.364Z"
   },
   {
    "duration": 7,
    "start_time": "2023-05-31T16:30:34.915Z"
   },
   {
    "duration": 36,
    "start_time": "2023-05-31T16:30:34.925Z"
   },
   {
    "duration": 588,
    "start_time": "2023-05-31T16:30:34.963Z"
   },
   {
    "duration": 4,
    "start_time": "2023-05-31T16:30:35.553Z"
   },
   {
    "duration": 553,
    "start_time": "2023-05-31T16:30:35.563Z"
   },
   {
    "duration": 3,
    "start_time": "2023-05-31T16:30:36.118Z"
   },
   {
    "duration": 571,
    "start_time": "2023-05-31T16:30:36.123Z"
   },
   {
    "duration": 7,
    "start_time": "2023-05-31T16:30:36.697Z"
   },
   {
    "duration": 6424,
    "start_time": "2023-05-31T16:30:36.706Z"
   },
   {
    "duration": 696,
    "start_time": "2023-05-31T16:30:43.132Z"
   },
   {
    "duration": 676,
    "start_time": "2023-05-31T16:30:43.829Z"
   },
   {
    "duration": 14,
    "start_time": "2023-05-31T16:30:44.507Z"
   },
   {
    "duration": 6352,
    "start_time": "2023-05-31T16:30:44.524Z"
   },
   {
    "duration": 96,
    "start_time": "2023-05-31T17:14:30.482Z"
   }
  ],
  "kernelspec": {
   "display_name": "Python 3 (ipykernel)",
   "language": "python",
   "name": "python3"
  },
  "language_info": {
   "codemirror_mode": {
    "name": "ipython",
    "version": 3
   },
   "file_extension": ".py",
   "mimetype": "text/x-python",
   "name": "python",
   "nbconvert_exporter": "python",
   "pygments_lexer": "ipython3",
   "version": "3.9.13"
  },
  "toc": {
   "base_numbering": 1,
   "nav_menu": {},
   "number_sections": true,
   "sideBar": true,
   "skip_h1_title": true,
   "title_cell": "Table of Contents",
   "title_sidebar": "Contents",
   "toc_cell": false,
   "toc_position": {},
   "toc_section_display": true,
   "toc_window_display": false
  }
 },
 "nbformat": 4,
 "nbformat_minor": 5
}
