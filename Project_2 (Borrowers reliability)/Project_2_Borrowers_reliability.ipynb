{
 "cells": [
  {
   "cell_type": "markdown",
   "id": "5c102a48",
   "metadata": {},
   "source": [
    "<h1>Оглавление<span class=\"tocSkip\"></span></h1>\n",
    "<div class=\"toc\"><ul class=\"toc-item\"><li><span><a href=\"#Откройте-таблицу-и-изучите-общую-информацию-о-данных\" data-toc-modified-id=\"Откройте-таблицу-и-изучите-общую-информацию-о-данных-1\"><span class=\"toc-item-num\">1&nbsp;&nbsp;</span>Откройте таблицу и изучите общую информацию о данных</a></span></li><li><span><a href=\"#Предобработка-данных\" data-toc-modified-id=\"Предобработка-данных-2\"><span class=\"toc-item-num\">2&nbsp;&nbsp;</span>Предобработка данных</a></span><ul class=\"toc-item\"><li><span><a href=\"#Удаление-пропусков\" data-toc-modified-id=\"Удаление-пропусков-2.1\"><span class=\"toc-item-num\">2.1&nbsp;&nbsp;</span>Удаление пропусков</a></span></li><li><span><a href=\"#Обработка-аномальных-значений\" data-toc-modified-id=\"Обработка-аномальных-значений-2.2\"><span class=\"toc-item-num\">2.2&nbsp;&nbsp;</span>Обработка аномальных значений</a></span></li><li><span><a href=\"#Удаление-пропусков-(продолжение)\" data-toc-modified-id=\"Удаление-пропусков-(продолжение)-2.3\"><span class=\"toc-item-num\">2.3&nbsp;&nbsp;</span>Удаление пропусков (продолжение)</a></span></li><li><span><a href=\"#Изменение-типов-данных\" data-toc-modified-id=\"Изменение-типов-данных-2.4\"><span class=\"toc-item-num\">2.4&nbsp;&nbsp;</span>Изменение типов данных</a></span></li><li><span><a href=\"#Обработка-дубликатов\" data-toc-modified-id=\"Обработка-дубликатов-2.5\"><span class=\"toc-item-num\">2.5&nbsp;&nbsp;</span>Обработка дубликатов</a></span></li><li><span><a href=\"#Категоризация-данных\" data-toc-modified-id=\"Категоризация-данных-2.6\"><span class=\"toc-item-num\">2.6&nbsp;&nbsp;</span>Категоризация данных</a></span></li><li><span><a href=\"#Шаг-3.-Исследуйте-данные-и-ответьте-на-вопросы\" data-toc-modified-id=\"Шаг-3.-Исследуйте-данные-и-ответьте-на-вопросы-2.7\"><span class=\"toc-item-num\">2.7&nbsp;&nbsp;</span>Шаг 3. Исследуйте данные и ответьте на вопросы</a></span><ul class=\"toc-item\"><li><span><a href=\"#3.1-Есть-ли-зависимость-между-количеством-детей-и-возвратом-кредита-в-срок?\" data-toc-modified-id=\"3.1-Есть-ли-зависимость-между-количеством-детей-и-возвратом-кредита-в-срок?-2.7.1\"><span class=\"toc-item-num\">2.7.1&nbsp;&nbsp;</span>3.1 Есть ли зависимость между количеством детей и возвратом кредита в срок?</a></span></li><li><span><a href=\"#3.2-Есть-ли-зависимость-между-семейным-положением-и-возвратом-кредита-в-срок?\" data-toc-modified-id=\"3.2-Есть-ли-зависимость-между-семейным-положением-и-возвратом-кредита-в-срок?-2.7.2\"><span class=\"toc-item-num\">2.7.2&nbsp;&nbsp;</span>3.2 Есть ли зависимость между семейным положением и возвратом кредита в срок?</a></span></li><li><span><a href=\"#3.3-Есть-ли-зависимость-между-уровнем-дохода-и-возвратом-кредита-в-срок?\" data-toc-modified-id=\"3.3-Есть-ли-зависимость-между-уровнем-дохода-и-возвратом-кредита-в-срок?-2.7.3\"><span class=\"toc-item-num\">2.7.3&nbsp;&nbsp;</span>3.3 Есть ли зависимость между уровнем дохода и возвратом кредита в срок?</a></span></li><li><span><a href=\"#3.4-Как-разные-цели-кредита-влияют-на-его-возврат-в-срок?\" data-toc-modified-id=\"3.4-Как-разные-цели-кредита-влияют-на-его-возврат-в-срок?-2.7.4\"><span class=\"toc-item-num\">2.7.4&nbsp;&nbsp;</span>3.4 Как разные цели кредита влияют на его возврат в срок?</a></span></li><li><span><a href=\"#3.5-Приведите-возможные-причины-появления-пропусков-в-исходных-данных.\" data-toc-modified-id=\"3.5-Приведите-возможные-причины-появления-пропусков-в-исходных-данных.-2.7.5\"><span class=\"toc-item-num\">2.7.5&nbsp;&nbsp;</span>3.5 Приведите возможные причины появления пропусков в исходных данных.</a></span></li><li><span><a href=\"#3.6-Объясните,-почему-заполнить-пропуски-медианным-значением-—-лучшее-решение-для-количественных-переменных.\" data-toc-modified-id=\"3.6-Объясните,-почему-заполнить-пропуски-медианным-значением-—-лучшее-решение-для-количественных-переменных.-2.7.6\"><span class=\"toc-item-num\">2.7.6&nbsp;&nbsp;</span>3.6 Объясните, почему заполнить пропуски медианным значением — лучшее решение для количественных переменных.</a></span></li></ul></li><li><span><a href=\"#Шаг-4:-общий-вывод.\" data-toc-modified-id=\"Шаг-4:-общий-вывод.-2.8\"><span class=\"toc-item-num\">2.8&nbsp;&nbsp;</span>Шаг 4: общий вывод.</a></span></li></ul></li></ul></div>"
   ]
  },
  {
   "cell_type": "markdown",
   "id": "386f2ae7",
   "metadata": {
    "deletable": false,
    "editable": false,
    "id": "386f2ae7"
   },
   "source": [
    "# Исследование надежности заемщиков\n"
   ]
  },
  {
   "cell_type": "markdown",
   "id": "ffe86f65",
   "metadata": {
    "deletable": false,
    "id": "ffe86f65"
   },
   "source": [
    "Заказчик — кредитный отдел банка.  \n",
    "\n",
    "**Цель исследования** - разобраться, влияет ли на факт погашения кредита в срок:\n",
    "- семейное положение;\n",
    "- количество детей клиента.\n",
    "\n",
    "**Входные данные от банка** — статистика о платёжеспособности клиентов.\n",
    "\n",
    "Результаты исследования будут учтены при построении модели кредитного скоринга — специальной системы, которая оценивает способность потенциального заёмщика вернуть кредит банку.\n",
    "\n",
    "**Ход исследования**\n",
    "\n",
    "Данные о поведении пользователей мы получаем из файла `borrowers_reliability.csv`. \n",
    "О качестве данных нам ничего не известно, поэтому перед проверкой гипотез мы проведем исследование данных: \n",
    "- мы проверим данные на ошибки и оценим их влияние на исследование. \n",
    "- на этапе предобработки выявим и попытаемся исправить самые критичные ошибки данных.\n",
    " \n",
    "Таким образом, исследование пройдёт в три этапа:\n",
    " 1. Обзор данных.\n",
    " 2. Предобработка данных.\n",
    " 3. Проверка гипотез."
   ]
  },
  {
   "cell_type": "markdown",
   "id": "26613308",
   "metadata": {
    "deletable": false,
    "editable": false,
    "id": "26613308"
   },
   "source": [
    "## Откройте таблицу и изучите общую информацию о данных"
   ]
  },
  {
   "cell_type": "markdown",
   "id": "3c9f838e",
   "metadata": {
    "deletable": false,
    "editable": false,
    "id": "3c9f838e"
   },
   "source": [
    "**Задание 1. Импортируйте библиотеку pandas. Считайте данные из csv-файла в датафрейм и сохраните в переменную `data`. Путь к файлу:**\n",
    "\n",
    "`/datasets/data.csv`"
   ]
  },
  {
   "cell_type": "code",
   "execution_count": 1,
   "id": "77a68a90",
   "metadata": {
    "deletable": false,
    "id": "77a68a90"
   },
   "outputs": [],
   "source": [
    "import pandas as pd\n",
    "data = pd.read_csv('/datasets/data.csv')"
   ]
  },
  {
   "cell_type": "markdown",
   "id": "45365635",
   "metadata": {
    "deletable": false,
    "editable": false,
    "id": "45365635"
   },
   "source": [
    "**Задание 2. Выведите первые 20 строчек датафрейма `data` на экран.**"
   ]
  },
  {
   "cell_type": "code",
   "execution_count": 2,
   "id": "b0451a9a",
   "metadata": {
    "deletable": false,
    "id": "b0451a9a",
    "outputId": "1a8f3ef2-d323-4ec2-ddf7-89670b5944c4"
   },
   "outputs": [
    {
     "data": {
      "text/html": [
       "<div>\n",
       "<style scoped>\n",
       "    .dataframe tbody tr th:only-of-type {\n",
       "        vertical-align: middle;\n",
       "    }\n",
       "\n",
       "    .dataframe tbody tr th {\n",
       "        vertical-align: top;\n",
       "    }\n",
       "\n",
       "    .dataframe thead th {\n",
       "        text-align: right;\n",
       "    }\n",
       "</style>\n",
       "<table border=\"1\" class=\"dataframe\">\n",
       "  <thead>\n",
       "    <tr style=\"text-align: right;\">\n",
       "      <th></th>\n",
       "      <th>children</th>\n",
       "      <th>days_employed</th>\n",
       "      <th>dob_years</th>\n",
       "      <th>education</th>\n",
       "      <th>education_id</th>\n",
       "      <th>family_status</th>\n",
       "      <th>family_status_id</th>\n",
       "      <th>gender</th>\n",
       "      <th>income_type</th>\n",
       "      <th>debt</th>\n",
       "      <th>total_income</th>\n",
       "      <th>purpose</th>\n",
       "    </tr>\n",
       "  </thead>\n",
       "  <tbody>\n",
       "    <tr>\n",
       "      <th>0</th>\n",
       "      <td>1</td>\n",
       "      <td>-8437.673028</td>\n",
       "      <td>42</td>\n",
       "      <td>высшее</td>\n",
       "      <td>0</td>\n",
       "      <td>женат / замужем</td>\n",
       "      <td>0</td>\n",
       "      <td>F</td>\n",
       "      <td>сотрудник</td>\n",
       "      <td>0</td>\n",
       "      <td>253875.639453</td>\n",
       "      <td>покупка жилья</td>\n",
       "    </tr>\n",
       "    <tr>\n",
       "      <th>1</th>\n",
       "      <td>1</td>\n",
       "      <td>-4024.803754</td>\n",
       "      <td>36</td>\n",
       "      <td>среднее</td>\n",
       "      <td>1</td>\n",
       "      <td>женат / замужем</td>\n",
       "      <td>0</td>\n",
       "      <td>F</td>\n",
       "      <td>сотрудник</td>\n",
       "      <td>0</td>\n",
       "      <td>112080.014102</td>\n",
       "      <td>приобретение автомобиля</td>\n",
       "    </tr>\n",
       "    <tr>\n",
       "      <th>2</th>\n",
       "      <td>0</td>\n",
       "      <td>-5623.422610</td>\n",
       "      <td>33</td>\n",
       "      <td>Среднее</td>\n",
       "      <td>1</td>\n",
       "      <td>женат / замужем</td>\n",
       "      <td>0</td>\n",
       "      <td>M</td>\n",
       "      <td>сотрудник</td>\n",
       "      <td>0</td>\n",
       "      <td>145885.952297</td>\n",
       "      <td>покупка жилья</td>\n",
       "    </tr>\n",
       "    <tr>\n",
       "      <th>3</th>\n",
       "      <td>3</td>\n",
       "      <td>-4124.747207</td>\n",
       "      <td>32</td>\n",
       "      <td>среднее</td>\n",
       "      <td>1</td>\n",
       "      <td>женат / замужем</td>\n",
       "      <td>0</td>\n",
       "      <td>M</td>\n",
       "      <td>сотрудник</td>\n",
       "      <td>0</td>\n",
       "      <td>267628.550329</td>\n",
       "      <td>дополнительное образование</td>\n",
       "    </tr>\n",
       "    <tr>\n",
       "      <th>4</th>\n",
       "      <td>0</td>\n",
       "      <td>340266.072047</td>\n",
       "      <td>53</td>\n",
       "      <td>среднее</td>\n",
       "      <td>1</td>\n",
       "      <td>гражданский брак</td>\n",
       "      <td>1</td>\n",
       "      <td>F</td>\n",
       "      <td>пенсионер</td>\n",
       "      <td>0</td>\n",
       "      <td>158616.077870</td>\n",
       "      <td>сыграть свадьбу</td>\n",
       "    </tr>\n",
       "    <tr>\n",
       "      <th>5</th>\n",
       "      <td>0</td>\n",
       "      <td>-926.185831</td>\n",
       "      <td>27</td>\n",
       "      <td>высшее</td>\n",
       "      <td>0</td>\n",
       "      <td>гражданский брак</td>\n",
       "      <td>1</td>\n",
       "      <td>M</td>\n",
       "      <td>компаньон</td>\n",
       "      <td>0</td>\n",
       "      <td>255763.565419</td>\n",
       "      <td>покупка жилья</td>\n",
       "    </tr>\n",
       "    <tr>\n",
       "      <th>6</th>\n",
       "      <td>0</td>\n",
       "      <td>-2879.202052</td>\n",
       "      <td>43</td>\n",
       "      <td>высшее</td>\n",
       "      <td>0</td>\n",
       "      <td>женат / замужем</td>\n",
       "      <td>0</td>\n",
       "      <td>F</td>\n",
       "      <td>компаньон</td>\n",
       "      <td>0</td>\n",
       "      <td>240525.971920</td>\n",
       "      <td>операции с жильем</td>\n",
       "    </tr>\n",
       "    <tr>\n",
       "      <th>7</th>\n",
       "      <td>0</td>\n",
       "      <td>-152.779569</td>\n",
       "      <td>50</td>\n",
       "      <td>СРЕДНЕЕ</td>\n",
       "      <td>1</td>\n",
       "      <td>женат / замужем</td>\n",
       "      <td>0</td>\n",
       "      <td>M</td>\n",
       "      <td>сотрудник</td>\n",
       "      <td>0</td>\n",
       "      <td>135823.934197</td>\n",
       "      <td>образование</td>\n",
       "    </tr>\n",
       "    <tr>\n",
       "      <th>8</th>\n",
       "      <td>2</td>\n",
       "      <td>-6929.865299</td>\n",
       "      <td>35</td>\n",
       "      <td>ВЫСШЕЕ</td>\n",
       "      <td>0</td>\n",
       "      <td>гражданский брак</td>\n",
       "      <td>1</td>\n",
       "      <td>F</td>\n",
       "      <td>сотрудник</td>\n",
       "      <td>0</td>\n",
       "      <td>95856.832424</td>\n",
       "      <td>на проведение свадьбы</td>\n",
       "    </tr>\n",
       "    <tr>\n",
       "      <th>9</th>\n",
       "      <td>0</td>\n",
       "      <td>-2188.756445</td>\n",
       "      <td>41</td>\n",
       "      <td>среднее</td>\n",
       "      <td>1</td>\n",
       "      <td>женат / замужем</td>\n",
       "      <td>0</td>\n",
       "      <td>M</td>\n",
       "      <td>сотрудник</td>\n",
       "      <td>0</td>\n",
       "      <td>144425.938277</td>\n",
       "      <td>покупка жилья для семьи</td>\n",
       "    </tr>\n",
       "    <tr>\n",
       "      <th>10</th>\n",
       "      <td>2</td>\n",
       "      <td>-4171.483647</td>\n",
       "      <td>36</td>\n",
       "      <td>высшее</td>\n",
       "      <td>0</td>\n",
       "      <td>женат / замужем</td>\n",
       "      <td>0</td>\n",
       "      <td>M</td>\n",
       "      <td>компаньон</td>\n",
       "      <td>0</td>\n",
       "      <td>113943.491460</td>\n",
       "      <td>покупка недвижимости</td>\n",
       "    </tr>\n",
       "    <tr>\n",
       "      <th>11</th>\n",
       "      <td>0</td>\n",
       "      <td>-792.701887</td>\n",
       "      <td>40</td>\n",
       "      <td>среднее</td>\n",
       "      <td>1</td>\n",
       "      <td>женат / замужем</td>\n",
       "      <td>0</td>\n",
       "      <td>F</td>\n",
       "      <td>сотрудник</td>\n",
       "      <td>0</td>\n",
       "      <td>77069.234271</td>\n",
       "      <td>покупка коммерческой недвижимости</td>\n",
       "    </tr>\n",
       "    <tr>\n",
       "      <th>12</th>\n",
       "      <td>0</td>\n",
       "      <td>NaN</td>\n",
       "      <td>65</td>\n",
       "      <td>среднее</td>\n",
       "      <td>1</td>\n",
       "      <td>гражданский брак</td>\n",
       "      <td>1</td>\n",
       "      <td>M</td>\n",
       "      <td>пенсионер</td>\n",
       "      <td>0</td>\n",
       "      <td>NaN</td>\n",
       "      <td>сыграть свадьбу</td>\n",
       "    </tr>\n",
       "    <tr>\n",
       "      <th>13</th>\n",
       "      <td>0</td>\n",
       "      <td>-1846.641941</td>\n",
       "      <td>54</td>\n",
       "      <td>неоконченное высшее</td>\n",
       "      <td>2</td>\n",
       "      <td>женат / замужем</td>\n",
       "      <td>0</td>\n",
       "      <td>F</td>\n",
       "      <td>сотрудник</td>\n",
       "      <td>0</td>\n",
       "      <td>130458.228857</td>\n",
       "      <td>приобретение автомобиля</td>\n",
       "    </tr>\n",
       "    <tr>\n",
       "      <th>14</th>\n",
       "      <td>0</td>\n",
       "      <td>-1844.956182</td>\n",
       "      <td>56</td>\n",
       "      <td>высшее</td>\n",
       "      <td>0</td>\n",
       "      <td>гражданский брак</td>\n",
       "      <td>1</td>\n",
       "      <td>F</td>\n",
       "      <td>компаньон</td>\n",
       "      <td>1</td>\n",
       "      <td>165127.911772</td>\n",
       "      <td>покупка жилой недвижимости</td>\n",
       "    </tr>\n",
       "    <tr>\n",
       "      <th>15</th>\n",
       "      <td>1</td>\n",
       "      <td>-972.364419</td>\n",
       "      <td>26</td>\n",
       "      <td>среднее</td>\n",
       "      <td>1</td>\n",
       "      <td>женат / замужем</td>\n",
       "      <td>0</td>\n",
       "      <td>F</td>\n",
       "      <td>сотрудник</td>\n",
       "      <td>0</td>\n",
       "      <td>116820.904450</td>\n",
       "      <td>строительство собственной недвижимости</td>\n",
       "    </tr>\n",
       "    <tr>\n",
       "      <th>16</th>\n",
       "      <td>0</td>\n",
       "      <td>-1719.934226</td>\n",
       "      <td>35</td>\n",
       "      <td>среднее</td>\n",
       "      <td>1</td>\n",
       "      <td>женат / замужем</td>\n",
       "      <td>0</td>\n",
       "      <td>F</td>\n",
       "      <td>сотрудник</td>\n",
       "      <td>0</td>\n",
       "      <td>289202.704229</td>\n",
       "      <td>недвижимость</td>\n",
       "    </tr>\n",
       "    <tr>\n",
       "      <th>17</th>\n",
       "      <td>0</td>\n",
       "      <td>-2369.999720</td>\n",
       "      <td>33</td>\n",
       "      <td>высшее</td>\n",
       "      <td>0</td>\n",
       "      <td>гражданский брак</td>\n",
       "      <td>1</td>\n",
       "      <td>M</td>\n",
       "      <td>сотрудник</td>\n",
       "      <td>0</td>\n",
       "      <td>90410.586745</td>\n",
       "      <td>строительство недвижимости</td>\n",
       "    </tr>\n",
       "    <tr>\n",
       "      <th>18</th>\n",
       "      <td>0</td>\n",
       "      <td>400281.136913</td>\n",
       "      <td>53</td>\n",
       "      <td>среднее</td>\n",
       "      <td>1</td>\n",
       "      <td>вдовец / вдова</td>\n",
       "      <td>2</td>\n",
       "      <td>F</td>\n",
       "      <td>пенсионер</td>\n",
       "      <td>0</td>\n",
       "      <td>56823.777243</td>\n",
       "      <td>на покупку подержанного автомобиля</td>\n",
       "    </tr>\n",
       "    <tr>\n",
       "      <th>19</th>\n",
       "      <td>0</td>\n",
       "      <td>-10038.818549</td>\n",
       "      <td>48</td>\n",
       "      <td>СРЕДНЕЕ</td>\n",
       "      <td>1</td>\n",
       "      <td>в разводе</td>\n",
       "      <td>3</td>\n",
       "      <td>F</td>\n",
       "      <td>сотрудник</td>\n",
       "      <td>0</td>\n",
       "      <td>242831.107982</td>\n",
       "      <td>на покупку своего автомобиля</td>\n",
       "    </tr>\n",
       "  </tbody>\n",
       "</table>\n",
       "</div>"
      ],
      "text/plain": [
       "    children  days_employed  dob_years            education  education_id  \\\n",
       "0          1   -8437.673028         42               высшее             0   \n",
       "1          1   -4024.803754         36              среднее             1   \n",
       "2          0   -5623.422610         33              Среднее             1   \n",
       "3          3   -4124.747207         32              среднее             1   \n",
       "4          0  340266.072047         53              среднее             1   \n",
       "5          0    -926.185831         27               высшее             0   \n",
       "6          0   -2879.202052         43               высшее             0   \n",
       "7          0    -152.779569         50              СРЕДНЕЕ             1   \n",
       "8          2   -6929.865299         35               ВЫСШЕЕ             0   \n",
       "9          0   -2188.756445         41              среднее             1   \n",
       "10         2   -4171.483647         36               высшее             0   \n",
       "11         0    -792.701887         40              среднее             1   \n",
       "12         0            NaN         65              среднее             1   \n",
       "13         0   -1846.641941         54  неоконченное высшее             2   \n",
       "14         0   -1844.956182         56               высшее             0   \n",
       "15         1    -972.364419         26              среднее             1   \n",
       "16         0   -1719.934226         35              среднее             1   \n",
       "17         0   -2369.999720         33               высшее             0   \n",
       "18         0  400281.136913         53              среднее             1   \n",
       "19         0  -10038.818549         48              СРЕДНЕЕ             1   \n",
       "\n",
       "       family_status  family_status_id gender income_type  debt  \\\n",
       "0    женат / замужем                 0      F   сотрудник     0   \n",
       "1    женат / замужем                 0      F   сотрудник     0   \n",
       "2    женат / замужем                 0      M   сотрудник     0   \n",
       "3    женат / замужем                 0      M   сотрудник     0   \n",
       "4   гражданский брак                 1      F   пенсионер     0   \n",
       "5   гражданский брак                 1      M   компаньон     0   \n",
       "6    женат / замужем                 0      F   компаньон     0   \n",
       "7    женат / замужем                 0      M   сотрудник     0   \n",
       "8   гражданский брак                 1      F   сотрудник     0   \n",
       "9    женат / замужем                 0      M   сотрудник     0   \n",
       "10   женат / замужем                 0      M   компаньон     0   \n",
       "11   женат / замужем                 0      F   сотрудник     0   \n",
       "12  гражданский брак                 1      M   пенсионер     0   \n",
       "13   женат / замужем                 0      F   сотрудник     0   \n",
       "14  гражданский брак                 1      F   компаньон     1   \n",
       "15   женат / замужем                 0      F   сотрудник     0   \n",
       "16   женат / замужем                 0      F   сотрудник     0   \n",
       "17  гражданский брак                 1      M   сотрудник     0   \n",
       "18    вдовец / вдова                 2      F   пенсионер     0   \n",
       "19         в разводе                 3      F   сотрудник     0   \n",
       "\n",
       "     total_income                                 purpose  \n",
       "0   253875.639453                           покупка жилья  \n",
       "1   112080.014102                 приобретение автомобиля  \n",
       "2   145885.952297                           покупка жилья  \n",
       "3   267628.550329              дополнительное образование  \n",
       "4   158616.077870                         сыграть свадьбу  \n",
       "5   255763.565419                           покупка жилья  \n",
       "6   240525.971920                       операции с жильем  \n",
       "7   135823.934197                             образование  \n",
       "8    95856.832424                   на проведение свадьбы  \n",
       "9   144425.938277                 покупка жилья для семьи  \n",
       "10  113943.491460                    покупка недвижимости  \n",
       "11   77069.234271       покупка коммерческой недвижимости  \n",
       "12            NaN                         сыграть свадьбу  \n",
       "13  130458.228857                 приобретение автомобиля  \n",
       "14  165127.911772              покупка жилой недвижимости  \n",
       "15  116820.904450  строительство собственной недвижимости  \n",
       "16  289202.704229                            недвижимость  \n",
       "17   90410.586745              строительство недвижимости  \n",
       "18   56823.777243      на покупку подержанного автомобиля  \n",
       "19  242831.107982            на покупку своего автомобиля  "
      ]
     },
     "execution_count": 2,
     "metadata": {},
     "output_type": "execute_result"
    }
   ],
   "source": [
    "data.head(20)"
   ]
  },
  {
   "cell_type": "markdown",
   "id": "0ed8f27f",
   "metadata": {
    "deletable": false,
    "editable": false,
    "id": "0ed8f27f"
   },
   "source": [
    "**Задание 3. Выведите основную информацию о датафрейме с помощью метода `info()`.**"
   ]
  },
  {
   "cell_type": "code",
   "execution_count": 3,
   "id": "ab3f863b",
   "metadata": {
    "deletable": false,
    "id": "ab3f863b",
    "outputId": "15376089-8dad-46c9-b520-c05248d43158"
   },
   "outputs": [
    {
     "name": "stdout",
     "output_type": "stream",
     "text": [
      "<class 'pandas.core.frame.DataFrame'>\n",
      "RangeIndex: 21525 entries, 0 to 21524\n",
      "Data columns (total 12 columns):\n",
      " #   Column            Non-Null Count  Dtype  \n",
      "---  ------            --------------  -----  \n",
      " 0   children          21525 non-null  int64  \n",
      " 1   days_employed     19351 non-null  float64\n",
      " 2   dob_years         21525 non-null  int64  \n",
      " 3   education         21525 non-null  object \n",
      " 4   education_id      21525 non-null  int64  \n",
      " 5   family_status     21525 non-null  object \n",
      " 6   family_status_id  21525 non-null  int64  \n",
      " 7   gender            21525 non-null  object \n",
      " 8   income_type       21525 non-null  object \n",
      " 9   debt              21525 non-null  int64  \n",
      " 10  total_income      19351 non-null  float64\n",
      " 11  purpose           21525 non-null  object \n",
      "dtypes: float64(2), int64(5), object(5)\n",
      "memory usage: 2.0+ MB\n"
     ]
    }
   ],
   "source": [
    "data.info()"
   ]
  },
  {
   "cell_type": "markdown",
   "id": "60e3e22d",
   "metadata": {
    "deletable": false,
    "editable": false,
    "id": "60e3e22d"
   },
   "source": [
    "## Предобработка данных"
   ]
  },
  {
   "cell_type": "markdown",
   "id": "03dc170c",
   "metadata": {
    "deletable": false,
    "editable": false,
    "id": "03dc170c"
   },
   "source": [
    "### Удаление пропусков"
   ]
  },
  {
   "cell_type": "markdown",
   "id": "a4f54eef",
   "metadata": {
    "deletable": false,
    "editable": false,
    "id": "a4f54eef"
   },
   "source": [
    "**Задание 4. Выведите количество пропущенных значений для каждого столбца. Используйте комбинацию двух методов.**"
   ]
  },
  {
   "cell_type": "code",
   "execution_count": 4,
   "id": "2dc372b2",
   "metadata": {
    "deletable": false,
    "id": "2dc372b2",
    "outputId": "81f4d817-781c-465c-ed15-91ce4446810d"
   },
   "outputs": [
    {
     "data": {
      "text/plain": [
       "children               0\n",
       "days_employed       2174\n",
       "dob_years              0\n",
       "education              0\n",
       "education_id           0\n",
       "family_status          0\n",
       "family_status_id       0\n",
       "gender                 0\n",
       "income_type            0\n",
       "debt                   0\n",
       "total_income        2174\n",
       "purpose                0\n",
       "dtype: int64"
      ]
     },
     "execution_count": 4,
     "metadata": {},
     "output_type": "execute_result"
    }
   ],
   "source": [
    "data.isna().sum()"
   ]
  },
  {
   "cell_type": "markdown",
   "id": "14f011b1",
   "metadata": {
    "deletable": false,
    "editable": false,
    "id": "14f011b1"
   },
   "source": [
    "**Задание 5. В двух столбцах есть пропущенные значения. Один из них — `days_employed`. Пропуски в этом столбце вы обработаете на следующем этапе. Другой столбец с пропущенными значениями — `total_income` — хранит данные о доходах. На сумму дохода сильнее всего влияет тип занятости, поэтому заполнить пропуски в этом столбце нужно медианным значением по каждому типу из столбца `income_type`. Например, у человека с типом занятости `сотрудник` пропуск в столбце `total_income` должен быть заполнен медианным доходом среди всех записей с тем же типом.**"
   ]
  },
  {
   "cell_type": "code",
   "execution_count": 5,
   "id": "bdabfb6e",
   "metadata": {
    "deletable": false,
    "id": "bdabfb6e"
   },
   "outputs": [],
   "source": [
    "for t in data['income_type'].unique():\n",
    "    data.loc[(data['income_type'] == t) & (data['total_income'].isna()), 'total_income'] = \\\n",
    "    data.loc[(data['income_type'] == t), 'total_income'].median()"
   ]
  },
  {
   "cell_type": "markdown",
   "id": "5be34059",
   "metadata": {
    "deletable": false,
    "editable": false,
    "id": "5be34059"
   },
   "source": [
    "### Обработка аномальных значений"
   ]
  },
  {
   "cell_type": "markdown",
   "id": "a87606cb",
   "metadata": {
    "deletable": false,
    "editable": false,
    "id": "a87606cb"
   },
   "source": [
    "**Задание 6. В данных могут встречаться артефакты (аномалии) — значения, которые не отражают действительность и появились по какой-то ошибке. таким артефактом будет отрицательное количество дней трудового стажа в столбце `days_employed`. Для реальных данных это нормально. Обработайте значения в этом столбце: замените все отрицательные значения положительными с помощью метода `abs()`.**"
   ]
  },
  {
   "cell_type": "code",
   "execution_count": 6,
   "id": "020c46cc",
   "metadata": {
    "deletable": false,
    "id": "020c46cc"
   },
   "outputs": [],
   "source": [
    "data['days_employed'] = data['days_employed'].abs()"
   ]
  },
  {
   "cell_type": "markdown",
   "id": "45538a3a",
   "metadata": {
    "deletable": false,
    "editable": false,
    "id": "45538a3a"
   },
   "source": [
    "**Задание 7. Для каждого типа занятости выведите медианное значение трудового стажа `days_employed` в днях.**"
   ]
  },
  {
   "cell_type": "code",
   "execution_count": 7,
   "id": "cd3e6328",
   "metadata": {
    "deletable": false,
    "id": "cd3e6328",
    "outputId": "801ef80e-522b-4668-f34e-565af7432bcf"
   },
   "outputs": [
    {
     "data": {
      "text/plain": [
       "income_type\n",
       "безработный        366413.652744\n",
       "в декрете            3296.759962\n",
       "госслужащий          2689.368353\n",
       "компаньон            1547.382223\n",
       "пенсионер          365213.306266\n",
       "предприниматель       520.848083\n",
       "сотрудник            1574.202821\n",
       "студент               578.751554\n",
       "Name: days_employed, dtype: float64"
      ]
     },
     "execution_count": 7,
     "metadata": {},
     "output_type": "execute_result"
    }
   ],
   "source": [
    "data.groupby('income_type')['days_employed'].agg('median')"
   ]
  },
  {
   "cell_type": "markdown",
   "id": "90c5f058",
   "metadata": {
    "deletable": false,
    "editable": false,
    "id": "90c5f058"
   },
   "source": [
    "У двух типов (безработные и пенсионеры) получатся аномально большие значения. Исправить такие значения сложно, поэтому оставьте их как есть."
   ]
  },
  {
   "cell_type": "markdown",
   "id": "9652e50d",
   "metadata": {
    "deletable": false,
    "editable": false,
    "id": "9652e50d"
   },
   "source": [
    "**Задание 8. Выведите перечень уникальных значений столбца `children`.**"
   ]
  },
  {
   "cell_type": "code",
   "execution_count": 8,
   "id": "dbb37b8e",
   "metadata": {
    "deletable": false,
    "id": "dbb37b8e",
    "outputId": "6975b15c-7f95-4697-d16d-a0c79b657b03"
   },
   "outputs": [
    {
     "data": {
      "text/plain": [
       "array([ 1,  0,  3,  2, -1,  4, 20,  5], dtype=int64)"
      ]
     },
     "execution_count": 8,
     "metadata": {},
     "output_type": "execute_result"
    }
   ],
   "source": [
    "data['children'].unique()"
   ]
  },
  {
   "cell_type": "markdown",
   "id": "2b8b0715",
   "metadata": {
    "deletable": false,
    "editable": false,
    "id": "2b8b0715"
   },
   "source": [
    "**Задание 9. В столбце `children` есть два аномальных значения. Удалите строки, в которых встречаются такие аномальные значения из датафрейма `data`.**"
   ]
  },
  {
   "cell_type": "code",
   "execution_count": 9,
   "id": "20009df8",
   "metadata": {
    "deletable": false,
    "id": "20009df8"
   },
   "outputs": [],
   "source": [
    "data = data[(data['children'] != -1) & (data['children'] != 20)]"
   ]
  },
  {
   "cell_type": "markdown",
   "id": "8c6ac9f1",
   "metadata": {
    "deletable": false,
    "editable": false,
    "id": "8c6ac9f1"
   },
   "source": [
    "**Задание 10. Ещё раз выведите перечень уникальных значений столбца `children`, чтобы убедиться, что артефакты удалены.**"
   ]
  },
  {
   "cell_type": "code",
   "execution_count": 10,
   "id": "07337b81",
   "metadata": {
    "deletable": false,
    "id": "07337b81",
    "outputId": "b2097101-d49d-44d9-901b-32a65c9463d1"
   },
   "outputs": [
    {
     "data": {
      "text/plain": [
       "array([1, 0, 3, 2, 4, 5], dtype=int64)"
      ]
     },
     "execution_count": 10,
     "metadata": {},
     "output_type": "execute_result"
    }
   ],
   "source": [
    "data['children'].unique()"
   ]
  },
  {
   "cell_type": "markdown",
   "id": "ee3f52d4",
   "metadata": {
    "deletable": false,
    "editable": false,
    "id": "ee3f52d4"
   },
   "source": [
    "### Удаление пропусков (продолжение)"
   ]
  },
  {
   "cell_type": "markdown",
   "id": "a700b0e4",
   "metadata": {
    "deletable": false,
    "editable": false,
    "id": "a700b0e4"
   },
   "source": [
    "**Задание 11. Заполните пропуски в столбце `days_employed` медианными значениями по каждого типа занятости `income_type`.**"
   ]
  },
  {
   "cell_type": "code",
   "execution_count": 11,
   "id": "61946b83",
   "metadata": {
    "deletable": false,
    "id": "61946b83"
   },
   "outputs": [],
   "source": [
    "for t in data['income_type'].unique():\n",
    "    data.loc[(data['income_type'] == t) & (data['days_employed'].isna()), 'days_employed'] = \\\n",
    "    data.loc[(data['income_type'] == t), 'days_employed'].median()"
   ]
  },
  {
   "cell_type": "markdown",
   "id": "550dcd9b",
   "metadata": {
    "deletable": false,
    "editable": false,
    "id": "550dcd9b"
   },
   "source": [
    "**Задание 12. Убедитесь, что все пропуски заполнены. Проверьте себя и ещё раз выведите количество пропущенных значений для каждого столбца с помощью двух методов.**"
   ]
  },
  {
   "cell_type": "code",
   "execution_count": 12,
   "id": "937c7014",
   "metadata": {
    "deletable": false,
    "id": "937c7014",
    "outputId": "8da1e4e1-358e-4e87-98c9-f261bce0a7b2"
   },
   "outputs": [
    {
     "data": {
      "text/plain": [
       "children            0\n",
       "days_employed       0\n",
       "dob_years           0\n",
       "education           0\n",
       "education_id        0\n",
       "family_status       0\n",
       "family_status_id    0\n",
       "gender              0\n",
       "income_type         0\n",
       "debt                0\n",
       "total_income        0\n",
       "purpose             0\n",
       "dtype: int64"
      ]
     },
     "execution_count": 12,
     "metadata": {},
     "output_type": "execute_result"
    }
   ],
   "source": [
    "data.isna().sum()"
   ]
  },
  {
   "cell_type": "markdown",
   "id": "d522e295",
   "metadata": {
    "deletable": false,
    "editable": false,
    "id": "d522e295"
   },
   "source": [
    "### Изменение типов данных"
   ]
  },
  {
   "cell_type": "markdown",
   "id": "c229c581",
   "metadata": {
    "deletable": false,
    "editable": false,
    "id": "c229c581"
   },
   "source": [
    "**Задание 13. Замените вещественный тип данных в столбце `total_income` на целочисленный с помощью метода `astype()`.**"
   ]
  },
  {
   "cell_type": "code",
   "execution_count": 13,
   "id": "31036462",
   "metadata": {
    "deletable": false,
    "id": "31036462"
   },
   "outputs": [],
   "source": [
    "data['total_income'] = data['total_income'].astype(int)"
   ]
  },
  {
   "cell_type": "markdown",
   "id": "b8e3d1d9",
   "metadata": {
    "deletable": false,
    "editable": false,
    "id": "b8e3d1d9"
   },
   "source": [
    "### Обработка дубликатов"
   ]
  },
  {
   "cell_type": "markdown",
   "id": "9be53c49",
   "metadata": {
    "deletable": false,
    "editable": false,
    "id": "9be53c49"
   },
   "source": [
    "**Задание 14. Обработайте неявные дубликаты в столбце `education`. В этом столбце есть одни и те же значения, но записанные по-разному: с использованием заглавных и строчных букв. Приведите их к нижнему регистру.**"
   ]
  },
  {
   "cell_type": "code",
   "execution_count": 14,
   "id": "d89e73e1",
   "metadata": {
    "deletable": false,
    "id": "d89e73e1"
   },
   "outputs": [],
   "source": [
    "data['education'] = data['education'].str.lower()"
   ]
  },
  {
   "cell_type": "markdown",
   "id": "01d4500e",
   "metadata": {
    "deletable": false,
    "editable": false,
    "id": "01d4500e"
   },
   "source": [
    "**Задание 15. Выведите на экран количество строк-дубликатов в данных. Если такие строки присутствуют, удалите их.**"
   ]
  },
  {
   "cell_type": "code",
   "execution_count": 15,
   "id": "e10efb23",
   "metadata": {
    "deletable": false,
    "id": "e10efb23",
    "outputId": "9684deba-1934-42d1-99e1-cda61740f822"
   },
   "outputs": [
    {
     "data": {
      "text/plain": [
       "71"
      ]
     },
     "execution_count": 15,
     "metadata": {},
     "output_type": "execute_result"
    }
   ],
   "source": [
    "data.duplicated().sum()"
   ]
  },
  {
   "cell_type": "code",
   "execution_count": 16,
   "id": "df853f20",
   "metadata": {
    "deletable": false,
    "id": "df853f20"
   },
   "outputs": [],
   "source": [
    "data = data.drop_duplicates()"
   ]
  },
  {
   "cell_type": "markdown",
   "id": "627be38f",
   "metadata": {
    "deletable": false,
    "editable": false,
    "id": "627be38f"
   },
   "source": [
    "### Категоризация данных"
   ]
  },
  {
   "cell_type": "markdown",
   "id": "4684c3e0",
   "metadata": {
    "deletable": false,
    "editable": false,
    "id": "4684c3e0"
   },
   "source": [
    "**Задание 16. На основании диапазонов, указанных ниже, создайте в датафрейме `data` столбец `total_income_category` с категориями:**\n",
    "\n",
    "- 0–30000 — `'E'`;\n",
    "- 30001–50000 — `'D'`;\n",
    "- 50001–200000 — `'C'`;\n",
    "- 200001–1000000 — `'B'`;\n",
    "- 1000001 и выше — `'A'`.\n",
    "\n",
    "\n",
    "**Например, кредитополучателю с доходом 25000 нужно назначить категорию `'E'`, а клиенту, получающему 235000, — `'B'`. Используйте собственную функцию с именем `categorize_income()` и метод `apply()`.**"
   ]
  },
  {
   "cell_type": "code",
   "execution_count": 17,
   "id": "78965238",
   "metadata": {
    "deletable": false,
    "id": "78965238"
   },
   "outputs": [],
   "source": [
    "def categorize_income(income):\n",
    "    try:\n",
    "        if 0 <= income <= 30000:\n",
    "            return 'E'\n",
    "        elif 30001 <= income <= 50000:\n",
    "            return 'D'\n",
    "        elif 50001 <= income <= 200000:\n",
    "            return 'C'\n",
    "        elif 200001 <= income <= 1000000:\n",
    "            return 'B'\n",
    "        elif income >= 1000001:\n",
    "            return 'A'\n",
    "    except:\n",
    "        pass"
   ]
  },
  {
   "cell_type": "code",
   "execution_count": 18,
   "id": "0980ada1",
   "metadata": {
    "deletable": false,
    "id": "0980ada1"
   },
   "outputs": [],
   "source": [
    "data['total_income_category'] = data['total_income'].apply(categorize_income)"
   ]
  },
  {
   "cell_type": "markdown",
   "id": "9917bba0",
   "metadata": {
    "deletable": false,
    "editable": false,
    "id": "9917bba0"
   },
   "source": [
    "**Задание 17. Выведите на экран перечень уникальных целей взятия кредита из столбца `purpose`.**"
   ]
  },
  {
   "cell_type": "code",
   "execution_count": 19,
   "id": "ee07b65e",
   "metadata": {
    "deletable": false,
    "id": "ee07b65e",
    "outputId": "673c12d9-7d7e-4ae0-9812-c622c89dd244"
   },
   "outputs": [
    {
     "data": {
      "text/plain": [
       "array(['покупка жилья', 'приобретение автомобиля',\n",
       "       'дополнительное образование', 'сыграть свадьбу',\n",
       "       'операции с жильем', 'образование', 'на проведение свадьбы',\n",
       "       'покупка жилья для семьи', 'покупка недвижимости',\n",
       "       'покупка коммерческой недвижимости', 'покупка жилой недвижимости',\n",
       "       'строительство собственной недвижимости', 'недвижимость',\n",
       "       'строительство недвижимости', 'на покупку подержанного автомобиля',\n",
       "       'на покупку своего автомобиля',\n",
       "       'операции с коммерческой недвижимостью',\n",
       "       'строительство жилой недвижимости', 'жилье',\n",
       "       'операции со своей недвижимостью', 'автомобили',\n",
       "       'заняться образованием', 'сделка с подержанным автомобилем',\n",
       "       'получение образования', 'автомобиль', 'свадьба',\n",
       "       'получение дополнительного образования', 'покупка своего жилья',\n",
       "       'операции с недвижимостью', 'получение высшего образования',\n",
       "       'свой автомобиль', 'сделка с автомобилем',\n",
       "       'профильное образование', 'высшее образование',\n",
       "       'покупка жилья для сдачи', 'на покупку автомобиля', 'ремонт жилью',\n",
       "       'заняться высшим образованием'], dtype=object)"
      ]
     },
     "execution_count": 19,
     "metadata": {},
     "output_type": "execute_result"
    }
   ],
   "source": [
    "data['purpose'].unique()"
   ]
  },
  {
   "cell_type": "markdown",
   "id": "52b79d56",
   "metadata": {
    "deletable": false,
    "editable": false,
    "id": "52b79d56"
   },
   "source": [
    "**Задание 18. Создайте функцию, которая на основании данных из столбца `purpose` сформирует новый столбец `purpose_category`, в который войдут следующие категории:**\n",
    "\n",
    "- `'операции с автомобилем'`,\n",
    "- `'операции с недвижимостью'`,\n",
    "- `'проведение свадьбы'`,\n",
    "- `'получение образования'`.\n",
    "\n",
    "**Например, если в столбце `purpose` находится подстрока `'на покупку автомобиля'`, то в столбце `purpose_category` должна появиться строка `'операции с автомобилем'`.**\n",
    "\n",
    "**Используйте собственную функцию с именем `categorize_purpose()` и метод `apply()`. Изучите данные в столбце `purpose` и определите, какие подстроки помогут вам правильно определить категорию.**"
   ]
  },
  {
   "cell_type": "code",
   "execution_count": 20,
   "id": "be41da5d",
   "metadata": {
    "deletable": false,
    "id": "be41da5d"
   },
   "outputs": [],
   "source": [
    "def categorize_purpose(row):\n",
    "    try:\n",
    "        if 'автом' in row:\n",
    "            return 'операции с автомобилем'\n",
    "        elif 'жил' in row or 'недвиж' in row:\n",
    "            return 'операции с недвижимостью'\n",
    "        elif 'свад' in row:\n",
    "            return 'проведение свадьбы'\n",
    "        elif 'образов' in row:\n",
    "            return 'получение образования'\n",
    "    except:\n",
    "        return 'нет категории'"
   ]
  },
  {
   "cell_type": "code",
   "execution_count": 21,
   "id": "94c4a19a",
   "metadata": {
    "deletable": false,
    "id": "94c4a19a"
   },
   "outputs": [],
   "source": [
    "data['purpose_category'] = data['purpose'].apply(categorize_purpose)"
   ]
  },
  {
   "cell_type": "markdown",
   "id": "3d596c34",
   "metadata": {
    "deletable": false,
    "editable": false,
    "id": "3d596c34"
   },
   "source": [
    "### Шаг 3. Исследуйте данные и ответьте на вопросы"
   ]
  },
  {
   "cell_type": "markdown",
   "id": "648db036",
   "metadata": {
    "deletable": false,
    "editable": false,
    "id": "648db036"
   },
   "source": [
    "#### 3.1 Есть ли зависимость между количеством детей и возвратом кредита в срок?"
   ]
  },
  {
   "cell_type": "markdown",
   "id": "aa7d6879",
   "metadata": {},
   "source": [
    "Сгруппируем данные по количеству детей и вероятности невозврата кредита в срок (метод mean по колонке `debt`), количества просроченных кредитов (метод sum по колонке `debt`) и количества выданных кредитов (метод count по колонке `debt`) и запишем результат в таблицу `t`."
   ]
  },
  {
   "cell_type": "code",
   "execution_count": 22,
   "id": "7fcff25e",
   "metadata": {
    "deletable": false,
    "id": "7fcff25e",
    "scrolled": false
   },
   "outputs": [
    {
     "data": {
      "text/html": [
       "<style type=\"text/css\">\n",
       "</style>\n",
       "<table id=\"T_717e6\">\n",
       "  <thead>\n",
       "    <tr>\n",
       "      <th class=\"blank level0\" >&nbsp;</th>\n",
       "      <th id=\"T_717e6_level0_col0\" class=\"col_heading level0 col0\" >Кол-во детей</th>\n",
       "      <th id=\"T_717e6_level0_col1\" class=\"col_heading level0 col1\" >Доля невозврата кредитов</th>\n",
       "      <th id=\"T_717e6_level0_col2\" class=\"col_heading level0 col2\" >Кол-во просроченных кредитов</th>\n",
       "      <th id=\"T_717e6_level0_col3\" class=\"col_heading level0 col3\" >Кол-во выданных кредитов</th>\n",
       "    </tr>\n",
       "  </thead>\n",
       "  <tbody>\n",
       "    <tr>\n",
       "      <th id=\"T_717e6_level0_row0\" class=\"row_heading level0 row0\" >0</th>\n",
       "      <td id=\"T_717e6_row0_col0\" class=\"data row0 col0\" >0</td>\n",
       "      <td id=\"T_717e6_row0_col1\" class=\"data row0 col1\" >0.075</td>\n",
       "      <td id=\"T_717e6_row0_col2\" class=\"data row0 col2\" >1063</td>\n",
       "      <td id=\"T_717e6_row0_col3\" class=\"data row0 col3\" >14091</td>\n",
       "    </tr>\n",
       "    <tr>\n",
       "      <th id=\"T_717e6_level0_row1\" class=\"row_heading level0 row1\" >1</th>\n",
       "      <td id=\"T_717e6_row1_col0\" class=\"data row1 col0\" >1</td>\n",
       "      <td id=\"T_717e6_row1_col1\" class=\"data row1 col1\" >0.092</td>\n",
       "      <td id=\"T_717e6_row1_col2\" class=\"data row1 col2\" >444</td>\n",
       "      <td id=\"T_717e6_row1_col3\" class=\"data row1 col3\" >4808</td>\n",
       "    </tr>\n",
       "    <tr>\n",
       "      <th id=\"T_717e6_level0_row2\" class=\"row_heading level0 row2\" >2</th>\n",
       "      <td id=\"T_717e6_row2_col0\" class=\"data row2 col0\" >2</td>\n",
       "      <td id=\"T_717e6_row2_col1\" class=\"data row2 col1\" >0.095</td>\n",
       "      <td id=\"T_717e6_row2_col2\" class=\"data row2 col2\" >194</td>\n",
       "      <td id=\"T_717e6_row2_col3\" class=\"data row2 col3\" >2052</td>\n",
       "    </tr>\n",
       "    <tr>\n",
       "      <th id=\"T_717e6_level0_row3\" class=\"row_heading level0 row3\" >3</th>\n",
       "      <td id=\"T_717e6_row3_col0\" class=\"data row3 col0\" >3</td>\n",
       "      <td id=\"T_717e6_row3_col1\" class=\"data row3 col1\" >0.082</td>\n",
       "      <td id=\"T_717e6_row3_col2\" class=\"data row3 col2\" >27</td>\n",
       "      <td id=\"T_717e6_row3_col3\" class=\"data row3 col3\" >330</td>\n",
       "    </tr>\n",
       "    <tr>\n",
       "      <th id=\"T_717e6_level0_row4\" class=\"row_heading level0 row4\" >4</th>\n",
       "      <td id=\"T_717e6_row4_col0\" class=\"data row4 col0\" >4</td>\n",
       "      <td id=\"T_717e6_row4_col1\" class=\"data row4 col1\" >0.098</td>\n",
       "      <td id=\"T_717e6_row4_col2\" class=\"data row4 col2\" >4</td>\n",
       "      <td id=\"T_717e6_row4_col3\" class=\"data row4 col3\" >41</td>\n",
       "    </tr>\n",
       "    <tr>\n",
       "      <th id=\"T_717e6_level0_row5\" class=\"row_heading level0 row5\" >5</th>\n",
       "      <td id=\"T_717e6_row5_col0\" class=\"data row5 col0\" >5</td>\n",
       "      <td id=\"T_717e6_row5_col1\" class=\"data row5 col1\" >0.000</td>\n",
       "      <td id=\"T_717e6_row5_col2\" class=\"data row5 col2\" >0</td>\n",
       "      <td id=\"T_717e6_row5_col3\" class=\"data row5 col3\" >9</td>\n",
       "    </tr>\n",
       "  </tbody>\n",
       "</table>\n"
      ],
      "text/plain": [
       "<pandas.io.formats.style.Styler at 0x2148b27b700>"
      ]
     },
     "execution_count": 22,
     "metadata": {},
     "output_type": "execute_result"
    }
   ],
   "source": [
    "t = data.groupby('children')['debt'].agg(['mean','sum','count']).reset_index()\n",
    "t.columns = ['Кол-во детей', 'Доля невозврата кредитов', 'Кол-во просроченных кредитов', 'Кол-во выданных кредитов']\n",
    "t.style.format({'Доля невозврата кредитов' : '{:.3f}'})"
   ]
  },
  {
   "cell_type": "code",
   "execution_count": 23,
   "id": "28cf3499",
   "metadata": {},
   "outputs": [
    {
     "data": {
      "text/html": [
       "<style type=\"text/css\">\n",
       "</style>\n",
       "<table id=\"T_811e1\">\n",
       "  <thead>\n",
       "    <tr>\n",
       "      <th class=\"blank level0\" >&nbsp;</th>\n",
       "      <th id=\"T_811e1_level0_col0\" class=\"col_heading level0 col0\" >Доля невозврата кредитов</th>\n",
       "      <th id=\"T_811e1_level0_col1\" class=\"col_heading level0 col1\" >Кол-во просроченных кредитов</th>\n",
       "      <th id=\"T_811e1_level0_col2\" class=\"col_heading level0 col2\" >Кол-во кредитов</th>\n",
       "    </tr>\n",
       "    <tr>\n",
       "      <th class=\"index_name level0\" >Кол-во детей</th>\n",
       "      <th class=\"blank col0\" >&nbsp;</th>\n",
       "      <th class=\"blank col1\" >&nbsp;</th>\n",
       "      <th class=\"blank col2\" >&nbsp;</th>\n",
       "    </tr>\n",
       "  </thead>\n",
       "  <tbody>\n",
       "    <tr>\n",
       "      <th id=\"T_811e1_level0_row0\" class=\"row_heading level0 row0\" >0</th>\n",
       "      <td id=\"T_811e1_row0_col0\" class=\"data row0 col0\" >0.075</td>\n",
       "      <td id=\"T_811e1_row0_col1\" class=\"data row0 col1\" >1063</td>\n",
       "      <td id=\"T_811e1_row0_col2\" class=\"data row0 col2\" >14091</td>\n",
       "    </tr>\n",
       "    <tr>\n",
       "      <th id=\"T_811e1_level0_row1\" class=\"row_heading level0 row1\" >1</th>\n",
       "      <td id=\"T_811e1_row1_col0\" class=\"data row1 col0\" >0.092</td>\n",
       "      <td id=\"T_811e1_row1_col1\" class=\"data row1 col1\" >444</td>\n",
       "      <td id=\"T_811e1_row1_col2\" class=\"data row1 col2\" >4808</td>\n",
       "    </tr>\n",
       "    <tr>\n",
       "      <th id=\"T_811e1_level0_row2\" class=\"row_heading level0 row2\" >2</th>\n",
       "      <td id=\"T_811e1_row2_col0\" class=\"data row2 col0\" >0.095</td>\n",
       "      <td id=\"T_811e1_row2_col1\" class=\"data row2 col1\" >194</td>\n",
       "      <td id=\"T_811e1_row2_col2\" class=\"data row2 col2\" >2052</td>\n",
       "    </tr>\n",
       "    <tr>\n",
       "      <th id=\"T_811e1_level0_row3\" class=\"row_heading level0 row3\" >3</th>\n",
       "      <td id=\"T_811e1_row3_col0\" class=\"data row3 col0\" >0.082</td>\n",
       "      <td id=\"T_811e1_row3_col1\" class=\"data row3 col1\" >27</td>\n",
       "      <td id=\"T_811e1_row3_col2\" class=\"data row3 col2\" >330</td>\n",
       "    </tr>\n",
       "    <tr>\n",
       "      <th id=\"T_811e1_level0_row4\" class=\"row_heading level0 row4\" >4</th>\n",
       "      <td id=\"T_811e1_row4_col0\" class=\"data row4 col0\" >0.098</td>\n",
       "      <td id=\"T_811e1_row4_col1\" class=\"data row4 col1\" >4</td>\n",
       "      <td id=\"T_811e1_row4_col2\" class=\"data row4 col2\" >41</td>\n",
       "    </tr>\n",
       "    <tr>\n",
       "      <th id=\"T_811e1_level0_row5\" class=\"row_heading level0 row5\" >5</th>\n",
       "      <td id=\"T_811e1_row5_col0\" class=\"data row5 col0\" >0.000</td>\n",
       "      <td id=\"T_811e1_row5_col1\" class=\"data row5 col1\" >0</td>\n",
       "      <td id=\"T_811e1_row5_col2\" class=\"data row5 col2\" >9</td>\n",
       "    </tr>\n",
       "  </tbody>\n",
       "</table>\n"
      ],
      "text/plain": [
       "<pandas.io.formats.style.Styler at 0x2148b2b74f0>"
      ]
     },
     "execution_count": 23,
     "metadata": {},
     "output_type": "execute_result"
    }
   ],
   "source": [
    "t = data.groupby('children')['debt'] \\\n",
    "    .agg(['mean','sum','count']) \\\n",
    "    .rename_axis('Кол-во детей') \\\n",
    "    .rename(columns={'mean': 'Доля невозврата кредитов', 'sum': 'Кол-во просроченных кредитов', 'count': 'Кол-во кредитов'})\n",
    "    \n",
    "t.style.format({'Доля невозврата кредитов' : '{:.3f}'})"
   ]
  },
  {
   "cell_type": "markdown",
   "id": "c5f25266",
   "metadata": {},
   "source": [
    "Построим график зависимости количества детей в семье(ось х) от доли невозвращенных кредитов в срок(ось y левая). Также добавим на график данные по количеству выданных кредитов в каждой группе(ось y правая)."
   ]
  },
  {
   "cell_type": "code",
   "execution_count": 24,
   "id": "9af42672",
   "metadata": {},
   "outputs": [
    {
     "data": {
      "text/plain": [
       "[]"
      ]
     },
     "execution_count": 24,
     "metadata": {},
     "output_type": "execute_result"
    },
    {
     "data": {
      "image/png": "[encoded data removed]",
      "text/plain": [
       "<Figure size 640x480 with 2 Axes>"
      ]
     },
     "metadata": {},
     "output_type": "display_data"
    }
   ],
   "source": [
    "ax =t[['Доля невозврата кредитов','Кол-во кредитов']] \\\n",
    "    .plot(secondary_y=['Кол-во кредитов'], kind='bar',rot=0)\n",
    "ax.set_title('Зависимость доли невозврата кредита в срок от количества детей')\n",
    "ax.set_xlabel('Количество детей')\n",
    "ax.plot()"
   ]
  },
  {
   "cell_type": "markdown",
   "id": "2eb9088e",
   "metadata": {
    "deletable": false,
    "id": "2eb9088e"
   },
   "source": [
    "**Вывод: Гипотеза подтверждается частично. Между количеством детей в семье(от 0 до 2) и возвратом кредита в срок наблюдается прямая зависимость, то есть с увеличением количества детей растет вероятность невозврата кредита в срок. \n",
    "Подтвердить или опровергнуть гипотезу о наличии зависимости при количестве детей от 3 до 5 не получается из-за малого количества наблюдений в данных группах. Эти данные не являются достоверными.** "
   ]
  },
  {
   "cell_type": "markdown",
   "id": "74c9b3a7",
   "metadata": {
    "deletable": false,
    "editable": false,
    "id": "74c9b3a7"
   },
   "source": [
    "#### 3.2 Есть ли зависимость между семейным положением и возвратом кредита в срок?"
   ]
  },
  {
   "cell_type": "markdown",
   "id": "5458e259",
   "metadata": {
    "deletable": false,
    "id": "8098ab3b"
   },
   "source": [
    "Выстроим семейное положение в хронологическом порядке:\n",
    "1. Не женат / не замужем\n",
    "2. гражданский брак\n",
    "3. женат / замужем\n",
    "4. в разводе\n",
    "5. вдовец / вдова\n",
    "\n",
    "Изменим значение в колонке `family_status_id` в соответствии с хронологическим порядком. Для этого создадим функцию `family_status_id_corr`."
   ]
  },
  {
   "cell_type": "code",
   "execution_count": 25,
   "id": "e64a1746",
   "metadata": {},
   "outputs": [],
   "source": [
    "def family_status_id_corr(x):\n",
    "    if x=='Не женат / не замужем':\n",
    "        return 1\n",
    "    if x=='гражданский брак':\n",
    "        return 2\n",
    "    if x=='женат / замужем':\n",
    "        return 3\n",
    "    if x=='в разводе':\n",
    "        return 4\n",
    "    if x=='вдовец / вдова':\n",
    "        return 5"
   ]
  },
  {
   "cell_type": "markdown",
   "id": "55f54da1",
   "metadata": {},
   "source": [
    "Применим функцию к колонке `family_status_id`."
   ]
  },
  {
   "cell_type": "code",
   "execution_count": 26,
   "id": "b962772b",
   "metadata": {},
   "outputs": [],
   "source": [
    "data['family_status_id']=data['family_status'].apply(family_status_id_corr)"
   ]
  },
  {
   "cell_type": "markdown",
   "id": "1ad381a9",
   "metadata": {},
   "source": [
    "Сгруппируем данные по индексу семейного положения `family_status_id` и его названию `family_status` с вычислением   \n",
    "- доли невозврата кредита в срок(метод `mean` по колонке `debt`); \n",
    "- количества просроченных кредитов(метод `sum` по колонке `debt`); \n",
    "- количества выданных кредитов(метод `count` по колонке `debt`).\n",
    "\n",
    "и отсортируем по индексу `family_status_id`."
   ]
  },
  {
   "cell_type": "code",
   "execution_count": 27,
   "id": "8f07e513",
   "metadata": {
    "scrolled": true
   },
   "outputs": [
    {
     "data": {
      "text/html": [
       "<style type=\"text/css\">\n",
       "</style>\n",
       "<table id=\"T_fb9ef\">\n",
       "  <thead>\n",
       "    <tr>\n",
       "      <th class=\"blank\" >&nbsp;</th>\n",
       "      <th class=\"blank level0\" >&nbsp;</th>\n",
       "      <th id=\"T_fb9ef_level0_col0\" class=\"col_heading level0 col0\" >Доля невозврата</th>\n",
       "      <th id=\"T_fb9ef_level0_col1\" class=\"col_heading level0 col1\" >Кол-во невозвратов</th>\n",
       "      <th id=\"T_fb9ef_level0_col2\" class=\"col_heading level0 col2\" >Кол-во кредитов</th>\n",
       "    </tr>\n",
       "    <tr>\n",
       "      <th class=\"index_name level0\" >id семейного статуса</th>\n",
       "      <th class=\"index_name level1\" >статус заемщика</th>\n",
       "      <th class=\"blank col0\" >&nbsp;</th>\n",
       "      <th class=\"blank col1\" >&nbsp;</th>\n",
       "      <th class=\"blank col2\" >&nbsp;</th>\n",
       "    </tr>\n",
       "  </thead>\n",
       "  <tbody>\n",
       "    <tr>\n",
       "      <th id=\"T_fb9ef_level0_row0\" class=\"row_heading level0 row0\" >1</th>\n",
       "      <th id=\"T_fb9ef_level1_row0\" class=\"row_heading level1 row0\" >Не женат / не замужем</th>\n",
       "      <td id=\"T_fb9ef_row0_col0\" class=\"data row0 col0\" >0.098</td>\n",
       "      <td id=\"T_fb9ef_row0_col1\" class=\"data row0 col1\" >273</td>\n",
       "      <td id=\"T_fb9ef_row0_col2\" class=\"data row0 col2\" >2796</td>\n",
       "    </tr>\n",
       "    <tr>\n",
       "      <th id=\"T_fb9ef_level0_row1\" class=\"row_heading level0 row1\" >2</th>\n",
       "      <th id=\"T_fb9ef_level1_row1\" class=\"row_heading level1 row1\" >гражданский брак</th>\n",
       "      <td id=\"T_fb9ef_row1_col0\" class=\"data row1 col0\" >0.093</td>\n",
       "      <td id=\"T_fb9ef_row1_col1\" class=\"data row1 col1\" >385</td>\n",
       "      <td id=\"T_fb9ef_row1_col2\" class=\"data row1 col2\" >4134</td>\n",
       "    </tr>\n",
       "    <tr>\n",
       "      <th id=\"T_fb9ef_level0_row2\" class=\"row_heading level0 row2\" >3</th>\n",
       "      <th id=\"T_fb9ef_level1_row2\" class=\"row_heading level1 row2\" >женат / замужем</th>\n",
       "      <td id=\"T_fb9ef_row2_col0\" class=\"data row2 col0\" >0.076</td>\n",
       "      <td id=\"T_fb9ef_row2_col1\" class=\"data row2 col1\" >927</td>\n",
       "      <td id=\"T_fb9ef_row2_col2\" class=\"data row2 col2\" >12261</td>\n",
       "    </tr>\n",
       "    <tr>\n",
       "      <th id=\"T_fb9ef_level0_row3\" class=\"row_heading level0 row3\" >4</th>\n",
       "      <th id=\"T_fb9ef_level1_row3\" class=\"row_heading level1 row3\" >в разводе</th>\n",
       "      <td id=\"T_fb9ef_row3_col0\" class=\"data row3 col0\" >0.071</td>\n",
       "      <td id=\"T_fb9ef_row3_col1\" class=\"data row3 col1\" >84</td>\n",
       "      <td id=\"T_fb9ef_row3_col2\" class=\"data row3 col2\" >1189</td>\n",
       "    </tr>\n",
       "    <tr>\n",
       "      <th id=\"T_fb9ef_level0_row4\" class=\"row_heading level0 row4\" >5</th>\n",
       "      <th id=\"T_fb9ef_level1_row4\" class=\"row_heading level1 row4\" >вдовец / вдова</th>\n",
       "      <td id=\"T_fb9ef_row4_col0\" class=\"data row4 col0\" >0.066</td>\n",
       "      <td id=\"T_fb9ef_row4_col1\" class=\"data row4 col1\" >63</td>\n",
       "      <td id=\"T_fb9ef_row4_col2\" class=\"data row4 col2\" >951</td>\n",
       "    </tr>\n",
       "  </tbody>\n",
       "</table>\n"
      ],
      "text/plain": [
       "<pandas.io.formats.style.Styler at 0x2148dd42f40>"
      ]
     },
     "execution_count": 27,
     "metadata": {},
     "output_type": "execute_result"
    }
   ],
   "source": [
    "t1 = data.groupby(['family_status_id','family_status'])['debt'] \\\n",
    "    .agg(['mean','sum','count']) \\\n",
    "    .sort_values(by='family_status_id') \\\n",
    "    .rename_axis(('id семейного статуса', 'статус заемщика')) \\\n",
    "    .rename(columns={'mean': 'Доля невозврата', 'sum': 'Кол-во невозвратов', 'count': 'Кол-во кредитов'})\n",
    "    \n",
    "t1.style.format({'Доля невозврата' : '{:.3f}'})"
   ]
  },
  {
   "cell_type": "markdown",
   "id": "50efca6a",
   "metadata": {},
   "source": [
    "Построим график зависимости доли невозврата кредита в срок(ось y) от индекса семейного положения(ось х) и добавим количество выданных кредитов."
   ]
  },
  {
   "cell_type": "code",
   "execution_count": 28,
   "id": "f0bc32cf",
   "metadata": {},
   "outputs": [
    {
     "data": {
      "text/plain": [
       "[]"
      ]
     },
     "execution_count": 28,
     "metadata": {},
     "output_type": "execute_result"
    },
    {
     "data": {
      "image/png": "[encoded data removed]",
      "text/plain": [
       "<Figure size 640x480 with 2 Axes>"
      ]
     },
     "metadata": {},
     "output_type": "display_data"
    }
   ],
   "source": [
    "ax =t1[['Кол-во кредитов', 'Доля невозврата']] \\\n",
    "    .plot(secondary_y=['Кол-во кредитов'], kind='bar',rot=45)\n",
    "ax.set_title('Зависимость доли невозврата кредита от семейного положения')\n",
    "ax.set_xlabel('Семейное положение')\n",
    "ax.plot()"
   ]
  },
  {
   "cell_type": "markdown",
   "id": "c389ca63",
   "metadata": {
    "deletable": false,
    "id": "c389ca63"
   },
   "source": [
    "**Вывод: Гипотеза подтверждается. Между изменением семейным положением (индексом `family_status_id`) наблюдается обратная зависимость, то есть с изменением `family_status_id` от 1 до 5 (так меняется семейное положение в реальной жизни от `Не женат / не замужем` до `вдовец / вдова`) наблюдается снижение доли невозвращенных кредитов в срок.** "
   ]
  },
  {
   "cell_type": "markdown",
   "id": "9529de68",
   "metadata": {
    "deletable": false,
    "editable": false,
    "id": "9529de68"
   },
   "source": [
    "#### 3.3 Есть ли зависимость между уровнем дохода и возвратом кредита в срок?"
   ]
  },
  {
   "cell_type": "markdown",
   "id": "d532629c",
   "metadata": {
    "deletable": false,
    "id": "8787f44a"
   },
   "source": [
    "Создадим временную таблицу `t2`, в которую скопируем нашу таблицу `data`. В таблицу `t2` добавим колонку `t_income,k`, значения которой будут на `1000` меньше чем в колонке `total_income`(для удобства представления среднего дохода)."
   ]
  },
  {
   "cell_type": "code",
   "execution_count": 29,
   "id": "b70873f0",
   "metadata": {},
   "outputs": [],
   "source": [
    "t2=data.copy()\n",
    "t2['t_income,k']=t2['total_income']/1000"
   ]
  },
  {
   "cell_type": "markdown",
   "id": "4c1dd4e7",
   "metadata": {},
   "source": [
    "Сгруппируем данные по категории дохода `total_income_category` и посчитаем для категорий дохода \n",
    "- средний доход, \n",
    "- долю невозврата кредита в срок(метод mean по колонке debt), \n",
    "- количество просроченных кредитов(метод sum по колонке `debt`),\n",
    "- количество выданных кредитов(метод count по колонке `debt`) \n",
    "\n",
    "и отсортируем по среднему доходу `t_income,k mean`"
   ]
  },
  {
   "cell_type": "code",
   "execution_count": 30,
   "id": "6da6c18e",
   "metadata": {
    "scrolled": true
   },
   "outputs": [
    {
     "data": {
      "text/html": [
       "<style type=\"text/css\">\n",
       "</style>\n",
       "<table id=\"T_6a24e\">\n",
       "  <thead>\n",
       "    <tr>\n",
       "      <th class=\"blank level0\" >&nbsp;</th>\n",
       "      <th id=\"T_6a24e_level0_col0\" class=\"col_heading level0 col0\" >Средний доход, т.р.</th>\n",
       "      <th id=\"T_6a24e_level0_col1\" class=\"col_heading level0 col1\" >Доля невозврата</th>\n",
       "      <th id=\"T_6a24e_level0_col2\" class=\"col_heading level0 col2\" >Кол-во невозвратов</th>\n",
       "      <th id=\"T_6a24e_level0_col3\" class=\"col_heading level0 col3\" >Кол-во кредитов</th>\n",
       "    </tr>\n",
       "    <tr>\n",
       "      <th class=\"index_name level0\" >Категория дохода</th>\n",
       "      <th class=\"blank col0\" >&nbsp;</th>\n",
       "      <th class=\"blank col1\" >&nbsp;</th>\n",
       "      <th class=\"blank col2\" >&nbsp;</th>\n",
       "      <th class=\"blank col3\" >&nbsp;</th>\n",
       "    </tr>\n",
       "  </thead>\n",
       "  <tbody>\n",
       "    <tr>\n",
       "      <th id=\"T_6a24e_level0_row0\" class=\"row_heading level0 row0\" >E</th>\n",
       "      <td id=\"T_6a24e_row0_col0\" class=\"data row0 col0\" >25.79</td>\n",
       "      <td id=\"T_6a24e_row0_col1\" class=\"data row0 col1\" >0.091</td>\n",
       "      <td id=\"T_6a24e_row0_col2\" class=\"data row0 col2\" >2</td>\n",
       "      <td id=\"T_6a24e_row0_col3\" class=\"data row0 col3\" >22</td>\n",
       "    </tr>\n",
       "    <tr>\n",
       "      <th id=\"T_6a24e_level0_row1\" class=\"row_heading level0 row1\" >D</th>\n",
       "      <td id=\"T_6a24e_row1_col0\" class=\"data row1 col0\" >42.92</td>\n",
       "      <td id=\"T_6a24e_row1_col1\" class=\"data row1 col1\" >0.060</td>\n",
       "      <td id=\"T_6a24e_row1_col2\" class=\"data row1 col2\" >21</td>\n",
       "      <td id=\"T_6a24e_row1_col3\" class=\"data row1 col3\" >349</td>\n",
       "    </tr>\n",
       "    <tr>\n",
       "      <th id=\"T_6a24e_level0_row2\" class=\"row_heading level0 row2\" >C</th>\n",
       "      <td id=\"T_6a24e_row2_col0\" class=\"data row2 col0\" >128.18</td>\n",
       "      <td id=\"T_6a24e_row2_col1\" class=\"data row2 col1\" >0.085</td>\n",
       "      <td id=\"T_6a24e_row2_col2\" class=\"data row2 col2\" >1353</td>\n",
       "      <td id=\"T_6a24e_row2_col3\" class=\"data row2 col3\" >15921</td>\n",
       "    </tr>\n",
       "    <tr>\n",
       "      <th id=\"T_6a24e_level0_row3\" class=\"row_heading level0 row3\" >B</th>\n",
       "      <td id=\"T_6a24e_row3_col0\" class=\"data row3 col0\" >286.64</td>\n",
       "      <td id=\"T_6a24e_row3_col1\" class=\"data row3 col1\" >0.071</td>\n",
       "      <td id=\"T_6a24e_row3_col2\" class=\"data row3 col2\" >354</td>\n",
       "      <td id=\"T_6a24e_row3_col3\" class=\"data row3 col3\" >5014</td>\n",
       "    </tr>\n",
       "    <tr>\n",
       "      <th id=\"T_6a24e_level0_row4\" class=\"row_heading level0 row4\" >A</th>\n",
       "      <td id=\"T_6a24e_row4_col0\" class=\"data row4 col0\" >1339.12</td>\n",
       "      <td id=\"T_6a24e_row4_col1\" class=\"data row4 col1\" >0.080</td>\n",
       "      <td id=\"T_6a24e_row4_col2\" class=\"data row4 col2\" >2</td>\n",
       "      <td id=\"T_6a24e_row4_col3\" class=\"data row4 col3\" >25</td>\n",
       "    </tr>\n",
       "  </tbody>\n",
       "</table>\n"
      ],
      "text/plain": [
       "<pandas.io.formats.style.Styler at 0x2148dc07940>"
      ]
     },
     "execution_count": 30,
     "metadata": {},
     "output_type": "execute_result"
    }
   ],
   "source": [
    "t2group=t2.groupby('total_income_category') \\\n",
    "            .agg({'t_income,k':['mean'],'debt':['mean','sum','count']}) \\\n",
    "            .sort_values(by=('t_income,k','mean')) \\\n",
    "            .rename_axis('Категория дохода')\n",
    "t2group.columns = ['Средний доход, т.р.', 'Доля невозврата', 'Кол-во невозвратов', 'Кол-во кредитов']\n",
    "t2group.style.format({'Средний доход, т.р.' : '{:.2f}', 'Доля невозврата' : '{:.3f}'})"
   ]
  },
  {
   "cell_type": "markdown",
   "id": "21100520",
   "metadata": {},
   "source": [
    "Построим график зависимости категории дохода(ось х) от вероятности невозврата кредита в срок(ось y). Добавим также график количество кредитов."
   ]
  },
  {
   "cell_type": "code",
   "execution_count": 31,
   "id": "4766e670",
   "metadata": {},
   "outputs": [
    {
     "data": {
      "text/plain": [
       "[]"
      ]
     },
     "execution_count": 31,
     "metadata": {},
     "output_type": "execute_result"
    },
    {
     "data": {
      "image/png": "[encoded data removed]",
      "text/plain": [
       "<Figure size 640x480 with 2 Axes>"
      ]
     },
     "metadata": {},
     "output_type": "display_data"
    }
   ],
   "source": [
    "ax =t2group[['Кол-во кредитов', 'Доля невозврата']] \\\n",
    "    .plot(secondary_y=['Кол-во кредитов'], kind='bar',rot=0)\n",
    "ax.set_title('Зависимость доли невозврата кредита от категории дохода')\n",
    "ax.set_xlabel('Категория дохода')\n",
    "ax.plot()"
   ]
  },
  {
   "cell_type": "markdown",
   "id": "6dd14b57",
   "metadata": {
    "deletable": false,
    "id": "6dd14b57"
   },
   "source": [
    "**Вывод: Гипотеза подтверждается частично. Только в категориях дохода B и C мы имеем достаточное количество наблюдений, чтобы делать выводы. Если смотреть на категории B и C, то существует обратная зависимость между уровнем дохода и веротяностью невозврата кредита в срок(с увеличением дохода снижается веротность невозврата кредита в срок). По категориям A, D и E мы не можем делать выводы из-за малого количества наблюдений.**"
   ]
  },
  {
   "cell_type": "markdown",
   "id": "1dcc9b12",
   "metadata": {
    "deletable": false,
    "editable": false,
    "id": "1dcc9b12"
   },
   "source": [
    "#### 3.4 Как разные цели кредита влияют на его возврат в срок?"
   ]
  },
  {
   "cell_type": "markdown",
   "id": "dcd8246a",
   "metadata": {
    "deletable": false,
    "id": "c602bc8b"
   },
   "source": [
    "Сгруппируем данные по цели кредита `purpose_category` и посчитаем для цели кредита\n",
    "- долю невозврата кредита в срок(метод mean по колонке `debt`), \n",
    "- количество просроченных кредитов(метод sum по колонке `debt`),\n",
    "- количество выданных кредитов(метод count по колонке `debt`)."
   ]
  },
  {
   "cell_type": "code",
   "execution_count": 32,
   "id": "784bb214",
   "metadata": {},
   "outputs": [
    {
     "data": {
      "text/html": [
       "<style type=\"text/css\">\n",
       "</style>\n",
       "<table id=\"T_3b173\">\n",
       "  <thead>\n",
       "    <tr>\n",
       "      <th class=\"blank level0\" >&nbsp;</th>\n",
       "      <th id=\"T_3b173_level0_col0\" class=\"col_heading level0 col0\" >Доля невозврата</th>\n",
       "      <th id=\"T_3b173_level0_col1\" class=\"col_heading level0 col1\" >Кол-во невозвратов</th>\n",
       "      <th id=\"T_3b173_level0_col2\" class=\"col_heading level0 col2\" >Кол-во кредитов</th>\n",
       "    </tr>\n",
       "    <tr>\n",
       "      <th class=\"index_name level0\" >Цель кредита</th>\n",
       "      <th class=\"blank col0\" >&nbsp;</th>\n",
       "      <th class=\"blank col1\" >&nbsp;</th>\n",
       "      <th class=\"blank col2\" >&nbsp;</th>\n",
       "    </tr>\n",
       "  </thead>\n",
       "  <tbody>\n",
       "    <tr>\n",
       "      <th id=\"T_3b173_level0_row0\" class=\"row_heading level0 row0\" >операции с автомобилем</th>\n",
       "      <td id=\"T_3b173_row0_col0\" class=\"data row0 col0\" >0.093</td>\n",
       "      <td id=\"T_3b173_row0_col1\" class=\"data row0 col1\" >400</td>\n",
       "      <td id=\"T_3b173_row0_col2\" class=\"data row0 col2\" >4279</td>\n",
       "    </tr>\n",
       "    <tr>\n",
       "      <th id=\"T_3b173_level0_row1\" class=\"row_heading level0 row1\" >операции с недвижимостью</th>\n",
       "      <td id=\"T_3b173_row1_col0\" class=\"data row1 col0\" >0.073</td>\n",
       "      <td id=\"T_3b173_row1_col1\" class=\"data row1 col1\" >780</td>\n",
       "      <td id=\"T_3b173_row1_col2\" class=\"data row1 col2\" >10751</td>\n",
       "    </tr>\n",
       "    <tr>\n",
       "      <th id=\"T_3b173_level0_row2\" class=\"row_heading level0 row2\" >получение образования</th>\n",
       "      <td id=\"T_3b173_row2_col0\" class=\"data row2 col0\" >0.093</td>\n",
       "      <td id=\"T_3b173_row2_col1\" class=\"data row2 col1\" >369</td>\n",
       "      <td id=\"T_3b173_row2_col2\" class=\"data row2 col2\" >3988</td>\n",
       "    </tr>\n",
       "    <tr>\n",
       "      <th id=\"T_3b173_level0_row3\" class=\"row_heading level0 row3\" >проведение свадьбы</th>\n",
       "      <td id=\"T_3b173_row3_col0\" class=\"data row3 col0\" >0.079</td>\n",
       "      <td id=\"T_3b173_row3_col1\" class=\"data row3 col1\" >183</td>\n",
       "      <td id=\"T_3b173_row3_col2\" class=\"data row3 col2\" >2313</td>\n",
       "    </tr>\n",
       "  </tbody>\n",
       "</table>\n"
      ],
      "text/plain": [
       "<pandas.io.formats.style.Styler at 0x2148d37e0d0>"
      ]
     },
     "execution_count": 32,
     "metadata": {},
     "output_type": "execute_result"
    }
   ],
   "source": [
    "t3=data.groupby('purpose_category') \\\n",
    "            .agg({'debt':['mean','sum','count']}) \\\n",
    "            .rename_axis('Цель кредита')\n",
    "t3.columns = ['Доля невозврата', 'Кол-во невозвратов', 'Кол-во кредитов']\n",
    "t3.style.format({'Доля невозврата' : '{:.3f}'})"
   ]
  },
  {
   "cell_type": "markdown",
   "id": "d939310a",
   "metadata": {},
   "source": [
    "Построим график зависимости цели кредита(ось х) от доли невозврата кредита в срок(ось y). Добавим также график количество кредитов."
   ]
  },
  {
   "cell_type": "code",
   "execution_count": 33,
   "id": "a6a2ba71",
   "metadata": {},
   "outputs": [
    {
     "data": {
      "text/plain": [
       "[]"
      ]
     },
     "execution_count": 33,
     "metadata": {},
     "output_type": "execute_result"
    },
    {
     "data": {
      "image/png": "[encoded data removed]",
      "text/plain": [
       "<Figure size 640x480 with 2 Axes>"
      ]
     },
     "metadata": {},
     "output_type": "display_data"
    }
   ],
   "source": [
    "ax =t3[['Кол-во кредитов', 'Доля невозврата']] \\\n",
    "    .plot(secondary_y=['Кол-во кредитов'], kind='bar',rot=45)\n",
    "ax.set_title('Зависимость доли невозврата кредита от цели кредита')\n",
    "ax.set_xlabel('Цель кредита')\n",
    "ax.plot()"
   ]
  },
  {
   "cell_type": "markdown",
   "id": "cf05ed63",
   "metadata": {
    "deletable": false,
    "id": "cf05ed63"
   },
   "source": [
    "**Вывод: Гипотеза подтверждается. Наблюдается зависимость цели кредита и его возврат в срок. Наибольший процент возврата кредита в срок наблюдается в категориях `операции с недвижимостью` и `проведение свадьбы`, а наименьший в категориях `операции с автомобилем` и `получение образования`.** "
   ]
  },
  {
   "cell_type": "markdown",
   "id": "46c1f10b",
   "metadata": {
    "deletable": false,
    "editable": false,
    "id": "46c1f10b"
   },
   "source": [
    "#### 3.5 Приведите возможные причины появления пропусков в исходных данных."
   ]
  },
  {
   "cell_type": "markdown",
   "id": "3697d2a9",
   "metadata": {
    "deletable": false,
    "id": "3697d2a9"
   },
   "source": [
    "*Ответ: Пропуски в исходных данных для анализа могли появиться из-за технологических ошибок, таких как копирование, считывание или смена формата данных, а также ошибок человека, например, при внесение данных в форму.* "
   ]
  },
  {
   "cell_type": "markdown",
   "id": "3137d257",
   "metadata": {
    "deletable": false,
    "editable": false,
    "id": "3137d257"
   },
   "source": [
    "#### 3.6 Объясните, почему заполнить пропуски медианным значением — лучшее решение для количественных переменных."
   ]
  },
  {
   "cell_type": "markdown",
   "id": "cf40012a",
   "metadata": {
    "deletable": false,
    "id": "cf40012a"
   },
   "source": [
    "*Ответ: Для количественных переменных лучшим решением является заполнение пропусков медианных значение, так как это позволяет исключить влияние очень больших и очень маленьких значений в выборке.* "
   ]
  },
  {
   "cell_type": "markdown",
   "id": "57bc304e",
   "metadata": {
    "deletable": false,
    "editable": false,
    "id": "57bc304e"
   },
   "source": [
    "### Шаг 4: общий вывод."
   ]
  },
  {
   "cell_type": "markdown",
   "id": "39a3cf1f",
   "metadata": {},
   "source": [
    "Целью проекта была проверка гипотез наличия влияния семейного положения, количества детей клиента и цели кредита на факт погашения кредита в срок.\n",
    "\n",
    "Мы загрузили данные статистики о платёжеспособности клиентов.\n",
    "\n",
    "Мы провели предобработку данных:\n",
    "- устранили пропуски в колонке общего дохода `total_income`, заполнив их медианным значением отдельно для каждого типа занятости;\n",
    "- устранили аномальные (отрицательные) значения в колонке с общим трудовым стажем `days_employed`;\n",
    "- устранили пропуски в колонке `days_employed`, заполнив их медианным значением отдельно для каждого типа занятости;\n",
    "- устранили аномальные значения в колоке с количеством детей, удалив отрицательные значения и анаомально высокие (20 детей в семье).\n",
    "\n",
    "Мы проверили гипотезы наличия влияния семейного положения, количества детей, дохода клиента и цели кредита на факт погашения кредита в срок.\n",
    "\n",
    "Подтвержденные гипотезы:\n",
    "- существует зависимость семейного положения заемщика и возврата кредита в срок;  \n",
    "Заемщики, которые были в браке лучше выплачивают кредит.\n",
    "- существует зависимость цели кредита и и возврата кредита в срок.  \n",
    "Наиболее проблемными выглядят кредиты в категориях `операции с недвижимостью` и `проведение свадьбы`, а наименее проблемными в категориях `операции с автомобилем` и `получение образования`.\n",
    "\n",
    "Частично подтвержденные гипотезы:\n",
    "- существует зависимость количества детей.  \n",
    "При изменении количества детей у заемщика от 0 до 2 увеличивается вероятность невозврата кредита в срок.  \n",
    "При количестве детей у заемщика от 3 до 5 не удалось подтвердить или опровергнуть гипотезу из-за малого количества наблюдений.\n",
    "- существует зависимость дохода заемщика и возврата кредита в срок.  \n",
    "В категориях дохода B и C, где мы имеем достаточное количество наблюдений, видна обратная зависимость между уровнем дохода и веротяностью невозврата кредита в срок(с увеличением дохода снижается веротность невозврата кредита в срок).  \n",
    "По категориям A, D и E мы не можем делать выводы из-за малого количества наблюдений."
   ]
  }
 ],
 "metadata": {
  "ExecuteTimeLog": [
   {
    "duration": 51,
    "start_time": "2023-02-01T17:06:20.324Z"
   },
   {
    "duration": 514,
    "start_time": "2023-02-01T17:06:55.424Z"
   },
   {
    "duration": 21,
    "start_time": "2023-02-01T17:06:55.940Z"
   },
   {
    "duration": 13,
    "start_time": "2023-02-01T17:06:55.962Z"
   },
   {
    "duration": 8,
    "start_time": "2023-02-01T17:06:55.977Z"
   },
   {
    "duration": 41,
    "start_time": "2023-02-01T17:06:55.987Z"
   },
   {
    "duration": 3,
    "start_time": "2023-02-01T17:06:56.030Z"
   },
   {
    "duration": 26,
    "start_time": "2023-02-01T17:06:56.034Z"
   },
   {
    "duration": 8,
    "start_time": "2023-02-01T17:06:56.062Z"
   },
   {
    "duration": 21,
    "start_time": "2023-02-01T17:06:56.071Z"
   },
   {
    "duration": 4,
    "start_time": "2023-02-01T17:06:56.094Z"
   },
   {
    "duration": 46,
    "start_time": "2023-02-01T17:06:56.100Z"
   },
   {
    "duration": 10,
    "start_time": "2023-02-01T17:06:56.148Z"
   },
   {
    "duration": 9,
    "start_time": "2023-02-01T17:06:56.159Z"
   },
   {
    "duration": 22,
    "start_time": "2023-02-01T17:06:56.170Z"
   },
   {
    "duration": 36,
    "start_time": "2023-02-01T17:06:56.193Z"
   },
   {
    "duration": 17,
    "start_time": "2023-02-01T17:06:56.231Z"
   },
   {
    "duration": 5,
    "start_time": "2023-02-01T17:06:56.250Z"
   },
   {
    "duration": 30,
    "start_time": "2023-02-01T17:06:56.256Z"
   },
   {
    "duration": 27,
    "start_time": "2023-02-01T17:06:56.287Z"
   },
   {
    "duration": 33,
    "start_time": "2023-02-01T17:06:56.316Z"
   },
   {
    "duration": 44,
    "start_time": "2023-02-01T17:06:56.350Z"
   },
   {
    "duration": 25,
    "start_time": "2023-02-01T17:06:56.396Z"
   },
   {
    "duration": 24,
    "start_time": "2023-02-01T17:06:56.422Z"
   },
   {
    "duration": 13,
    "start_time": "2023-02-01T17:06:56.447Z"
   },
   {
    "duration": 33,
    "start_time": "2023-02-01T17:06:56.462Z"
   },
   {
    "duration": 610,
    "start_time": "2023-02-01T17:07:12.552Z"
   },
   {
    "duration": 4,
    "start_time": "2023-02-01T17:35:58.682Z"
   },
   {
    "duration": 80,
    "start_time": "2023-02-01T17:36:52.372Z"
   },
   {
    "duration": 10,
    "start_time": "2023-02-01T17:37:05.082Z"
   },
   {
    "duration": 18,
    "start_time": "2023-02-01T17:39:57.146Z"
   },
   {
    "duration": 104,
    "start_time": "2023-02-01T17:41:43.741Z"
   },
   {
    "duration": 45,
    "start_time": "2023-02-01T20:45:54.503Z"
   },
   {
    "duration": 641,
    "start_time": "2023-02-01T20:46:08.879Z"
   },
   {
    "duration": 21,
    "start_time": "2023-02-01T20:46:09.522Z"
   },
   {
    "duration": 21,
    "start_time": "2023-02-01T20:46:09.544Z"
   },
   {
    "duration": 10,
    "start_time": "2023-02-01T20:46:09.566Z"
   },
   {
    "duration": 34,
    "start_time": "2023-02-01T20:46:09.578Z"
   },
   {
    "duration": 3,
    "start_time": "2023-02-01T20:46:09.613Z"
   },
   {
    "duration": 9,
    "start_time": "2023-02-01T20:46:09.617Z"
   },
   {
    "duration": 3,
    "start_time": "2023-02-01T20:46:09.648Z"
   },
   {
    "duration": 12,
    "start_time": "2023-02-01T20:46:09.652Z"
   },
   {
    "duration": 7,
    "start_time": "2023-02-01T20:46:09.665Z"
   },
   {
    "duration": 32,
    "start_time": "2023-02-01T20:46:09.674Z"
   },
   {
    "duration": 8,
    "start_time": "2023-02-01T20:46:09.708Z"
   },
   {
    "duration": 4,
    "start_time": "2023-02-01T20:46:09.718Z"
   },
   {
    "duration": 26,
    "start_time": "2023-02-01T20:46:09.725Z"
   },
   {
    "duration": 21,
    "start_time": "2023-02-01T20:46:09.752Z"
   },
   {
    "duration": 16,
    "start_time": "2023-02-01T20:46:09.774Z"
   },
   {
    "duration": 3,
    "start_time": "2023-02-01T20:46:09.791Z"
   },
   {
    "duration": 11,
    "start_time": "2023-02-01T20:46:09.796Z"
   },
   {
    "duration": 5,
    "start_time": "2023-02-01T20:46:09.808Z"
   },
   {
    "duration": 5,
    "start_time": "2023-02-01T20:46:09.814Z"
   },
   {
    "duration": 7,
    "start_time": "2023-02-01T20:46:09.848Z"
   },
   {
    "duration": 13,
    "start_time": "2023-02-01T20:46:09.857Z"
   },
   {
    "duration": 579,
    "start_time": "2023-02-01T20:46:09.871Z"
   },
   {
    "duration": 3,
    "start_time": "2023-02-01T20:46:10.452Z"
   },
   {
    "duration": 29,
    "start_time": "2023-02-01T20:46:10.456Z"
   },
   {
    "duration": 25,
    "start_time": "2023-02-01T20:46:10.487Z"
   },
   {
    "duration": 102,
    "start_time": "2023-02-01T20:46:10.516Z"
   },
   {
    "duration": 6,
    "start_time": "2023-02-01T20:46:10.621Z"
   },
   {
    "duration": 13,
    "start_time": "2023-02-01T20:46:10.629Z"
   },
   {
    "duration": 18,
    "start_time": "2023-02-01T20:53:45.084Z"
   },
   {
    "duration": 197,
    "start_time": "2023-02-01T21:00:50.902Z"
   },
   {
    "duration": 13,
    "start_time": "2023-02-01T21:10:45.005Z"
   },
   {
    "duration": 160,
    "start_time": "2023-02-01T21:11:34.344Z"
   },
   {
    "duration": 124,
    "start_time": "2023-02-01T21:11:50.342Z"
   },
   {
    "duration": 103,
    "start_time": "2023-02-01T21:12:03.741Z"
   },
   {
    "duration": 709,
    "start_time": "2023-02-02T18:25:34.273Z"
   },
   {
    "duration": 21,
    "start_time": "2023-02-02T18:25:34.984Z"
   },
   {
    "duration": 15,
    "start_time": "2023-02-02T18:25:35.007Z"
   },
   {
    "duration": 9,
    "start_time": "2023-02-02T18:25:35.024Z"
   },
   {
    "duration": 47,
    "start_time": "2023-02-02T18:25:35.035Z"
   },
   {
    "duration": 3,
    "start_time": "2023-02-02T18:25:35.084Z"
   },
   {
    "duration": 18,
    "start_time": "2023-02-02T18:25:35.088Z"
   },
   {
    "duration": 5,
    "start_time": "2023-02-02T18:25:35.108Z"
   },
   {
    "duration": 8,
    "start_time": "2023-02-02T18:25:35.115Z"
   },
   {
    "duration": 4,
    "start_time": "2023-02-02T18:25:35.126Z"
   },
   {
    "duration": 34,
    "start_time": "2023-02-02T18:25:35.132Z"
   },
   {
    "duration": 9,
    "start_time": "2023-02-02T18:25:35.168Z"
   },
   {
    "duration": 3,
    "start_time": "2023-02-02T18:25:35.204Z"
   },
   {
    "duration": 15,
    "start_time": "2023-02-02T18:25:35.208Z"
   },
   {
    "duration": 18,
    "start_time": "2023-02-02T18:25:35.225Z"
   },
   {
    "duration": 16,
    "start_time": "2023-02-02T18:25:35.245Z"
   },
   {
    "duration": 3,
    "start_time": "2023-02-02T18:25:35.263Z"
   },
   {
    "duration": 11,
    "start_time": "2023-02-02T18:25:35.268Z"
   },
   {
    "duration": 27,
    "start_time": "2023-02-02T18:25:35.280Z"
   },
   {
    "duration": 9,
    "start_time": "2023-02-02T18:25:35.308Z"
   },
   {
    "duration": 16,
    "start_time": "2023-02-02T18:25:35.319Z"
   },
   {
    "duration": 15,
    "start_time": "2023-02-02T18:25:35.336Z"
   },
   {
    "duration": 583,
    "start_time": "2023-02-02T18:25:35.353Z"
   },
   {
    "duration": 4,
    "start_time": "2023-02-02T18:25:35.937Z"
   },
   {
    "duration": 14,
    "start_time": "2023-02-02T18:25:35.942Z"
   },
   {
    "duration": 16,
    "start_time": "2023-02-02T18:25:35.958Z"
   },
   {
    "duration": 113,
    "start_time": "2023-02-02T18:25:35.976Z"
   },
   {
    "duration": 16,
    "start_time": "2023-02-02T18:25:36.092Z"
   },
   {
    "duration": 19,
    "start_time": "2023-02-02T18:25:36.109Z"
   },
   {
    "duration": 212,
    "start_time": "2023-02-02T18:25:36.129Z"
   },
   {
    "duration": 13,
    "start_time": "2023-02-02T18:25:36.342Z"
   },
   {
    "duration": 186,
    "start_time": "2023-02-02T18:25:36.357Z"
   },
   {
    "duration": 99,
    "start_time": "2023-02-02T19:03:02.491Z"
   },
   {
    "duration": 72,
    "start_time": "2023-02-02T19:05:28.153Z"
   }
  ],
  "celltoolbar": "Edit Metadata",
  "colab": {
   "provenance": []
  },
  "kernelspec": {
   "display_name": "Python 3 (ipykernel)",
   "language": "python",
   "name": "python3"
  },
  "language_info": {
   "codemirror_mode": {
    "name": "ipython",
    "version": 3
   },
   "file_extension": ".py",
   "mimetype": "text/x-python",
   "name": "python",
   "nbconvert_exporter": "python",
   "pygments_lexer": "ipython3",
   "version": "3.9.13"
  },
  "toc": {
   "base_numbering": 1,
   "nav_menu": {},
   "number_sections": true,
   "sideBar": true,
   "skip_h1_title": true,
   "title_cell": "Оглавление",
   "title_sidebar": "Contents",
   "toc_cell": true,
   "toc_position": {},
   "toc_section_display": true,
   "toc_window_display": true
  }
 },
 "nbformat": 4,
 "nbformat_minor": 5
}
