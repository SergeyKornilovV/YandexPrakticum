{
 "cells": [
  {
   "cell_type": "markdown",
   "metadata": {},
   "source": [
    "# Приоритизация гипотез и A/B-тест для увеличения выручки интернет магазина"
   ]
  },
  {
   "cell_type": "markdown",
   "metadata": {},
   "source": [
    "Цель проекта: Совместно с отделом маркетинга интернет-магазина подготовлен список гипотез для увеличения выручки.\n",
    "Требуется приоритизировать гипотезы используя фреймворки `ICE` и `RICE`, запустить `A/B-тест` и проанализировать результаты.\n",
    "\n",
    "Исходные данные:\n",
    "- файл с девятью гипотезами с указанными параметрами `Reach`, `Impact`, `Confidence`, `Effort`:\n",
    "  - `Hypothesis` — краткое описание гипотезы;\n",
    "  - `Reach` — охват пользователей по 10-балльной шкале;\n",
    "  - `Impact` — влияние на пользователей по 10-балльной шкале;\n",
    "  - `Confidence` — уверенность в гипотезе по 10-балльной шкале;\n",
    "  - `Efforts` — затраты ресурсов на проверку гипотезы по 10-балльной шкале.\n",
    "- данные по заказам:\n",
    "  - `transactionId` — идентификатор заказа;\n",
    "  - `visitorId` — идентификатор пользователя, совершившего заказ;\n",
    "  - `date` — дата, когда был совершён заказ;\n",
    "  - `revenue` — выручка заказа;\n",
    "  - `group` — группа A/B-теста, в которую попал заказ.\n",
    "- данные по посетителям:\n",
    "  - `date` — дата;\n",
    "  - `group` — группа A/B-теста;\n",
    "  - `visitors` — количество пользователей в указанную дату в указанной группе A/B-теста.\n",
    "  \n",
    "После приоритезации гипотез и проведенного A/B-теста после изменения мы будем анализировать влияния на средний чек, количество заказов и конверсию для определения успешности проведенного изменения."
   ]
  },
  {
   "cell_type": "markdown",
   "metadata": {},
   "source": [
    "# Оглавление\n",
    "1 Приоритезация гипотез  \n",
    " 1.1 Загрузка данных по гипотезам  \n",
    " 1.2 Приоритезация гипотез через фреймворк `ICE`  \n",
    " 1.3 Приоритезация гипотез через фреймворк `RICE`  \n",
    " 1.4 Сравнение результатов приоритезации `ICE/RICE`  \n",
    "2 Анализ результатов `A/B-теста`  \n",
    " 2.1 Загрузка данных  \n",
    "  2.1.1 Данные по заказам  \n",
    "  2.1.2 Данные по посетителям  \n",
    " 2.2 Анализ кумулятивных метрик  \n",
    "  2.2.1 Подготовка данных для анализа `A/B-теста`  \n",
    "  2.2.2 Кумулятивная выручка по группам  \n",
    "  2.2.3 Кумулятивный средний чек по группам  \n",
    "  2.2.4 Относительное различие кумулятивного среднего чека между группами  \n",
    "  2.2.5 Кумулятивная средняя конверсия по группам  \n",
    "  2.2.6 Относительное различие кумулятивной конверсии между группами  \n",
    " 2.3 Анализ выбросов и всплесков  \n",
    "  2.3.1 График количества заказов по пользователям  \n",
    "  2.3.2 Расчет выборочных персентилей для количества заказов пользователей  \n",
    "  2.3.3 График стоимости заказов по пользователям  \n",
    "  2.3.4 Расчет выборочных персентилей для количества заказов пользователей  \n",
    " 2.4 Анализ `A/B-теста`  \n",
    "  2.4.1 Подготовка данных для расчета статистической значимости по `«сырым»` данным  \n",
    "  2.4.2 Статистическая значимость в среднем количестве заказов пользователя по `«сырым»` данным  \n",
    "  2.4.3 Статистическая значимость в среднем чеке пользователя по `«сырым»` данным  \n",
    "  2.4.4 Подготовка данных для расчета статистической значимости по `«очищенным»` данным  \n",
    "  2.4.5 Статистическая значимость по количеству заказов пользователя по `«очищенным»` данным  \n",
    "  2.4.6 Статистическая значимость в среднем чеке пользователя по `«очищенным»` данным  \n",
    "3 Вывод"
   ]
  },
  {
   "cell_type": "markdown",
   "metadata": {},
   "source": [
    "Подключаем библиотеки необходимые для проведения анализа и A/B-теста"
   ]
  },
  {
   "cell_type": "code",
   "execution_count": 1,
   "metadata": {},
   "outputs": [],
   "source": [
    "import numpy as np\n",
    "import pandas as pd\n",
    "\n",
    "# для построения графиков\n",
    "import matplotlib.pyplot as plt\n",
    "import seaborn as sns\n",
    "import datetime as dt\n",
    "\n",
    "# для проведения исследования\n",
    "import scipy.stats as stats"
   ]
  },
  {
   "cell_type": "markdown",
   "metadata": {},
   "source": [
    "## 1. Приоритезация гипотез"
   ]
  },
  {
   "cell_type": "markdown",
   "metadata": {},
   "source": [
    "### 1.1 Загрузка данных по гипотезам"
   ]
  },
  {
   "cell_type": "markdown",
   "metadata": {},
   "source": [
    "Описание \n",
    "- `Hypothesis` — краткое описание гипотезы;\n",
    "- `Reach` — охват пользователей по `10-балльной` шкале;\n",
    "- `Impact` — влияние на пользователей по `10-балльной` шкале;\n",
    "- `Confidence` — уверенность в гипотезе по `10-балльной` шкале;\n",
    "- `Efforts` — затраты ресурсов на проверку гипотезы по `10-балльной` шкале.  \n",
    "\n",
    "Чем больше значение `Efforts`, тем дороже проверка гипотезы."
   ]
  },
  {
   "cell_type": "markdown",
   "metadata": {},
   "source": [
    "Загружаем данные с гипотезами и оценками параметров гипотез"
   ]
  },
  {
   "cell_type": "code",
   "execution_count": 2,
   "metadata": {},
   "outputs": [],
   "source": [
    "df_hypothesis = pd.read_csv('/datasets/hypothesis.csv')"
   ]
  },
  {
   "cell_type": "markdown",
   "metadata": {},
   "source": [
    "Изучаем гипотезы и их параметры"
   ]
  },
  {
   "cell_type": "code",
   "execution_count": 3,
   "metadata": {},
   "outputs": [],
   "source": [
    "pd.options.display.max_colwidth = 120"
   ]
  },
  {
   "cell_type": "code",
   "execution_count": 4,
   "metadata": {},
   "outputs": [
    {
     "data": {
      "text/html": [
       "<div>\n",
       "<style scoped>\n",
       "    .dataframe tbody tr th:only-of-type {\n",
       "        vertical-align: middle;\n",
       "    }\n",
       "\n",
       "    .dataframe tbody tr th {\n",
       "        vertical-align: top;\n",
       "    }\n",
       "\n",
       "    .dataframe thead th {\n",
       "        text-align: right;\n",
       "    }\n",
       "</style>\n",
       "<table border=\"1\" class=\"dataframe\">\n",
       "  <thead>\n",
       "    <tr style=\"text-align: right;\">\n",
       "      <th></th>\n",
       "      <th>Hypothesis</th>\n",
       "      <th>Reach</th>\n",
       "      <th>Impact</th>\n",
       "      <th>Confidence</th>\n",
       "      <th>Efforts</th>\n",
       "    </tr>\n",
       "  </thead>\n",
       "  <tbody>\n",
       "    <tr>\n",
       "      <th>0</th>\n",
       "      <td>Добавить два новых канала привлечения трафика, что позволит привлекать на 30% больше пользователей</td>\n",
       "      <td>3</td>\n",
       "      <td>10</td>\n",
       "      <td>8</td>\n",
       "      <td>6</td>\n",
       "    </tr>\n",
       "    <tr>\n",
       "      <th>1</th>\n",
       "      <td>Запустить собственную службу доставки, что сократит срок доставки заказов</td>\n",
       "      <td>2</td>\n",
       "      <td>5</td>\n",
       "      <td>4</td>\n",
       "      <td>10</td>\n",
       "    </tr>\n",
       "    <tr>\n",
       "      <th>2</th>\n",
       "      <td>Добавить блоки рекомендаций товаров на сайт интернет магазина, чтобы повысить конверсию и средний чек заказа</td>\n",
       "      <td>8</td>\n",
       "      <td>3</td>\n",
       "      <td>7</td>\n",
       "      <td>3</td>\n",
       "    </tr>\n",
       "    <tr>\n",
       "      <th>3</th>\n",
       "      <td>Изменить структура категорий, что увеличит конверсию, т.к. пользователи быстрее найдут нужный товар</td>\n",
       "      <td>8</td>\n",
       "      <td>3</td>\n",
       "      <td>3</td>\n",
       "      <td>8</td>\n",
       "    </tr>\n",
       "    <tr>\n",
       "      <th>4</th>\n",
       "      <td>Изменить цвет фона главной страницы, чтобы увеличить вовлеченность пользователей</td>\n",
       "      <td>3</td>\n",
       "      <td>1</td>\n",
       "      <td>1</td>\n",
       "      <td>1</td>\n",
       "    </tr>\n",
       "    <tr>\n",
       "      <th>5</th>\n",
       "      <td>Добавить страницу отзывов клиентов о магазине, что позволит увеличить количество заказов</td>\n",
       "      <td>3</td>\n",
       "      <td>2</td>\n",
       "      <td>2</td>\n",
       "      <td>3</td>\n",
       "    </tr>\n",
       "    <tr>\n",
       "      <th>6</th>\n",
       "      <td>Показать на главной странице баннеры с актуальными акциями и распродажами, чтобы увеличить конверсию</td>\n",
       "      <td>5</td>\n",
       "      <td>3</td>\n",
       "      <td>8</td>\n",
       "      <td>3</td>\n",
       "    </tr>\n",
       "    <tr>\n",
       "      <th>7</th>\n",
       "      <td>Добавить форму подписки на все основные страницы, чтобы собрать базу клиентов для email-рассылок</td>\n",
       "      <td>10</td>\n",
       "      <td>7</td>\n",
       "      <td>8</td>\n",
       "      <td>5</td>\n",
       "    </tr>\n",
       "    <tr>\n",
       "      <th>8</th>\n",
       "      <td>Запустить акцию, дающую скидку на товар в день рождения</td>\n",
       "      <td>1</td>\n",
       "      <td>9</td>\n",
       "      <td>9</td>\n",
       "      <td>5</td>\n",
       "    </tr>\n",
       "  </tbody>\n",
       "</table>\n",
       "</div>"
      ],
      "text/plain": [
       "                                                                                                     Hypothesis  \\\n",
       "0            Добавить два новых канала привлечения трафика, что позволит привлекать на 30% больше пользователей   \n",
       "1                                     Запустить собственную службу доставки, что сократит срок доставки заказов   \n",
       "2  Добавить блоки рекомендаций товаров на сайт интернет магазина, чтобы повысить конверсию и средний чек заказа   \n",
       "3           Изменить структура категорий, что увеличит конверсию, т.к. пользователи быстрее найдут нужный товар   \n",
       "4                              Изменить цвет фона главной страницы, чтобы увеличить вовлеченность пользователей   \n",
       "5                      Добавить страницу отзывов клиентов о магазине, что позволит увеличить количество заказов   \n",
       "6          Показать на главной странице баннеры с актуальными акциями и распродажами, чтобы увеличить конверсию   \n",
       "7              Добавить форму подписки на все основные страницы, чтобы собрать базу клиентов для email-рассылок   \n",
       "8                                                       Запустить акцию, дающую скидку на товар в день рождения   \n",
       "\n",
       "   Reach  Impact  Confidence  Efforts  \n",
       "0      3      10           8        6  \n",
       "1      2       5           4       10  \n",
       "2      8       3           7        3  \n",
       "3      8       3           3        8  \n",
       "4      3       1           1        1  \n",
       "5      3       2           2        3  \n",
       "6      5       3           8        3  \n",
       "7     10       7           8        5  \n",
       "8      1       9           9        5  "
      ]
     },
     "execution_count": 4,
     "metadata": {},
     "output_type": "execute_result"
    }
   ],
   "source": [
    "df_hypothesis"
   ]
  },
  {
   "cell_type": "code",
   "execution_count": 5,
   "metadata": {},
   "outputs": [
    {
     "name": "stdout",
     "output_type": "stream",
     "text": [
      "<class 'pandas.core.frame.DataFrame'>\n",
      "RangeIndex: 9 entries, 0 to 8\n",
      "Data columns (total 5 columns):\n",
      " #   Column      Non-Null Count  Dtype \n",
      "---  ------      --------------  ----- \n",
      " 0   Hypothesis  9 non-null      object\n",
      " 1   Reach       9 non-null      int64 \n",
      " 2   Impact      9 non-null      int64 \n",
      " 3   Confidence  9 non-null      int64 \n",
      " 4   Efforts     9 non-null      int64 \n",
      "dtypes: int64(4), object(1)\n",
      "memory usage: 488.0+ bytes\n"
     ]
    }
   ],
   "source": [
    "df_hypothesis.info()"
   ]
  },
  {
   "cell_type": "markdown",
   "metadata": {},
   "source": [
    "Итак, мы видим что\n",
    "- у нас есть `9` гипотез с параметрами `Reach`, `Impact`, `Confidence`, `Effort`;\n",
    "- пропусков нет;\n",
    "- типы данных корректные."
   ]
  },
  {
   "cell_type": "markdown",
   "metadata": {},
   "source": [
    "### 1.2 Приоритезация гипотез через фреймворк `ICE`"
   ]
  },
  {
   "cell_type": "code",
   "execution_count": 6,
   "metadata": {},
   "outputs": [
    {
     "data": {
      "text/html": [
       "<div>\n",
       "<style scoped>\n",
       "    .dataframe tbody tr th:only-of-type {\n",
       "        vertical-align: middle;\n",
       "    }\n",
       "\n",
       "    .dataframe tbody tr th {\n",
       "        vertical-align: top;\n",
       "    }\n",
       "\n",
       "    .dataframe thead th {\n",
       "        text-align: right;\n",
       "    }\n",
       "</style>\n",
       "<table border=\"1\" class=\"dataframe\">\n",
       "  <thead>\n",
       "    <tr style=\"text-align: right;\">\n",
       "      <th></th>\n",
       "      <th>Hypothesis</th>\n",
       "      <th>ICE</th>\n",
       "    </tr>\n",
       "  </thead>\n",
       "  <tbody>\n",
       "    <tr>\n",
       "      <th>8</th>\n",
       "      <td>Запустить акцию, дающую скидку на товар в день рождения</td>\n",
       "      <td>16.20</td>\n",
       "    </tr>\n",
       "    <tr>\n",
       "      <th>0</th>\n",
       "      <td>Добавить два новых канала привлечения трафика, что позволит привлекать на 30% больше пользователей</td>\n",
       "      <td>13.33</td>\n",
       "    </tr>\n",
       "    <tr>\n",
       "      <th>7</th>\n",
       "      <td>Добавить форму подписки на все основные страницы, чтобы собрать базу клиентов для email-рассылок</td>\n",
       "      <td>11.20</td>\n",
       "    </tr>\n",
       "    <tr>\n",
       "      <th>6</th>\n",
       "      <td>Показать на главной странице баннеры с актуальными акциями и распродажами, чтобы увеличить конверсию</td>\n",
       "      <td>8.00</td>\n",
       "    </tr>\n",
       "    <tr>\n",
       "      <th>2</th>\n",
       "      <td>Добавить блоки рекомендаций товаров на сайт интернет магазина, чтобы повысить конверсию и средний чек заказа</td>\n",
       "      <td>7.00</td>\n",
       "    </tr>\n",
       "    <tr>\n",
       "      <th>1</th>\n",
       "      <td>Запустить собственную службу доставки, что сократит срок доставки заказов</td>\n",
       "      <td>2.00</td>\n",
       "    </tr>\n",
       "    <tr>\n",
       "      <th>5</th>\n",
       "      <td>Добавить страницу отзывов клиентов о магазине, что позволит увеличить количество заказов</td>\n",
       "      <td>1.33</td>\n",
       "    </tr>\n",
       "    <tr>\n",
       "      <th>3</th>\n",
       "      <td>Изменить структура категорий, что увеличит конверсию, т.к. пользователи быстрее найдут нужный товар</td>\n",
       "      <td>1.12</td>\n",
       "    </tr>\n",
       "    <tr>\n",
       "      <th>4</th>\n",
       "      <td>Изменить цвет фона главной страницы, чтобы увеличить вовлеченность пользователей</td>\n",
       "      <td>1.00</td>\n",
       "    </tr>\n",
       "  </tbody>\n",
       "</table>\n",
       "</div>"
      ],
      "text/plain": [
       "                                                                                                     Hypothesis  \\\n",
       "8                                                       Запустить акцию, дающую скидку на товар в день рождения   \n",
       "0            Добавить два новых канала привлечения трафика, что позволит привлекать на 30% больше пользователей   \n",
       "7              Добавить форму подписки на все основные страницы, чтобы собрать базу клиентов для email-рассылок   \n",
       "6          Показать на главной странице баннеры с актуальными акциями и распродажами, чтобы увеличить конверсию   \n",
       "2  Добавить блоки рекомендаций товаров на сайт интернет магазина, чтобы повысить конверсию и средний чек заказа   \n",
       "1                                     Запустить собственную службу доставки, что сократит срок доставки заказов   \n",
       "5                      Добавить страницу отзывов клиентов о магазине, что позволит увеличить количество заказов   \n",
       "3           Изменить структура категорий, что увеличит конверсию, т.к. пользователи быстрее найдут нужный товар   \n",
       "4                              Изменить цвет фона главной страницы, чтобы увеличить вовлеченность пользователей   \n",
       "\n",
       "     ICE  \n",
       "8  16.20  \n",
       "0  13.33  \n",
       "7  11.20  \n",
       "6   8.00  \n",
       "2   7.00  \n",
       "1   2.00  \n",
       "5   1.33  \n",
       "3   1.12  \n",
       "4   1.00  "
      ]
     },
     "execution_count": 6,
     "metadata": {},
     "output_type": "execute_result"
    }
   ],
   "source": [
    "df_hypothesis['ICE'] = (df_hypothesis['Impact'] * df_hypothesis['Confidence'])/df_hypothesis['Efforts']\n",
    "\n",
    "df_ice = df_hypothesis[['Hypothesis','ICE']].sort_values(by='ICE', ascending=False).round(2)\n",
    "df_ice"
   ]
  },
  {
   "cell_type": "markdown",
   "metadata": {},
   "source": [
    "Итак, наиболее перспективные гипотезы с номерами `8`, `0` и `7`. "
   ]
  },
  {
   "cell_type": "markdown",
   "metadata": {},
   "source": [
    "### 1.3 Приоритезация гипотез через фреймворк `RICE`"
   ]
  },
  {
   "cell_type": "code",
   "execution_count": 7,
   "metadata": {},
   "outputs": [
    {
     "data": {
      "text/html": [
       "<div>\n",
       "<style scoped>\n",
       "    .dataframe tbody tr th:only-of-type {\n",
       "        vertical-align: middle;\n",
       "    }\n",
       "\n",
       "    .dataframe tbody tr th {\n",
       "        vertical-align: top;\n",
       "    }\n",
       "\n",
       "    .dataframe thead th {\n",
       "        text-align: right;\n",
       "    }\n",
       "</style>\n",
       "<table border=\"1\" class=\"dataframe\">\n",
       "  <thead>\n",
       "    <tr style=\"text-align: right;\">\n",
       "      <th></th>\n",
       "      <th>Hypothesis</th>\n",
       "      <th>RICE</th>\n",
       "    </tr>\n",
       "  </thead>\n",
       "  <tbody>\n",
       "    <tr>\n",
       "      <th>7</th>\n",
       "      <td>Добавить форму подписки на все основные страницы, чтобы собрать базу клиентов для email-рассылок</td>\n",
       "      <td>112.0</td>\n",
       "    </tr>\n",
       "    <tr>\n",
       "      <th>2</th>\n",
       "      <td>Добавить блоки рекомендаций товаров на сайт интернет магазина, чтобы повысить конверсию и средний чек заказа</td>\n",
       "      <td>56.0</td>\n",
       "    </tr>\n",
       "    <tr>\n",
       "      <th>0</th>\n",
       "      <td>Добавить два новых канала привлечения трафика, что позволит привлекать на 30% больше пользователей</td>\n",
       "      <td>40.0</td>\n",
       "    </tr>\n",
       "    <tr>\n",
       "      <th>6</th>\n",
       "      <td>Показать на главной странице баннеры с актуальными акциями и распродажами, чтобы увеличить конверсию</td>\n",
       "      <td>40.0</td>\n",
       "    </tr>\n",
       "    <tr>\n",
       "      <th>8</th>\n",
       "      <td>Запустить акцию, дающую скидку на товар в день рождения</td>\n",
       "      <td>16.2</td>\n",
       "    </tr>\n",
       "    <tr>\n",
       "      <th>3</th>\n",
       "      <td>Изменить структура категорий, что увеличит конверсию, т.к. пользователи быстрее найдут нужный товар</td>\n",
       "      <td>9.0</td>\n",
       "    </tr>\n",
       "    <tr>\n",
       "      <th>1</th>\n",
       "      <td>Запустить собственную службу доставки, что сократит срок доставки заказов</td>\n",
       "      <td>4.0</td>\n",
       "    </tr>\n",
       "    <tr>\n",
       "      <th>5</th>\n",
       "      <td>Добавить страницу отзывов клиентов о магазине, что позволит увеличить количество заказов</td>\n",
       "      <td>4.0</td>\n",
       "    </tr>\n",
       "    <tr>\n",
       "      <th>4</th>\n",
       "      <td>Изменить цвет фона главной страницы, чтобы увеличить вовлеченность пользователей</td>\n",
       "      <td>3.0</td>\n",
       "    </tr>\n",
       "  </tbody>\n",
       "</table>\n",
       "</div>"
      ],
      "text/plain": [
       "                                                                                                     Hypothesis  \\\n",
       "7              Добавить форму подписки на все основные страницы, чтобы собрать базу клиентов для email-рассылок   \n",
       "2  Добавить блоки рекомендаций товаров на сайт интернет магазина, чтобы повысить конверсию и средний чек заказа   \n",
       "0            Добавить два новых канала привлечения трафика, что позволит привлекать на 30% больше пользователей   \n",
       "6          Показать на главной странице баннеры с актуальными акциями и распродажами, чтобы увеличить конверсию   \n",
       "8                                                       Запустить акцию, дающую скидку на товар в день рождения   \n",
       "3           Изменить структура категорий, что увеличит конверсию, т.к. пользователи быстрее найдут нужный товар   \n",
       "1                                     Запустить собственную службу доставки, что сократит срок доставки заказов   \n",
       "5                      Добавить страницу отзывов клиентов о магазине, что позволит увеличить количество заказов   \n",
       "4                              Изменить цвет фона главной страницы, чтобы увеличить вовлеченность пользователей   \n",
       "\n",
       "    RICE  \n",
       "7  112.0  \n",
       "2   56.0  \n",
       "0   40.0  \n",
       "6   40.0  \n",
       "8   16.2  \n",
       "3    9.0  \n",
       "1    4.0  \n",
       "5    4.0  \n",
       "4    3.0  "
      ]
     },
     "execution_count": 7,
     "metadata": {},
     "output_type": "execute_result"
    }
   ],
   "source": [
    "df_hypothesis['RICE'] = (df_hypothesis['Reach'] * df_hypothesis['Impact'] * df_hypothesis['Confidence'])/df_hypothesis['Efforts']\n",
    "\n",
    "df_rice = df_hypothesis[['Hypothesis','RICE']].sort_values(by='RICE', ascending=False)\n",
    "df_rice"
   ]
  },
  {
   "cell_type": "markdown",
   "metadata": {},
   "source": [
    "Итак, наиболее перспективная гипотеза с номером `7`, а затем идут гипотезы `2`, `0` и `6`. "
   ]
  },
  {
   "cell_type": "markdown",
   "metadata": {},
   "source": [
    "### 1.4 Сравнение результатов приоритезации `ICE/RICE`"
   ]
  },
  {
   "cell_type": "markdown",
   "metadata": {},
   "source": [
    "Смотрим на параметры гипотез отсортированные по убыванию значения `RICE'"
   ]
  },
  {
   "cell_type": "code",
   "execution_count": 8,
   "metadata": {
    "scrolled": true
   },
   "outputs": [
    {
     "data": {
      "text/html": [
       "<div>\n",
       "<style scoped>\n",
       "    .dataframe tbody tr th:only-of-type {\n",
       "        vertical-align: middle;\n",
       "    }\n",
       "\n",
       "    .dataframe tbody tr th {\n",
       "        vertical-align: top;\n",
       "    }\n",
       "\n",
       "    .dataframe thead th {\n",
       "        text-align: right;\n",
       "    }\n",
       "</style>\n",
       "<table border=\"1\" class=\"dataframe\">\n",
       "  <thead>\n",
       "    <tr style=\"text-align: right;\">\n",
       "      <th></th>\n",
       "      <th>Hypothesis</th>\n",
       "      <th>Reach</th>\n",
       "      <th>Impact</th>\n",
       "      <th>Confidence</th>\n",
       "      <th>Efforts</th>\n",
       "      <th>ICE</th>\n",
       "      <th>RICE</th>\n",
       "    </tr>\n",
       "  </thead>\n",
       "  <tbody>\n",
       "    <tr>\n",
       "      <th>7</th>\n",
       "      <td>Добавить форму подписки на все основные страницы, чтобы собрать базу клиентов для email-рассылок</td>\n",
       "      <td>10</td>\n",
       "      <td>7</td>\n",
       "      <td>8</td>\n",
       "      <td>5</td>\n",
       "      <td>11.20</td>\n",
       "      <td>112.0</td>\n",
       "    </tr>\n",
       "    <tr>\n",
       "      <th>2</th>\n",
       "      <td>Добавить блоки рекомендаций товаров на сайт интернет магазина, чтобы повысить конверсию и средний чек заказа</td>\n",
       "      <td>8</td>\n",
       "      <td>3</td>\n",
       "      <td>7</td>\n",
       "      <td>3</td>\n",
       "      <td>7.00</td>\n",
       "      <td>56.0</td>\n",
       "    </tr>\n",
       "    <tr>\n",
       "      <th>0</th>\n",
       "      <td>Добавить два новых канала привлечения трафика, что позволит привлекать на 30% больше пользователей</td>\n",
       "      <td>3</td>\n",
       "      <td>10</td>\n",
       "      <td>8</td>\n",
       "      <td>6</td>\n",
       "      <td>13.33</td>\n",
       "      <td>40.0</td>\n",
       "    </tr>\n",
       "    <tr>\n",
       "      <th>6</th>\n",
       "      <td>Показать на главной странице баннеры с актуальными акциями и распродажами, чтобы увеличить конверсию</td>\n",
       "      <td>5</td>\n",
       "      <td>3</td>\n",
       "      <td>8</td>\n",
       "      <td>3</td>\n",
       "      <td>8.00</td>\n",
       "      <td>40.0</td>\n",
       "    </tr>\n",
       "    <tr>\n",
       "      <th>8</th>\n",
       "      <td>Запустить акцию, дающую скидку на товар в день рождения</td>\n",
       "      <td>1</td>\n",
       "      <td>9</td>\n",
       "      <td>9</td>\n",
       "      <td>5</td>\n",
       "      <td>16.20</td>\n",
       "      <td>16.2</td>\n",
       "    </tr>\n",
       "    <tr>\n",
       "      <th>3</th>\n",
       "      <td>Изменить структура категорий, что увеличит конверсию, т.к. пользователи быстрее найдут нужный товар</td>\n",
       "      <td>8</td>\n",
       "      <td>3</td>\n",
       "      <td>3</td>\n",
       "      <td>8</td>\n",
       "      <td>1.12</td>\n",
       "      <td>9.0</td>\n",
       "    </tr>\n",
       "    <tr>\n",
       "      <th>1</th>\n",
       "      <td>Запустить собственную службу доставки, что сократит срок доставки заказов</td>\n",
       "      <td>2</td>\n",
       "      <td>5</td>\n",
       "      <td>4</td>\n",
       "      <td>10</td>\n",
       "      <td>2.00</td>\n",
       "      <td>4.0</td>\n",
       "    </tr>\n",
       "    <tr>\n",
       "      <th>5</th>\n",
       "      <td>Добавить страницу отзывов клиентов о магазине, что позволит увеличить количество заказов</td>\n",
       "      <td>3</td>\n",
       "      <td>2</td>\n",
       "      <td>2</td>\n",
       "      <td>3</td>\n",
       "      <td>1.33</td>\n",
       "      <td>4.0</td>\n",
       "    </tr>\n",
       "    <tr>\n",
       "      <th>4</th>\n",
       "      <td>Изменить цвет фона главной страницы, чтобы увеличить вовлеченность пользователей</td>\n",
       "      <td>3</td>\n",
       "      <td>1</td>\n",
       "      <td>1</td>\n",
       "      <td>1</td>\n",
       "      <td>1.00</td>\n",
       "      <td>3.0</td>\n",
       "    </tr>\n",
       "  </tbody>\n",
       "</table>\n",
       "</div>"
      ],
      "text/plain": [
       "                                                                                                     Hypothesis  \\\n",
       "7              Добавить форму подписки на все основные страницы, чтобы собрать базу клиентов для email-рассылок   \n",
       "2  Добавить блоки рекомендаций товаров на сайт интернет магазина, чтобы повысить конверсию и средний чек заказа   \n",
       "0            Добавить два новых канала привлечения трафика, что позволит привлекать на 30% больше пользователей   \n",
       "6          Показать на главной странице баннеры с актуальными акциями и распродажами, чтобы увеличить конверсию   \n",
       "8                                                       Запустить акцию, дающую скидку на товар в день рождения   \n",
       "3           Изменить структура категорий, что увеличит конверсию, т.к. пользователи быстрее найдут нужный товар   \n",
       "1                                     Запустить собственную службу доставки, что сократит срок доставки заказов   \n",
       "5                      Добавить страницу отзывов клиентов о магазине, что позволит увеличить количество заказов   \n",
       "4                              Изменить цвет фона главной страницы, чтобы увеличить вовлеченность пользователей   \n",
       "\n",
       "   Reach  Impact  Confidence  Efforts    ICE   RICE  \n",
       "7     10       7           8        5  11.20  112.0  \n",
       "2      8       3           7        3   7.00   56.0  \n",
       "0      3      10           8        6  13.33   40.0  \n",
       "6      5       3           8        3   8.00   40.0  \n",
       "8      1       9           9        5  16.20   16.2  \n",
       "3      8       3           3        8   1.12    9.0  \n",
       "1      2       5           4       10   2.00    4.0  \n",
       "5      3       2           2        3   1.33    4.0  \n",
       "4      3       1           1        1   1.00    3.0  "
      ]
     },
     "execution_count": 8,
     "metadata": {},
     "output_type": "execute_result"
    }
   ],
   "source": [
    "df_hypothesis.sort_values(by='RICE', ascending=False).round(2)"
   ]
  },
  {
   "cell_type": "markdown",
   "metadata": {},
   "source": [
    "Строим гистограмму с рейтингами гипотез с разделением по фреймворками `ICE` и `RICE`"
   ]
  },
  {
   "cell_type": "code",
   "execution_count": 9,
   "metadata": {},
   "outputs": [
    {
     "data": {
      "image/png": "[encoded data removed]",
      "text/plain": [
       "<Figure size 864x360 with 1 Axes>"
      ]
     },
     "metadata": {
      "needs_background": "light"
     },
     "output_type": "display_data"
    }
   ],
   "source": [
    "df_hypothesis[['ICE', 'RICE']].sort_values(by='RICE', ascending=True).plot(kind='barh', width=0.8, figsize=(12, 5))\n",
    "plt.title('Рейтинг гипотез в зависимости от вида приоритезации')\n",
    "plt.ylabel('Номера гипотез')\n",
    "plt.xlabel('Рейтинг гипотез')\n",
    "plt.grid();"
   ]
  },
  {
   "cell_type": "markdown",
   "metadata": {},
   "source": [
    "Разница в приоритезации гипотез между фреймворками получилась из-за параметра `Reach`, который показывает как много пользователей затронет гипотеза. У лидера - гипотезы `7` он составляет `10 из 10`"
   ]
  },
  {
   "cell_type": "code",
   "execution_count": 10,
   "metadata": {},
   "outputs": [
    {
     "name": "stdout",
     "output_type": "stream",
     "text": [
      "Итак, мы будем использовать следующие гипотезы для проверки в порядке убывания приоритета:\n",
      "1. Добавить форму подписки на все основные страницы, чтобы собрать базу клиентов для email-рассылок\n",
      "2. Добавить блоки рекомендаций товаров на сайт интернет магазина, чтобы повысить конверсию и средний чек заказа\n",
      "3. Добавить два новых канала привлечения трафика, что позволит привлекать на 30% больше пользователей\n",
      "4. Показать на главной странице баннеры с актуальными акциями и распродажами, чтобы увеличить конверсию\n"
     ]
    }
   ],
   "source": [
    "df_hypothesis_check = df_hypothesis.sort_values(by='RICE', ascending=False).round(2).head(4)['Hypothesis']\n",
    "n = 1\n",
    "print('Итак, мы будем использовать следующие гипотезы для проверки в порядке убывания приоритета:')\n",
    "for i in df_hypothesis_check.index:\n",
    "    print(f'{n}. {df_hypothesis_check.loc[i]}')\n",
    "    n+=1"
   ]
  },
  {
   "cell_type": "markdown",
   "metadata": {},
   "source": [
    "## 2 Анализ результатов A/B-теста"
   ]
  },
  {
   "cell_type": "markdown",
   "metadata": {},
   "source": [
    "### 2.1 Загрузка данных"
   ]
  },
  {
   "cell_type": "markdown",
   "metadata": {},
   "source": [
    "#### 2.1.1 Данные по заказам"
   ]
  },
  {
   "cell_type": "markdown",
   "metadata": {},
   "source": [
    "Имеем следующие данные в таблице заказов:\n",
    "- `transactionId` — идентификатор заказа;\n",
    "- `visitorId` — идентификатор пользователя, совершившего заказ;\n",
    "- `date` — дата, когда был совершён заказ;\n",
    "- `revenue` — выручка заказа;\n",
    "- `group` — группа A/B-теста, в которую попал заказ."
   ]
  },
  {
   "cell_type": "code",
   "execution_count": 11,
   "metadata": {},
   "outputs": [],
   "source": [
    "df_orders = pd.read_csv('/datasets/orders.csv')"
   ]
  },
  {
   "cell_type": "code",
   "execution_count": 12,
   "metadata": {},
   "outputs": [
    {
     "data": {
      "text/html": [
       "<div>\n",
       "<style scoped>\n",
       "    .dataframe tbody tr th:only-of-type {\n",
       "        vertical-align: middle;\n",
       "    }\n",
       "\n",
       "    .dataframe tbody tr th {\n",
       "        vertical-align: top;\n",
       "    }\n",
       "\n",
       "    .dataframe thead th {\n",
       "        text-align: right;\n",
       "    }\n",
       "</style>\n",
       "<table border=\"1\" class=\"dataframe\">\n",
       "  <thead>\n",
       "    <tr style=\"text-align: right;\">\n",
       "      <th></th>\n",
       "      <th>transactionId</th>\n",
       "      <th>visitorId</th>\n",
       "      <th>date</th>\n",
       "      <th>revenue</th>\n",
       "      <th>group</th>\n",
       "    </tr>\n",
       "  </thead>\n",
       "  <tbody>\n",
       "    <tr>\n",
       "      <th>0</th>\n",
       "      <td>3667963787</td>\n",
       "      <td>3312258926</td>\n",
       "      <td>2019-08-15</td>\n",
       "      <td>1650</td>\n",
       "      <td>B</td>\n",
       "    </tr>\n",
       "    <tr>\n",
       "      <th>1</th>\n",
       "      <td>2804400009</td>\n",
       "      <td>3642806036</td>\n",
       "      <td>2019-08-15</td>\n",
       "      <td>730</td>\n",
       "      <td>B</td>\n",
       "    </tr>\n",
       "    <tr>\n",
       "      <th>2</th>\n",
       "      <td>2961555356</td>\n",
       "      <td>4069496402</td>\n",
       "      <td>2019-08-15</td>\n",
       "      <td>400</td>\n",
       "      <td>A</td>\n",
       "    </tr>\n",
       "    <tr>\n",
       "      <th>3</th>\n",
       "      <td>3797467345</td>\n",
       "      <td>1196621759</td>\n",
       "      <td>2019-08-15</td>\n",
       "      <td>9759</td>\n",
       "      <td>B</td>\n",
       "    </tr>\n",
       "    <tr>\n",
       "      <th>4</th>\n",
       "      <td>2282983706</td>\n",
       "      <td>2322279887</td>\n",
       "      <td>2019-08-15</td>\n",
       "      <td>2308</td>\n",
       "      <td>B</td>\n",
       "    </tr>\n",
       "  </tbody>\n",
       "</table>\n",
       "</div>"
      ],
      "text/plain": [
       "   transactionId   visitorId        date  revenue group\n",
       "0     3667963787  3312258926  2019-08-15     1650     B\n",
       "1     2804400009  3642806036  2019-08-15      730     B\n",
       "2     2961555356  4069496402  2019-08-15      400     A\n",
       "3     3797467345  1196621759  2019-08-15     9759     B\n",
       "4     2282983706  2322279887  2019-08-15     2308     B"
      ]
     },
     "execution_count": 12,
     "metadata": {},
     "output_type": "execute_result"
    }
   ],
   "source": [
    "df_orders.head()"
   ]
  },
  {
   "cell_type": "markdown",
   "metadata": {},
   "source": [
    "Смотрим на типы данных и наличие пропусков"
   ]
  },
  {
   "cell_type": "code",
   "execution_count": 13,
   "metadata": {},
   "outputs": [
    {
     "name": "stdout",
     "output_type": "stream",
     "text": [
      "<class 'pandas.core.frame.DataFrame'>\n",
      "RangeIndex: 1197 entries, 0 to 1196\n",
      "Data columns (total 5 columns):\n",
      " #   Column         Non-Null Count  Dtype \n",
      "---  ------         --------------  ----- \n",
      " 0   transactionId  1197 non-null   int64 \n",
      " 1   visitorId      1197 non-null   int64 \n",
      " 2   date           1197 non-null   object\n",
      " 3   revenue        1197 non-null   int64 \n",
      " 4   group          1197 non-null   object\n",
      "dtypes: int64(3), object(2)\n",
      "memory usage: 46.9+ KB\n"
     ]
    }
   ],
   "source": [
    "df_orders.info()"
   ]
  },
  {
   "cell_type": "markdown",
   "metadata": {},
   "source": [
    "Пропусков нет. В колонке `date` тип данных некорректный"
   ]
  },
  {
   "cell_type": "markdown",
   "metadata": {},
   "source": [
    "Исправляем некорректный тип даных в колонке `date`"
   ]
  },
  {
   "cell_type": "code",
   "execution_count": 14,
   "metadata": {},
   "outputs": [],
   "source": [
    "df_orders['date'] = pd.to_datetime(df_orders['date'])"
   ]
  },
  {
   "cell_type": "markdown",
   "metadata": {},
   "source": [
    "Проверяем, что тип данных исправлен"
   ]
  },
  {
   "cell_type": "code",
   "execution_count": 15,
   "metadata": {
    "scrolled": true
   },
   "outputs": [
    {
     "name": "stdout",
     "output_type": "stream",
     "text": [
      "<class 'pandas.core.frame.DataFrame'>\n",
      "RangeIndex: 1197 entries, 0 to 1196\n",
      "Data columns (total 5 columns):\n",
      " #   Column         Non-Null Count  Dtype         \n",
      "---  ------         --------------  -----         \n",
      " 0   transactionId  1197 non-null   int64         \n",
      " 1   visitorId      1197 non-null   int64         \n",
      " 2   date           1197 non-null   datetime64[ns]\n",
      " 3   revenue        1197 non-null   int64         \n",
      " 4   group          1197 non-null   object        \n",
      "dtypes: datetime64[ns](1), int64(3), object(1)\n",
      "memory usage: 46.9+ KB\n"
     ]
    }
   ],
   "source": [
    "df_orders.info()"
   ]
  },
  {
   "cell_type": "markdown",
   "metadata": {},
   "source": [
    "Смотрим на корректность названий в колонке `group`"
   ]
  },
  {
   "cell_type": "code",
   "execution_count": 16,
   "metadata": {},
   "outputs": [
    {
     "data": {
      "text/plain": [
       "array(['B', 'A'], dtype=object)"
      ]
     },
     "execution_count": 16,
     "metadata": {},
     "output_type": "execute_result"
    }
   ],
   "source": [
    "df_orders['group'].unique()"
   ]
  },
  {
   "cell_type": "markdown",
   "metadata": {},
   "source": [
    "Названия групп корректные"
   ]
  },
  {
   "cell_type": "markdown",
   "metadata": {},
   "source": [
    "Проверяем данные на наличие дубликатов"
   ]
  },
  {
   "cell_type": "markdown",
   "metadata": {},
   "source": [
    "Считаем количество полных дубликатов"
   ]
  },
  {
   "cell_type": "code",
   "execution_count": 17,
   "metadata": {
    "scrolled": false
   },
   "outputs": [
    {
     "data": {
      "text/plain": [
       "0"
      ]
     },
     "execution_count": 17,
     "metadata": {},
     "output_type": "execute_result"
    }
   ],
   "source": [
    "df_orders.duplicated().sum()"
   ]
  },
  {
   "cell_type": "markdown",
   "metadata": {},
   "source": [
    "Полных дубликатов нет"
   ]
  },
  {
   "cell_type": "markdown",
   "metadata": {},
   "source": [
    "Проверяем не попали ли покупатели в разные группы"
   ]
  },
  {
   "cell_type": "code",
   "execution_count": 18,
   "metadata": {},
   "outputs": [
    {
     "name": "stdout",
     "output_type": "stream",
     "text": [
      "{3957174400, 3984495233, 2780786433, 1294878855, 1648269707, 1614305549, 4120364173, 232979603, 199603092, 4266935830, 2712142231, 2587333274, 2716752286, 3891541246, 1668030113, 2654030115, 3234906277, 1230306981, 1404934699, 3803269165, 2949041841, 237748145, 457167155, 2927087541, 1738359350, 3062433592, 3656415546, 818047933, 393266494, 963407295, 471551937, 2579882178, 3202540741, 2686716486, 1333886533, 2044997962, 3941795274, 1801183820, 2378935119, 4256040402, 4069496402, 3766097110, 8300375, 351125977, 1602967004, 276558944, 2038680547, 3951559397, 3963646447, 4186807279, 3717692402, 1959144690, 2458001652, 2600415354, 2954449915, 1316129916, 477780734, 3972127743}\n"
     ]
    }
   ],
   "source": [
    "intersection = set(df_orders[df_orders['group']=='A']['visitorId']) \\\n",
    "                .intersection(set(df_orders[df_orders['group']=='B']['visitorId']))\n",
    "print(intersection)"
   ]
  },
  {
   "cell_type": "markdown",
   "metadata": {},
   "source": [
    "Одинаковые пользователи попали в обе группы"
   ]
  },
  {
   "cell_type": "markdown",
   "metadata": {},
   "source": [
    "Считаем количество покупателей, которые попали в обе группы и их долю в каждой группе"
   ]
  },
  {
   "cell_type": "code",
   "execution_count": 19,
   "metadata": {
    "scrolled": true
   },
   "outputs": [
    {
     "name": "stdout",
     "output_type": "stream",
     "text": [
      "Количество покупателей, которые попали в обе группы равно 58\n",
      "Процент задублированных покупателей двух групп от покупателей группы A равна 11.53%\n",
      "Процент задублированных покупателей двух групп от покупателей группы B равна 9.9%\n"
     ]
    }
   ],
   "source": [
    "print(f\"\"\"Количество покупателей, которые попали в обе группы равно {len(intersection)}\n",
    "Процент задублированных покупателей двух групп от покупателей группы A равна {(round(100*len(intersection)\n",
    "                                                                /len(df_orders[df_orders['group']=='A']\n",
    "                                                                ['visitorId']\n",
    "                                                                .unique()),2))}%\n",
    "Процент задублированных покупателей двух групп от покупателей группы B равна {(round(100*len(intersection)\n",
    "                                                                /len(df_orders[df_orders['group']=='B']\n",
    "                                                                ['visitorId']\n",
    "                                                                .unique()),2))}%\"\"\")"
   ]
  },
  {
   "cell_type": "markdown",
   "metadata": {},
   "source": [
    "Мы видим, что есть `58` покупателей, которые присутствуют сразу в двух группах и составляют от `10-11%` от данных каждой группы, поэтому удаление этих покупателей значительно скажется на результатах. Удалять такое большое количество данных мы не можем."
   ]
  },
  {
   "cell_type": "markdown",
   "metadata": {},
   "source": [
    "Смотрим на данные в колонке `выручка заказа`"
   ]
  },
  {
   "cell_type": "code",
   "execution_count": 20,
   "metadata": {},
   "outputs": [
    {
     "data": {
      "text/plain": [
       "count       1197.00\n",
       "mean        8348.01\n",
       "std        39191.13\n",
       "min           50.00\n",
       "25%         1220.00\n",
       "50%         2978.00\n",
       "75%         8290.00\n",
       "max      1294500.00\n",
       "Name: revenue, dtype: float64"
      ]
     },
     "execution_count": 20,
     "metadata": {},
     "output_type": "execute_result"
    }
   ],
   "source": [
    "df_orders['revenue'].describe().round(2)"
   ]
  },
  {
   "cell_type": "markdown",
   "metadata": {},
   "source": [
    "Смотрим на `10` самых дорогих заказов"
   ]
  },
  {
   "cell_type": "code",
   "execution_count": 21,
   "metadata": {},
   "outputs": [
    {
     "data": {
      "text/plain": [
       "425     1294500\n",
       "1196     202740\n",
       "858       93940\n",
       "1136      92550\n",
       "744       86620\n",
       "682       78990\n",
       "662       78990\n",
       "743       67990\n",
       "1103      66350\n",
       "1099      65710\n",
       "Name: revenue, dtype: int64"
      ]
     },
     "execution_count": 21,
     "metadata": {},
     "output_type": "execute_result"
    }
   ],
   "source": [
    "df_orders['revenue'].sort_values(ascending=False).head(10)"
   ]
  },
  {
   "cell_type": "markdown",
   "metadata": {},
   "source": [
    "Смотрим на выручку между группами"
   ]
  },
  {
   "cell_type": "code",
   "execution_count": 22,
   "metadata": {},
   "outputs": [
    {
     "data": {
      "text/html": [
       "<div>\n",
       "<style scoped>\n",
       "    .dataframe tbody tr th:only-of-type {\n",
       "        vertical-align: middle;\n",
       "    }\n",
       "\n",
       "    .dataframe tbody tr th {\n",
       "        vertical-align: top;\n",
       "    }\n",
       "\n",
       "    .dataframe thead th {\n",
       "        text-align: right;\n",
       "    }\n",
       "</style>\n",
       "<table border=\"1\" class=\"dataframe\">\n",
       "  <thead>\n",
       "    <tr style=\"text-align: right;\">\n",
       "      <th></th>\n",
       "      <th>revenue</th>\n",
       "    </tr>\n",
       "    <tr>\n",
       "      <th>group</th>\n",
       "      <th></th>\n",
       "    </tr>\n",
       "  </thead>\n",
       "  <tbody>\n",
       "    <tr>\n",
       "      <th>A</th>\n",
       "      <td>4084803</td>\n",
       "    </tr>\n",
       "    <tr>\n",
       "      <th>B</th>\n",
       "      <td>5907760</td>\n",
       "    </tr>\n",
       "  </tbody>\n",
       "</table>\n",
       "</div>"
      ],
      "text/plain": [
       "       revenue\n",
       "group         \n",
       "A      4084803\n",
       "B      5907760"
      ]
     },
     "execution_count": 22,
     "metadata": {},
     "output_type": "execute_result"
    }
   ],
   "source": [
    "df_orders.pivot_table(index='group', values='revenue', aggfunc='sum')"
   ]
  },
  {
   "cell_type": "markdown",
   "metadata": {},
   "source": [
    "Смотрим на данные по количеству заказов"
   ]
  },
  {
   "cell_type": "markdown",
   "metadata": {},
   "source": [
    "Посчитаем количество заказов у пользователей"
   ]
  },
  {
   "cell_type": "code",
   "execution_count": 23,
   "metadata": {},
   "outputs": [
    {
     "data": {
      "text/plain": [
       "transactionId\n",
       "1                937\n",
       "2                 64\n",
       "3                 17\n",
       "5                  6\n",
       "4                  3\n",
       "11                 2\n",
       "8                  1\n",
       "9                  1\n",
       "dtype: int64"
      ]
     },
     "execution_count": 23,
     "metadata": {},
     "output_type": "execute_result"
    }
   ],
   "source": [
    "df_orders_gr = df_orders.pivot_table(index='visitorId', values='transactionId', aggfunc='nunique') \\\n",
    "                        .sort_values(by='transactionId', ascending=False)\n",
    "df_orders_gr.value_counts()"
   ]
  },
  {
   "cell_type": "code",
   "execution_count": 24,
   "metadata": {
    "scrolled": true
   },
   "outputs": [
    {
     "data": {
      "text/plain": [
       "count    1031.00\n",
       "mean        1.16\n",
       "std         0.72\n",
       "min         1.00\n",
       "25%         1.00\n",
       "50%         1.00\n",
       "75%         1.00\n",
       "max        11.00\n",
       "Name: transactionId, dtype: float64"
      ]
     },
     "execution_count": 24,
     "metadata": {},
     "output_type": "execute_result"
    }
   ],
   "source": [
    "df_orders_gr['transactionId'].describe().round(2)"
   ]
  },
  {
   "cell_type": "markdown",
   "metadata": {},
   "source": [
    "Смотрим на количество заказов между группами"
   ]
  },
  {
   "cell_type": "code",
   "execution_count": 25,
   "metadata": {},
   "outputs": [
    {
     "data": {
      "text/html": [
       "<div>\n",
       "<style scoped>\n",
       "    .dataframe tbody tr th:only-of-type {\n",
       "        vertical-align: middle;\n",
       "    }\n",
       "\n",
       "    .dataframe tbody tr th {\n",
       "        vertical-align: top;\n",
       "    }\n",
       "\n",
       "    .dataframe thead th {\n",
       "        text-align: right;\n",
       "    }\n",
       "</style>\n",
       "<table border=\"1\" class=\"dataframe\">\n",
       "  <thead>\n",
       "    <tr style=\"text-align: right;\">\n",
       "      <th></th>\n",
       "      <th>transactionId</th>\n",
       "    </tr>\n",
       "    <tr>\n",
       "      <th>group</th>\n",
       "      <th></th>\n",
       "    </tr>\n",
       "  </thead>\n",
       "  <tbody>\n",
       "    <tr>\n",
       "      <th>A</th>\n",
       "      <td>557</td>\n",
       "    </tr>\n",
       "    <tr>\n",
       "      <th>B</th>\n",
       "      <td>640</td>\n",
       "    </tr>\n",
       "  </tbody>\n",
       "</table>\n",
       "</div>"
      ],
      "text/plain": [
       "       transactionId\n",
       "group               \n",
       "A                557\n",
       "B                640"
      ]
     },
     "execution_count": 25,
     "metadata": {},
     "output_type": "execute_result"
    }
   ],
   "source": [
    "df_orders.pivot_table(index='group', values='transactionId', aggfunc='count')"
   ]
  },
  {
   "cell_type": "markdown",
   "metadata": {},
   "source": [
    "Смотрим на количество покупателей между группами"
   ]
  },
  {
   "cell_type": "code",
   "execution_count": 26,
   "metadata": {},
   "outputs": [
    {
     "data": {
      "text/html": [
       "<div>\n",
       "<style scoped>\n",
       "    .dataframe tbody tr th:only-of-type {\n",
       "        vertical-align: middle;\n",
       "    }\n",
       "\n",
       "    .dataframe tbody tr th {\n",
       "        vertical-align: top;\n",
       "    }\n",
       "\n",
       "    .dataframe thead th {\n",
       "        text-align: right;\n",
       "    }\n",
       "</style>\n",
       "<table border=\"1\" class=\"dataframe\">\n",
       "  <thead>\n",
       "    <tr style=\"text-align: right;\">\n",
       "      <th></th>\n",
       "      <th>visitorId</th>\n",
       "    </tr>\n",
       "    <tr>\n",
       "      <th>group</th>\n",
       "      <th></th>\n",
       "    </tr>\n",
       "  </thead>\n",
       "  <tbody>\n",
       "    <tr>\n",
       "      <th>A</th>\n",
       "      <td>503</td>\n",
       "    </tr>\n",
       "    <tr>\n",
       "      <th>B</th>\n",
       "      <td>586</td>\n",
       "    </tr>\n",
       "  </tbody>\n",
       "</table>\n",
       "</div>"
      ],
      "text/plain": [
       "       visitorId\n",
       "group           \n",
       "A            503\n",
       "B            586"
      ]
     },
     "execution_count": 26,
     "metadata": {},
     "output_type": "execute_result"
    }
   ],
   "source": [
    "df_orders.pivot_table(index='group', values='visitorId', aggfunc='nunique')"
   ]
  },
  {
   "cell_type": "markdown",
   "metadata": {},
   "source": [
    "Мы видим, что\n",
    "- пропущенных значений в данных нет;\n",
    "- в колонке `date` тип данных был некорректный, его изменили на `datetime`;\n",
    "- явных дубликатов нет;\n",
    "- у нас есть `58` покупателей, которые оказались в обеих группах(это `11.53%` от покупателей группы A и `9.9%` от покупателей группы B;\n",
    "- за период теста было сделано `1197` заказов в обеих группах стоимостью от `50` до `1294500`;\n",
    "- есть очень дорогие заказы стоимостью `1294500` и `202740` при медианной выручке с заказа равной `2978`;\n",
    "- за период теста покупки совершил 1031 пользователь и количество заказов было от `1` до `11` на пользователя;\n",
    "- есть покупатели с большим количеством заказов от `5` и `11` при медианном количестве заказов равном `1`;\n",
    "- выручка распределилась между группами `A` и `B` так `4084803` и `5907760`;\n",
    "- количество покупателей распределилось между группами `A` и `B` так `503` и `586`\n",
    "- количество заказов распределилось между группами `A` и `B` так `557` и `640`."
   ]
  },
  {
   "cell_type": "markdown",
   "metadata": {},
   "source": [
    "#### 2.1.2 Данные по посетителям"
   ]
  },
  {
   "cell_type": "markdown",
   "metadata": {},
   "source": [
    "Имеем следующие данные в таблице посещений:\n",
    "- `date` — дата;\n",
    "- `group` — группа A/B-теста;\n",
    "- `visitors` — количество пользователей в указанную дату в указанной группе A/B-теста"
   ]
  },
  {
   "cell_type": "markdown",
   "metadata": {},
   "source": [
    "Загружаем данные"
   ]
  },
  {
   "cell_type": "code",
   "execution_count": 27,
   "metadata": {},
   "outputs": [],
   "source": [
    "df_visitors = pd.read_csv('/datasets/visitors.csv')"
   ]
  },
  {
   "cell_type": "markdown",
   "metadata": {},
   "source": [
    "Смотрим на первые 5 строк"
   ]
  },
  {
   "cell_type": "code",
   "execution_count": 28,
   "metadata": {},
   "outputs": [
    {
     "data": {
      "text/html": [
       "<div>\n",
       "<style scoped>\n",
       "    .dataframe tbody tr th:only-of-type {\n",
       "        vertical-align: middle;\n",
       "    }\n",
       "\n",
       "    .dataframe tbody tr th {\n",
       "        vertical-align: top;\n",
       "    }\n",
       "\n",
       "    .dataframe thead th {\n",
       "        text-align: right;\n",
       "    }\n",
       "</style>\n",
       "<table border=\"1\" class=\"dataframe\">\n",
       "  <thead>\n",
       "    <tr style=\"text-align: right;\">\n",
       "      <th></th>\n",
       "      <th>date</th>\n",
       "      <th>group</th>\n",
       "      <th>visitors</th>\n",
       "    </tr>\n",
       "  </thead>\n",
       "  <tbody>\n",
       "    <tr>\n",
       "      <th>0</th>\n",
       "      <td>2019-08-01</td>\n",
       "      <td>A</td>\n",
       "      <td>719</td>\n",
       "    </tr>\n",
       "    <tr>\n",
       "      <th>1</th>\n",
       "      <td>2019-08-02</td>\n",
       "      <td>A</td>\n",
       "      <td>619</td>\n",
       "    </tr>\n",
       "    <tr>\n",
       "      <th>2</th>\n",
       "      <td>2019-08-03</td>\n",
       "      <td>A</td>\n",
       "      <td>507</td>\n",
       "    </tr>\n",
       "    <tr>\n",
       "      <th>3</th>\n",
       "      <td>2019-08-04</td>\n",
       "      <td>A</td>\n",
       "      <td>717</td>\n",
       "    </tr>\n",
       "    <tr>\n",
       "      <th>4</th>\n",
       "      <td>2019-08-05</td>\n",
       "      <td>A</td>\n",
       "      <td>756</td>\n",
       "    </tr>\n",
       "  </tbody>\n",
       "</table>\n",
       "</div>"
      ],
      "text/plain": [
       "         date group  visitors\n",
       "0  2019-08-01     A       719\n",
       "1  2019-08-02     A       619\n",
       "2  2019-08-03     A       507\n",
       "3  2019-08-04     A       717\n",
       "4  2019-08-05     A       756"
      ]
     },
     "execution_count": 28,
     "metadata": {},
     "output_type": "execute_result"
    }
   ],
   "source": [
    "df_visitors.head()"
   ]
  },
  {
   "cell_type": "markdown",
   "metadata": {},
   "source": [
    "Смотрим на типы данных и наличие пропусков"
   ]
  },
  {
   "cell_type": "code",
   "execution_count": 29,
   "metadata": {},
   "outputs": [
    {
     "name": "stdout",
     "output_type": "stream",
     "text": [
      "<class 'pandas.core.frame.DataFrame'>\n",
      "RangeIndex: 62 entries, 0 to 61\n",
      "Data columns (total 3 columns):\n",
      " #   Column    Non-Null Count  Dtype \n",
      "---  ------    --------------  ----- \n",
      " 0   date      62 non-null     object\n",
      " 1   group     62 non-null     object\n",
      " 2   visitors  62 non-null     int64 \n",
      "dtypes: int64(1), object(2)\n",
      "memory usage: 1.6+ KB\n"
     ]
    }
   ],
   "source": [
    "df_visitors.info()"
   ]
  },
  {
   "cell_type": "markdown",
   "metadata": {},
   "source": [
    "Пропусков нет. В колонке `date` тип данных некорректный"
   ]
  },
  {
   "cell_type": "markdown",
   "metadata": {},
   "source": [
    "Исправляем некорректный тип даных в колонке `date`"
   ]
  },
  {
   "cell_type": "code",
   "execution_count": 30,
   "metadata": {},
   "outputs": [],
   "source": [
    "df_visitors['date'] = pd.to_datetime(df_visitors['date'])"
   ]
  },
  {
   "cell_type": "markdown",
   "metadata": {},
   "source": [
    "Проверяем, что тип данных исправлен"
   ]
  },
  {
   "cell_type": "code",
   "execution_count": 31,
   "metadata": {
    "scrolled": true
   },
   "outputs": [
    {
     "name": "stdout",
     "output_type": "stream",
     "text": [
      "<class 'pandas.core.frame.DataFrame'>\n",
      "RangeIndex: 62 entries, 0 to 61\n",
      "Data columns (total 3 columns):\n",
      " #   Column    Non-Null Count  Dtype         \n",
      "---  ------    --------------  -----         \n",
      " 0   date      62 non-null     datetime64[ns]\n",
      " 1   group     62 non-null     object        \n",
      " 2   visitors  62 non-null     int64         \n",
      "dtypes: datetime64[ns](1), int64(1), object(1)\n",
      "memory usage: 1.6+ KB\n"
     ]
    }
   ],
   "source": [
    "df_visitors.info()"
   ]
  },
  {
   "cell_type": "markdown",
   "metadata": {},
   "source": [
    "Смотрим на корректность названий в колонке `group`"
   ]
  },
  {
   "cell_type": "code",
   "execution_count": 32,
   "metadata": {},
   "outputs": [
    {
     "data": {
      "text/plain": [
       "array(['A', 'B'], dtype=object)"
      ]
     },
     "execution_count": 32,
     "metadata": {},
     "output_type": "execute_result"
    }
   ],
   "source": [
    "df_visitors['group'].unique()"
   ]
  },
  {
   "cell_type": "markdown",
   "metadata": {},
   "source": [
    "Названия групп корректные"
   ]
  },
  {
   "cell_type": "markdown",
   "metadata": {},
   "source": [
    "Проверяем данные на наличие дубликатов"
   ]
  },
  {
   "cell_type": "code",
   "execution_count": 33,
   "metadata": {
    "scrolled": true
   },
   "outputs": [
    {
     "data": {
      "text/plain": [
       "0"
      ]
     },
     "execution_count": 33,
     "metadata": {},
     "output_type": "execute_result"
    }
   ],
   "source": [
    "df_visitors.duplicated().sum()"
   ]
  },
  {
   "cell_type": "markdown",
   "metadata": {},
   "source": [
    "Смотрим на распределение посетителей между группами"
   ]
  },
  {
   "cell_type": "code",
   "execution_count": 34,
   "metadata": {},
   "outputs": [
    {
     "data": {
      "text/html": [
       "<div>\n",
       "<style scoped>\n",
       "    .dataframe tbody tr th:only-of-type {\n",
       "        vertical-align: middle;\n",
       "    }\n",
       "\n",
       "    .dataframe tbody tr th {\n",
       "        vertical-align: top;\n",
       "    }\n",
       "\n",
       "    .dataframe thead th {\n",
       "        text-align: right;\n",
       "    }\n",
       "</style>\n",
       "<table border=\"1\" class=\"dataframe\">\n",
       "  <thead>\n",
       "    <tr style=\"text-align: right;\">\n",
       "      <th></th>\n",
       "      <th>visitors</th>\n",
       "    </tr>\n",
       "    <tr>\n",
       "      <th>group</th>\n",
       "      <th></th>\n",
       "    </tr>\n",
       "  </thead>\n",
       "  <tbody>\n",
       "    <tr>\n",
       "      <th>A</th>\n",
       "      <td>18736</td>\n",
       "    </tr>\n",
       "    <tr>\n",
       "      <th>B</th>\n",
       "      <td>18916</td>\n",
       "    </tr>\n",
       "  </tbody>\n",
       "</table>\n",
       "</div>"
      ],
      "text/plain": [
       "       visitors\n",
       "group          \n",
       "A         18736\n",
       "B         18916"
      ]
     },
     "execution_count": 34,
     "metadata": {},
     "output_type": "execute_result"
    }
   ],
   "source": [
    "df_visitors.pivot_table(index='group', values='visitors', aggfunc='sum')"
   ]
  },
  {
   "cell_type": "markdown",
   "metadata": {},
   "source": [
    "Смотрим на разброс данных по пользователям"
   ]
  },
  {
   "cell_type": "code",
   "execution_count": 35,
   "metadata": {},
   "outputs": [
    {
     "data": {
      "text/plain": [
       "count     62.00\n",
       "mean     607.29\n",
       "std      114.40\n",
       "min      361.00\n",
       "25%      534.00\n",
       "50%      624.50\n",
       "75%      710.50\n",
       "max      770.00\n",
       "Name: visitors, dtype: float64"
      ]
     },
     "execution_count": 35,
     "metadata": {},
     "output_type": "execute_result"
    }
   ],
   "source": [
    "df_visitors['visitors'].describe().round(2)"
   ]
  },
  {
   "cell_type": "markdown",
   "metadata": {},
   "source": [
    "Итак\n",
    "- пропущенных значений в данных нет;\n",
    "- явных дубликатов в данных нет;\n",
    "- `A/B-тест` проходил `31` день;\n",
    "- количество посетителей в течении всего теста распределено между группами `A` и `B` примерно одинаковое - `18736` и `18916`;\n",
    "- минимально было `361`, максимально `770`, а в среднем `607` посетителей;\n",
    "- тип данных в колонке `date` на `datetime` был исправлен."
   ]
  },
  {
   "cell_type": "markdown",
   "metadata": {},
   "source": [
    "### 2.2 Анализ кумулятивных метрик"
   ]
  },
  {
   "cell_type": "markdown",
   "metadata": {},
   "source": [
    "#### 2.2.1 Подготовка данных для анализа A/B-теста"
   ]
  },
  {
   "cell_type": "markdown",
   "metadata": {},
   "source": [
    "Подготовим данные для анализа `A/B-теста`"
   ]
  },
  {
   "cell_type": "code",
   "execution_count": 36,
   "metadata": {},
   "outputs": [],
   "source": [
    "# создаем массив уникальных пар значений дат и групп теста\n",
    "datesGroups = df_orders[['date', 'group']].drop_duplicates()"
   ]
  },
  {
   "cell_type": "code",
   "execution_count": 37,
   "metadata": {},
   "outputs": [
    {
     "data": {
      "text/html": [
       "<div>\n",
       "<style scoped>\n",
       "    .dataframe tbody tr th:only-of-type {\n",
       "        vertical-align: middle;\n",
       "    }\n",
       "\n",
       "    .dataframe tbody tr th {\n",
       "        vertical-align: top;\n",
       "    }\n",
       "\n",
       "    .dataframe thead th {\n",
       "        text-align: right;\n",
       "    }\n",
       "</style>\n",
       "<table border=\"1\" class=\"dataframe\">\n",
       "  <thead>\n",
       "    <tr style=\"text-align: right;\">\n",
       "      <th></th>\n",
       "      <th>date</th>\n",
       "      <th>group</th>\n",
       "      <th>orders</th>\n",
       "      <th>buyers</th>\n",
       "      <th>revenue</th>\n",
       "    </tr>\n",
       "  </thead>\n",
       "  <tbody>\n",
       "    <tr>\n",
       "      <th>55</th>\n",
       "      <td>2019-08-01</td>\n",
       "      <td>A</td>\n",
       "      <td>24</td>\n",
       "      <td>20</td>\n",
       "      <td>148579</td>\n",
       "    </tr>\n",
       "    <tr>\n",
       "      <th>66</th>\n",
       "      <td>2019-08-01</td>\n",
       "      <td>B</td>\n",
       "      <td>21</td>\n",
       "      <td>20</td>\n",
       "      <td>101217</td>\n",
       "    </tr>\n",
       "    <tr>\n",
       "      <th>175</th>\n",
       "      <td>2019-08-02</td>\n",
       "      <td>A</td>\n",
       "      <td>44</td>\n",
       "      <td>38</td>\n",
       "      <td>242401</td>\n",
       "    </tr>\n",
       "    <tr>\n",
       "      <th>173</th>\n",
       "      <td>2019-08-02</td>\n",
       "      <td>B</td>\n",
       "      <td>45</td>\n",
       "      <td>43</td>\n",
       "      <td>266748</td>\n",
       "    </tr>\n",
       "    <tr>\n",
       "      <th>291</th>\n",
       "      <td>2019-08-03</td>\n",
       "      <td>A</td>\n",
       "      <td>68</td>\n",
       "      <td>62</td>\n",
       "      <td>354874</td>\n",
       "    </tr>\n",
       "    <tr>\n",
       "      <th>...</th>\n",
       "      <td>...</td>\n",
       "      <td>...</td>\n",
       "      <td>...</td>\n",
       "      <td>...</td>\n",
       "      <td>...</td>\n",
       "    </tr>\n",
       "    <tr>\n",
       "      <th>496</th>\n",
       "      <td>2019-08-29</td>\n",
       "      <td>B</td>\n",
       "      <td>596</td>\n",
       "      <td>544</td>\n",
       "      <td>5559398</td>\n",
       "    </tr>\n",
       "    <tr>\n",
       "      <th>730</th>\n",
       "      <td>2019-08-30</td>\n",
       "      <td>A</td>\n",
       "      <td>545</td>\n",
       "      <td>493</td>\n",
       "      <td>4022970</td>\n",
       "    </tr>\n",
       "    <tr>\n",
       "      <th>690</th>\n",
       "      <td>2019-08-30</td>\n",
       "      <td>B</td>\n",
       "      <td>620</td>\n",
       "      <td>567</td>\n",
       "      <td>5774631</td>\n",
       "    </tr>\n",
       "    <tr>\n",
       "      <th>958</th>\n",
       "      <td>2019-08-31</td>\n",
       "      <td>A</td>\n",
       "      <td>557</td>\n",
       "      <td>503</td>\n",
       "      <td>4084803</td>\n",
       "    </tr>\n",
       "    <tr>\n",
       "      <th>930</th>\n",
       "      <td>2019-08-31</td>\n",
       "      <td>B</td>\n",
       "      <td>640</td>\n",
       "      <td>586</td>\n",
       "      <td>5907760</td>\n",
       "    </tr>\n",
       "  </tbody>\n",
       "</table>\n",
       "<p>62 rows × 5 columns</p>\n",
       "</div>"
      ],
      "text/plain": [
       "          date group  orders  buyers  revenue\n",
       "55  2019-08-01     A      24      20   148579\n",
       "66  2019-08-01     B      21      20   101217\n",
       "175 2019-08-02     A      44      38   242401\n",
       "173 2019-08-02     B      45      43   266748\n",
       "291 2019-08-03     A      68      62   354874\n",
       "..         ...   ...     ...     ...      ...\n",
       "496 2019-08-29     B     596     544  5559398\n",
       "730 2019-08-30     A     545     493  4022970\n",
       "690 2019-08-30     B     620     567  5774631\n",
       "958 2019-08-31     A     557     503  4084803\n",
       "930 2019-08-31     B     640     586  5907760\n",
       "\n",
       "[62 rows x 5 columns]"
      ]
     },
     "execution_count": 37,
     "metadata": {},
     "output_type": "execute_result"
    }
   ],
   "source": [
    "# получаем агрегированные кумулятивные по дням данные о заказах\n",
    "df_ordersAggregated = datesGroups.apply(\n",
    "    lambda x: df_orders[\n",
    "        np.logical_and(\n",
    "            df_orders['date'] <= x['date'], df_orders['group'] == x['group']\n",
    "        )\n",
    "    ].agg(\n",
    "        {\n",
    "            'date': 'max',\n",
    "            'group': 'max',\n",
    "            'transactionId': 'nunique',\n",
    "            'visitorId': 'nunique',\n",
    "            'revenue': 'sum',\n",
    "        }\n",
    "    ),\n",
    "    axis=1,\n",
    ").sort_values(by=['date', 'group'])\n",
    "df_ordersAggregated.columns = [\n",
    "    'date',\n",
    "    'group',\n",
    "    'orders',\n",
    "    'buyers',\n",
    "    'revenue',\n",
    "]\n",
    "\n",
    "df_ordersAggregated"
   ]
  },
  {
   "cell_type": "code",
   "execution_count": 38,
   "metadata": {},
   "outputs": [
    {
     "data": {
      "text/html": [
       "<div>\n",
       "<style scoped>\n",
       "    .dataframe tbody tr th:only-of-type {\n",
       "        vertical-align: middle;\n",
       "    }\n",
       "\n",
       "    .dataframe tbody tr th {\n",
       "        vertical-align: top;\n",
       "    }\n",
       "\n",
       "    .dataframe thead th {\n",
       "        text-align: right;\n",
       "    }\n",
       "</style>\n",
       "<table border=\"1\" class=\"dataframe\">\n",
       "  <thead>\n",
       "    <tr style=\"text-align: right;\">\n",
       "      <th></th>\n",
       "      <th>date</th>\n",
       "      <th>group</th>\n",
       "      <th>visitors</th>\n",
       "    </tr>\n",
       "  </thead>\n",
       "  <tbody>\n",
       "    <tr>\n",
       "      <th>55</th>\n",
       "      <td>2019-08-01</td>\n",
       "      <td>A</td>\n",
       "      <td>719</td>\n",
       "    </tr>\n",
       "    <tr>\n",
       "      <th>66</th>\n",
       "      <td>2019-08-01</td>\n",
       "      <td>B</td>\n",
       "      <td>713</td>\n",
       "    </tr>\n",
       "    <tr>\n",
       "      <th>175</th>\n",
       "      <td>2019-08-02</td>\n",
       "      <td>A</td>\n",
       "      <td>1338</td>\n",
       "    </tr>\n",
       "    <tr>\n",
       "      <th>173</th>\n",
       "      <td>2019-08-02</td>\n",
       "      <td>B</td>\n",
       "      <td>1294</td>\n",
       "    </tr>\n",
       "    <tr>\n",
       "      <th>291</th>\n",
       "      <td>2019-08-03</td>\n",
       "      <td>A</td>\n",
       "      <td>1845</td>\n",
       "    </tr>\n",
       "    <tr>\n",
       "      <th>...</th>\n",
       "      <td>...</td>\n",
       "      <td>...</td>\n",
       "      <td>...</td>\n",
       "    </tr>\n",
       "    <tr>\n",
       "      <th>496</th>\n",
       "      <td>2019-08-29</td>\n",
       "      <td>B</td>\n",
       "      <td>17708</td>\n",
       "    </tr>\n",
       "    <tr>\n",
       "      <th>730</th>\n",
       "      <td>2019-08-30</td>\n",
       "      <td>A</td>\n",
       "      <td>18037</td>\n",
       "    </tr>\n",
       "    <tr>\n",
       "      <th>690</th>\n",
       "      <td>2019-08-30</td>\n",
       "      <td>B</td>\n",
       "      <td>18198</td>\n",
       "    </tr>\n",
       "    <tr>\n",
       "      <th>958</th>\n",
       "      <td>2019-08-31</td>\n",
       "      <td>A</td>\n",
       "      <td>18736</td>\n",
       "    </tr>\n",
       "    <tr>\n",
       "      <th>930</th>\n",
       "      <td>2019-08-31</td>\n",
       "      <td>B</td>\n",
       "      <td>18916</td>\n",
       "    </tr>\n",
       "  </tbody>\n",
       "</table>\n",
       "<p>62 rows × 3 columns</p>\n",
       "</div>"
      ],
      "text/plain": [
       "          date group  visitors\n",
       "55  2019-08-01     A       719\n",
       "66  2019-08-01     B       713\n",
       "175 2019-08-02     A      1338\n",
       "173 2019-08-02     B      1294\n",
       "291 2019-08-03     A      1845\n",
       "..         ...   ...       ...\n",
       "496 2019-08-29     B     17708\n",
       "730 2019-08-30     A     18037\n",
       "690 2019-08-30     B     18198\n",
       "958 2019-08-31     A     18736\n",
       "930 2019-08-31     B     18916\n",
       "\n",
       "[62 rows x 3 columns]"
      ]
     },
     "execution_count": 38,
     "metadata": {},
     "output_type": "execute_result"
    }
   ],
   "source": [
    "# получаем агрегированные кумулятивные по дням данные о посетителях интернет-магазина\n",
    "df_visitorsAggregated = datesGroups.apply(\n",
    "    lambda x: df_visitors[\n",
    "        np.logical_and(\n",
    "            df_visitors['date'] <= x['date'], df_visitors['group'] == x['group']\n",
    "        )\n",
    "    ].agg({'date': 'max', 'group': 'max', 'visitors': 'sum'}),\n",
    "    axis=1,\n",
    ").sort_values(by=['date', 'group'])\n",
    "\n",
    "df_visitorsAggregated"
   ]
  },
  {
   "cell_type": "code",
   "execution_count": 39,
   "metadata": {},
   "outputs": [
    {
     "data": {
      "text/html": [
       "<div>\n",
       "<style scoped>\n",
       "    .dataframe tbody tr th:only-of-type {\n",
       "        vertical-align: middle;\n",
       "    }\n",
       "\n",
       "    .dataframe tbody tr th {\n",
       "        vertical-align: top;\n",
       "    }\n",
       "\n",
       "    .dataframe thead th {\n",
       "        text-align: right;\n",
       "    }\n",
       "</style>\n",
       "<table border=\"1\" class=\"dataframe\">\n",
       "  <thead>\n",
       "    <tr style=\"text-align: right;\">\n",
       "      <th></th>\n",
       "      <th>date</th>\n",
       "      <th>group</th>\n",
       "      <th>orders</th>\n",
       "      <th>buyers</th>\n",
       "      <th>revenue</th>\n",
       "      <th>visitors</th>\n",
       "    </tr>\n",
       "  </thead>\n",
       "  <tbody>\n",
       "    <tr>\n",
       "      <th>0</th>\n",
       "      <td>2019-08-01</td>\n",
       "      <td>A</td>\n",
       "      <td>24</td>\n",
       "      <td>20</td>\n",
       "      <td>148579</td>\n",
       "      <td>719</td>\n",
       "    </tr>\n",
       "    <tr>\n",
       "      <th>1</th>\n",
       "      <td>2019-08-01</td>\n",
       "      <td>B</td>\n",
       "      <td>21</td>\n",
       "      <td>20</td>\n",
       "      <td>101217</td>\n",
       "      <td>713</td>\n",
       "    </tr>\n",
       "    <tr>\n",
       "      <th>2</th>\n",
       "      <td>2019-08-02</td>\n",
       "      <td>A</td>\n",
       "      <td>44</td>\n",
       "      <td>38</td>\n",
       "      <td>242401</td>\n",
       "      <td>1338</td>\n",
       "    </tr>\n",
       "    <tr>\n",
       "      <th>3</th>\n",
       "      <td>2019-08-02</td>\n",
       "      <td>B</td>\n",
       "      <td>45</td>\n",
       "      <td>43</td>\n",
       "      <td>266748</td>\n",
       "      <td>1294</td>\n",
       "    </tr>\n",
       "    <tr>\n",
       "      <th>4</th>\n",
       "      <td>2019-08-03</td>\n",
       "      <td>A</td>\n",
       "      <td>68</td>\n",
       "      <td>62</td>\n",
       "      <td>354874</td>\n",
       "      <td>1845</td>\n",
       "    </tr>\n",
       "    <tr>\n",
       "      <th>...</th>\n",
       "      <td>...</td>\n",
       "      <td>...</td>\n",
       "      <td>...</td>\n",
       "      <td>...</td>\n",
       "      <td>...</td>\n",
       "      <td>...</td>\n",
       "    </tr>\n",
       "    <tr>\n",
       "      <th>57</th>\n",
       "      <td>2019-08-29</td>\n",
       "      <td>B</td>\n",
       "      <td>596</td>\n",
       "      <td>544</td>\n",
       "      <td>5559398</td>\n",
       "      <td>17708</td>\n",
       "    </tr>\n",
       "    <tr>\n",
       "      <th>58</th>\n",
       "      <td>2019-08-30</td>\n",
       "      <td>A</td>\n",
       "      <td>545</td>\n",
       "      <td>493</td>\n",
       "      <td>4022970</td>\n",
       "      <td>18037</td>\n",
       "    </tr>\n",
       "    <tr>\n",
       "      <th>59</th>\n",
       "      <td>2019-08-30</td>\n",
       "      <td>B</td>\n",
       "      <td>620</td>\n",
       "      <td>567</td>\n",
       "      <td>5774631</td>\n",
       "      <td>18198</td>\n",
       "    </tr>\n",
       "    <tr>\n",
       "      <th>60</th>\n",
       "      <td>2019-08-31</td>\n",
       "      <td>A</td>\n",
       "      <td>557</td>\n",
       "      <td>503</td>\n",
       "      <td>4084803</td>\n",
       "      <td>18736</td>\n",
       "    </tr>\n",
       "    <tr>\n",
       "      <th>61</th>\n",
       "      <td>2019-08-31</td>\n",
       "      <td>B</td>\n",
       "      <td>640</td>\n",
       "      <td>586</td>\n",
       "      <td>5907760</td>\n",
       "      <td>18916</td>\n",
       "    </tr>\n",
       "  </tbody>\n",
       "</table>\n",
       "<p>62 rows × 6 columns</p>\n",
       "</div>"
      ],
      "text/plain": [
       "         date group  orders  buyers  revenue  visitors\n",
       "0  2019-08-01     A      24      20   148579       719\n",
       "1  2019-08-01     B      21      20   101217       713\n",
       "2  2019-08-02     A      44      38   242401      1338\n",
       "3  2019-08-02     B      45      43   266748      1294\n",
       "4  2019-08-03     A      68      62   354874      1845\n",
       "..        ...   ...     ...     ...      ...       ...\n",
       "57 2019-08-29     B     596     544  5559398     17708\n",
       "58 2019-08-30     A     545     493  4022970     18037\n",
       "59 2019-08-30     B     620     567  5774631     18198\n",
       "60 2019-08-31     A     557     503  4084803     18736\n",
       "61 2019-08-31     B     640     586  5907760     18916\n",
       "\n",
       "[62 rows x 6 columns]"
      ]
     },
     "execution_count": 39,
     "metadata": {},
     "output_type": "execute_result"
    }
   ],
   "source": [
    "# объединяем кумулятивные данные в одной таблице и корректируем названия столбцов\n",
    "cumulativeData = df_ordersAggregated.merge(\n",
    "    df_visitorsAggregated, left_on=['date', 'group'], right_on=['date', 'group']\n",
    ")\n",
    "cumulativeData.columns = [\n",
    "    'date',\n",
    "    'group',\n",
    "    'orders',\n",
    "    'buyers',\n",
    "    'revenue',\n",
    "    'visitors',\n",
    "]\n",
    "\n",
    "cumulativeData"
   ]
  },
  {
   "cell_type": "code",
   "execution_count": 40,
   "metadata": {},
   "outputs": [],
   "source": [
    "#разделяем данные по группам\n",
    "\n",
    "# датафрейм с кумулятивным количеством заказов и кумулятивной выручкой по дням в группе А\n",
    "cumulativeDataA = cumulativeData[cumulativeData['group']=='A'][['date','revenue', 'orders']]\n",
    "\n",
    "# датафрейм с кумулятивным количеством заказов и кумулятивной выручкой по дням в группе B\n",
    "cumulativeDataB = cumulativeData[cumulativeData['group']=='B'][['date','revenue', 'orders']]"
   ]
  },
  {
   "cell_type": "markdown",
   "metadata": {},
   "source": [
    "#### 2.2.2 Кумулятивная выручка по группам"
   ]
  },
  {
   "cell_type": "markdown",
   "metadata": {},
   "source": [
    "Строим графики кумулятивной выручки по дням с разделением по группам"
   ]
  },
  {
   "cell_type": "code",
   "execution_count": 41,
   "metadata": {},
   "outputs": [
    {
     "data": {
      "image/png": "[encoded data removed]",
      "text/plain": [
       "<Figure size 1080x432 with 1 Axes>"
      ]
     },
     "metadata": {
      "needs_background": "light"
     },
     "output_type": "display_data"
    }
   ],
   "source": [
    "# Задаем размер графика\n",
    "fig = plt.figure(figsize=(15, 6))\n",
    "\n",
    "# Строим график выручки группы А\n",
    "plt.plot(cumulativeDataA['date'], cumulativeDataA['revenue'], label='A')\n",
    "\n",
    "# Строим график выручки группы B\n",
    "plt.plot(cumulativeDataB['date'], cumulativeDataB['revenue'], label='B')\n",
    "\n",
    "plt.grid()\n",
    "plt.xlabel('Дата')\n",
    "plt.ylabel('Выручка')\n",
    "plt.title('График кумулятивной выручки по группам')\n",
    "\n",
    "plt.legend();"
   ]
  },
  {
   "cell_type": "markdown",
   "metadata": {},
   "source": [
    "По обеим группам выручка растет в течении всего теста. В сегменте `B` наблюдается резкий скачок выручки `19 августа`, что произошло из-за аномально дорогих заказов обнаруженных при первичном анализе данных."
   ]
  },
  {
   "cell_type": "markdown",
   "metadata": {},
   "source": [
    "#### 2.2.3 Кумулятивный средний чек по группам"
   ]
  },
  {
   "cell_type": "markdown",
   "metadata": {},
   "source": [
    "Строим графики кумулятивного среднего чека по дням с разделением по группам"
   ]
  },
  {
   "cell_type": "code",
   "execution_count": 42,
   "metadata": {},
   "outputs": [
    {
     "data": {
      "image/png": "[encoded data removed]",
      "text/plain": [
       "<Figure size 1080x432 with 1 Axes>"
      ]
     },
     "metadata": {
      "needs_background": "light"
     },
     "output_type": "display_data"
    }
   ],
   "source": [
    "# Задаем размер графика\n",
    "fig = plt.figure(figsize=(15, 6))\n",
    "\n",
    "plt.plot(cumulativeDataA['date'], cumulativeDataA['revenue']/cumulativeDataA['orders'], label='A')\n",
    "plt.plot(cumulativeDataB['date'], cumulativeDataB['revenue']/cumulativeDataB['orders'], label='B')\n",
    "\n",
    "plt.grid()\n",
    "plt.xlabel('Дата')\n",
    "plt.ylabel('Кумулятивный средний чек')\n",
    "plt.title('График кумулятивного среднего чека по дням в группах')\n",
    "\n",
    "plt.legend();"
   ]
  },
  {
   "cell_type": "markdown",
   "metadata": {},
   "source": [
    "В начале теста средний чек группы `B` выше чем в группе `A`, но ближе к середине теста кумулятивный средний чек по обеим группам выравнивается на уровне `7000`. После середины теста в районе `19 августа` в группе `B` наблюдается резкий скачок из-за одной или нескольких дорогих покупок и далее он плавно снижается. "
   ]
  },
  {
   "cell_type": "markdown",
   "metadata": {},
   "source": [
    "#### 2.2.4 Относительное различие кумулятивного среднего чека между группами"
   ]
  },
  {
   "cell_type": "markdown",
   "metadata": {},
   "source": [
    "Чтобы нагляднее увидеть разницу между группами, строим график относительного различия среднего чека.  \n",
    "Каждую его точку рассчитываем так:  \n",
    "`кумулятивный средний чек группы B / кумулятивный средний чек группы A - 1`"
   ]
  },
  {
   "cell_type": "code",
   "execution_count": 43,
   "metadata": {},
   "outputs": [
    {
     "data": {
      "image/png": "[encoded data removed]",
      "text/plain": [
       "<Figure size 1080x432 with 1 Axes>"
      ]
     },
     "metadata": {
      "needs_background": "light"
     },
     "output_type": "display_data"
    }
   ],
   "source": [
    "# Задаем размер графика\n",
    "fig = plt.figure(figsize=(15, 6))\n",
    "\n",
    "# собираем данные в одном датафрейме\n",
    "mergedCumulativeData = cumulativeDataA. \\\n",
    "merge(cumulativeDataB, left_on='date', right_on='date', how='left', suffixes=['A', 'B'])\n",
    "\n",
    "# cтроим отношение средних чеков\n",
    "plt. \\\n",
    "plot(mergedCumulativeData['date'], \\\n",
    "(mergedCumulativeData['revenueB']/mergedCumulativeData['ordersB']) \\\n",
    "/(mergedCumulativeData['revenueA']/mergedCumulativeData['ordersA'])-1)\n",
    "\n",
    "# добавляем ось X\n",
    "plt.axhline(y=0, color='black', linestyle='--')\n",
    "\n",
    "plt.grid()\n",
    "plt.xlabel('Дата')\n",
    "plt.ylabel('Различие кумулятивного среднего чека')\n",
    "plt.title('График относительного различия кумулятивного среднего чека между группами');"
   ]
  },
  {
   "cell_type": "markdown",
   "metadata": {},
   "source": [
    "В течении теста было несколько резких изменений, которые скорее всего связаны с аномально дорогими заказами как в группе `A`, так и в группе `B`.  \n",
    "Для того, чтобы разобраться с аномальными заказами построим график стоимости заказов по пользователям."
   ]
  },
  {
   "cell_type": "markdown",
   "metadata": {},
   "source": [
    "#### 2.2.5 Кумулятивная средняя конверсия по группам"
   ]
  },
  {
   "cell_type": "markdown",
   "metadata": {},
   "source": [
    "Строим график кумулятивного среднего количества заказов на посетителя по группам, то есть конверсии в заказ."
   ]
  },
  {
   "cell_type": "code",
   "execution_count": 44,
   "metadata": {},
   "outputs": [
    {
     "data": {
      "image/png": "[encoded data removed]",
      "text/plain": [
       "<Figure size 1080x432 with 1 Axes>"
      ]
     },
     "metadata": {
      "needs_background": "light"
     },
     "output_type": "display_data"
    }
   ],
   "source": [
    "fig = plt.figure(figsize=(15, 6))\n",
    "\n",
    "# считаем кумулятивную конверсию\n",
    "cumulativeData['conversion'] = cumulativeData['orders']/cumulativeData['visitors']\n",
    "\n",
    "# отделяем данные по группе A\n",
    "cumulativeDataA = cumulativeData[cumulativeData['group']=='A']\n",
    "\n",
    "# отделяем данные по группе B\n",
    "cumulativeDataB = cumulativeData[cumulativeData['group']=='B']\n",
    "\n",
    "# строим графики\n",
    "plt.plot(cumulativeDataA['date'], cumulativeDataA['conversion'], label='A')\n",
    "plt.plot(cumulativeDataB['date'], cumulativeDataB['conversion'], label='B')\n",
    "\n",
    "plt.grid()\n",
    "plt.xlabel('Дата')\n",
    "plt.ylabel('Кумулятивная конверсия')\n",
    "plt.title('График кумулятивной конверсии по дням по группам')\n",
    "\n",
    "plt.legend();"
   ]
  },
  {
   "cell_type": "markdown",
   "metadata": {},
   "source": [
    "В начале теста конверсия в группах менялась(чаще конверсия в группе `B` была ниже конверсии в группе `A`), но после `6 августа` конверсия в группе `B` стала выше конверсии в группе `A`. После `21 августа` конверсии в группах стабилизировались на уровне `3%` в группе `A` и `3.4%` в группе `B`"
   ]
  },
  {
   "cell_type": "markdown",
   "metadata": {},
   "source": [
    "#### 2.2.6 Относительное различие кумулятивной конверсии между группами"
   ]
  },
  {
   "cell_type": "markdown",
   "metadata": {},
   "source": [
    "Для того, чтобы лучше видеть разницу между кумулятивными коверсиями групп  построим график относительного прироста кумулятивной конверсии группы `B` к группе `A`"
   ]
  },
  {
   "cell_type": "code",
   "execution_count": 45,
   "metadata": {},
   "outputs": [
    {
     "data": {
      "image/png": "[encoded data removed]",
      "text/plain": [
       "<Figure size 1080x432 with 1 Axes>"
      ]
     },
     "metadata": {
      "needs_background": "light"
     },
     "output_type": "display_data"
    }
   ],
   "source": [
    "# Задаем размер графика\n",
    "fig = plt.figure(figsize=(15, 6))\n",
    "\n",
    "mergedCumulativeConversions = cumulativeDataA[['date','conversion']].merge(cumulativeDataB[['date','conversion']], left_on='date', right_on='date', how='left', suffixes=['A', 'B'])\n",
    "\n",
    "plt.plot(mergedCumulativeConversions['date'], mergedCumulativeConversions['conversionB']/mergedCumulativeConversions['conversionA']-1, label=\"Относительный прирост конверсии группы B относительно группы A\")\n",
    "\n",
    "plt.xlabel('Дата')\n",
    "plt.ylabel('Относительное различие кумулятивной конверсии')\n",
    "plt.title('График относительного различия кумулятивной конверсии групп')\n",
    "\n",
    "plt.legend()\n",
    "plt.grid()\n",
    "plt.axhline(y=0, color='black', linestyle='--')\n",
    "plt.axhline(y=0.12, color='grey', linestyle='--')\n",
    "\n",
    "plt.axis([dt.datetime(2019, 8, 1), dt.datetime(2019, 9, 1), -0.5, 0.5]);"
   ]
  },
  {
   "cell_type": "markdown",
   "metadata": {},
   "source": [
    "В начале теста прирост конверсии в группах менялся и был отрицательным, но после `6 августа` прирост конверсии группы `B` к группе `A`стал положтельным и продолжил расти. После `21 августа` прирост конверсии в группе `B` к группе `A` стабилизировался и составил `12%`."
   ]
  },
  {
   "cell_type": "markdown",
   "metadata": {},
   "source": [
    "### 2.3 Анализ выбросов и всплесков"
   ]
  },
  {
   "cell_type": "markdown",
   "metadata": {},
   "source": [
    "#### 2.3.1 График количества заказов по пользователям"
   ]
  },
  {
   "cell_type": "markdown",
   "metadata": {},
   "source": [
    "Строим точетный график количества заказов по пользователлям, чтобы увидеть аномальное количество заказов визульно. Для этого воспользуемся методом scatter()."
   ]
  },
  {
   "cell_type": "code",
   "execution_count": 46,
   "metadata": {},
   "outputs": [
    {
     "data": {
      "image/png": "[encoded data removed]",
      "text/plain": [
       "<Figure size 1080x432 with 1 Axes>"
      ]
     },
     "metadata": {
      "needs_background": "light"
     },
     "output_type": "display_data"
    }
   ],
   "source": [
    "# строим сводную таблицу по количеству заказов пользователей\n",
    "ordersByUsers = (\n",
    "    df_orders.groupby('visitorId', as_index=False)\n",
    "    .agg({'transactionId': 'nunique'})\n",
    ")\n",
    "ordersByUsers.columns = ['visitorId', 'orders']\n",
    "\n",
    "# создаем серию номеров из чисел от 0 до количества наблюдений в ordersByUsers для присвоения пользователям номера\n",
    "x_values = pd.Series(range(0, len(ordersByUsers)))\n",
    "\n",
    "# Задаем размер графика\n",
    "fig = plt.figure(figsize=(15, 6))\n",
    "plt.scatter(x_values, ordersByUsers['orders'])\n",
    "\n",
    "plt.grid()\n",
    "plt.xlabel('Порядковый номер пользователя')\n",
    "plt.ylabel('Количество заказов')\n",
    "plt.title('Диаграмма количества заказов');"
   ]
  },
  {
   "cell_type": "markdown",
   "metadata": {},
   "source": [
    "Пользователи редко делают более 2 заказов. Для того, чтобы понять можем ли мы взять это значение за границу аномальных значений рассчитаем 90-й, 95-й, 98-й и 99-й выборочные перцентили количества заказов по пользователям."
   ]
  },
  {
   "cell_type": "markdown",
   "metadata": {},
   "source": [
    "#### 2.3.2 Расчет выборочных персентилей для количества заказов пользователей"
   ]
  },
  {
   "cell_type": "code",
   "execution_count": 47,
   "metadata": {},
   "outputs": [
    {
     "data": {
      "text/html": [
       "<style  type=\"text/css\" >\n",
       "</style><table id=\"T_9ab94_\" ><thead>    <tr>        <th class=\"blank level0\" ></th>        <th class=\"col_heading level0 col0\" >orders</th>    </tr></thead><tbody>\n",
       "                <tr>\n",
       "                        <th id=\"T_9ab94_level0_row0\" class=\"row_heading level0 row0\" >0.9</th>\n",
       "                        <td id=\"T_9ab94_row0_col0\" class=\"data row0 col0\" >1</td>\n",
       "            </tr>\n",
       "            <tr>\n",
       "                        <th id=\"T_9ab94_level0_row1\" class=\"row_heading level0 row1\" >0.95</th>\n",
       "                        <td id=\"T_9ab94_row1_col0\" class=\"data row1 col0\" >2</td>\n",
       "            </tr>\n",
       "            <tr>\n",
       "                        <th id=\"T_9ab94_level0_row2\" class=\"row_heading level0 row2\" >0.98</th>\n",
       "                        <td id=\"T_9ab94_row2_col0\" class=\"data row2 col0\" >3</td>\n",
       "            </tr>\n",
       "            <tr>\n",
       "                        <th id=\"T_9ab94_level0_row3\" class=\"row_heading level0 row3\" >0.99</th>\n",
       "                        <td id=\"T_9ab94_row3_col0\" class=\"data row3 col0\" >4</td>\n",
       "            </tr>\n",
       "    </tbody></table>"
      ],
      "text/plain": [
       "<pandas.io.formats.style.Styler at 0x7f367dea1250>"
      ]
     },
     "execution_count": 47,
     "metadata": {},
     "output_type": "execute_result"
    }
   ],
   "source": [
    "(\n",
    "ordersByUsers[['orders']] \\\n",
    ".quantile([0.9, 0.95, 0.98, 0.99]) \n",
    ".style.format(\"{:,.0f}\")\n",
    ")"
   ]
  },
  {
   "cell_type": "markdown",
   "metadata": {},
   "source": [
    "Не более `5%` пользователей совершают более 2 заказов и не более `2%` пользователей совершают более 3 заказов. Возьмем 2 заказа за границу аномальных значений количества заказов."
   ]
  },
  {
   "cell_type": "markdown",
   "metadata": {},
   "source": [
    "#### 2.3.3 График стоимости заказов по пользователям"
   ]
  },
  {
   "cell_type": "markdown",
   "metadata": {},
   "source": [
    "Строим точетный график стоимости заказов по пользователлям, чтобы увидеть аномальную выручку заказов визульно. Для этого воспользуемся методом scatter()."
   ]
  },
  {
   "cell_type": "code",
   "execution_count": 48,
   "metadata": {},
   "outputs": [
    {
     "data": {
      "image/png": "[encoded data removed]",
      "text/plain": [
       "<Figure size 1080x432 with 1 Axes>"
      ]
     },
     "metadata": {
      "needs_background": "light"
     },
     "output_type": "display_data"
    }
   ],
   "source": [
    "# создаем серию номеров из чисел от 0 до количества наблюдений в ordersByUsers для присвоения пользователям номера\n",
    "x_values = pd.Series(range(0, len(df_orders['revenue'])))\n",
    "\n",
    "# Задаем размер графика\n",
    "fig = plt.figure(figsize=(15, 6))\n",
    "plt.scatter(x_values, df_orders['revenue'])\n",
    "\n",
    "plt.grid()\n",
    "plt.xlabel('Порядковый номер заказа')\n",
    "plt.ylabel('Стоимость заказов')\n",
    "plt.title('Диаграмма стоимости заказов');"
   ]
  },
  {
   "cell_type": "markdown",
   "metadata": {},
   "source": [
    "На графике стоимости заказов видны `2` явные аномалии `1294500` и `202740`, которые мы выявили на предварительом этапе. Для выбора границы аномальной стоимости заказов рассчитаем 90-й, 95-й, 98-й и 99-й выборочные перцентили стоимости заказов."
   ]
  },
  {
   "cell_type": "markdown",
   "metadata": {},
   "source": [
    "#### 2.3.4 Расчет выборочных персентилей для количества заказов пользователей"
   ]
  },
  {
   "cell_type": "code",
   "execution_count": 49,
   "metadata": {},
   "outputs": [
    {
     "data": {
      "text/html": [
       "<style  type=\"text/css\" >\n",
       "</style><table id=\"T_52d15_\" ><thead>    <tr>        <th class=\"blank level0\" ></th>        <th class=\"col_heading level0 col0\" >revenue</th>    </tr></thead><tbody>\n",
       "                <tr>\n",
       "                        <th id=\"T_52d15_level0_row0\" class=\"row_heading level0 row0\" >0.9</th>\n",
       "                        <td id=\"T_52d15_row0_col0\" class=\"data row0 col0\" >18,168</td>\n",
       "            </tr>\n",
       "            <tr>\n",
       "                        <th id=\"T_52d15_level0_row1\" class=\"row_heading level0 row1\" >0.95</th>\n",
       "                        <td id=\"T_52d15_row1_col0\" class=\"data row1 col0\" >28,000</td>\n",
       "            </tr>\n",
       "            <tr>\n",
       "                        <th id=\"T_52d15_level0_row2\" class=\"row_heading level0 row2\" >0.98</th>\n",
       "                        <td id=\"T_52d15_row2_col0\" class=\"data row2 col0\" >44,133</td>\n",
       "            </tr>\n",
       "            <tr>\n",
       "                        <th id=\"T_52d15_level0_row3\" class=\"row_heading level0 row3\" >0.99</th>\n",
       "                        <td id=\"T_52d15_row3_col0\" class=\"data row3 col0\" >58,233</td>\n",
       "            </tr>\n",
       "    </tbody></table>"
      ],
      "text/plain": [
       "<pandas.io.formats.style.Styler at 0x7f367dea5520>"
      ]
     },
     "execution_count": 49,
     "metadata": {},
     "output_type": "execute_result"
    }
   ],
   "source": [
    "(\n",
    "df_orders[['revenue']] \\\n",
    ".quantile([0.9, 0.95, 0.98, 0.99]) \n",
    ".style.format(\"{:,.0f}\")\n",
    ")"
   ]
  },
  {
   "cell_type": "markdown",
   "metadata": {},
   "source": [
    "Не более `5%` пользователей совершают заказы стоимость которых более `28000` и не более `1%` пользователей совершают заказы стоимость которых более `58233`. Возьмем стоимость заказа `28000` за границу аномальных значений количества заказов."
   ]
  },
  {
   "cell_type": "markdown",
   "metadata": {},
   "source": [
    "### 2.4 Анализ `A/B-теста`"
   ]
  },
  {
   "cell_type": "markdown",
   "metadata": {},
   "source": [
    "#### 2.4.1 Подготовка данных для расчета статистической значимости по `«сырым»` данным"
   ]
  },
  {
   "cell_type": "markdown",
   "metadata": {},
   "source": [
    "Подготовим данные для расчета статистической значимости различия между группами по `«сырым»` данным"
   ]
  },
  {
   "cell_type": "markdown",
   "metadata": {},
   "source": [
    "Выделяем данные по количеству посещений в группе A по дням"
   ]
  },
  {
   "cell_type": "code",
   "execution_count": 50,
   "metadata": {},
   "outputs": [
    {
     "data": {
      "text/html": [
       "<div>\n",
       "<style scoped>\n",
       "    .dataframe tbody tr th:only-of-type {\n",
       "        vertical-align: middle;\n",
       "    }\n",
       "\n",
       "    .dataframe tbody tr th {\n",
       "        vertical-align: top;\n",
       "    }\n",
       "\n",
       "    .dataframe thead th {\n",
       "        text-align: right;\n",
       "    }\n",
       "</style>\n",
       "<table border=\"1\" class=\"dataframe\">\n",
       "  <thead>\n",
       "    <tr style=\"text-align: right;\">\n",
       "      <th></th>\n",
       "      <th>date</th>\n",
       "      <th>visitorsPerDateA</th>\n",
       "    </tr>\n",
       "  </thead>\n",
       "  <tbody>\n",
       "    <tr>\n",
       "      <th>0</th>\n",
       "      <td>2019-08-01</td>\n",
       "      <td>719</td>\n",
       "    </tr>\n",
       "    <tr>\n",
       "      <th>1</th>\n",
       "      <td>2019-08-02</td>\n",
       "      <td>619</td>\n",
       "    </tr>\n",
       "    <tr>\n",
       "      <th>2</th>\n",
       "      <td>2019-08-03</td>\n",
       "      <td>507</td>\n",
       "    </tr>\n",
       "    <tr>\n",
       "      <th>3</th>\n",
       "      <td>2019-08-04</td>\n",
       "      <td>717</td>\n",
       "    </tr>\n",
       "    <tr>\n",
       "      <th>4</th>\n",
       "      <td>2019-08-05</td>\n",
       "      <td>756</td>\n",
       "    </tr>\n",
       "  </tbody>\n",
       "</table>\n",
       "</div>"
      ],
      "text/plain": [
       "        date  visitorsPerDateA\n",
       "0 2019-08-01               719\n",
       "1 2019-08-02               619\n",
       "2 2019-08-03               507\n",
       "3 2019-08-04               717\n",
       "4 2019-08-05               756"
      ]
     },
     "execution_count": 50,
     "metadata": {},
     "output_type": "execute_result"
    }
   ],
   "source": [
    "df_visitorsADaily = df_visitors[df_visitors['group'] == 'A'][['date', 'visitors']]\n",
    "df_visitorsADaily.columns = ['date', 'visitorsPerDateA']\n",
    "\n",
    "df_visitorsADaily.head()"
   ]
  },
  {
   "cell_type": "markdown",
   "metadata": {},
   "source": [
    "Считаем данные по количеству посещений в группе A по дням нарастающим итогом"
   ]
  },
  {
   "cell_type": "code",
   "execution_count": 51,
   "metadata": {},
   "outputs": [
    {
     "data": {
      "text/html": [
       "<div>\n",
       "<style scoped>\n",
       "    .dataframe tbody tr th:only-of-type {\n",
       "        vertical-align: middle;\n",
       "    }\n",
       "\n",
       "    .dataframe tbody tr th {\n",
       "        vertical-align: top;\n",
       "    }\n",
       "\n",
       "    .dataframe thead th {\n",
       "        text-align: right;\n",
       "    }\n",
       "</style>\n",
       "<table border=\"1\" class=\"dataframe\">\n",
       "  <thead>\n",
       "    <tr style=\"text-align: right;\">\n",
       "      <th></th>\n",
       "      <th>date</th>\n",
       "      <th>visitorsCummulativeA</th>\n",
       "    </tr>\n",
       "  </thead>\n",
       "  <tbody>\n",
       "    <tr>\n",
       "      <th>0</th>\n",
       "      <td>2019-08-01</td>\n",
       "      <td>719</td>\n",
       "    </tr>\n",
       "    <tr>\n",
       "      <th>1</th>\n",
       "      <td>2019-08-02</td>\n",
       "      <td>1338</td>\n",
       "    </tr>\n",
       "    <tr>\n",
       "      <th>2</th>\n",
       "      <td>2019-08-03</td>\n",
       "      <td>1845</td>\n",
       "    </tr>\n",
       "    <tr>\n",
       "      <th>3</th>\n",
       "      <td>2019-08-04</td>\n",
       "      <td>2562</td>\n",
       "    </tr>\n",
       "    <tr>\n",
       "      <th>4</th>\n",
       "      <td>2019-08-05</td>\n",
       "      <td>3318</td>\n",
       "    </tr>\n",
       "  </tbody>\n",
       "</table>\n",
       "</div>"
      ],
      "text/plain": [
       "        date  visitorsCummulativeA\n",
       "0 2019-08-01                   719\n",
       "1 2019-08-02                  1338\n",
       "2 2019-08-03                  1845\n",
       "3 2019-08-04                  2562\n",
       "4 2019-08-05                  3318"
      ]
     },
     "execution_count": 51,
     "metadata": {},
     "output_type": "execute_result"
    }
   ],
   "source": [
    "df_visitorsACummulative = df_visitorsADaily.apply(\n",
    "    lambda x: df_visitorsADaily[df_visitorsADaily['date'] <= x['date']].agg(\n",
    "        {'date': 'max', 'visitorsPerDateA': 'sum'}\n",
    "    ),\n",
    "    axis=1,\n",
    ")\n",
    "df_visitorsACummulative.columns = ['date', 'visitorsCummulativeA']\n",
    "\n",
    "df_visitorsACummulative.head()"
   ]
  },
  {
   "cell_type": "markdown",
   "metadata": {},
   "source": [
    "Выделяем данные по количеству посещений в группе B по дням"
   ]
  },
  {
   "cell_type": "code",
   "execution_count": 52,
   "metadata": {},
   "outputs": [
    {
     "data": {
      "text/html": [
       "<div>\n",
       "<style scoped>\n",
       "    .dataframe tbody tr th:only-of-type {\n",
       "        vertical-align: middle;\n",
       "    }\n",
       "\n",
       "    .dataframe tbody tr th {\n",
       "        vertical-align: top;\n",
       "    }\n",
       "\n",
       "    .dataframe thead th {\n",
       "        text-align: right;\n",
       "    }\n",
       "</style>\n",
       "<table border=\"1\" class=\"dataframe\">\n",
       "  <thead>\n",
       "    <tr style=\"text-align: right;\">\n",
       "      <th></th>\n",
       "      <th>date</th>\n",
       "      <th>visitorsPerDateB</th>\n",
       "    </tr>\n",
       "  </thead>\n",
       "  <tbody>\n",
       "    <tr>\n",
       "      <th>31</th>\n",
       "      <td>2019-08-01</td>\n",
       "      <td>713</td>\n",
       "    </tr>\n",
       "    <tr>\n",
       "      <th>32</th>\n",
       "      <td>2019-08-02</td>\n",
       "      <td>581</td>\n",
       "    </tr>\n",
       "    <tr>\n",
       "      <th>33</th>\n",
       "      <td>2019-08-03</td>\n",
       "      <td>509</td>\n",
       "    </tr>\n",
       "    <tr>\n",
       "      <th>34</th>\n",
       "      <td>2019-08-04</td>\n",
       "      <td>770</td>\n",
       "    </tr>\n",
       "    <tr>\n",
       "      <th>35</th>\n",
       "      <td>2019-08-05</td>\n",
       "      <td>707</td>\n",
       "    </tr>\n",
       "  </tbody>\n",
       "</table>\n",
       "</div>"
      ],
      "text/plain": [
       "         date  visitorsPerDateB\n",
       "31 2019-08-01               713\n",
       "32 2019-08-02               581\n",
       "33 2019-08-03               509\n",
       "34 2019-08-04               770\n",
       "35 2019-08-05               707"
      ]
     },
     "execution_count": 52,
     "metadata": {},
     "output_type": "execute_result"
    }
   ],
   "source": [
    "df_visitorsBDaily = df_visitors[df_visitors['group'] == 'B'][['date', 'visitors']]\n",
    "df_visitorsBDaily.columns = ['date', 'visitorsPerDateB']\n",
    "\n",
    "df_visitorsBDaily.head()"
   ]
  },
  {
   "cell_type": "markdown",
   "metadata": {},
   "source": [
    "Считаем данные по количеству посещений в группе A по дням нарастающим итогом"
   ]
  },
  {
   "cell_type": "code",
   "execution_count": 53,
   "metadata": {},
   "outputs": [
    {
     "data": {
      "text/html": [
       "<div>\n",
       "<style scoped>\n",
       "    .dataframe tbody tr th:only-of-type {\n",
       "        vertical-align: middle;\n",
       "    }\n",
       "\n",
       "    .dataframe tbody tr th {\n",
       "        vertical-align: top;\n",
       "    }\n",
       "\n",
       "    .dataframe thead th {\n",
       "        text-align: right;\n",
       "    }\n",
       "</style>\n",
       "<table border=\"1\" class=\"dataframe\">\n",
       "  <thead>\n",
       "    <tr style=\"text-align: right;\">\n",
       "      <th></th>\n",
       "      <th>date</th>\n",
       "      <th>visitorsCummulativeB</th>\n",
       "    </tr>\n",
       "  </thead>\n",
       "  <tbody>\n",
       "    <tr>\n",
       "      <th>31</th>\n",
       "      <td>2019-08-01</td>\n",
       "      <td>713</td>\n",
       "    </tr>\n",
       "    <tr>\n",
       "      <th>32</th>\n",
       "      <td>2019-08-02</td>\n",
       "      <td>1294</td>\n",
       "    </tr>\n",
       "    <tr>\n",
       "      <th>33</th>\n",
       "      <td>2019-08-03</td>\n",
       "      <td>1803</td>\n",
       "    </tr>\n",
       "    <tr>\n",
       "      <th>34</th>\n",
       "      <td>2019-08-04</td>\n",
       "      <td>2573</td>\n",
       "    </tr>\n",
       "    <tr>\n",
       "      <th>35</th>\n",
       "      <td>2019-08-05</td>\n",
       "      <td>3280</td>\n",
       "    </tr>\n",
       "  </tbody>\n",
       "</table>\n",
       "</div>"
      ],
      "text/plain": [
       "         date  visitorsCummulativeB\n",
       "31 2019-08-01                   713\n",
       "32 2019-08-02                  1294\n",
       "33 2019-08-03                  1803\n",
       "34 2019-08-04                  2573\n",
       "35 2019-08-05                  3280"
      ]
     },
     "execution_count": 53,
     "metadata": {},
     "output_type": "execute_result"
    }
   ],
   "source": [
    "df_visitorsBCummulative = df_visitorsBDaily.apply(\n",
    "    lambda x: df_visitorsBDaily[df_visitorsBDaily['date'] <= x['date']].agg(\n",
    "        {'date': 'max', 'visitorsPerDateB': 'sum'}\n",
    "    ),\n",
    "    axis=1,\n",
    ")\n",
    "df_visitorsBCummulative.columns = ['date', 'visitorsCummulativeB']\n",
    "\n",
    "df_visitorsBCummulative.head()"
   ]
  },
  {
   "cell_type": "markdown",
   "metadata": {},
   "source": [
    "Выделяем данные по количеству заказов и суммарной выручке в группе A по дням"
   ]
  },
  {
   "cell_type": "code",
   "execution_count": 54,
   "metadata": {},
   "outputs": [
    {
     "data": {
      "text/html": [
       "<div>\n",
       "<style scoped>\n",
       "    .dataframe tbody tr th:only-of-type {\n",
       "        vertical-align: middle;\n",
       "    }\n",
       "\n",
       "    .dataframe tbody tr th {\n",
       "        vertical-align: top;\n",
       "    }\n",
       "\n",
       "    .dataframe thead th {\n",
       "        text-align: right;\n",
       "    }\n",
       "</style>\n",
       "<table border=\"1\" class=\"dataframe\">\n",
       "  <thead>\n",
       "    <tr style=\"text-align: right;\">\n",
       "      <th></th>\n",
       "      <th>date</th>\n",
       "      <th>ordersPerDateA</th>\n",
       "      <th>revenuePerDateA</th>\n",
       "    </tr>\n",
       "  </thead>\n",
       "  <tbody>\n",
       "    <tr>\n",
       "      <th>0</th>\n",
       "      <td>2019-08-01</td>\n",
       "      <td>24</td>\n",
       "      <td>148579</td>\n",
       "    </tr>\n",
       "    <tr>\n",
       "      <th>1</th>\n",
       "      <td>2019-08-02</td>\n",
       "      <td>20</td>\n",
       "      <td>93822</td>\n",
       "    </tr>\n",
       "    <tr>\n",
       "      <th>2</th>\n",
       "      <td>2019-08-03</td>\n",
       "      <td>24</td>\n",
       "      <td>112473</td>\n",
       "    </tr>\n",
       "    <tr>\n",
       "      <th>3</th>\n",
       "      <td>2019-08-04</td>\n",
       "      <td>16</td>\n",
       "      <td>70825</td>\n",
       "    </tr>\n",
       "    <tr>\n",
       "      <th>4</th>\n",
       "      <td>2019-08-05</td>\n",
       "      <td>25</td>\n",
       "      <td>124218</td>\n",
       "    </tr>\n",
       "  </tbody>\n",
       "</table>\n",
       "</div>"
      ],
      "text/plain": [
       "        date  ordersPerDateA  revenuePerDateA\n",
       "0 2019-08-01              24           148579\n",
       "1 2019-08-02              20            93822\n",
       "2 2019-08-03              24           112473\n",
       "3 2019-08-04              16            70825\n",
       "4 2019-08-05              25           124218"
      ]
     },
     "execution_count": 54,
     "metadata": {},
     "output_type": "execute_result"
    }
   ],
   "source": [
    "df_ordersADaily = (\n",
    "    df_orders[df_orders['group'] == 'A'][['date', 'transactionId', 'visitorId', 'revenue']]\n",
    "    .groupby('date', as_index=False)\n",
    "    .agg({'transactionId': pd.Series.nunique, 'revenue': 'sum'})\n",
    ")\n",
    "df_ordersADaily.columns = ['date', 'ordersPerDateA', 'revenuePerDateA']\n",
    "\n",
    "df_ordersADaily.head()"
   ]
  },
  {
   "cell_type": "markdown",
   "metadata": {},
   "source": [
    "Считаем данные по количеству заказов и суммарной выручке в группе A по дням нарастающим итогом"
   ]
  },
  {
   "cell_type": "code",
   "execution_count": 55,
   "metadata": {},
   "outputs": [
    {
     "data": {
      "text/html": [
       "<div>\n",
       "<style scoped>\n",
       "    .dataframe tbody tr th:only-of-type {\n",
       "        vertical-align: middle;\n",
       "    }\n",
       "\n",
       "    .dataframe tbody tr th {\n",
       "        vertical-align: top;\n",
       "    }\n",
       "\n",
       "    .dataframe thead th {\n",
       "        text-align: right;\n",
       "    }\n",
       "</style>\n",
       "<table border=\"1\" class=\"dataframe\">\n",
       "  <thead>\n",
       "    <tr style=\"text-align: right;\">\n",
       "      <th></th>\n",
       "      <th>date</th>\n",
       "      <th>ordersCummulativeA</th>\n",
       "      <th>revenueCummulativeA</th>\n",
       "    </tr>\n",
       "  </thead>\n",
       "  <tbody>\n",
       "    <tr>\n",
       "      <th>0</th>\n",
       "      <td>2019-08-01</td>\n",
       "      <td>24</td>\n",
       "      <td>148579</td>\n",
       "    </tr>\n",
       "    <tr>\n",
       "      <th>1</th>\n",
       "      <td>2019-08-02</td>\n",
       "      <td>44</td>\n",
       "      <td>242401</td>\n",
       "    </tr>\n",
       "    <tr>\n",
       "      <th>2</th>\n",
       "      <td>2019-08-03</td>\n",
       "      <td>68</td>\n",
       "      <td>354874</td>\n",
       "    </tr>\n",
       "    <tr>\n",
       "      <th>3</th>\n",
       "      <td>2019-08-04</td>\n",
       "      <td>84</td>\n",
       "      <td>425699</td>\n",
       "    </tr>\n",
       "    <tr>\n",
       "      <th>4</th>\n",
       "      <td>2019-08-05</td>\n",
       "      <td>109</td>\n",
       "      <td>549917</td>\n",
       "    </tr>\n",
       "  </tbody>\n",
       "</table>\n",
       "</div>"
      ],
      "text/plain": [
       "        date  ordersCummulativeA  revenueCummulativeA\n",
       "0 2019-08-01                  24               148579\n",
       "1 2019-08-02                  44               242401\n",
       "2 2019-08-03                  68               354874\n",
       "3 2019-08-04                  84               425699\n",
       "4 2019-08-05                 109               549917"
      ]
     },
     "execution_count": 55,
     "metadata": {},
     "output_type": "execute_result"
    }
   ],
   "source": [
    "df_ordersACummulative = df_ordersADaily.apply(\n",
    "    lambda x: df_ordersADaily[df_ordersADaily['date'] <= x['date']].agg(\n",
    "        {'date': 'max', 'ordersPerDateA': 'sum', 'revenuePerDateA': 'sum'}\n",
    "    ),\n",
    "    axis=1,\n",
    ").sort_values(by=['date'])\n",
    "df_ordersACummulative.columns = [\n",
    "    'date',\n",
    "    'ordersCummulativeA',\n",
    "    'revenueCummulativeA',\n",
    "]\n",
    "\n",
    "df_ordersACummulative.head()"
   ]
  },
  {
   "cell_type": "markdown",
   "metadata": {},
   "source": [
    "Выделяем данные по количеству заказов и суммарной выручке в группе B по дням"
   ]
  },
  {
   "cell_type": "code",
   "execution_count": 56,
   "metadata": {},
   "outputs": [
    {
     "data": {
      "text/html": [
       "<div>\n",
       "<style scoped>\n",
       "    .dataframe tbody tr th:only-of-type {\n",
       "        vertical-align: middle;\n",
       "    }\n",
       "\n",
       "    .dataframe tbody tr th {\n",
       "        vertical-align: top;\n",
       "    }\n",
       "\n",
       "    .dataframe thead th {\n",
       "        text-align: right;\n",
       "    }\n",
       "</style>\n",
       "<table border=\"1\" class=\"dataframe\">\n",
       "  <thead>\n",
       "    <tr style=\"text-align: right;\">\n",
       "      <th></th>\n",
       "      <th>date</th>\n",
       "      <th>ordersPerDateB</th>\n",
       "      <th>revenuePerDateB</th>\n",
       "    </tr>\n",
       "  </thead>\n",
       "  <tbody>\n",
       "    <tr>\n",
       "      <th>0</th>\n",
       "      <td>2019-08-01</td>\n",
       "      <td>21</td>\n",
       "      <td>101217</td>\n",
       "    </tr>\n",
       "    <tr>\n",
       "      <th>1</th>\n",
       "      <td>2019-08-02</td>\n",
       "      <td>24</td>\n",
       "      <td>165531</td>\n",
       "    </tr>\n",
       "    <tr>\n",
       "      <th>2</th>\n",
       "      <td>2019-08-03</td>\n",
       "      <td>16</td>\n",
       "      <td>114248</td>\n",
       "    </tr>\n",
       "    <tr>\n",
       "      <th>3</th>\n",
       "      <td>2019-08-04</td>\n",
       "      <td>17</td>\n",
       "      <td>108571</td>\n",
       "    </tr>\n",
       "    <tr>\n",
       "      <th>4</th>\n",
       "      <td>2019-08-05</td>\n",
       "      <td>23</td>\n",
       "      <td>92428</td>\n",
       "    </tr>\n",
       "  </tbody>\n",
       "</table>\n",
       "</div>"
      ],
      "text/plain": [
       "        date  ordersPerDateB  revenuePerDateB\n",
       "0 2019-08-01              21           101217\n",
       "1 2019-08-02              24           165531\n",
       "2 2019-08-03              16           114248\n",
       "3 2019-08-04              17           108571\n",
       "4 2019-08-05              23            92428"
      ]
     },
     "execution_count": 56,
     "metadata": {},
     "output_type": "execute_result"
    }
   ],
   "source": [
    "df_ordersBDaily = (\n",
    "    df_orders[df_orders['group'] == 'B'][['date', 'transactionId', 'visitorId', 'revenue']]\n",
    "    .groupby('date', as_index=False)\n",
    "    .agg({'transactionId': pd.Series.nunique, 'revenue': 'sum'})\n",
    ")\n",
    "df_ordersBDaily.columns = ['date', 'ordersPerDateB', 'revenuePerDateB']\n",
    "\n",
    "df_ordersBDaily.head()"
   ]
  },
  {
   "cell_type": "markdown",
   "metadata": {},
   "source": [
    "Считаем данные по количеству заказов и суммарной выручке в группе B по дням нарастающим итогом"
   ]
  },
  {
   "cell_type": "code",
   "execution_count": 57,
   "metadata": {},
   "outputs": [
    {
     "data": {
      "text/html": [
       "<div>\n",
       "<style scoped>\n",
       "    .dataframe tbody tr th:only-of-type {\n",
       "        vertical-align: middle;\n",
       "    }\n",
       "\n",
       "    .dataframe tbody tr th {\n",
       "        vertical-align: top;\n",
       "    }\n",
       "\n",
       "    .dataframe thead th {\n",
       "        text-align: right;\n",
       "    }\n",
       "</style>\n",
       "<table border=\"1\" class=\"dataframe\">\n",
       "  <thead>\n",
       "    <tr style=\"text-align: right;\">\n",
       "      <th></th>\n",
       "      <th>date</th>\n",
       "      <th>ordersCummulativeB</th>\n",
       "      <th>revenueCummulativeB</th>\n",
       "    </tr>\n",
       "  </thead>\n",
       "  <tbody>\n",
       "    <tr>\n",
       "      <th>0</th>\n",
       "      <td>2019-08-01</td>\n",
       "      <td>21</td>\n",
       "      <td>101217</td>\n",
       "    </tr>\n",
       "    <tr>\n",
       "      <th>1</th>\n",
       "      <td>2019-08-02</td>\n",
       "      <td>45</td>\n",
       "      <td>266748</td>\n",
       "    </tr>\n",
       "    <tr>\n",
       "      <th>2</th>\n",
       "      <td>2019-08-03</td>\n",
       "      <td>61</td>\n",
       "      <td>380996</td>\n",
       "    </tr>\n",
       "    <tr>\n",
       "      <th>3</th>\n",
       "      <td>2019-08-04</td>\n",
       "      <td>78</td>\n",
       "      <td>489567</td>\n",
       "    </tr>\n",
       "    <tr>\n",
       "      <th>4</th>\n",
       "      <td>2019-08-05</td>\n",
       "      <td>101</td>\n",
       "      <td>581995</td>\n",
       "    </tr>\n",
       "  </tbody>\n",
       "</table>\n",
       "</div>"
      ],
      "text/plain": [
       "        date  ordersCummulativeB  revenueCummulativeB\n",
       "0 2019-08-01                  21               101217\n",
       "1 2019-08-02                  45               266748\n",
       "2 2019-08-03                  61               380996\n",
       "3 2019-08-04                  78               489567\n",
       "4 2019-08-05                 101               581995"
      ]
     },
     "execution_count": 57,
     "metadata": {},
     "output_type": "execute_result"
    }
   ],
   "source": [
    "df_ordersBCummulative = df_ordersBDaily.apply(\n",
    "    lambda x: df_ordersBDaily[df_ordersBDaily['date'] <= x['date']].agg(\n",
    "        {'date': 'max', 'ordersPerDateB': 'sum', 'revenuePerDateB': 'sum'}\n",
    "    ),\n",
    "    axis=1,\n",
    ").sort_values(by=['date'])\n",
    "df_ordersBCummulative.columns = [\n",
    "    'date',\n",
    "    'ordersCummulativeB',\n",
    "    'revenueCummulativeB',\n",
    "]\n",
    "\n",
    "df_ordersBCummulative.head()"
   ]
  },
  {
   "cell_type": "markdown",
   "metadata": {},
   "source": [
    "Собираем все данные в одну таблицу"
   ]
  },
  {
   "cell_type": "code",
   "execution_count": 58,
   "metadata": {},
   "outputs": [
    {
     "data": {
      "text/html": [
       "<div>\n",
       "<style scoped>\n",
       "    .dataframe tbody tr th:only-of-type {\n",
       "        vertical-align: middle;\n",
       "    }\n",
       "\n",
       "    .dataframe tbody tr th {\n",
       "        vertical-align: top;\n",
       "    }\n",
       "\n",
       "    .dataframe thead th {\n",
       "        text-align: right;\n",
       "    }\n",
       "</style>\n",
       "<table border=\"1\" class=\"dataframe\">\n",
       "  <thead>\n",
       "    <tr style=\"text-align: right;\">\n",
       "      <th></th>\n",
       "      <th>date</th>\n",
       "      <th>ordersPerDateA</th>\n",
       "      <th>revenuePerDateA</th>\n",
       "      <th>ordersPerDateB</th>\n",
       "      <th>revenuePerDateB</th>\n",
       "      <th>ordersCummulativeA</th>\n",
       "      <th>revenueCummulativeA</th>\n",
       "      <th>ordersCummulativeB</th>\n",
       "      <th>revenueCummulativeB</th>\n",
       "      <th>visitorsPerDateA</th>\n",
       "      <th>visitorsPerDateB</th>\n",
       "      <th>visitorsCummulativeA</th>\n",
       "      <th>visitorsCummulativeB</th>\n",
       "    </tr>\n",
       "  </thead>\n",
       "  <tbody>\n",
       "    <tr>\n",
       "      <th>0</th>\n",
       "      <td>2019-08-01</td>\n",
       "      <td>24</td>\n",
       "      <td>148579</td>\n",
       "      <td>21</td>\n",
       "      <td>101217</td>\n",
       "      <td>24</td>\n",
       "      <td>148579</td>\n",
       "      <td>21</td>\n",
       "      <td>101217</td>\n",
       "      <td>719</td>\n",
       "      <td>713</td>\n",
       "      <td>719</td>\n",
       "      <td>713</td>\n",
       "    </tr>\n",
       "    <tr>\n",
       "      <th>1</th>\n",
       "      <td>2019-08-02</td>\n",
       "      <td>20</td>\n",
       "      <td>93822</td>\n",
       "      <td>24</td>\n",
       "      <td>165531</td>\n",
       "      <td>44</td>\n",
       "      <td>242401</td>\n",
       "      <td>45</td>\n",
       "      <td>266748</td>\n",
       "      <td>619</td>\n",
       "      <td>581</td>\n",
       "      <td>1338</td>\n",
       "      <td>1294</td>\n",
       "    </tr>\n",
       "    <tr>\n",
       "      <th>2</th>\n",
       "      <td>2019-08-03</td>\n",
       "      <td>24</td>\n",
       "      <td>112473</td>\n",
       "      <td>16</td>\n",
       "      <td>114248</td>\n",
       "      <td>68</td>\n",
       "      <td>354874</td>\n",
       "      <td>61</td>\n",
       "      <td>380996</td>\n",
       "      <td>507</td>\n",
       "      <td>509</td>\n",
       "      <td>1845</td>\n",
       "      <td>1803</td>\n",
       "    </tr>\n",
       "    <tr>\n",
       "      <th>3</th>\n",
       "      <td>2019-08-04</td>\n",
       "      <td>16</td>\n",
       "      <td>70825</td>\n",
       "      <td>17</td>\n",
       "      <td>108571</td>\n",
       "      <td>84</td>\n",
       "      <td>425699</td>\n",
       "      <td>78</td>\n",
       "      <td>489567</td>\n",
       "      <td>717</td>\n",
       "      <td>770</td>\n",
       "      <td>2562</td>\n",
       "      <td>2573</td>\n",
       "    </tr>\n",
       "    <tr>\n",
       "      <th>4</th>\n",
       "      <td>2019-08-05</td>\n",
       "      <td>25</td>\n",
       "      <td>124218</td>\n",
       "      <td>23</td>\n",
       "      <td>92428</td>\n",
       "      <td>109</td>\n",
       "      <td>549917</td>\n",
       "      <td>101</td>\n",
       "      <td>581995</td>\n",
       "      <td>756</td>\n",
       "      <td>707</td>\n",
       "      <td>3318</td>\n",
       "      <td>3280</td>\n",
       "    </tr>\n",
       "  </tbody>\n",
       "</table>\n",
       "</div>"
      ],
      "text/plain": [
       "        date  ordersPerDateA  revenuePerDateA  ordersPerDateB  \\\n",
       "0 2019-08-01              24           148579              21   \n",
       "1 2019-08-02              20            93822              24   \n",
       "2 2019-08-03              24           112473              16   \n",
       "3 2019-08-04              16            70825              17   \n",
       "4 2019-08-05              25           124218              23   \n",
       "\n",
       "   revenuePerDateB  ordersCummulativeA  revenueCummulativeA  \\\n",
       "0           101217                  24               148579   \n",
       "1           165531                  44               242401   \n",
       "2           114248                  68               354874   \n",
       "3           108571                  84               425699   \n",
       "4            92428                 109               549917   \n",
       "\n",
       "   ordersCummulativeB  revenueCummulativeB  visitorsPerDateA  \\\n",
       "0                  21               101217               719   \n",
       "1                  45               266748               619   \n",
       "2                  61               380996               507   \n",
       "3                  78               489567               717   \n",
       "4                 101               581995               756   \n",
       "\n",
       "   visitorsPerDateB  visitorsCummulativeA  visitorsCummulativeB  \n",
       "0               713                   719                   713  \n",
       "1               581                  1338                  1294  \n",
       "2               509                  1845                  1803  \n",
       "3               770                  2562                  2573  \n",
       "4               707                  3318                  3280  "
      ]
     },
     "execution_count": 58,
     "metadata": {},
     "output_type": "execute_result"
    }
   ],
   "source": [
    "data = (\n",
    "    df_ordersADaily.merge(\n",
    "        df_ordersBDaily, left_on='date', right_on='date', how='left'\n",
    "    )\n",
    "    .merge(df_ordersACummulative, left_on='date', right_on='date', how='left')\n",
    "    .merge(df_ordersBCummulative, left_on='date', right_on='date', how='left')\n",
    "    .merge(df_visitorsADaily, left_on='date', right_on='date', how='left')\n",
    "    .merge(df_visitorsBDaily, left_on='date', right_on='date', how='left')\n",
    "    .merge(df_visitorsACummulative, left_on='date', right_on='date', how='left')\n",
    "    .merge(df_visitorsBCummulative, left_on='date', right_on='date', how='left')\n",
    ")\n",
    "\n",
    "data.head()"
   ]
  },
  {
   "cell_type": "markdown",
   "metadata": {},
   "source": [
    "Считаем данные по количеству заказов у пользователей в группе A"
   ]
  },
  {
   "cell_type": "code",
   "execution_count": 59,
   "metadata": {},
   "outputs": [
    {
     "data": {
      "text/html": [
       "<div>\n",
       "<style scoped>\n",
       "    .dataframe tbody tr th:only-of-type {\n",
       "        vertical-align: middle;\n",
       "    }\n",
       "\n",
       "    .dataframe tbody tr th {\n",
       "        vertical-align: top;\n",
       "    }\n",
       "\n",
       "    .dataframe thead th {\n",
       "        text-align: right;\n",
       "    }\n",
       "</style>\n",
       "<table border=\"1\" class=\"dataframe\">\n",
       "  <thead>\n",
       "    <tr style=\"text-align: right;\">\n",
       "      <th></th>\n",
       "      <th>visitorId</th>\n",
       "      <th>orders</th>\n",
       "    </tr>\n",
       "  </thead>\n",
       "  <tbody>\n",
       "    <tr>\n",
       "      <th>0</th>\n",
       "      <td>8300375</td>\n",
       "      <td>1</td>\n",
       "    </tr>\n",
       "    <tr>\n",
       "      <th>1</th>\n",
       "      <td>11685486</td>\n",
       "      <td>1</td>\n",
       "    </tr>\n",
       "    <tr>\n",
       "      <th>2</th>\n",
       "      <td>54447517</td>\n",
       "      <td>1</td>\n",
       "    </tr>\n",
       "    <tr>\n",
       "      <th>3</th>\n",
       "      <td>66685450</td>\n",
       "      <td>1</td>\n",
       "    </tr>\n",
       "    <tr>\n",
       "      <th>4</th>\n",
       "      <td>78758296</td>\n",
       "      <td>1</td>\n",
       "    </tr>\n",
       "  </tbody>\n",
       "</table>\n",
       "</div>"
      ],
      "text/plain": [
       "   visitorId  orders\n",
       "0    8300375       1\n",
       "1   11685486       1\n",
       "2   54447517       1\n",
       "3   66685450       1\n",
       "4   78758296       1"
      ]
     },
     "execution_count": 59,
     "metadata": {},
     "output_type": "execute_result"
    }
   ],
   "source": [
    "ordersByUsersA = (\n",
    "    df_orders[df_orders['group'] == 'A']\n",
    "    .groupby('visitorId', as_index=False)\n",
    "    .agg({'transactionId': pd.Series.nunique})\n",
    ")\n",
    "ordersByUsersA.columns = ['visitorId', 'orders']\n",
    "\n",
    "ordersByUsersA.head()"
   ]
  },
  {
   "cell_type": "markdown",
   "metadata": {},
   "source": [
    "Считаем данные по количеству заказов у пользователей в группе B"
   ]
  },
  {
   "cell_type": "code",
   "execution_count": 60,
   "metadata": {},
   "outputs": [
    {
     "data": {
      "text/html": [
       "<div>\n",
       "<style scoped>\n",
       "    .dataframe tbody tr th:only-of-type {\n",
       "        vertical-align: middle;\n",
       "    }\n",
       "\n",
       "    .dataframe tbody tr th {\n",
       "        vertical-align: top;\n",
       "    }\n",
       "\n",
       "    .dataframe thead th {\n",
       "        text-align: right;\n",
       "    }\n",
       "</style>\n",
       "<table border=\"1\" class=\"dataframe\">\n",
       "  <thead>\n",
       "    <tr style=\"text-align: right;\">\n",
       "      <th></th>\n",
       "      <th>visitorId</th>\n",
       "      <th>orders</th>\n",
       "    </tr>\n",
       "  </thead>\n",
       "  <tbody>\n",
       "    <tr>\n",
       "      <th>0</th>\n",
       "      <td>5114589</td>\n",
       "      <td>1</td>\n",
       "    </tr>\n",
       "    <tr>\n",
       "      <th>1</th>\n",
       "      <td>6958315</td>\n",
       "      <td>1</td>\n",
       "    </tr>\n",
       "    <tr>\n",
       "      <th>2</th>\n",
       "      <td>8300375</td>\n",
       "      <td>1</td>\n",
       "    </tr>\n",
       "    <tr>\n",
       "      <th>3</th>\n",
       "      <td>39475350</td>\n",
       "      <td>1</td>\n",
       "    </tr>\n",
       "    <tr>\n",
       "      <th>4</th>\n",
       "      <td>47206413</td>\n",
       "      <td>1</td>\n",
       "    </tr>\n",
       "  </tbody>\n",
       "</table>\n",
       "</div>"
      ],
      "text/plain": [
       "   visitorId  orders\n",
       "0    5114589       1\n",
       "1    6958315       1\n",
       "2    8300375       1\n",
       "3   39475350       1\n",
       "4   47206413       1"
      ]
     },
     "execution_count": 60,
     "metadata": {},
     "output_type": "execute_result"
    }
   ],
   "source": [
    "ordersByUsersB = (\n",
    "    df_orders[df_orders['group'] == 'B']\n",
    "    .groupby('visitorId', as_index=False)\n",
    "    .agg({'transactionId': pd.Series.nunique})\n",
    ")\n",
    "ordersByUsersB.columns = ['visitorId', 'orders']\n",
    "\n",
    "ordersByUsersB.head()"
   ]
  },
  {
   "cell_type": "markdown",
   "metadata": {},
   "source": [
    "#### 2.4.2 Статистическая значимость в среднем количестве заказов пользователя по `«сырым»` данным"
   ]
  },
  {
   "cell_type": "markdown",
   "metadata": {},
   "source": [
    "Проверим гипотезы о различии показателей по количеству заказов в группах А и В.  \n",
    "\n",
    "Гипотезы:  \n",
    "H0: статистически значимых различий в количестве заказов нет.  \n",
    "H1: статистически значимые различия в количестве заказов есть. \n",
    "\n",
    "Для расчета статистической значимости различий в количестве заказов, передадим критерию mannwhitneyu() данные о количестве заказов."
   ]
  },
  {
   "cell_type": "markdown",
   "metadata": {},
   "source": [
    "Формируем таблицу с количеством заказов посетителей группы `A` по `«сырым»` данным, где каждому посетителю присвоен порядковый номер. В случае, если посетитель не делал заказ, то ему будет присвоено количество заказов равное нулю."
   ]
  },
  {
   "cell_type": "code",
   "execution_count": 61,
   "metadata": {},
   "outputs": [
    {
     "data": {
      "text/plain": [
       "0    1\n",
       "1    1\n",
       "2    1\n",
       "3    1\n",
       "4    1\n",
       "Name: orders, dtype: int64"
      ]
     },
     "execution_count": 61,
     "metadata": {},
     "output_type": "execute_result"
    }
   ],
   "source": [
    "sampleA = pd.concat(\n",
    "    [\n",
    "        ordersByUsersA['orders'],\n",
    "        pd.Series(\n",
    "            0,\n",
    "            index=np.arange(\n",
    "                data['visitorsPerDateA'].sum() - len(ordersByUsersA['orders'])\n",
    "            ),\n",
    "            name='orders',\n",
    "        ),\n",
    "    ],\n",
    "    axis=0,\n",
    ")\n",
    "\n",
    "sampleA.head()"
   ]
  },
  {
   "cell_type": "markdown",
   "metadata": {},
   "source": [
    "Формируем таблицу с количеством заказов посетителей группы `B` по `«сырым»` данным, где каждому посетителю присвоен порядковый номер. В случае, если посетитель не делал заказ, то ему будет присвоено количество заказов равное нулю."
   ]
  },
  {
   "cell_type": "code",
   "execution_count": 62,
   "metadata": {},
   "outputs": [
    {
     "data": {
      "text/plain": [
       "0    1\n",
       "1    1\n",
       "2    1\n",
       "3    1\n",
       "4    1\n",
       "Name: orders, dtype: int64"
      ]
     },
     "execution_count": 62,
     "metadata": {},
     "output_type": "execute_result"
    }
   ],
   "source": [
    "sampleB = pd.concat(\n",
    "    [\n",
    "        ordersByUsersB['orders'],\n",
    "        pd.Series(\n",
    "            0,\n",
    "            index=np.arange(\n",
    "                data['visitorsPerDateB'].sum() - len(ordersByUsersB['orders'])\n",
    "            ),\n",
    "            name='orders',\n",
    "        ),\n",
    "    ],\n",
    "    axis=0,\n",
    ")\n",
    "\n",
    "sampleB.head()"
   ]
  },
  {
   "cell_type": "code",
   "execution_count": 63,
   "metadata": {},
   "outputs": [
    {
     "name": "stdout",
     "output_type": "stream",
     "text": [
      "Отвергаем нулевую гипотезу. \n",
      "У нас есть статистически значимые различия между количеством заказов по `«сырым»` данным.\n",
      "Значение p-value = 0.017\n",
      "Количество заказов в группе B больше чем в группе A на 13.81%\n"
     ]
    }
   ],
   "source": [
    "alpha = 0.05\n",
    "#Считаем p-value\n",
    "p_value = stats.mannwhitneyu(sampleA, sampleB)[1]\n",
    "delta_user_orders_B_to_A = 100*(sampleB.mean() / sampleA.mean() - 1)\n",
    "\n",
    "if p_value < alpha:\n",
    "    print(f\"\"\"Отвергаем нулевую гипотезу. \n",
    "У нас есть статистически значимые различия между количеством заказов по `«сырым»` данным.\n",
    "Значение p-value = {p_value.round(3)}\"\"\")\n",
    "    print(f'Количество заказов в группе B больше чем в группе A на {delta_user_orders_B_to_A.round(2)}%')\n",
    "else:\n",
    "    print(\"Не получилось отвергнуть нулевую гипотезу. Статистически значимых различий по `«сырым»` данным нет.\")"
   ]
  },
  {
   "cell_type": "markdown",
   "metadata": {},
   "source": [
    "#### 2.4.3 Статистическая значимость в среднем чеке пользователя по `«сырым»` данным"
   ]
  },
  {
   "cell_type": "markdown",
   "metadata": {},
   "source": [
    "Проверим гипотезы о различии показателей в среднем чеке в группах А и В.  \n",
    "\n",
    "Гипотезы:  \n",
    "H0: статистически значимых различий в среднем чеке нет.  \n",
    "H1: статистически значимые различия в среднем чеке есть. \n",
    "\n",
    "Для расчета статистической значимости различий по среднему чеку, передадим критерию mannwhitneyu() данные о стоимости заказов."
   ]
  },
  {
   "cell_type": "markdown",
   "metadata": {},
   "source": [
    "Формируем сырые данные по выручке пользователей для группы `A`"
   ]
  },
  {
   "cell_type": "code",
   "execution_count": 64,
   "metadata": {},
   "outputs": [
    {
     "data": {
      "text/plain": [
       "2       400\n",
       "7      1044\n",
       "8     13710\n",
       "10     4008\n",
       "12     7370\n",
       "Name: revenue, dtype: int64"
      ]
     },
     "execution_count": 64,
     "metadata": {},
     "output_type": "execute_result"
    }
   ],
   "source": [
    "sample_A = df_orders[df_orders['group']=='A']['revenue']\n",
    "\n",
    "sample_A.head()"
   ]
  },
  {
   "cell_type": "markdown",
   "metadata": {},
   "source": [
    "Формируем сырые данные по выручке пользователей для группы `B`"
   ]
  },
  {
   "cell_type": "code",
   "execution_count": 65,
   "metadata": {},
   "outputs": [
    {
     "data": {
      "text/plain": [
       "0    1650\n",
       "1     730\n",
       "3    9759\n",
       "4    2308\n",
       "5    2210\n",
       "Name: revenue, dtype: int64"
      ]
     },
     "execution_count": 65,
     "metadata": {},
     "output_type": "execute_result"
    }
   ],
   "source": [
    "sample_B = df_orders[df_orders['group']=='B']['revenue']\n",
    "\n",
    "sample_B.head()"
   ]
  },
  {
   "cell_type": "code",
   "execution_count": 66,
   "metadata": {
    "scrolled": true
   },
   "outputs": [
    {
     "name": "stdout",
     "output_type": "stream",
     "text": [
      "Не получилось отвергнуть нулевую гипотезу. Статистически значимых различий в среднем чеке по «сырым» данным нет.\n",
      "Значение p-value = 0.729\n",
      "Средний чек в группе B больше среднего чека в группе A на 25.87%\n"
     ]
    }
   ],
   "source": [
    "alpha = 0.05\n",
    "#Считаем p-value\n",
    "p_value = stats.mannwhitneyu(sample_A, sample_B)[1]\n",
    "delta_order_revenue_B_to_A = 100*(sample_B.mean() / sample_A.mean() - 1)\n",
    "\n",
    "if p_value < alpha:\n",
    "    print(f\"\"\"Отвергаем нулевую гипотезу. \n",
    "У нас есть статистически значимые различия между средним чеком по «сырым» данным.\n",
    "Значение p-value = {p_value.round(3)}\"\"\")\n",
    "    print(f'Средний чек в группе B больше среднего чека в группе A на {delta_order_revenue_B_to_A.round(2)}%')\n",
    "else:\n",
    "    print(f\"\"\"Не получилось отвергнуть нулевую гипотезу. Статистически значимых различий в среднем чеке по «сырым» данным нет.\n",
    "Значение p-value = {p_value.round(3)}\"\"\")\n",
    "print(f'Средний чек в группе B больше среднего чека в группе A на {delta_order_revenue_B_to_A.round(2)}%')"
   ]
  },
  {
   "cell_type": "markdown",
   "metadata": {},
   "source": [
    "Итак, наблюдаемое различие в 25.87% между средними чеками пользователей не является статистически значимым. Мы не можем отвергнуть нулевую гипотезу."
   ]
  },
  {
   "cell_type": "markdown",
   "metadata": {},
   "source": [
    "#### 2.4.4 Подготовка данных для расчета статистической значимости по `«очищенным»` данным"
   ]
  },
  {
   "cell_type": "markdown",
   "metadata": {},
   "source": [
    "Подготовим данные для расчета статистической значимости между группами по `«очищенным»` данным"
   ]
  },
  {
   "cell_type": "markdown",
   "metadata": {},
   "source": [
    "Задаем границы аномальных пользователей как 95 персентиль"
   ]
  },
  {
   "cell_type": "code",
   "execution_count": 67,
   "metadata": {},
   "outputs": [],
   "source": [
    "orders_lim = np.percentile(ordersByUsers['orders'], 95)\n",
    "revenue_lim = np.percentile(df_orders['revenue'], 95)"
   ]
  },
  {
   "cell_type": "code",
   "execution_count": 68,
   "metadata": {},
   "outputs": [
    {
     "name": "stdout",
     "output_type": "stream",
     "text": [
      "Аномальными считаем пользователей  при наличии более 2 заказов\n",
      "Аномальными считаем пользователей при наличии заказов дороже 28000\n"
     ]
    }
   ],
   "source": [
    "print(f'''Аномальными считаем пользователей  при наличии более {int(orders_lim)} заказов\n",
    "Аномальными считаем пользователей при наличии заказов дороже {int(revenue_lim)}''')"
   ]
  },
  {
   "cell_type": "markdown",
   "metadata": {},
   "source": [
    "Отбираем покупателей с аномальным количеством заказов"
   ]
  },
  {
   "cell_type": "code",
   "execution_count": 69,
   "metadata": {},
   "outputs": [],
   "source": [
    "usersWithManyOrders = pd.concat(\n",
    "    [\n",
    "        ordersByUsersA[ordersByUsersA['orders'] > orders_lim]['visitorId'],\n",
    "        ordersByUsersB[ordersByUsersB['orders'] > orders_lim]['visitorId'],\n",
    "    ],\n",
    "    axis=0,\n",
    ")"
   ]
  },
  {
   "cell_type": "code",
   "execution_count": 70,
   "metadata": {},
   "outputs": [
    {
     "data": {
      "text/plain": [
       "18      199603092\n",
       "23      237748145\n",
       "68      611059232\n",
       "146    1230306981\n",
       "189    1614305549\n",
       "Name: visitorId, dtype: int64"
      ]
     },
     "execution_count": 70,
     "metadata": {},
     "output_type": "execute_result"
    }
   ],
   "source": [
    "usersWithManyOrders.head()"
   ]
  },
  {
   "cell_type": "markdown",
   "metadata": {},
   "source": [
    "Считаем количество аномальных покупателей и их долю от всех покупателей\n"
   ]
  },
  {
   "cell_type": "code",
   "execution_count": 71,
   "metadata": {},
   "outputs": [
    {
     "name": "stdout",
     "output_type": "stream",
     "text": [
      "24\n"
     ]
    }
   ],
   "source": [
    "print(len(usersWithManyOrders))"
   ]
  },
  {
   "cell_type": "code",
   "execution_count": 72,
   "metadata": {},
   "outputs": [
    {
     "name": "stdout",
     "output_type": "stream",
     "text": [
      "0.04771371769383698\n"
     ]
    }
   ],
   "source": [
    "print(len(usersWithManyOrders)/len(ordersByUsersA))"
   ]
  },
  {
   "cell_type": "markdown",
   "metadata": {},
   "source": [
    "Итак, мы имеем `4.77%` покупателей с аномальным количеством заказов"
   ]
  },
  {
   "cell_type": "markdown",
   "metadata": {},
   "source": [
    "Отбираем покупателей с аномальным средним чеком"
   ]
  },
  {
   "cell_type": "code",
   "execution_count": 73,
   "metadata": {},
   "outputs": [],
   "source": [
    "\n",
    "usersWithExpensiveOrders = df_orders[df_orders['revenue'] > revenue_lim]['visitorId']\n",
    "abnormalUsers = (\n",
    "    pd.concat([usersWithManyOrders, usersWithExpensiveOrders], axis=0)\n",
    "    .drop_duplicates()\n",
    "    .sort_values()\n",
    ")"
   ]
  },
  {
   "cell_type": "code",
   "execution_count": 74,
   "metadata": {},
   "outputs": [
    {
     "data": {
      "text/plain": [
       "60     4256040402\n",
       "73     2947100995\n",
       "77      787824685\n",
       "78     3288820196\n",
       "131    2254586615\n",
       "Name: visitorId, dtype: int64"
      ]
     },
     "execution_count": 74,
     "metadata": {},
     "output_type": "execute_result"
    }
   ],
   "source": [
    "usersWithExpensiveOrders.head()"
   ]
  },
  {
   "cell_type": "markdown",
   "metadata": {},
   "source": [
    "Считаем количество аномальных покупателей и их долю от всех покупателей"
   ]
  },
  {
   "cell_type": "code",
   "execution_count": 75,
   "metadata": {
    "scrolled": true
   },
   "outputs": [
    {
     "name": "stdout",
     "output_type": "stream",
     "text": [
      "60\n"
     ]
    }
   ],
   "source": [
    "print(len(usersWithExpensiveOrders))"
   ]
  },
  {
   "cell_type": "code",
   "execution_count": 76,
   "metadata": {},
   "outputs": [
    {
     "name": "stdout",
     "output_type": "stream",
     "text": [
      "0.11928429423459244\n"
     ]
    }
   ],
   "source": [
    "print(len(usersWithExpensiveOrders)/len(ordersByUsersA))"
   ]
  },
  {
   "cell_type": "markdown",
   "metadata": {},
   "source": [
    "Итак, мы имеем `11.93%` покупателей с аномальным средним чеком"
   ]
  },
  {
   "cell_type": "markdown",
   "metadata": {},
   "source": [
    "Объеденяем всех аномальных покупателей"
   ]
  },
  {
   "cell_type": "code",
   "execution_count": 77,
   "metadata": {},
   "outputs": [
    {
     "data": {
      "text/plain": [
       "1099    148427295\n",
       "18      199603092\n",
       "928     204675465\n",
       "23      237748145\n",
       "37      249864742\n",
       "Name: visitorId, dtype: int64"
      ]
     },
     "execution_count": 77,
     "metadata": {},
     "output_type": "execute_result"
    }
   ],
   "source": [
    "abnormalUsers = (\n",
    "    pd.concat([usersWithManyOrders, usersWithExpensiveOrders], axis=0)\n",
    "    .drop_duplicates()\n",
    "    .sort_values()\n",
    ")\n",
    "\n",
    "abnormalUsers.head()"
   ]
  },
  {
   "cell_type": "code",
   "execution_count": 78,
   "metadata": {},
   "outputs": [
    {
     "name": "stdout",
     "output_type": "stream",
     "text": [
      "74\n"
     ]
    }
   ],
   "source": [
    "print(len(abnormalUsers))"
   ]
  },
  {
   "cell_type": "markdown",
   "metadata": {},
   "source": [
    "Посчитаем сколько заказов и на какую сумму сделали эти пользователи"
   ]
  },
  {
   "cell_type": "code",
   "execution_count": 79,
   "metadata": {},
   "outputs": [
    {
     "name": "stdout",
     "output_type": "stream",
     "text": [
      "<class 'pandas.core.frame.DataFrame'>\n",
      "RangeIndex: 1197 entries, 0 to 1196\n",
      "Data columns (total 5 columns):\n",
      " #   Column         Non-Null Count  Dtype         \n",
      "---  ------         --------------  -----         \n",
      " 0   transactionId  1197 non-null   int64         \n",
      " 1   visitorId      1197 non-null   int64         \n",
      " 2   date           1197 non-null   datetime64[ns]\n",
      " 3   revenue        1197 non-null   int64         \n",
      " 4   group          1197 non-null   object        \n",
      "dtypes: datetime64[ns](1), int64(3), object(1)\n",
      "memory usage: 46.9+ KB\n"
     ]
    }
   ],
   "source": [
    "df_orders.info()"
   ]
  },
  {
   "cell_type": "code",
   "execution_count": 80,
   "metadata": {},
   "outputs": [
    {
     "data": {
      "text/html": [
       "<div>\n",
       "<style scoped>\n",
       "    .dataframe tbody tr th:only-of-type {\n",
       "        vertical-align: middle;\n",
       "    }\n",
       "\n",
       "    .dataframe tbody tr th {\n",
       "        vertical-align: top;\n",
       "    }\n",
       "\n",
       "    .dataframe thead th {\n",
       "        text-align: right;\n",
       "    }\n",
       "</style>\n",
       "<table border=\"1\" class=\"dataframe\">\n",
       "  <thead>\n",
       "    <tr style=\"text-align: right;\">\n",
       "      <th></th>\n",
       "      <th>revenue</th>\n",
       "      <th>transactionId</th>\n",
       "    </tr>\n",
       "    <tr>\n",
       "      <th>group</th>\n",
       "      <th></th>\n",
       "      <th></th>\n",
       "    </tr>\n",
       "  </thead>\n",
       "  <tbody>\n",
       "    <tr>\n",
       "      <th>A</th>\n",
       "      <td>1640997</td>\n",
       "      <td>84</td>\n",
       "    </tr>\n",
       "    <tr>\n",
       "      <th>B</th>\n",
       "      <td>3071238</td>\n",
       "      <td>80</td>\n",
       "    </tr>\n",
       "  </tbody>\n",
       "</table>\n",
       "</div>"
      ],
      "text/plain": [
       "       revenue  transactionId\n",
       "group                        \n",
       "A      1640997             84\n",
       "B      3071238             80"
      ]
     },
     "execution_count": 80,
     "metadata": {},
     "output_type": "execute_result"
    }
   ],
   "source": [
    "abnormalUsers_stat = df_orders[df_orders['visitorId'].isin(abnormalUsers)] \\\n",
    ".pivot_table(index='group', values=['transactionId', 'revenue'], aggfunc={'transactionId':'nunique', 'revenue':'sum'})\n",
    "abnormalUsers_stat"
   ]
  },
  {
   "cell_type": "code",
   "execution_count": 81,
   "metadata": {},
   "outputs": [
    {
     "data": {
      "text/html": [
       "<div>\n",
       "<style scoped>\n",
       "    .dataframe tbody tr th:only-of-type {\n",
       "        vertical-align: middle;\n",
       "    }\n",
       "\n",
       "    .dataframe tbody tr th {\n",
       "        vertical-align: top;\n",
       "    }\n",
       "\n",
       "    .dataframe thead th {\n",
       "        text-align: right;\n",
       "    }\n",
       "</style>\n",
       "<table border=\"1\" class=\"dataframe\">\n",
       "  <thead>\n",
       "    <tr style=\"text-align: right;\">\n",
       "      <th></th>\n",
       "      <th>revenue</th>\n",
       "      <th>transactionId</th>\n",
       "    </tr>\n",
       "    <tr>\n",
       "      <th>group</th>\n",
       "      <th></th>\n",
       "      <th></th>\n",
       "    </tr>\n",
       "  </thead>\n",
       "  <tbody>\n",
       "    <tr>\n",
       "      <th>A</th>\n",
       "      <td>4084803</td>\n",
       "      <td>557</td>\n",
       "    </tr>\n",
       "    <tr>\n",
       "      <th>B</th>\n",
       "      <td>5907760</td>\n",
       "      <td>640</td>\n",
       "    </tr>\n",
       "  </tbody>\n",
       "</table>\n",
       "</div>"
      ],
      "text/plain": [
       "       revenue  transactionId\n",
       "group                        \n",
       "A      4084803            557\n",
       "B      5907760            640"
      ]
     },
     "execution_count": 81,
     "metadata": {},
     "output_type": "execute_result"
    }
   ],
   "source": [
    "normalUsers_stat = df_orders \\\n",
    ".pivot_table(index='group', values=['transactionId', 'revenue'], aggfunc={'transactionId':'nunique', 'revenue':'sum'})\n",
    "normalUsers_stat"
   ]
  },
  {
   "cell_type": "code",
   "execution_count": 82,
   "metadata": {},
   "outputs": [
    {
     "data": {
      "text/html": [
       "<div>\n",
       "<style scoped>\n",
       "    .dataframe tbody tr th:only-of-type {\n",
       "        vertical-align: middle;\n",
       "    }\n",
       "\n",
       "    .dataframe tbody tr th {\n",
       "        vertical-align: top;\n",
       "    }\n",
       "\n",
       "    .dataframe thead th {\n",
       "        text-align: right;\n",
       "    }\n",
       "</style>\n",
       "<table border=\"1\" class=\"dataframe\">\n",
       "  <thead>\n",
       "    <tr style=\"text-align: right;\">\n",
       "      <th></th>\n",
       "      <th>revenue</th>\n",
       "      <th>transactionId</th>\n",
       "    </tr>\n",
       "    <tr>\n",
       "      <th>group</th>\n",
       "      <th></th>\n",
       "      <th></th>\n",
       "    </tr>\n",
       "  </thead>\n",
       "  <tbody>\n",
       "    <tr>\n",
       "      <th>A</th>\n",
       "      <td>0.40</td>\n",
       "      <td>0.15</td>\n",
       "    </tr>\n",
       "    <tr>\n",
       "      <th>B</th>\n",
       "      <td>0.52</td>\n",
       "      <td>0.12</td>\n",
       "    </tr>\n",
       "  </tbody>\n",
       "</table>\n",
       "</div>"
      ],
      "text/plain": [
       "       revenue  transactionId\n",
       "group                        \n",
       "A         0.40           0.15\n",
       "B         0.52           0.12"
      ]
     },
     "execution_count": 82,
     "metadata": {},
     "output_type": "execute_result"
    }
   ],
   "source": [
    "stat = abnormalUsers_stat/normalUsers_stat\n",
    "stat.round(2)"
   ]
  },
  {
   "cell_type": "markdown",
   "metadata": {},
   "source": [
    "Итак, мы видим что\n",
    "- пользователи с аномальными заказами сделали `40%` выручки в группе `A` и `52%` выручки в группе `B`;\n",
    "- пользователи с аномальными заказами сдели `15%` выручки в группе `A` и `12%` заказов в группе `B`."
   ]
  },
  {
   "cell_type": "markdown",
   "metadata": {},
   "source": [
    "#### 2.4.5 Статистическая значимость по количеству заказов пользователя по `«очищенным»` данным"
   ]
  },
  {
   "cell_type": "markdown",
   "metadata": {},
   "source": [
    "Проверим гипотезы о различии показателей по количеству заказов в группах А и В по `«очищенным»` данным.  \n",
    "\n",
    "Гипотезы:  \n",
    "H0: статистически значимых различий в количестве заказов нет.  \n",
    "H1: статистически значимые различия в количестве заказов есть. \n",
    "\n",
    "Для расчета статистической значимости различий в количестве заказов, передадим критерию mannwhitneyu() данные о количестве заказов."
   ]
  },
  {
   "cell_type": "markdown",
   "metadata": {},
   "source": [
    "Формируем таблицу с количеством заказов посетителей группы `A` по `«очищенным»` данным, где каждому посетителю присвоен порядковый номер. В случае, если посетитель не делал заказ, то ему будет присвоено количество заказов равное нулю."
   ]
  },
  {
   "cell_type": "code",
   "execution_count": 83,
   "metadata": {},
   "outputs": [
    {
     "data": {
      "text/plain": [
       "0    1\n",
       "1    1\n",
       "2    1\n",
       "3    1\n",
       "4    1\n",
       "Name: orders, dtype: int64"
      ]
     },
     "execution_count": 83,
     "metadata": {},
     "output_type": "execute_result"
    }
   ],
   "source": [
    "sampleAFiltered = pd.concat(\n",
    "    [\n",
    "        ordersByUsersA[\n",
    "            np.logical_not(ordersByUsersA['visitorId'].isin(abnormalUsers))\n",
    "        ]['orders'],\n",
    "        pd.Series(\n",
    "            0,\n",
    "            index=np.arange(\n",
    "                data['visitorsPerDateA'].sum() - len(ordersByUsersA['orders'])\n",
    "            ),\n",
    "            name='orders',\n",
    "        ),\n",
    "    ],\n",
    "    axis=0,\n",
    ")\n",
    "\n",
    "sampleAFiltered.head()"
   ]
  },
  {
   "cell_type": "markdown",
   "metadata": {},
   "source": [
    "Формируем таблицу с количеством заказов посетителей группы `B` по `«очищенным»` данным, где каждому посетителю присвоен порядковый номер. В случае, если посетитель не делал заказ, то ему будет присвоено количество заказов равное нулю."
   ]
  },
  {
   "cell_type": "code",
   "execution_count": 84,
   "metadata": {},
   "outputs": [
    {
     "data": {
      "text/plain": [
       "0    1\n",
       "1    1\n",
       "2    1\n",
       "3    1\n",
       "4    1\n",
       "Name: orders, dtype: int64"
      ]
     },
     "execution_count": 84,
     "metadata": {},
     "output_type": "execute_result"
    }
   ],
   "source": [
    "sampleBFiltered = pd.concat(\n",
    "    [\n",
    "        ordersByUsersB[\n",
    "            np.logical_not(ordersByUsersB['visitorId'].isin(abnormalUsers))\n",
    "        ]['orders'],\n",
    "        pd.Series(\n",
    "            0,\n",
    "            index=np.arange(\n",
    "                data['visitorsPerDateB'].sum() - len(ordersByUsersB['orders'])\n",
    "            ),\n",
    "            name='orders',\n",
    "        ),\n",
    "    ],\n",
    "    axis=0,\n",
    ")\n",
    "\n",
    "sampleBFiltered.head()"
   ]
  },
  {
   "cell_type": "code",
   "execution_count": 85,
   "metadata": {},
   "outputs": [
    {
     "name": "stdout",
     "output_type": "stream",
     "text": [
      "Отвергаем нулевую гипотезу. \n",
      "У нас есть статистически значимые различия между количеством заказов по `«очищенным»` данным.\n",
      "Значение p-value = 0.013\n",
      "Количество заказов в группе B больше чем в группе A на 17.27%\n"
     ]
    }
   ],
   "source": [
    "alpha = 0.05\n",
    "#Считаем p-value\n",
    "p_value = stats.mannwhitneyu(sampleAFiltered, sampleBFiltered)[1]\n",
    "delta_user_orders_B_to_A = 100*(sampleBFiltered.mean() / sampleAFiltered.mean() - 1)\n",
    "\n",
    "if p_value < alpha:\n",
    "    print(f\"\"\"Отвергаем нулевую гипотезу. \n",
    "У нас есть статистически значимые различия между количеством заказов по `«очищенным»` данным.\n",
    "Значение p-value = {p_value.round(3)}\"\"\")\n",
    "    print(f'Количество заказов в группе B больше чем в группе A на {delta_user_orders_B_to_A.round(2)}%')\n",
    "else:\n",
    "    print(\"Не получилось отвергнуть нулевую гипотезу. Статистически значимых различий по `«очищенным»` данным нет.\")"
   ]
  },
  {
   "cell_type": "markdown",
   "metadata": {},
   "source": [
    "#### 2.4.6 Статистическая значимость в среднем чеке пользователя по `«очищенным»` данным"
   ]
  },
  {
   "cell_type": "markdown",
   "metadata": {},
   "source": [
    "Проверим гипотезы о различии показателей в среднем чеке в группах А и В.  \n",
    "\n",
    "Гипотезы:  \n",
    "H0: различий в среднем чеке нет.  \n",
    "H1: различия в среднем чеке есть. \n",
    "\n",
    "Для расчета статистической значимости различий по среднему чеку, передадим критерию mannwhitneyu() данные о стоимости заказов."
   ]
  },
  {
   "cell_type": "markdown",
   "metadata": {},
   "source": [
    "Формируем очищенные данные для группы A"
   ]
  },
  {
   "cell_type": "code",
   "execution_count": 86,
   "metadata": {},
   "outputs": [
    {
     "data": {
      "text/plain": [
       "2       400\n",
       "7      1044\n",
       "8     13710\n",
       "10     4008\n",
       "12     7370\n",
       "Name: revenue, dtype: int64"
      ]
     },
     "execution_count": 86,
     "metadata": {},
     "output_type": "execute_result"
    }
   ],
   "source": [
    "sample_AFiltered = df_orders[\n",
    "                        np.logical_and(\n",
    "                                        df_orders['group'] == 'A',\n",
    "                                        np.logical_not(df_orders['visitorId'].isin(abnormalUsers)),\n",
    "                                        )\n",
    "                            ]['revenue']\n",
    "\n",
    "sample_AFiltered.head()"
   ]
  },
  {
   "cell_type": "markdown",
   "metadata": {},
   "source": [
    "Формируем очищенные данные для группы B"
   ]
  },
  {
   "cell_type": "code",
   "execution_count": 87,
   "metadata": {},
   "outputs": [
    {
     "data": {
      "text/plain": [
       "0    1650\n",
       "1     730\n",
       "3    9759\n",
       "4    2308\n",
       "5    2210\n",
       "Name: revenue, dtype: int64"
      ]
     },
     "execution_count": 87,
     "metadata": {},
     "output_type": "execute_result"
    }
   ],
   "source": [
    "sample_BFiltered = df_orders[\n",
    "                        np.logical_and(\n",
    "                                        df_orders['group'] == 'B',\n",
    "                                        np.logical_not(df_orders['visitorId'].isin(abnormalUsers)),\n",
    "                                        )\n",
    "                            ]['revenue']\n",
    "\n",
    "sample_BFiltered.head()"
   ]
  },
  {
   "cell_type": "code",
   "execution_count": 88,
   "metadata": {},
   "outputs": [
    {
     "name": "stdout",
     "output_type": "stream",
     "text": [
      "Не получилось отвергнуть нулевую гипотезу. \n",
      "Статистически значимых различий в среднем чеке по `«очищенным»` данным нет.\n",
      "Значение p-value = 0.738\n",
      "Средний чек в группе B отличается от среднего чека в группе A на -1.96%\n"
     ]
    }
   ],
   "source": [
    "alpha = 0.05\n",
    "#Считаем p-value\n",
    "p_value = stats.mannwhitneyu(sample_AFiltered, sample_BFiltered)[1]\n",
    "delta_order_revenue_B_to_A_filtred = 100*(sample_BFiltered.mean() / sample_AFiltered.mean() - 1)\n",
    "\n",
    "if p_value < alpha:\n",
    "    print(f\"\"\"Отвергаем нулевую гипотезу. \n",
    "У нас есть статистически значимые различия между средним чеком по `«очищенным»` данным.\n",
    "Значение p-value = {p_value.round(3)}\"\"\")\n",
    "    print(f'Средний чек в группе B больше среднего чека в группе A на {delta_order_revenue_B_to_A_filtred.round(2)}%')\n",
    "else:\n",
    "    print(f\"\"\"Не получилось отвергнуть нулевую гипотезу. \n",
    "Статистически значимых различий в среднем чеке по `«очищенным»` данным нет.\n",
    "Значение p-value = {p_value.round(3)}\"\"\")\n",
    "print(f'Средний чек в группе B отличается от среднего чека в группе A на {delta_order_revenue_B_to_A_filtred.round(2)}%')"
   ]
  },
  {
   "cell_type": "markdown",
   "metadata": {},
   "source": [
    "При анализе разницы в количестве заказов\n",
    "- мы отвергли нулевую гипотезу об `отсутствии статистически значимых различий в количестве заказов`\n",
    "- оказалось что как по `«сырым»` данным, так и по `«очищенным»` данным есть статистически значимые различия по количеству заказов между группами;\n",
    "- по `«сырым»` данным количество заказов в группе `B` больше чем в группе `A` на `13.81%`(значение `p-value` равно `0.017`), а по `«очищенным»` данным количество заказов в группе `B` больше чем в группе `A` на `17.27%`(значение `p-value` равно `0.013`)  \n",
    "\n",
    "При анализе разницы в срееднем чеке\n",
    "- мы не смогли отвергнуть нулевую гипотезу об `отсутствии статистически значимых различий в среднем чеке`\n",
    "- оказалось что как по `«сырым»` данным, так и по `«очищенным»` данным нет статистически значимых различий в среднем чеке между группами;\n",
    "- по `«сырым»` данным `p-value` равно `0.729`, а по `«очищенным»` данным значение `p-value` равно `0.738`  \n",
    "\n",
    "В обоих случаях удаление аномальных значенй не изменило результаты исследования"
   ]
  },
  {
   "cell_type": "markdown",
   "metadata": {},
   "source": [
    "Выводы по результатам `A/B-теста`:\n",
    "- тест можно остановить, группа `B` статистически значима лучше группы `A`;\n",
    "- статистические значимые различия по количеству заказов есть;\n",
    "- в среднем в группе `B` количество заказов выше чем в группе `A` на `14-17%`;\n",
    "- статистически значимых различий по среднему чеку между группами нет;\n",
    "- удаление аномальных значенй не изменило результаты исследования;"
   ]
  },
  {
   "cell_type": "markdown",
   "metadata": {},
   "source": [
    "### 3 Вывод"
   ]
  },
  {
   "cell_type": "markdown",
   "metadata": {},
   "source": [
    "Совместно с отделом маркетинга интернет-магазина подготовлен список гипотез для увеличения выручки.\n",
    "Целью проекта было приоритизировать гипотезы используя фреймворки `ICE` и `RICE`, запустить `A/B-тест` и проанализировать результаты.\n",
    "\n",
    "Исходные данные:\n",
    "- файл с девятью гипотезами с указанными параметрами `Reach`, `Impact`, `Confidence`, `Effort`;\n",
    "- данные по заказам;\n",
    "- данные по посетителям.\n",
    "\n",
    "Приоритезируя гипотезы фреймворками `ICE` и `RICE` мы получли разницу в приоритах гипотез из-за параметра `Reach`, который показывает как много пользователей затронет гипотеза сделали основной акцент в приоритезации на охват аудитории.\n",
    "\n",
    "Гипотезы для проверки были расставлены в порядке убывания приоритета:\n",
    "1. Добавить форму подписки на все основные страницы, чтобы собрать базу клиентов для email-рассылок\n",
    "2. Добавить блоки рекомендаций товаров на сайт интернет магазина, чтобы повысить конверсию и средний чек заказа\n",
    "3. Добавить два новых канала привлечения трафика, что позволит привлекать на 30% больше пользователей\n",
    "4. Показать на главной странице баннеры с актуальными акциями и распродажами, чтобы увеличить конверсию\n",
    "\n",
    "Предварительный анализ выявил, что\n",
    "- пропущенных значений в данных нет;\n",
    "- в колонках `date` тип данных был некорректный, его изменили на `datetime`;\n",
    "- явных дубликатов нет;\n",
    "- есть `58` покупателей, которые оказались в обеих группах(это `11.53%` от покупателей группы A и `9.9%` от покупателей группы B;\n",
    "- за период теста было сделано `1197` заказов в обеих группах стоимостью от `50` до `1294500`;\n",
    "- `A/B-тест` проходил `31` день;\n",
    "- есть очень дорогие заказы стоимостью `1294500` и `202740` при медианной выручке с заказа равной `2978`;\n",
    "- за период теста покупки совершил 1031 пользователь и количество заказов было от `1` до `11` на пользователя;\n",
    "- есть покупатели с большим количеством заказов от `5` и `11` при медианном количестве заказов равном `1`;\n",
    "- количество посетителей в течении всего теста распределено между группами группами `A` и `B` примерно одинаковое - `18736` и `18916`;\n",
    "- выручка распределилась между группами `A` и `B` так `4084803` и `5907760`;\n",
    "- количество покупателей распределилось между группами `A` и `B` так `503` и `586`;\n",
    "- количество заказов распределилось между группами `A` и `B` так `557` и `640`;\n",
    "- минимально было `361`, максимально `770`, а в среднем `607` посетителей;\n",
    "- тип данных в колонке `date` на `datetime` был исправлен.\n",
    "\n",
    "По обеим группам выручка растет в течении всего теста. В начале теста средний чек группы `B` выше чем в группе `A`, но ближе к середине теста кумулятивный средний чек по обеим группам выравнивается на уровне `7000`. После середины теста в районе `19 августа` в группе `B` наблюдается резкий скачок из-за одной или нескольких дорогих покупок и далее он плавно снижается. \n",
    "\n",
    "В начале теста прирост конверсии группы `B` к группе `A` менялся и был отрицательным, но после `6 августа` прирост конверсии группы `B` к группе `A`стал положтельным и продолжил расти. После `21 августа` конверсии в группах стабилизировались на уровне 3% в группе A и 3.4% в группе B, а прирост конверсии в группе `B` к группе `A` стабилизировался и составил `12%`.\n",
    "\n",
    "Аномальные пользователи внесли следющий вклад не изменив результаты исследования\n",
    "- пользователи с аномальными заказами сделали `40%` выручки в группе `A` и `52%` выручки в группе `B`;\n",
    "- пользователи с аномальными заказами сдели `15%` выручки в группе `A` и `12%` заказов в группе `B`.\n",
    "\n",
    "По результатам `A/B-теста` можно сделать выводы:\n",
    "- тест можно остановить, группа `B` статистически значима лучше группы `A`;\n",
    "- статистические значимые различия по количеству заказов есть;\n",
    "- в среднем в группе `B` количество заказов выше чем в группе `A` на `14-17%`;\n",
    "- статистически значимых различий по среднему чеку между группами нет;\n",
    "- удаление аномальных значенй не изменило результаты исследования;\n",
    "- тест признать `успешным`, но нужно учитывать, что в группах `A` и `B` есть `58` покупателей, которые оказались сразу в обеих группах и они составляют `10-11%` от всех покупателей каждой из групп.\n",
    "\n",
    "Пользователи, которые оказались одновременно в группах `A` и `B` не были удалены, так как они составляют около `10%` пкупателей каждой группы и у нас есть возможность исключить их тольоко из данных о покупателях и нет возможности исключить их из данных о посетителях."
   ]
  }
 ],
 "metadata": {
  "ExecuteTimeLog": [
   {
    "duration": 425,
    "start_time": "2023-09-26T17:53:09.965Z"
   },
   {
    "duration": 59,
    "start_time": "2023-09-26T17:55:05.313Z"
   },
   {
    "duration": 14,
    "start_time": "2023-09-26T17:55:08.172Z"
   },
   {
    "duration": 12,
    "start_time": "2023-09-26T18:55:47.447Z"
   },
   {
    "duration": 12,
    "start_time": "2023-09-26T19:26:00.926Z"
   },
   {
    "duration": 3,
    "start_time": "2023-09-26T19:49:27.952Z"
   },
   {
    "duration": 14,
    "start_time": "2023-09-26T19:49:30.364Z"
   },
   {
    "duration": 68,
    "start_time": "2023-09-26T19:49:51.362Z"
   },
   {
    "duration": 10,
    "start_time": "2023-09-26T19:50:05.569Z"
   },
   {
    "duration": 3,
    "start_time": "2023-09-26T19:50:16.894Z"
   },
   {
    "duration": 10,
    "start_time": "2023-09-26T19:50:19.024Z"
   },
   {
    "duration": 2,
    "start_time": "2023-09-26T19:50:24.022Z"
   },
   {
    "duration": 10,
    "start_time": "2023-09-26T19:50:25.661Z"
   },
   {
    "duration": 9,
    "start_time": "2023-09-26T19:50:30.219Z"
   },
   {
    "duration": 15,
    "start_time": "2023-09-26T20:22:39.011Z"
   },
   {
    "duration": 9,
    "start_time": "2023-09-26T20:22:54.877Z"
   },
   {
    "duration": 16,
    "start_time": "2023-09-26T20:23:02.245Z"
   },
   {
    "duration": 11,
    "start_time": "2023-09-26T20:23:16.660Z"
   },
   {
    "duration": 12,
    "start_time": "2023-09-26T20:25:11.129Z"
   },
   {
    "duration": 12,
    "start_time": "2023-09-26T20:25:25.419Z"
   },
   {
    "duration": 616,
    "start_time": "2023-09-26T20:28:13.552Z"
   },
   {
    "duration": 4,
    "start_time": "2023-09-26T20:28:50.911Z"
   },
   {
    "duration": 214,
    "start_time": "2023-09-26T20:29:01.705Z"
   },
   {
    "duration": 187,
    "start_time": "2023-09-26T20:29:43.613Z"
   },
   {
    "duration": 260,
    "start_time": "2023-09-26T20:29:53.919Z"
   },
   {
    "duration": 10,
    "start_time": "2023-09-26T20:31:40.460Z"
   },
   {
    "duration": 12,
    "start_time": "2023-09-26T20:31:51.363Z"
   },
   {
    "duration": 14,
    "start_time": "2023-09-26T20:32:12.498Z"
   },
   {
    "duration": 184,
    "start_time": "2023-09-26T20:34:03.136Z"
   },
   {
    "duration": 177,
    "start_time": "2023-09-26T20:34:49.491Z"
   },
   {
    "duration": 186,
    "start_time": "2023-09-26T20:34:59.135Z"
   },
   {
    "duration": 77,
    "start_time": "2023-09-26T20:35:12.416Z"
   },
   {
    "duration": 78,
    "start_time": "2023-09-26T20:35:21.910Z"
   },
   {
    "duration": 196,
    "start_time": "2023-09-26T20:35:25.884Z"
   },
   {
    "duration": 194,
    "start_time": "2023-09-26T20:35:54.621Z"
   },
   {
    "duration": 191,
    "start_time": "2023-09-26T20:35:59.672Z"
   },
   {
    "duration": 197,
    "start_time": "2023-09-26T20:36:32.770Z"
   },
   {
    "duration": 186,
    "start_time": "2023-09-26T20:36:38.411Z"
   },
   {
    "duration": 206,
    "start_time": "2023-09-26T20:37:16.823Z"
   },
   {
    "duration": 140,
    "start_time": "2023-09-26T20:40:30.612Z"
   },
   {
    "duration": 14,
    "start_time": "2023-09-26T20:40:43.574Z"
   },
   {
    "duration": 8,
    "start_time": "2023-09-26T20:40:50.972Z"
   },
   {
    "duration": 1127,
    "start_time": "2023-09-27T16:11:31.776Z"
   },
   {
    "duration": 76,
    "start_time": "2023-09-27T16:11:32.906Z"
   },
   {
    "duration": 4,
    "start_time": "2023-09-27T16:11:32.984Z"
   },
   {
    "duration": 34,
    "start_time": "2023-09-27T16:11:32.991Z"
   },
   {
    "duration": 32,
    "start_time": "2023-09-27T16:11:33.027Z"
   },
   {
    "duration": 27,
    "start_time": "2023-09-27T16:11:33.060Z"
   },
   {
    "duration": 45,
    "start_time": "2023-09-27T16:11:33.089Z"
   },
   {
    "duration": 248,
    "start_time": "2023-09-27T16:11:33.136Z"
   },
   {
    "duration": 158,
    "start_time": "2023-09-27T16:11:33.386Z"
   },
   {
    "duration": 9,
    "start_time": "2023-09-27T16:11:33.547Z"
   },
   {
    "duration": 69,
    "start_time": "2023-09-27T16:21:52.232Z"
   },
   {
    "duration": 10,
    "start_time": "2023-09-27T16:22:03.264Z"
   },
   {
    "duration": 19,
    "start_time": "2023-09-27T16:22:48.207Z"
   },
   {
    "duration": 16,
    "start_time": "2023-09-27T16:24:25.412Z"
   },
   {
    "duration": 6,
    "start_time": "2023-09-27T16:28:39.402Z"
   },
   {
    "duration": 13,
    "start_time": "2023-09-27T16:28:45.350Z"
   },
   {
    "duration": 4,
    "start_time": "2023-09-27T16:37:06.558Z"
   },
   {
    "duration": 15,
    "start_time": "2023-09-27T16:37:09.033Z"
   },
   {
    "duration": 81,
    "start_time": "2023-09-27T16:43:13.622Z"
   },
   {
    "duration": 25,
    "start_time": "2023-09-27T16:44:33.930Z"
   },
   {
    "duration": 3,
    "start_time": "2023-09-27T16:45:04.507Z"
   },
   {
    "duration": 33,
    "start_time": "2023-09-27T16:45:09.600Z"
   },
   {
    "duration": 219,
    "start_time": "2023-09-27T16:47:18.312Z"
   },
   {
    "duration": 656,
    "start_time": "2023-09-27T16:47:51.862Z"
   },
   {
    "duration": 601,
    "start_time": "2023-09-27T16:47:58.958Z"
   },
   {
    "duration": 643,
    "start_time": "2023-09-27T16:48:25.022Z"
   },
   {
    "duration": 6,
    "start_time": "2023-09-27T17:48:45.700Z"
   },
   {
    "duration": 571,
    "start_time": "2023-09-27T17:57:21.995Z"
   },
   {
    "duration": 556,
    "start_time": "2023-09-27T17:57:46.406Z"
   },
   {
    "duration": 190,
    "start_time": "2023-09-27T18:04:45.876Z"
   },
   {
    "duration": 5,
    "start_time": "2023-09-27T18:04:51.163Z"
   },
   {
    "duration": 6,
    "start_time": "2023-09-27T18:04:58.258Z"
   },
   {
    "duration": 12,
    "start_time": "2023-09-27T18:39:46.054Z"
   },
   {
    "duration": 665,
    "start_time": "2023-09-27T18:40:36.308Z"
   },
   {
    "duration": 321,
    "start_time": "2023-09-27T18:40:41.522Z"
   },
   {
    "duration": 6,
    "start_time": "2023-09-27T18:43:39.661Z"
   },
   {
    "duration": 6,
    "start_time": "2023-09-27T18:43:58.562Z"
   },
   {
    "duration": 9,
    "start_time": "2023-09-27T18:52:18.450Z"
   },
   {
    "duration": 9,
    "start_time": "2023-09-27T18:52:29.361Z"
   },
   {
    "duration": 63,
    "start_time": "2023-09-27T18:53:35.200Z"
   },
   {
    "duration": 8,
    "start_time": "2023-09-27T18:53:41.228Z"
   },
   {
    "duration": 8,
    "start_time": "2023-09-27T18:59:04.520Z"
   },
   {
    "duration": 200,
    "start_time": "2023-09-27T18:59:21.616Z"
   },
   {
    "duration": 146,
    "start_time": "2023-09-27T18:59:56.025Z"
   },
   {
    "duration": 20,
    "start_time": "2023-09-27T19:00:23.541Z"
   },
   {
    "duration": 11,
    "start_time": "2023-09-27T19:01:51.965Z"
   },
   {
    "duration": 264,
    "start_time": "2023-09-27T19:02:48.595Z"
   },
   {
    "duration": 9,
    "start_time": "2023-09-27T19:10:18.132Z"
   },
   {
    "duration": 1642,
    "start_time": "2023-09-27T19:12:42.077Z"
   },
   {
    "duration": 45,
    "start_time": "2023-09-28T14:39:43.187Z"
   },
   {
    "duration": 1334,
    "start_time": "2023-09-28T14:39:51.422Z"
   },
   {
    "duration": 67,
    "start_time": "2023-09-28T14:39:52.763Z"
   },
   {
    "duration": 3,
    "start_time": "2023-09-28T14:39:52.832Z"
   },
   {
    "duration": 63,
    "start_time": "2023-09-28T14:39:52.837Z"
   },
   {
    "duration": 80,
    "start_time": "2023-09-28T14:39:52.902Z"
   },
   {
    "duration": 18,
    "start_time": "2023-09-28T14:39:52.983Z"
   },
   {
    "duration": 24,
    "start_time": "2023-09-28T14:39:53.003Z"
   },
   {
    "duration": 218,
    "start_time": "2023-09-28T14:39:53.029Z"
   },
   {
    "duration": 145,
    "start_time": "2023-09-28T14:39:53.251Z"
   },
   {
    "duration": 8,
    "start_time": "2023-09-28T14:39:53.398Z"
   },
   {
    "duration": 30,
    "start_time": "2023-09-28T14:39:53.408Z"
   },
   {
    "duration": 29,
    "start_time": "2023-09-28T14:39:53.440Z"
   },
   {
    "duration": 27,
    "start_time": "2023-09-28T14:39:53.470Z"
   },
   {
    "duration": 22,
    "start_time": "2023-09-28T14:39:53.499Z"
   },
   {
    "duration": 48,
    "start_time": "2023-09-28T14:39:53.523Z"
   },
   {
    "duration": 107,
    "start_time": "2023-09-28T14:39:53.573Z"
   },
   {
    "duration": 0,
    "start_time": "2023-09-28T14:39:53.682Z"
   },
   {
    "duration": 0,
    "start_time": "2023-09-28T14:39:53.683Z"
   },
   {
    "duration": 0,
    "start_time": "2023-09-28T14:39:53.685Z"
   },
   {
    "duration": 0,
    "start_time": "2023-09-28T14:39:53.686Z"
   },
   {
    "duration": 0,
    "start_time": "2023-09-28T14:39:53.687Z"
   },
   {
    "duration": 0,
    "start_time": "2023-09-28T14:39:53.688Z"
   },
   {
    "duration": 0,
    "start_time": "2023-09-28T14:39:53.689Z"
   },
   {
    "duration": 0,
    "start_time": "2023-09-28T14:39:53.690Z"
   },
   {
    "duration": 0,
    "start_time": "2023-09-28T14:39:53.692Z"
   },
   {
    "duration": 0,
    "start_time": "2023-09-28T14:39:53.693Z"
   },
   {
    "duration": 0,
    "start_time": "2023-09-28T14:39:53.694Z"
   },
   {
    "duration": 0,
    "start_time": "2023-09-28T14:39:53.695Z"
   },
   {
    "duration": 0,
    "start_time": "2023-09-28T14:39:53.696Z"
   },
   {
    "duration": 0,
    "start_time": "2023-09-28T14:39:53.697Z"
   },
   {
    "duration": 0,
    "start_time": "2023-09-28T14:39:53.698Z"
   },
   {
    "duration": 0,
    "start_time": "2023-09-28T14:39:53.700Z"
   },
   {
    "duration": 24,
    "start_time": "2023-09-28T14:40:42.361Z"
   },
   {
    "duration": 1296,
    "start_time": "2023-09-28T14:41:19.734Z"
   },
   {
    "duration": 37,
    "start_time": "2023-09-28T14:41:21.032Z"
   },
   {
    "duration": 5,
    "start_time": "2023-09-28T14:41:21.071Z"
   },
   {
    "duration": 92,
    "start_time": "2023-09-28T14:41:21.079Z"
   },
   {
    "duration": 31,
    "start_time": "2023-09-28T14:41:21.172Z"
   },
   {
    "duration": 29,
    "start_time": "2023-09-28T14:41:21.205Z"
   },
   {
    "duration": 34,
    "start_time": "2023-09-28T14:41:21.236Z"
   },
   {
    "duration": 275,
    "start_time": "2023-09-28T14:41:21.272Z"
   },
   {
    "duration": 53,
    "start_time": "2023-09-28T14:41:21.551Z"
   },
   {
    "duration": 7,
    "start_time": "2023-09-28T14:41:21.607Z"
   },
   {
    "duration": 17,
    "start_time": "2023-09-28T14:41:21.616Z"
   },
   {
    "duration": 34,
    "start_time": "2023-09-28T14:41:21.634Z"
   },
   {
    "duration": 33,
    "start_time": "2023-09-28T14:41:21.670Z"
   },
   {
    "duration": 13,
    "start_time": "2023-09-28T14:41:21.705Z"
   },
   {
    "duration": 25,
    "start_time": "2023-09-28T14:41:21.719Z"
   },
   {
    "duration": 100,
    "start_time": "2023-09-28T14:41:21.746Z"
   },
   {
    "duration": 0,
    "start_time": "2023-09-28T14:41:21.849Z"
   },
   {
    "duration": 0,
    "start_time": "2023-09-28T14:41:21.850Z"
   },
   {
    "duration": 0,
    "start_time": "2023-09-28T14:41:21.851Z"
   },
   {
    "duration": 0,
    "start_time": "2023-09-28T14:41:21.851Z"
   },
   {
    "duration": 0,
    "start_time": "2023-09-28T14:41:21.852Z"
   },
   {
    "duration": 0,
    "start_time": "2023-09-28T14:41:21.853Z"
   },
   {
    "duration": 0,
    "start_time": "2023-09-28T14:41:21.853Z"
   },
   {
    "duration": 0,
    "start_time": "2023-09-28T14:41:21.854Z"
   },
   {
    "duration": 0,
    "start_time": "2023-09-28T14:41:21.856Z"
   },
   {
    "duration": 0,
    "start_time": "2023-09-28T14:41:21.857Z"
   },
   {
    "duration": 0,
    "start_time": "2023-09-28T14:41:21.858Z"
   },
   {
    "duration": 0,
    "start_time": "2023-09-28T14:41:21.859Z"
   },
   {
    "duration": 0,
    "start_time": "2023-09-28T14:41:21.860Z"
   },
   {
    "duration": 0,
    "start_time": "2023-09-28T14:41:21.861Z"
   },
   {
    "duration": 0,
    "start_time": "2023-09-28T14:41:21.861Z"
   },
   {
    "duration": 1145,
    "start_time": "2023-09-28T14:41:48.416Z"
   },
   {
    "duration": 29,
    "start_time": "2023-09-28T14:41:49.563Z"
   },
   {
    "duration": 3,
    "start_time": "2023-09-28T14:41:49.594Z"
   },
   {
    "duration": 32,
    "start_time": "2023-09-28T14:41:49.599Z"
   },
   {
    "duration": 45,
    "start_time": "2023-09-28T14:41:49.633Z"
   },
   {
    "duration": 15,
    "start_time": "2023-09-28T14:41:49.692Z"
   },
   {
    "duration": 41,
    "start_time": "2023-09-28T14:41:49.709Z"
   },
   {
    "duration": 243,
    "start_time": "2023-09-28T14:41:49.753Z"
   },
   {
    "duration": 39,
    "start_time": "2023-09-28T14:41:49.997Z"
   },
   {
    "duration": 7,
    "start_time": "2023-09-28T14:41:50.038Z"
   },
   {
    "duration": 30,
    "start_time": "2023-09-28T14:41:50.046Z"
   },
   {
    "duration": 28,
    "start_time": "2023-09-28T14:41:50.078Z"
   },
   {
    "duration": 28,
    "start_time": "2023-09-28T14:41:50.108Z"
   },
   {
    "duration": 26,
    "start_time": "2023-09-28T14:41:50.137Z"
   },
   {
    "duration": 22,
    "start_time": "2023-09-28T14:41:50.165Z"
   },
   {
    "duration": 56,
    "start_time": "2023-09-28T14:41:50.188Z"
   },
   {
    "duration": 17,
    "start_time": "2023-09-28T14:41:50.245Z"
   },
   {
    "duration": 29,
    "start_time": "2023-09-28T14:41:50.265Z"
   },
   {
    "duration": 25,
    "start_time": "2023-09-28T14:41:50.296Z"
   },
   {
    "duration": 45,
    "start_time": "2023-09-28T14:41:50.323Z"
   },
   {
    "duration": 12,
    "start_time": "2023-09-28T14:41:50.369Z"
   },
   {
    "duration": 421,
    "start_time": "2023-09-28T14:41:50.383Z"
   },
   {
    "duration": 11,
    "start_time": "2023-09-28T14:41:50.806Z"
   },
   {
    "duration": 17,
    "start_time": "2023-09-28T14:41:50.819Z"
   },
   {
    "duration": 192,
    "start_time": "2023-09-28T14:41:50.838Z"
   },
   {
    "duration": 127,
    "start_time": "2023-09-28T14:41:51.032Z"
   },
   {
    "duration": 19,
    "start_time": "2023-09-28T14:41:51.161Z"
   },
   {
    "duration": 41,
    "start_time": "2023-09-28T14:41:51.182Z"
   },
   {
    "duration": 212,
    "start_time": "2023-09-28T14:41:51.225Z"
   },
   {
    "duration": 479,
    "start_time": "2023-09-28T14:41:51.439Z"
   },
   {
    "duration": 27,
    "start_time": "2023-09-28T14:43:08.345Z"
   },
   {
    "duration": 20,
    "start_time": "2023-09-28T14:44:14.584Z"
   },
   {
    "duration": 31,
    "start_time": "2023-09-28T14:44:26.434Z"
   },
   {
    "duration": 151,
    "start_time": "2023-09-28T14:45:00.927Z"
   },
   {
    "duration": 246,
    "start_time": "2023-09-28T14:45:34.002Z"
   },
   {
    "duration": 23,
    "start_time": "2023-09-28T15:18:19.011Z"
   },
   {
    "duration": 32,
    "start_time": "2023-09-28T15:18:32.827Z"
   },
   {
    "duration": 37,
    "start_time": "2023-09-28T15:19:18.192Z"
   },
   {
    "duration": 369,
    "start_time": "2023-09-28T15:20:54.076Z"
   },
   {
    "duration": 23,
    "start_time": "2023-09-28T15:22:21.907Z"
   },
   {
    "duration": 407,
    "start_time": "2023-09-28T15:22:58.084Z"
   },
   {
    "duration": 10,
    "start_time": "2023-09-28T15:24:04.815Z"
   },
   {
    "duration": 31,
    "start_time": "2023-09-28T15:24:56.082Z"
   },
   {
    "duration": 65,
    "start_time": "2023-09-28T15:31:12.467Z"
   },
   {
    "duration": 47,
    "start_time": "2023-09-28T15:32:18.138Z"
   },
   {
    "duration": 56,
    "start_time": "2023-09-28T15:32:24.979Z"
   },
   {
    "duration": 593,
    "start_time": "2023-09-28T15:32:37.617Z"
   },
   {
    "duration": 421,
    "start_time": "2023-09-28T15:33:18.307Z"
   },
   {
    "duration": 3236,
    "start_time": "2023-09-28T15:39:26.443Z"
   },
   {
    "duration": 1656,
    "start_time": "2023-09-28T15:41:00.723Z"
   },
   {
    "duration": 61,
    "start_time": "2023-09-28T15:41:02.386Z"
   },
   {
    "duration": 12,
    "start_time": "2023-09-28T15:41:02.456Z"
   },
   {
    "duration": 68,
    "start_time": "2023-09-28T15:41:02.471Z"
   },
   {
    "duration": 47,
    "start_time": "2023-09-28T15:41:02.542Z"
   },
   {
    "duration": 31,
    "start_time": "2023-09-28T15:41:02.596Z"
   },
   {
    "duration": 22,
    "start_time": "2023-09-28T15:41:02.632Z"
   },
   {
    "duration": 327,
    "start_time": "2023-09-28T15:41:02.656Z"
   },
   {
    "duration": 83,
    "start_time": "2023-09-28T15:41:02.988Z"
   },
   {
    "duration": 28,
    "start_time": "2023-09-28T15:41:03.075Z"
   },
   {
    "duration": 16,
    "start_time": "2023-09-28T15:41:03.107Z"
   },
   {
    "duration": 29,
    "start_time": "2023-09-28T15:41:03.125Z"
   },
   {
    "duration": 15,
    "start_time": "2023-09-28T15:41:03.156Z"
   },
   {
    "duration": 41,
    "start_time": "2023-09-28T15:41:03.174Z"
   },
   {
    "duration": 565,
    "start_time": "2023-09-28T15:41:03.217Z"
   },
   {
    "duration": 380,
    "start_time": "2023-09-28T15:41:03.784Z"
   },
   {
    "duration": 12,
    "start_time": "2023-09-28T15:41:04.168Z"
   },
   {
    "duration": 27,
    "start_time": "2023-09-28T15:41:04.185Z"
   },
   {
    "duration": 27,
    "start_time": "2023-09-28T15:41:04.217Z"
   },
   {
    "duration": 80,
    "start_time": "2023-09-28T15:41:04.249Z"
   },
   {
    "duration": 11,
    "start_time": "2023-09-28T15:41:04.330Z"
   },
   {
    "duration": 23,
    "start_time": "2023-09-28T15:41:04.343Z"
   },
   {
    "duration": 9,
    "start_time": "2023-09-28T15:41:04.376Z"
   },
   {
    "duration": 29,
    "start_time": "2023-09-28T15:41:04.395Z"
   },
   {
    "duration": 10,
    "start_time": "2023-09-28T15:41:04.429Z"
   },
   {
    "duration": 405,
    "start_time": "2023-09-28T15:41:04.444Z"
   },
   {
    "duration": 12,
    "start_time": "2023-09-28T15:41:04.851Z"
   },
   {
    "duration": 11,
    "start_time": "2023-09-28T15:41:04.865Z"
   },
   {
    "duration": 275,
    "start_time": "2023-09-28T15:41:04.878Z"
   },
   {
    "duration": 234,
    "start_time": "2023-09-28T15:41:05.164Z"
   },
   {
    "duration": 27,
    "start_time": "2023-09-28T15:41:05.403Z"
   },
   {
    "duration": 29,
    "start_time": "2023-09-28T15:41:05.434Z"
   },
   {
    "duration": 362,
    "start_time": "2023-09-28T15:41:05.469Z"
   },
   {
    "duration": 324,
    "start_time": "2023-09-28T15:41:05.840Z"
   },
   {
    "duration": 388,
    "start_time": "2023-09-28T15:45:25.031Z"
   },
   {
    "duration": 467,
    "start_time": "2023-09-28T15:45:37.973Z"
   },
   {
    "duration": 321,
    "start_time": "2023-09-28T15:45:47.510Z"
   },
   {
    "duration": 334,
    "start_time": "2023-09-28T15:45:57.865Z"
   },
   {
    "duration": 448,
    "start_time": "2023-09-28T16:01:19.722Z"
   },
   {
    "duration": 396,
    "start_time": "2023-09-28T16:01:34.189Z"
   },
   {
    "duration": 389,
    "start_time": "2023-09-28T16:01:43.504Z"
   },
   {
    "duration": 291,
    "start_time": "2023-09-28T16:04:15.271Z"
   },
   {
    "duration": 309,
    "start_time": "2023-09-28T16:04:23.094Z"
   },
   {
    "duration": 361,
    "start_time": "2023-09-28T16:04:41.958Z"
   },
   {
    "duration": 4,
    "start_time": "2023-09-28T16:05:11.226Z"
   },
   {
    "duration": 324,
    "start_time": "2023-09-28T16:05:15.488Z"
   },
   {
    "duration": 363,
    "start_time": "2023-09-28T16:06:33.570Z"
   },
   {
    "duration": 201,
    "start_time": "2023-09-28T16:28:22.787Z"
   },
   {
    "duration": 382,
    "start_time": "2023-09-28T16:29:50.049Z"
   },
   {
    "duration": 256,
    "start_time": "2023-09-28T16:30:50.576Z"
   },
   {
    "duration": 330,
    "start_time": "2023-09-28T16:51:08.445Z"
   },
   {
    "duration": 648,
    "start_time": "2023-09-28T16:51:16.215Z"
   },
   {
    "duration": 284,
    "start_time": "2023-09-28T16:52:00.898Z"
   },
   {
    "duration": 329,
    "start_time": "2023-09-28T16:54:40.760Z"
   },
   {
    "duration": 16,
    "start_time": "2023-09-28T17:25:47.129Z"
   },
   {
    "duration": 25,
    "start_time": "2023-09-28T17:25:58.068Z"
   },
   {
    "duration": 97,
    "start_time": "2023-09-28T17:26:27.442Z"
   },
   {
    "duration": 7,
    "start_time": "2023-09-28T17:26:43.022Z"
   },
   {
    "duration": 15,
    "start_time": "2023-09-28T17:27:12.407Z"
   },
   {
    "duration": 14,
    "start_time": "2023-09-28T17:27:21.968Z"
   },
   {
    "duration": 7,
    "start_time": "2023-09-28T17:29:46.134Z"
   },
   {
    "duration": 16,
    "start_time": "2023-09-28T17:31:00.628Z"
   },
   {
    "duration": 17,
    "start_time": "2023-09-28T17:31:09.378Z"
   },
   {
    "duration": 9,
    "start_time": "2023-09-28T17:31:18.139Z"
   },
   {
    "duration": 234,
    "start_time": "2023-09-28T17:40:29.242Z"
   },
   {
    "duration": 7,
    "start_time": "2023-09-28T17:42:40.282Z"
   },
   {
    "duration": 23,
    "start_time": "2023-09-28T18:23:10.421Z"
   },
   {
    "duration": 23,
    "start_time": "2023-09-28T18:24:28.891Z"
   },
   {
    "duration": 21,
    "start_time": "2023-09-28T18:25:55.205Z"
   },
   {
    "duration": 28,
    "start_time": "2023-09-28T18:28:27.815Z"
   },
   {
    "duration": 27,
    "start_time": "2023-09-28T18:28:59.230Z"
   },
   {
    "duration": 276,
    "start_time": "2023-09-28T18:37:35.795Z"
   },
   {
    "duration": 3,
    "start_time": "2023-09-28T18:38:00.589Z"
   },
   {
    "duration": 257,
    "start_time": "2023-09-28T18:38:03.647Z"
   },
   {
    "duration": 10,
    "start_time": "2023-09-28T18:43:39.414Z"
   },
   {
    "duration": 9,
    "start_time": "2023-09-28T18:44:17.538Z"
   },
   {
    "duration": 72,
    "start_time": "2023-09-28T18:48:53.318Z"
   },
   {
    "duration": 81,
    "start_time": "2023-09-28T18:49:01.922Z"
   },
   {
    "duration": 137,
    "start_time": "2023-09-28T18:49:34.739Z"
   },
   {
    "duration": 24,
    "start_time": "2023-09-28T18:50:37.048Z"
   },
   {
    "duration": 11,
    "start_time": "2023-09-28T18:50:42.608Z"
   },
   {
    "duration": 11,
    "start_time": "2023-09-28T18:50:52.669Z"
   },
   {
    "duration": 54,
    "start_time": "2023-09-28T18:51:42.179Z"
   },
   {
    "duration": 18,
    "start_time": "2023-09-28T18:53:26.901Z"
   },
   {
    "duration": 79,
    "start_time": "2023-09-28T18:54:19.947Z"
   },
   {
    "duration": 1317,
    "start_time": "2023-09-28T19:58:03.738Z"
   },
   {
    "duration": 40,
    "start_time": "2023-09-28T19:58:05.064Z"
   },
   {
    "duration": 3,
    "start_time": "2023-09-28T19:58:05.106Z"
   },
   {
    "duration": 18,
    "start_time": "2023-09-28T19:58:05.111Z"
   },
   {
    "duration": 17,
    "start_time": "2023-09-28T19:58:05.130Z"
   },
   {
    "duration": 38,
    "start_time": "2023-09-28T19:58:05.149Z"
   },
   {
    "duration": 14,
    "start_time": "2023-09-28T19:58:05.194Z"
   },
   {
    "duration": 296,
    "start_time": "2023-09-28T19:58:05.209Z"
   },
   {
    "duration": 38,
    "start_time": "2023-09-28T19:58:05.507Z"
   },
   {
    "duration": 14,
    "start_time": "2023-09-28T19:58:05.547Z"
   },
   {
    "duration": 37,
    "start_time": "2023-09-28T19:58:05.562Z"
   },
   {
    "duration": 18,
    "start_time": "2023-09-28T19:58:05.601Z"
   },
   {
    "duration": 14,
    "start_time": "2023-09-28T19:58:05.621Z"
   },
   {
    "duration": 51,
    "start_time": "2023-09-28T19:58:05.636Z"
   },
   {
    "duration": 406,
    "start_time": "2023-09-28T19:58:05.688Z"
   },
   {
    "duration": 417,
    "start_time": "2023-09-28T19:58:06.096Z"
   },
   {
    "duration": 12,
    "start_time": "2023-09-28T19:58:06.518Z"
   },
   {
    "duration": 34,
    "start_time": "2023-09-28T19:58:06.532Z"
   },
   {
    "duration": 35,
    "start_time": "2023-09-28T19:58:06.569Z"
   },
   {
    "duration": 66,
    "start_time": "2023-09-28T19:58:06.605Z"
   },
   {
    "duration": 15,
    "start_time": "2023-09-28T19:58:06.681Z"
   },
   {
    "duration": 38,
    "start_time": "2023-09-28T19:58:06.697Z"
   },
   {
    "duration": 34,
    "start_time": "2023-09-28T19:58:06.737Z"
   },
   {
    "duration": 34,
    "start_time": "2023-09-28T19:58:06.773Z"
   },
   {
    "duration": 25,
    "start_time": "2023-09-28T19:58:06.809Z"
   },
   {
    "duration": 361,
    "start_time": "2023-09-28T19:58:06.836Z"
   },
   {
    "duration": 8,
    "start_time": "2023-09-28T19:58:07.199Z"
   },
   {
    "duration": 66,
    "start_time": "2023-09-28T19:58:07.210Z"
   },
   {
    "duration": 234,
    "start_time": "2023-09-28T19:58:07.282Z"
   },
   {
    "duration": 157,
    "start_time": "2023-09-28T19:58:07.518Z"
   },
   {
    "duration": 19,
    "start_time": "2023-09-28T19:58:07.676Z"
   },
   {
    "duration": 10,
    "start_time": "2023-09-28T19:58:07.696Z"
   },
   {
    "duration": 314,
    "start_time": "2023-09-28T19:58:07.708Z"
   },
   {
    "duration": 315,
    "start_time": "2023-09-28T19:58:08.024Z"
   },
   {
    "duration": 430,
    "start_time": "2023-09-28T19:58:08.341Z"
   },
   {
    "duration": 338,
    "start_time": "2023-09-28T19:58:08.773Z"
   },
   {
    "duration": 58,
    "start_time": "2023-09-28T19:58:09.115Z"
   },
   {
    "duration": 246,
    "start_time": "2023-09-28T19:58:09.175Z"
   },
   {
    "duration": 10,
    "start_time": "2023-09-28T19:58:09.424Z"
   },
   {
    "duration": 28,
    "start_time": "2023-09-28T19:58:09.435Z"
   },
   {
    "duration": 65,
    "start_time": "2023-09-28T19:58:09.465Z"
   },
   {
    "duration": 9,
    "start_time": "2023-09-28T19:58:09.532Z"
   },
   {
    "duration": 81,
    "start_time": "2023-09-28T19:58:09.554Z"
   },
   {
    "duration": 30,
    "start_time": "2023-09-28T19:58:09.636Z"
   },
   {
    "duration": 73,
    "start_time": "2023-09-28T19:58:09.669Z"
   },
   {
    "duration": 130,
    "start_time": "2023-09-28T19:58:09.744Z"
   },
   {
    "duration": 23,
    "start_time": "2023-09-28T20:00:23.130Z"
   },
   {
    "duration": 77,
    "start_time": "2023-09-28T20:00:54.915Z"
   },
   {
    "duration": 62,
    "start_time": "2023-09-28T20:01:02.276Z"
   },
   {
    "duration": 1413,
    "start_time": "2023-09-29T14:08:20.539Z"
   },
   {
    "duration": 83,
    "start_time": "2023-09-29T14:08:21.954Z"
   },
   {
    "duration": 3,
    "start_time": "2023-09-29T14:08:22.038Z"
   },
   {
    "duration": 22,
    "start_time": "2023-09-29T14:08:22.042Z"
   },
   {
    "duration": 13,
    "start_time": "2023-09-29T14:08:22.066Z"
   },
   {
    "duration": 10,
    "start_time": "2023-09-29T14:08:22.081Z"
   },
   {
    "duration": 13,
    "start_time": "2023-09-29T14:08:22.093Z"
   },
   {
    "duration": 225,
    "start_time": "2023-09-29T14:08:22.107Z"
   },
   {
    "duration": 89,
    "start_time": "2023-09-29T14:08:22.334Z"
   },
   {
    "duration": 8,
    "start_time": "2023-09-29T14:08:22.426Z"
   },
   {
    "duration": 13,
    "start_time": "2023-09-29T14:08:22.435Z"
   },
   {
    "duration": 5,
    "start_time": "2023-09-29T14:08:22.456Z"
   },
   {
    "duration": 18,
    "start_time": "2023-09-29T14:08:22.463Z"
   },
   {
    "duration": 41,
    "start_time": "2023-09-29T14:08:22.483Z"
   },
   {
    "duration": 361,
    "start_time": "2023-09-29T14:08:22.525Z"
   },
   {
    "duration": 283,
    "start_time": "2023-09-29T14:08:22.888Z"
   },
   {
    "duration": 8,
    "start_time": "2023-09-29T14:08:23.173Z"
   },
   {
    "duration": 8,
    "start_time": "2023-09-29T14:08:23.182Z"
   },
   {
    "duration": 7,
    "start_time": "2023-09-29T14:08:23.191Z"
   },
   {
    "duration": 72,
    "start_time": "2023-09-29T14:08:23.199Z"
   },
   {
    "duration": 8,
    "start_time": "2023-09-29T14:08:23.272Z"
   },
   {
    "duration": 32,
    "start_time": "2023-09-29T14:08:23.282Z"
   },
   {
    "duration": 10,
    "start_time": "2023-09-29T14:08:23.315Z"
   },
   {
    "duration": 14,
    "start_time": "2023-09-29T14:08:23.327Z"
   },
   {
    "duration": 15,
    "start_time": "2023-09-29T14:08:23.343Z"
   },
   {
    "duration": 259,
    "start_time": "2023-09-29T14:08:23.362Z"
   },
   {
    "duration": 8,
    "start_time": "2023-09-29T14:08:23.622Z"
   },
   {
    "duration": 14,
    "start_time": "2023-09-29T14:08:23.646Z"
   },
   {
    "duration": 177,
    "start_time": "2023-09-29T14:08:23.661Z"
   },
   {
    "duration": 149,
    "start_time": "2023-09-29T14:08:23.839Z"
   },
   {
    "duration": 14,
    "start_time": "2023-09-29T14:08:23.989Z"
   },
   {
    "duration": 10,
    "start_time": "2023-09-29T14:08:24.005Z"
   },
   {
    "duration": 279,
    "start_time": "2023-09-29T14:08:24.020Z"
   },
   {
    "duration": 279,
    "start_time": "2023-09-29T14:08:24.301Z"
   },
   {
    "duration": 384,
    "start_time": "2023-09-29T14:08:24.582Z"
   },
   {
    "duration": 228,
    "start_time": "2023-09-29T14:08:24.967Z"
   },
   {
    "duration": 70,
    "start_time": "2023-09-29T14:08:25.197Z"
   },
   {
    "duration": 170,
    "start_time": "2023-09-29T14:08:25.269Z"
   },
   {
    "duration": 13,
    "start_time": "2023-09-29T14:08:25.444Z"
   },
   {
    "duration": 19,
    "start_time": "2023-09-29T14:08:25.460Z"
   },
   {
    "duration": 49,
    "start_time": "2023-09-29T14:08:25.480Z"
   },
   {
    "duration": 45,
    "start_time": "2023-09-29T14:08:25.531Z"
   },
   {
    "duration": 49,
    "start_time": "2023-09-29T14:08:25.578Z"
   },
   {
    "duration": 47,
    "start_time": "2023-09-29T14:08:25.629Z"
   },
   {
    "duration": 54,
    "start_time": "2023-09-29T14:08:25.678Z"
   },
   {
    "duration": 55,
    "start_time": "2023-09-29T14:08:25.734Z"
   },
   {
    "duration": 54,
    "start_time": "2023-09-29T14:08:25.791Z"
   },
   {
    "duration": 23,
    "start_time": "2023-09-29T14:08:25.848Z"
   },
   {
    "duration": 37,
    "start_time": "2023-09-29T14:08:25.872Z"
   },
   {
    "duration": 26,
    "start_time": "2023-09-29T14:08:34.911Z"
   },
   {
    "duration": 1177,
    "start_time": "2023-09-29T14:31:40.064Z"
   },
   {
    "duration": 28,
    "start_time": "2023-09-29T14:31:41.244Z"
   },
   {
    "duration": 3,
    "start_time": "2023-09-29T14:31:41.273Z"
   },
   {
    "duration": 36,
    "start_time": "2023-09-29T14:31:41.277Z"
   },
   {
    "duration": 33,
    "start_time": "2023-09-29T14:31:41.315Z"
   },
   {
    "duration": 23,
    "start_time": "2023-09-29T14:31:41.350Z"
   },
   {
    "duration": 21,
    "start_time": "2023-09-29T14:31:41.374Z"
   },
   {
    "duration": 202,
    "start_time": "2023-09-29T14:31:41.396Z"
   },
   {
    "duration": 36,
    "start_time": "2023-09-29T14:31:41.600Z"
   },
   {
    "duration": 17,
    "start_time": "2023-09-29T14:31:41.637Z"
   },
   {
    "duration": 20,
    "start_time": "2023-09-29T14:31:41.656Z"
   },
   {
    "duration": 26,
    "start_time": "2023-09-29T14:31:41.678Z"
   },
   {
    "duration": 79,
    "start_time": "2023-09-29T14:31:41.706Z"
   },
   {
    "duration": 33,
    "start_time": "2023-09-29T14:31:41.787Z"
   },
   {
    "duration": 332,
    "start_time": "2023-09-29T14:31:41.822Z"
   },
   {
    "duration": 236,
    "start_time": "2023-09-29T14:31:42.155Z"
   },
   {
    "duration": 8,
    "start_time": "2023-09-29T14:31:42.393Z"
   },
   {
    "duration": 23,
    "start_time": "2023-09-29T14:31:42.403Z"
   },
   {
    "duration": 8,
    "start_time": "2023-09-29T14:31:42.428Z"
   },
   {
    "duration": 44,
    "start_time": "2023-09-29T14:31:42.438Z"
   },
   {
    "duration": 7,
    "start_time": "2023-09-29T14:31:42.483Z"
   },
   {
    "duration": 11,
    "start_time": "2023-09-29T14:31:42.491Z"
   },
   {
    "duration": 11,
    "start_time": "2023-09-29T14:31:42.503Z"
   },
   {
    "duration": 13,
    "start_time": "2023-09-29T14:31:42.515Z"
   },
   {
    "duration": 26,
    "start_time": "2023-09-29T14:31:42.530Z"
   },
   {
    "duration": 298,
    "start_time": "2023-09-29T14:31:42.558Z"
   },
   {
    "duration": 8,
    "start_time": "2023-09-29T14:31:42.859Z"
   },
   {
    "duration": 10,
    "start_time": "2023-09-29T14:31:42.868Z"
   },
   {
    "duration": 174,
    "start_time": "2023-09-29T14:31:42.879Z"
   },
   {
    "duration": 131,
    "start_time": "2023-09-29T14:31:43.055Z"
   },
   {
    "duration": 15,
    "start_time": "2023-09-29T14:31:43.188Z"
   },
   {
    "duration": 7,
    "start_time": "2023-09-29T14:31:43.205Z"
   },
   {
    "duration": 218,
    "start_time": "2023-09-29T14:31:43.213Z"
   },
   {
    "duration": 227,
    "start_time": "2023-09-29T14:31:43.433Z"
   },
   {
    "duration": 312,
    "start_time": "2023-09-29T14:31:43.662Z"
   },
   {
    "duration": 262,
    "start_time": "2023-09-29T14:31:43.975Z"
   },
   {
    "duration": 53,
    "start_time": "2023-09-29T14:31:44.239Z"
   },
   {
    "duration": 184,
    "start_time": "2023-09-29T14:31:44.294Z"
   },
   {
    "duration": 7,
    "start_time": "2023-09-29T14:31:44.479Z"
   },
   {
    "duration": 113,
    "start_time": "2023-09-29T14:31:44.487Z"
   },
   {
    "duration": 63,
    "start_time": "2023-09-29T14:31:44.604Z"
   },
   {
    "duration": 32,
    "start_time": "2023-09-29T14:31:44.668Z"
   },
   {
    "duration": 63,
    "start_time": "2023-09-29T14:31:44.701Z"
   },
   {
    "duration": 27,
    "start_time": "2023-09-29T14:31:44.766Z"
   },
   {
    "duration": 64,
    "start_time": "2023-09-29T14:31:44.794Z"
   },
   {
    "duration": 16,
    "start_time": "2023-09-29T14:31:44.860Z"
   },
   {
    "duration": 52,
    "start_time": "2023-09-29T14:31:44.878Z"
   },
   {
    "duration": 42,
    "start_time": "2023-09-29T14:31:44.932Z"
   },
   {
    "duration": 23,
    "start_time": "2023-09-29T14:31:44.975Z"
   },
   {
    "duration": 170,
    "start_time": "2023-09-29T14:31:45.000Z"
   },
   {
    "duration": 0,
    "start_time": "2023-09-29T14:31:45.173Z"
   },
   {
    "duration": 79,
    "start_time": "2023-09-29T14:32:19.894Z"
   },
   {
    "duration": 77,
    "start_time": "2023-09-29T14:32:42.056Z"
   },
   {
    "duration": 1979,
    "start_time": "2023-09-29T14:32:58.623Z"
   },
   {
    "duration": 1235,
    "start_time": "2023-09-29T14:37:20.523Z"
   },
   {
    "duration": 28,
    "start_time": "2023-09-29T14:37:21.760Z"
   },
   {
    "duration": 3,
    "start_time": "2023-09-29T14:37:21.789Z"
   },
   {
    "duration": 45,
    "start_time": "2023-09-29T14:37:21.794Z"
   },
   {
    "duration": 22,
    "start_time": "2023-09-29T14:37:21.842Z"
   },
   {
    "duration": 16,
    "start_time": "2023-09-29T14:37:21.866Z"
   },
   {
    "duration": 30,
    "start_time": "2023-09-29T14:37:21.883Z"
   },
   {
    "duration": 220,
    "start_time": "2023-09-29T14:37:21.915Z"
   },
   {
    "duration": 37,
    "start_time": "2023-09-29T14:37:22.137Z"
   },
   {
    "duration": 23,
    "start_time": "2023-09-29T14:37:22.176Z"
   },
   {
    "duration": 18,
    "start_time": "2023-09-29T14:37:22.200Z"
   },
   {
    "duration": 16,
    "start_time": "2023-09-29T14:37:22.219Z"
   },
   {
    "duration": 22,
    "start_time": "2023-09-29T14:37:22.236Z"
   },
   {
    "duration": 41,
    "start_time": "2023-09-29T14:37:22.261Z"
   },
   {
    "duration": 331,
    "start_time": "2023-09-29T14:37:22.303Z"
   },
   {
    "duration": 236,
    "start_time": "2023-09-29T14:37:22.635Z"
   },
   {
    "duration": 7,
    "start_time": "2023-09-29T14:37:22.873Z"
   },
   {
    "duration": 27,
    "start_time": "2023-09-29T14:37:22.881Z"
   },
   {
    "duration": 82,
    "start_time": "2023-09-29T14:37:22.909Z"
   },
   {
    "duration": 38,
    "start_time": "2023-09-29T14:37:22.992Z"
   },
   {
    "duration": 8,
    "start_time": "2023-09-29T14:37:23.031Z"
   },
   {
    "duration": 18,
    "start_time": "2023-09-29T14:37:23.040Z"
   },
   {
    "duration": 28,
    "start_time": "2023-09-29T14:37:23.059Z"
   },
   {
    "duration": 40,
    "start_time": "2023-09-29T14:37:23.089Z"
   },
   {
    "duration": 27,
    "start_time": "2023-09-29T14:37:23.131Z"
   },
   {
    "duration": 261,
    "start_time": "2023-09-29T14:37:23.159Z"
   },
   {
    "duration": 7,
    "start_time": "2023-09-29T14:37:23.422Z"
   },
   {
    "duration": 26,
    "start_time": "2023-09-29T14:37:23.430Z"
   },
   {
    "duration": 167,
    "start_time": "2023-09-29T14:37:23.458Z"
   },
   {
    "duration": 132,
    "start_time": "2023-09-29T14:37:23.627Z"
   },
   {
    "duration": 15,
    "start_time": "2023-09-29T14:37:23.761Z"
   },
   {
    "duration": 12,
    "start_time": "2023-09-29T14:37:23.777Z"
   },
   {
    "duration": 214,
    "start_time": "2023-09-29T14:37:23.790Z"
   },
   {
    "duration": 268,
    "start_time": "2023-09-29T14:37:24.006Z"
   },
   {
    "duration": 305,
    "start_time": "2023-09-29T14:37:24.276Z"
   },
   {
    "duration": 226,
    "start_time": "2023-09-29T14:37:24.583Z"
   },
   {
    "duration": 54,
    "start_time": "2023-09-29T14:37:24.811Z"
   },
   {
    "duration": 179,
    "start_time": "2023-09-29T14:37:24.867Z"
   },
   {
    "duration": 8,
    "start_time": "2023-09-29T14:37:25.048Z"
   },
   {
    "duration": 34,
    "start_time": "2023-09-29T14:37:25.057Z"
   },
   {
    "duration": 52,
    "start_time": "2023-09-29T14:37:25.095Z"
   },
   {
    "duration": 12,
    "start_time": "2023-09-29T14:37:25.149Z"
   },
   {
    "duration": 77,
    "start_time": "2023-09-29T14:37:25.163Z"
   },
   {
    "duration": 18,
    "start_time": "2023-09-29T14:37:25.242Z"
   },
   {
    "duration": 53,
    "start_time": "2023-09-29T14:37:25.262Z"
   },
   {
    "duration": 32,
    "start_time": "2023-09-29T14:37:25.317Z"
   },
   {
    "duration": 51,
    "start_time": "2023-09-29T14:37:25.351Z"
   },
   {
    "duration": 53,
    "start_time": "2023-09-29T14:37:25.404Z"
   },
   {
    "duration": 10,
    "start_time": "2023-09-29T14:37:25.459Z"
   },
   {
    "duration": 2008,
    "start_time": "2023-09-29T14:37:25.471Z"
   },
   {
    "duration": 0,
    "start_time": "2023-09-29T14:37:27.481Z"
   },
   {
    "duration": 1161,
    "start_time": "2023-09-29T14:44:13.675Z"
   },
   {
    "duration": 28,
    "start_time": "2023-09-29T14:44:14.838Z"
   },
   {
    "duration": 11,
    "start_time": "2023-09-29T14:44:14.867Z"
   },
   {
    "duration": 69,
    "start_time": "2023-09-29T14:44:14.880Z"
   },
   {
    "duration": 13,
    "start_time": "2023-09-29T14:44:14.951Z"
   },
   {
    "duration": 20,
    "start_time": "2023-09-29T14:44:14.966Z"
   },
   {
    "duration": 88,
    "start_time": "2023-09-29T14:44:14.987Z"
   },
   {
    "duration": 227,
    "start_time": "2023-09-29T14:44:15.076Z"
   },
   {
    "duration": 36,
    "start_time": "2023-09-29T14:44:15.305Z"
   },
   {
    "duration": 8,
    "start_time": "2023-09-29T14:44:15.342Z"
   },
   {
    "duration": 42,
    "start_time": "2023-09-29T14:44:15.351Z"
   },
   {
    "duration": 25,
    "start_time": "2023-09-29T14:44:15.395Z"
   },
   {
    "duration": 31,
    "start_time": "2023-09-29T14:44:15.422Z"
   },
   {
    "duration": 38,
    "start_time": "2023-09-29T14:44:15.456Z"
   },
   {
    "duration": 326,
    "start_time": "2023-09-29T14:44:15.496Z"
   },
   {
    "duration": 228,
    "start_time": "2023-09-29T14:44:15.824Z"
   },
   {
    "duration": 8,
    "start_time": "2023-09-29T14:44:16.053Z"
   },
   {
    "duration": 26,
    "start_time": "2023-09-29T14:44:16.062Z"
   },
   {
    "duration": 104,
    "start_time": "2023-09-29T14:44:16.090Z"
   },
   {
    "duration": 105,
    "start_time": "2023-09-29T14:44:16.196Z"
   },
   {
    "duration": 9,
    "start_time": "2023-09-29T14:44:16.302Z"
   },
   {
    "duration": 31,
    "start_time": "2023-09-29T14:44:16.313Z"
   },
   {
    "duration": 8,
    "start_time": "2023-09-29T14:44:16.346Z"
   },
   {
    "duration": 11,
    "start_time": "2023-09-29T14:44:16.356Z"
   },
   {
    "duration": 8,
    "start_time": "2023-09-29T14:44:16.369Z"
   },
   {
    "duration": 240,
    "start_time": "2023-09-29T14:44:16.378Z"
   },
   {
    "duration": 8,
    "start_time": "2023-09-29T14:44:16.619Z"
   },
   {
    "duration": 21,
    "start_time": "2023-09-29T14:44:16.628Z"
   },
   {
    "duration": 169,
    "start_time": "2023-09-29T14:44:16.650Z"
   },
   {
    "duration": 126,
    "start_time": "2023-09-29T14:44:16.820Z"
   },
   {
    "duration": 14,
    "start_time": "2023-09-29T14:44:16.948Z"
   },
   {
    "duration": 11,
    "start_time": "2023-09-29T14:44:16.963Z"
   },
   {
    "duration": 213,
    "start_time": "2023-09-29T14:44:16.975Z"
   },
   {
    "duration": 213,
    "start_time": "2023-09-29T14:44:17.190Z"
   },
   {
    "duration": 309,
    "start_time": "2023-09-29T14:44:17.404Z"
   },
   {
    "duration": 249,
    "start_time": "2023-09-29T14:44:17.714Z"
   },
   {
    "duration": 43,
    "start_time": "2023-09-29T14:44:17.965Z"
   },
   {
    "duration": 180,
    "start_time": "2023-09-29T14:44:18.010Z"
   },
   {
    "duration": 8,
    "start_time": "2023-09-29T14:44:18.191Z"
   },
   {
    "duration": 24,
    "start_time": "2023-09-29T14:44:18.200Z"
   },
   {
    "duration": 50,
    "start_time": "2023-09-29T14:44:18.236Z"
   },
   {
    "duration": 9,
    "start_time": "2023-09-29T14:44:18.287Z"
   },
   {
    "duration": 70,
    "start_time": "2023-09-29T14:44:18.298Z"
   },
   {
    "duration": 21,
    "start_time": "2023-09-29T14:44:18.370Z"
   },
   {
    "duration": 56,
    "start_time": "2023-09-29T14:44:18.392Z"
   },
   {
    "duration": 17,
    "start_time": "2023-09-29T14:44:18.450Z"
   },
   {
    "duration": 54,
    "start_time": "2023-09-29T14:44:18.468Z"
   },
   {
    "duration": 40,
    "start_time": "2023-09-29T14:44:18.524Z"
   },
   {
    "duration": 8,
    "start_time": "2023-09-29T14:44:18.566Z"
   },
   {
    "duration": 1950,
    "start_time": "2023-09-29T14:44:18.576Z"
   },
   {
    "duration": 0,
    "start_time": "2023-09-29T14:44:20.528Z"
   },
   {
    "duration": 1924,
    "start_time": "2023-09-29T14:45:06.086Z"
   },
   {
    "duration": 79,
    "start_time": "2023-09-29T14:45:54.275Z"
   },
   {
    "duration": 60,
    "start_time": "2023-09-29T14:46:00.874Z"
   },
   {
    "duration": 90,
    "start_time": "2023-09-29T14:46:49.080Z"
   },
   {
    "duration": 92,
    "start_time": "2023-09-29T14:47:35.971Z"
   },
   {
    "duration": 6,
    "start_time": "2023-09-29T14:47:39.865Z"
   },
   {
    "duration": 8,
    "start_time": "2023-09-29T14:48:00.533Z"
   },
   {
    "duration": 6,
    "start_time": "2023-09-29T14:48:15.458Z"
   },
   {
    "duration": 23,
    "start_time": "2023-09-29T14:48:23.407Z"
   },
   {
    "duration": 6,
    "start_time": "2023-09-29T15:00:52.183Z"
   },
   {
    "duration": 7,
    "start_time": "2023-09-29T15:00:58.974Z"
   },
   {
    "duration": 6,
    "start_time": "2023-09-29T15:01:30.683Z"
   },
   {
    "duration": 6,
    "start_time": "2023-09-29T15:05:22.184Z"
   },
   {
    "duration": 6,
    "start_time": "2023-09-29T15:05:26.064Z"
   },
   {
    "duration": 7,
    "start_time": "2023-09-29T15:07:14.024Z"
   },
   {
    "duration": 1075,
    "start_time": "2023-09-29T15:12:11.389Z"
   },
   {
    "duration": 28,
    "start_time": "2023-09-29T15:12:12.466Z"
   },
   {
    "duration": 2,
    "start_time": "2023-09-29T15:12:12.496Z"
   },
   {
    "duration": 28,
    "start_time": "2023-09-29T15:12:12.500Z"
   },
   {
    "duration": 42,
    "start_time": "2023-09-29T15:12:12.530Z"
   },
   {
    "duration": 12,
    "start_time": "2023-09-29T15:12:12.574Z"
   },
   {
    "duration": 35,
    "start_time": "2023-09-29T15:12:12.587Z"
   },
   {
    "duration": 197,
    "start_time": "2023-09-29T15:12:12.624Z"
   },
   {
    "duration": 36,
    "start_time": "2023-09-29T15:12:12.823Z"
   },
   {
    "duration": 7,
    "start_time": "2023-09-29T15:12:12.861Z"
   },
   {
    "duration": 34,
    "start_time": "2023-09-29T15:12:12.870Z"
   },
   {
    "duration": 31,
    "start_time": "2023-09-29T15:12:12.905Z"
   },
   {
    "duration": 20,
    "start_time": "2023-09-29T15:12:12.938Z"
   },
   {
    "duration": 31,
    "start_time": "2023-09-29T15:12:12.959Z"
   },
   {
    "duration": 310,
    "start_time": "2023-09-29T15:12:12.992Z"
   },
   {
    "duration": 219,
    "start_time": "2023-09-29T15:12:13.303Z"
   },
   {
    "duration": 7,
    "start_time": "2023-09-29T15:12:13.524Z"
   },
   {
    "duration": 28,
    "start_time": "2023-09-29T15:12:13.533Z"
   },
   {
    "duration": 23,
    "start_time": "2023-09-29T15:12:13.562Z"
   },
   {
    "duration": 36,
    "start_time": "2023-09-29T15:12:13.586Z"
   },
   {
    "duration": 7,
    "start_time": "2023-09-29T15:12:13.623Z"
   },
   {
    "duration": 25,
    "start_time": "2023-09-29T15:12:13.632Z"
   },
   {
    "duration": 23,
    "start_time": "2023-09-29T15:12:13.658Z"
   },
   {
    "duration": 18,
    "start_time": "2023-09-29T15:12:13.683Z"
   },
   {
    "duration": 17,
    "start_time": "2023-09-29T15:12:13.702Z"
   },
   {
    "duration": 255,
    "start_time": "2023-09-29T15:12:13.721Z"
   },
   {
    "duration": 7,
    "start_time": "2023-09-29T15:12:13.978Z"
   },
   {
    "duration": 36,
    "start_time": "2023-09-29T15:12:13.988Z"
   },
   {
    "duration": 225,
    "start_time": "2023-09-29T15:12:14.026Z"
   },
   {
    "duration": 127,
    "start_time": "2023-09-29T15:12:14.253Z"
   },
   {
    "duration": 13,
    "start_time": "2023-09-29T15:12:14.382Z"
   },
   {
    "duration": 17,
    "start_time": "2023-09-29T15:12:14.397Z"
   },
   {
    "duration": 211,
    "start_time": "2023-09-29T15:12:14.416Z"
   },
   {
    "duration": 195,
    "start_time": "2023-09-29T15:12:14.629Z"
   },
   {
    "duration": 339,
    "start_time": "2023-09-29T15:12:14.826Z"
   },
   {
    "duration": 221,
    "start_time": "2023-09-29T15:12:15.167Z"
   },
   {
    "duration": 39,
    "start_time": "2023-09-29T15:12:15.390Z"
   },
   {
    "duration": 168,
    "start_time": "2023-09-29T15:12:15.430Z"
   },
   {
    "duration": 7,
    "start_time": "2023-09-29T15:12:15.599Z"
   },
   {
    "duration": 30,
    "start_time": "2023-09-29T15:12:15.608Z"
   },
   {
    "duration": 51,
    "start_time": "2023-09-29T15:12:15.640Z"
   },
   {
    "duration": 39,
    "start_time": "2023-09-29T15:12:15.693Z"
   },
   {
    "duration": 68,
    "start_time": "2023-09-29T15:12:15.734Z"
   },
   {
    "duration": 47,
    "start_time": "2023-09-29T15:12:15.803Z"
   },
   {
    "duration": 70,
    "start_time": "2023-09-29T15:12:15.852Z"
   },
   {
    "duration": 37,
    "start_time": "2023-09-29T15:12:15.923Z"
   },
   {
    "duration": 50,
    "start_time": "2023-09-29T15:12:15.962Z"
   },
   {
    "duration": 32,
    "start_time": "2023-09-29T15:12:16.014Z"
   },
   {
    "duration": 59,
    "start_time": "2023-09-29T15:12:16.047Z"
   },
   {
    "duration": 77,
    "start_time": "2023-09-29T15:12:16.107Z"
   },
   {
    "duration": 6,
    "start_time": "2023-09-29T15:12:16.185Z"
   },
   {
    "duration": 6,
    "start_time": "2023-09-29T15:12:16.192Z"
   },
   {
    "duration": 21,
    "start_time": "2023-09-29T15:12:16.199Z"
   },
   {
    "duration": 26,
    "start_time": "2023-09-29T15:12:16.222Z"
   },
   {
    "duration": 13,
    "start_time": "2023-09-29T15:12:16.249Z"
   },
   {
    "duration": 7,
    "start_time": "2023-09-29T15:12:16.264Z"
   },
   {
    "duration": 13,
    "start_time": "2023-09-29T15:12:16.272Z"
   },
   {
    "duration": 90,
    "start_time": "2023-09-29T15:31:35.342Z"
   },
   {
    "duration": 108,
    "start_time": "2023-09-29T15:32:04.837Z"
   },
   {
    "duration": 23,
    "start_time": "2023-09-29T15:32:40.834Z"
   },
   {
    "duration": 39,
    "start_time": "2023-09-29T15:33:04.966Z"
   },
   {
    "duration": 24,
    "start_time": "2023-09-29T15:33:15.154Z"
   },
   {
    "duration": 23,
    "start_time": "2023-09-29T15:33:28.162Z"
   },
   {
    "duration": 24,
    "start_time": "2023-09-29T15:34:03.433Z"
   },
   {
    "duration": 24,
    "start_time": "2023-09-29T15:34:55.861Z"
   },
   {
    "duration": 27,
    "start_time": "2023-09-29T15:35:04.222Z"
   },
   {
    "duration": 4,
    "start_time": "2023-09-29T15:37:43.394Z"
   },
   {
    "duration": 26,
    "start_time": "2023-09-29T15:37:49.473Z"
   },
   {
    "duration": 90,
    "start_time": "2023-09-29T15:39:39.961Z"
   },
   {
    "duration": 43,
    "start_time": "2023-09-29T15:40:23.241Z"
   },
   {
    "duration": 23,
    "start_time": "2023-09-29T15:41:39.663Z"
   },
   {
    "duration": 27,
    "start_time": "2023-09-29T15:42:22.142Z"
   },
   {
    "duration": 8,
    "start_time": "2023-09-29T15:43:12.022Z"
   },
   {
    "duration": 6,
    "start_time": "2023-09-29T15:45:23.533Z"
   },
   {
    "duration": 7,
    "start_time": "2023-09-29T15:45:31.353Z"
   },
   {
    "duration": 1748,
    "start_time": "2023-09-29T16:05:37.216Z"
   },
   {
    "duration": 12,
    "start_time": "2023-09-29T16:09:06.734Z"
   },
   {
    "duration": 9,
    "start_time": "2023-09-29T16:09:24.647Z"
   },
   {
    "duration": 3,
    "start_time": "2023-09-29T16:09:47.392Z"
   },
   {
    "duration": 9,
    "start_time": "2023-09-29T16:11:01.763Z"
   },
   {
    "duration": 5,
    "start_time": "2023-09-29T16:11:04.136Z"
   },
   {
    "duration": 7,
    "start_time": "2023-09-29T16:13:45.366Z"
   },
   {
    "duration": 4,
    "start_time": "2023-09-29T16:13:47.501Z"
   },
   {
    "duration": 5,
    "start_time": "2023-09-29T16:13:55.177Z"
   },
   {
    "duration": 3,
    "start_time": "2023-09-29T16:14:09.116Z"
   },
   {
    "duration": 3,
    "start_time": "2023-09-29T16:14:11.585Z"
   },
   {
    "duration": 6,
    "start_time": "2023-09-29T16:15:05.394Z"
   },
   {
    "duration": 3,
    "start_time": "2023-09-29T16:15:28.983Z"
   },
   {
    "duration": 1663,
    "start_time": "2023-09-29T16:16:24.477Z"
   },
   {
    "duration": 9,
    "start_time": "2023-09-29T16:16:38.109Z"
   },
   {
    "duration": 1694,
    "start_time": "2023-09-29T16:17:18.446Z"
   },
   {
    "duration": 9,
    "start_time": "2023-09-29T16:17:26.837Z"
   },
   {
    "duration": 83,
    "start_time": "2023-09-29T16:18:37.095Z"
   },
   {
    "duration": 23,
    "start_time": "2023-09-29T16:19:25.070Z"
   },
   {
    "duration": 47,
    "start_time": "2023-09-30T04:06:48.837Z"
   },
   {
    "duration": 1318,
    "start_time": "2023-09-30T04:07:55.150Z"
   },
   {
    "duration": 60,
    "start_time": "2023-09-30T04:07:56.470Z"
   },
   {
    "duration": 3,
    "start_time": "2023-09-30T04:07:56.531Z"
   },
   {
    "duration": 27,
    "start_time": "2023-09-30T04:07:56.537Z"
   },
   {
    "duration": 18,
    "start_time": "2023-09-30T04:07:56.566Z"
   },
   {
    "duration": 12,
    "start_time": "2023-09-30T04:07:56.585Z"
   },
   {
    "duration": 18,
    "start_time": "2023-09-30T04:07:56.599Z"
   },
   {
    "duration": 216,
    "start_time": "2023-09-30T04:07:56.618Z"
   },
   {
    "duration": 79,
    "start_time": "2023-09-30T04:07:56.836Z"
   },
   {
    "duration": 8,
    "start_time": "2023-09-30T04:07:56.917Z"
   },
   {
    "duration": 24,
    "start_time": "2023-09-30T04:07:56.926Z"
   },
   {
    "duration": 27,
    "start_time": "2023-09-30T04:07:56.952Z"
   },
   {
    "duration": 14,
    "start_time": "2023-09-30T04:07:56.981Z"
   },
   {
    "duration": 26,
    "start_time": "2023-09-30T04:07:56.997Z"
   },
   {
    "duration": 342,
    "start_time": "2023-09-30T04:07:57.024Z"
   },
   {
    "duration": 271,
    "start_time": "2023-09-30T04:07:57.368Z"
   },
   {
    "duration": 7,
    "start_time": "2023-09-30T04:07:57.641Z"
   },
   {
    "duration": 27,
    "start_time": "2023-09-30T04:07:57.650Z"
   },
   {
    "duration": 13,
    "start_time": "2023-09-30T04:07:57.679Z"
   },
   {
    "duration": 68,
    "start_time": "2023-09-30T04:07:57.694Z"
   },
   {
    "duration": 8,
    "start_time": "2023-09-30T04:07:57.764Z"
   },
   {
    "duration": 35,
    "start_time": "2023-09-30T04:07:57.773Z"
   },
   {
    "duration": 19,
    "start_time": "2023-09-30T04:07:57.809Z"
   },
   {
    "duration": 38,
    "start_time": "2023-09-30T04:07:57.830Z"
   },
   {
    "duration": 7,
    "start_time": "2023-09-30T04:07:57.869Z"
   },
   {
    "duration": 266,
    "start_time": "2023-09-30T04:07:57.878Z"
   },
   {
    "duration": 8,
    "start_time": "2023-09-30T04:07:58.145Z"
   },
   {
    "duration": 7,
    "start_time": "2023-09-30T04:07:58.157Z"
   },
   {
    "duration": 206,
    "start_time": "2023-09-30T04:07:58.166Z"
   },
   {
    "duration": 154,
    "start_time": "2023-09-30T04:07:58.374Z"
   },
   {
    "duration": 17,
    "start_time": "2023-09-30T04:07:58.530Z"
   },
   {
    "duration": 14,
    "start_time": "2023-09-30T04:07:58.549Z"
   },
   {
    "duration": 261,
    "start_time": "2023-09-30T04:07:58.565Z"
   },
   {
    "duration": 255,
    "start_time": "2023-09-30T04:07:58.829Z"
   },
   {
    "duration": 388,
    "start_time": "2023-09-30T04:07:59.086Z"
   },
   {
    "duration": 245,
    "start_time": "2023-09-30T04:07:59.476Z"
   },
   {
    "duration": 44,
    "start_time": "2023-09-30T04:07:59.723Z"
   },
   {
    "duration": 192,
    "start_time": "2023-09-30T04:07:59.768Z"
   },
   {
    "duration": 11,
    "start_time": "2023-09-30T04:07:59.962Z"
   },
   {
    "duration": 27,
    "start_time": "2023-09-30T04:07:59.975Z"
   },
   {
    "duration": 164,
    "start_time": "2023-09-30T04:08:00.004Z"
   },
   {
    "duration": 201,
    "start_time": "2023-09-30T04:08:00.170Z"
   },
   {
    "duration": 132,
    "start_time": "2023-09-30T04:08:00.372Z"
   },
   {
    "duration": 362,
    "start_time": "2023-09-30T04:08:00.506Z"
   },
   {
    "duration": 273,
    "start_time": "2023-09-30T04:08:00.870Z"
   },
   {
    "duration": 129,
    "start_time": "2023-09-30T04:08:01.145Z"
   },
   {
    "duration": 163,
    "start_time": "2023-09-30T04:08:01.275Z"
   },
   {
    "duration": 100,
    "start_time": "2023-09-30T04:08:01.439Z"
   },
   {
    "duration": 86,
    "start_time": "2023-09-30T04:08:01.541Z"
   },
   {
    "duration": 88,
    "start_time": "2023-09-30T04:08:01.629Z"
   },
   {
    "duration": 21,
    "start_time": "2023-09-30T04:08:01.719Z"
   },
   {
    "duration": 41,
    "start_time": "2023-09-30T04:08:01.741Z"
   },
   {
    "duration": 104,
    "start_time": "2023-09-30T04:08:01.784Z"
   },
   {
    "duration": 339,
    "start_time": "2023-09-30T04:08:01.890Z"
   },
   {
    "duration": 343,
    "start_time": "2023-09-30T04:08:02.231Z"
   },
   {
    "duration": 123,
    "start_time": "2023-09-30T04:08:02.576Z"
   },
   {
    "duration": 253,
    "start_time": "2023-09-30T04:08:02.701Z"
   },
   {
    "duration": 33,
    "start_time": "2023-09-30T04:08:02.956Z"
   },
   {
    "duration": 12,
    "start_time": "2023-09-30T04:08:02.991Z"
   },
   {
    "duration": 13,
    "start_time": "2023-09-30T04:08:03.005Z"
   },
   {
    "duration": 42,
    "start_time": "2023-09-30T04:08:03.019Z"
   },
   {
    "duration": 23,
    "start_time": "2023-09-30T04:08:03.063Z"
   },
   {
    "duration": 12,
    "start_time": "2023-09-30T04:08:03.087Z"
   },
   {
    "duration": 162,
    "start_time": "2023-09-30T04:08:03.100Z"
   },
   {
    "duration": 23,
    "start_time": "2023-09-30T04:08:03.264Z"
   },
   {
    "duration": 43,
    "start_time": "2023-09-30T04:08:03.289Z"
   },
   {
    "duration": 180,
    "start_time": "2023-09-30T04:08:03.333Z"
   },
   {
    "duration": 0,
    "start_time": "2023-09-30T04:08:03.514Z"
   },
   {
    "duration": 8,
    "start_time": "2023-09-30T04:08:24.411Z"
   },
   {
    "duration": 7,
    "start_time": "2023-09-30T04:08:27.957Z"
   },
   {
    "duration": 8,
    "start_time": "2023-09-30T04:10:36.433Z"
   },
   {
    "duration": 8,
    "start_time": "2023-09-30T04:11:41.067Z"
   },
   {
    "duration": 8,
    "start_time": "2023-09-30T04:11:53.077Z"
   },
   {
    "duration": 8,
    "start_time": "2023-09-30T04:12:21.981Z"
   },
   {
    "duration": 8,
    "start_time": "2023-09-30T04:12:52.316Z"
   },
   {
    "duration": 7,
    "start_time": "2023-09-30T04:17:29.844Z"
   },
   {
    "duration": 345,
    "start_time": "2023-09-30T04:33:14.438Z"
   },
   {
    "duration": 1237,
    "start_time": "2023-09-30T04:45:46.078Z"
   },
   {
    "duration": 27,
    "start_time": "2023-09-30T04:45:47.317Z"
   },
   {
    "duration": 3,
    "start_time": "2023-09-30T04:45:47.346Z"
   },
   {
    "duration": 18,
    "start_time": "2023-09-30T04:45:47.351Z"
   },
   {
    "duration": 16,
    "start_time": "2023-09-30T04:45:47.370Z"
   },
   {
    "duration": 12,
    "start_time": "2023-09-30T04:45:47.387Z"
   },
   {
    "duration": 40,
    "start_time": "2023-09-30T04:45:47.401Z"
   },
   {
    "duration": 231,
    "start_time": "2023-09-30T04:45:47.444Z"
   },
   {
    "duration": 37,
    "start_time": "2023-09-30T04:45:47.677Z"
   },
   {
    "duration": 11,
    "start_time": "2023-09-30T04:45:47.717Z"
   },
   {
    "duration": 39,
    "start_time": "2023-09-30T04:45:47.730Z"
   },
   {
    "duration": 24,
    "start_time": "2023-09-30T04:45:47.770Z"
   },
   {
    "duration": 23,
    "start_time": "2023-09-30T04:45:47.796Z"
   },
   {
    "duration": 37,
    "start_time": "2023-09-30T04:45:47.821Z"
   },
   {
    "duration": 338,
    "start_time": "2023-09-30T04:45:47.860Z"
   },
   {
    "duration": 262,
    "start_time": "2023-09-30T04:45:48.200Z"
   },
   {
    "duration": 9,
    "start_time": "2023-09-30T04:45:48.463Z"
   },
   {
    "duration": 85,
    "start_time": "2023-09-30T04:45:48.474Z"
   },
   {
    "duration": 51,
    "start_time": "2023-09-30T04:45:48.562Z"
   },
   {
    "duration": 33,
    "start_time": "2023-09-30T04:45:48.615Z"
   },
   {
    "duration": 9,
    "start_time": "2023-09-30T04:45:48.650Z"
   },
   {
    "duration": 15,
    "start_time": "2023-09-30T04:45:48.660Z"
   },
   {
    "duration": 14,
    "start_time": "2023-09-30T04:45:48.677Z"
   },
   {
    "duration": 17,
    "start_time": "2023-09-30T04:45:48.693Z"
   },
   {
    "duration": 54,
    "start_time": "2023-09-30T04:45:48.711Z"
   },
   {
    "duration": 286,
    "start_time": "2023-09-30T04:45:48.766Z"
   },
   {
    "duration": 9,
    "start_time": "2023-09-30T04:45:49.053Z"
   },
   {
    "duration": 8,
    "start_time": "2023-09-30T04:45:49.066Z"
   },
   {
    "duration": 182,
    "start_time": "2023-09-30T04:45:49.076Z"
   },
   {
    "duration": 134,
    "start_time": "2023-09-30T04:45:49.260Z"
   },
   {
    "duration": 25,
    "start_time": "2023-09-30T04:45:49.395Z"
   },
   {
    "duration": 12,
    "start_time": "2023-09-30T04:45:49.422Z"
   },
   {
    "duration": 249,
    "start_time": "2023-09-30T04:45:49.436Z"
   },
   {
    "duration": 238,
    "start_time": "2023-09-30T04:45:49.687Z"
   },
   {
    "duration": 330,
    "start_time": "2023-09-30T04:45:49.927Z"
   },
   {
    "duration": 238,
    "start_time": "2023-09-30T04:45:50.259Z"
   },
   {
    "duration": 44,
    "start_time": "2023-09-30T04:45:50.501Z"
   },
   {
    "duration": 185,
    "start_time": "2023-09-30T04:45:50.547Z"
   },
   {
    "duration": 7,
    "start_time": "2023-09-30T04:45:50.734Z"
   },
   {
    "duration": 18,
    "start_time": "2023-09-30T04:45:50.742Z"
   },
   {
    "duration": 64,
    "start_time": "2023-09-30T04:45:50.762Z"
   },
   {
    "duration": 32,
    "start_time": "2023-09-30T04:45:50.827Z"
   },
   {
    "duration": 66,
    "start_time": "2023-09-30T04:45:50.861Z"
   },
   {
    "duration": 20,
    "start_time": "2023-09-30T04:45:50.929Z"
   },
   {
    "duration": 68,
    "start_time": "2023-09-30T04:45:50.950Z"
   },
   {
    "duration": 25,
    "start_time": "2023-09-30T04:45:51.020Z"
   },
   {
    "duration": 65,
    "start_time": "2023-09-30T04:45:51.047Z"
   },
   {
    "duration": 36,
    "start_time": "2023-09-30T04:45:51.114Z"
   },
   {
    "duration": 80,
    "start_time": "2023-09-30T04:45:51.152Z"
   },
   {
    "duration": 88,
    "start_time": "2023-09-30T04:45:51.234Z"
   },
   {
    "duration": 7,
    "start_time": "2023-09-30T04:45:51.324Z"
   },
   {
    "duration": 28,
    "start_time": "2023-09-30T04:45:51.333Z"
   },
   {
    "duration": 27,
    "start_time": "2023-09-30T04:45:51.363Z"
   },
   {
    "duration": 16,
    "start_time": "2023-09-30T04:45:51.392Z"
   },
   {
    "duration": 19,
    "start_time": "2023-09-30T04:45:51.410Z"
   },
   {
    "duration": 53,
    "start_time": "2023-09-30T04:45:51.431Z"
   },
   {
    "duration": 21,
    "start_time": "2023-09-30T04:45:51.486Z"
   },
   {
    "duration": 44,
    "start_time": "2023-09-30T04:45:51.509Z"
   },
   {
    "duration": 22,
    "start_time": "2023-09-30T04:45:51.555Z"
   },
   {
    "duration": 27,
    "start_time": "2023-09-30T04:45:51.579Z"
   },
   {
    "duration": 72,
    "start_time": "2023-09-30T04:45:51.607Z"
   },
   {
    "duration": 107,
    "start_time": "2023-09-30T04:45:51.681Z"
   },
   {
    "duration": 58,
    "start_time": "2023-09-30T04:45:51.790Z"
   },
   {
    "duration": 11,
    "start_time": "2023-09-30T04:45:51.850Z"
   },
   {
    "duration": 17,
    "start_time": "2023-09-30T04:45:51.863Z"
   },
   {
    "duration": 29,
    "start_time": "2023-09-30T04:45:51.882Z"
   },
   {
    "duration": 12,
    "start_time": "2023-09-30T04:45:51.913Z"
   },
   {
    "duration": 77,
    "start_time": "2023-09-30T04:45:51.927Z"
   },
   {
    "duration": 0,
    "start_time": "2023-09-30T04:45:52.006Z"
   },
   {
    "duration": 0,
    "start_time": "2023-09-30T04:45:52.007Z"
   },
   {
    "duration": 8,
    "start_time": "2023-09-30T04:46:06.756Z"
   },
   {
    "duration": 8,
    "start_time": "2023-09-30T04:46:08.876Z"
   },
   {
    "duration": 178,
    "start_time": "2023-09-30T04:50:07.125Z"
   },
   {
    "duration": 229,
    "start_time": "2023-09-30T04:55:39.791Z"
   },
   {
    "duration": 328,
    "start_time": "2023-09-30T04:56:14.009Z"
   },
   {
    "duration": 4,
    "start_time": "2023-09-30T04:56:32.650Z"
   },
   {
    "duration": 182,
    "start_time": "2023-09-30T04:56:38.738Z"
   },
   {
    "duration": 227,
    "start_time": "2023-09-30T04:56:45.968Z"
   },
   {
    "duration": 253,
    "start_time": "2023-09-30T04:57:05.494Z"
   },
   {
    "duration": 259,
    "start_time": "2023-09-30T04:57:34.100Z"
   },
   {
    "duration": 208,
    "start_time": "2023-09-30T04:57:39.113Z"
   },
   {
    "duration": 301,
    "start_time": "2023-09-30T04:58:03.904Z"
   },
   {
    "duration": 218,
    "start_time": "2023-09-30T04:58:49.491Z"
   },
   {
    "duration": 249,
    "start_time": "2023-09-30T05:01:05.950Z"
   },
   {
    "duration": 258,
    "start_time": "2023-09-30T05:01:22.040Z"
   },
   {
    "duration": 265,
    "start_time": "2023-09-30T05:01:25.188Z"
   },
   {
    "duration": 334,
    "start_time": "2023-09-30T05:11:17.035Z"
   },
   {
    "duration": 322,
    "start_time": "2023-09-30T05:12:05.029Z"
   },
   {
    "duration": 384,
    "start_time": "2023-09-30T05:12:11.772Z"
   },
   {
    "duration": 363,
    "start_time": "2023-09-30T05:12:18.089Z"
   },
   {
    "duration": 342,
    "start_time": "2023-09-30T05:12:34.037Z"
   },
   {
    "duration": 337,
    "start_time": "2023-09-30T05:12:50.119Z"
   },
   {
    "duration": 396,
    "start_time": "2023-09-30T05:13:21.379Z"
   },
   {
    "duration": 421,
    "start_time": "2023-09-30T05:14:42.423Z"
   },
   {
    "duration": 292,
    "start_time": "2023-09-30T05:17:49.128Z"
   },
   {
    "duration": 286,
    "start_time": "2023-09-30T05:31:43.243Z"
   },
   {
    "duration": 328,
    "start_time": "2023-09-30T05:31:52.917Z"
   },
   {
    "duration": 47,
    "start_time": "2023-09-30T17:47:35.986Z"
   },
   {
    "duration": 1332,
    "start_time": "2023-09-30T17:47:44.433Z"
   },
   {
    "duration": 60,
    "start_time": "2023-09-30T17:47:45.768Z"
   },
   {
    "duration": 3,
    "start_time": "2023-09-30T17:47:45.830Z"
   },
   {
    "duration": 16,
    "start_time": "2023-09-30T17:47:45.834Z"
   },
   {
    "duration": 20,
    "start_time": "2023-09-30T17:47:45.852Z"
   },
   {
    "duration": 22,
    "start_time": "2023-09-30T17:47:45.874Z"
   },
   {
    "duration": 21,
    "start_time": "2023-09-30T17:47:45.898Z"
   },
   {
    "duration": 195,
    "start_time": "2023-09-30T17:47:45.920Z"
   },
   {
    "duration": 82,
    "start_time": "2023-09-30T17:47:46.117Z"
   },
   {
    "duration": 7,
    "start_time": "2023-09-30T17:47:46.202Z"
   },
   {
    "duration": 22,
    "start_time": "2023-09-30T17:47:46.211Z"
   },
   {
    "duration": 24,
    "start_time": "2023-09-30T17:47:46.235Z"
   },
   {
    "duration": 16,
    "start_time": "2023-09-30T17:47:46.261Z"
   },
   {
    "duration": 23,
    "start_time": "2023-09-30T17:47:46.279Z"
   },
   {
    "duration": 25,
    "start_time": "2023-09-30T17:47:46.303Z"
   },
   {
    "duration": 353,
    "start_time": "2023-09-30T17:47:46.330Z"
   },
   {
    "duration": 238,
    "start_time": "2023-09-30T17:47:46.685Z"
   },
   {
    "duration": 8,
    "start_time": "2023-09-30T17:47:46.925Z"
   },
   {
    "duration": 7,
    "start_time": "2023-09-30T17:47:46.943Z"
   },
   {
    "duration": 24,
    "start_time": "2023-09-30T17:47:46.952Z"
   },
   {
    "duration": 76,
    "start_time": "2023-09-30T17:47:46.978Z"
   },
   {
    "duration": 8,
    "start_time": "2023-09-30T17:47:47.056Z"
   },
   {
    "duration": 25,
    "start_time": "2023-09-30T17:47:47.065Z"
   },
   {
    "duration": 14,
    "start_time": "2023-09-30T17:47:47.092Z"
   },
   {
    "duration": 25,
    "start_time": "2023-09-30T17:47:47.108Z"
   },
   {
    "duration": 107,
    "start_time": "2023-09-30T17:47:47.134Z"
   },
   {
    "duration": 429,
    "start_time": "2023-09-30T17:47:47.242Z"
   },
   {
    "duration": 8,
    "start_time": "2023-09-30T17:47:47.674Z"
   },
   {
    "duration": 25,
    "start_time": "2023-09-30T17:47:47.683Z"
   },
   {
    "duration": 178,
    "start_time": "2023-09-30T17:47:47.710Z"
   },
   {
    "duration": 123,
    "start_time": "2023-09-30T17:47:47.890Z"
   },
   {
    "duration": 29,
    "start_time": "2023-09-30T17:47:48.015Z"
   },
   {
    "duration": 6,
    "start_time": "2023-09-30T17:47:48.045Z"
   },
   {
    "duration": 213,
    "start_time": "2023-09-30T17:47:48.052Z"
   },
   {
    "duration": 218,
    "start_time": "2023-09-30T17:47:48.267Z"
   },
   {
    "duration": 367,
    "start_time": "2023-09-30T17:47:48.487Z"
   },
   {
    "duration": 313,
    "start_time": "2023-09-30T17:47:48.855Z"
   },
   {
    "duration": 309,
    "start_time": "2023-09-30T17:47:49.169Z"
   },
   {
    "duration": 159,
    "start_time": "2023-09-30T17:47:49.480Z"
   },
   {
    "duration": 68,
    "start_time": "2023-09-30T17:47:49.643Z"
   },
   {
    "duration": 163,
    "start_time": "2023-09-30T17:47:49.713Z"
   },
   {
    "duration": 7,
    "start_time": "2023-09-30T17:47:49.878Z"
   },
   {
    "duration": 44,
    "start_time": "2023-09-30T17:47:49.887Z"
   },
   {
    "duration": 63,
    "start_time": "2023-09-30T17:47:49.933Z"
   },
   {
    "duration": 31,
    "start_time": "2023-09-30T17:47:49.998Z"
   },
   {
    "duration": 53,
    "start_time": "2023-09-30T17:47:50.030Z"
   },
   {
    "duration": 48,
    "start_time": "2023-09-30T17:47:50.085Z"
   },
   {
    "duration": 53,
    "start_time": "2023-09-30T17:47:50.135Z"
   },
   {
    "duration": 19,
    "start_time": "2023-09-30T17:47:50.189Z"
   },
   {
    "duration": 68,
    "start_time": "2023-09-30T17:47:50.210Z"
   },
   {
    "duration": 42,
    "start_time": "2023-09-30T17:47:50.279Z"
   },
   {
    "duration": 85,
    "start_time": "2023-09-30T17:47:50.323Z"
   },
   {
    "duration": 93,
    "start_time": "2023-09-30T17:47:50.409Z"
   },
   {
    "duration": 8,
    "start_time": "2023-09-30T17:47:50.503Z"
   },
   {
    "duration": 16,
    "start_time": "2023-09-30T17:47:50.513Z"
   },
   {
    "duration": 38,
    "start_time": "2023-09-30T17:47:50.530Z"
   },
   {
    "duration": 10,
    "start_time": "2023-09-30T17:47:50.570Z"
   },
   {
    "duration": 31,
    "start_time": "2023-09-30T17:47:50.582Z"
   },
   {
    "duration": 27,
    "start_time": "2023-09-30T17:47:50.615Z"
   },
   {
    "duration": 22,
    "start_time": "2023-09-30T17:47:50.643Z"
   },
   {
    "duration": 19,
    "start_time": "2023-09-30T17:47:50.666Z"
   },
   {
    "duration": 16,
    "start_time": "2023-09-30T17:47:50.686Z"
   },
   {
    "duration": 24,
    "start_time": "2023-09-30T17:47:50.704Z"
   },
   {
    "duration": 36,
    "start_time": "2023-09-30T17:47:50.729Z"
   },
   {
    "duration": 43,
    "start_time": "2023-09-30T17:47:50.767Z"
   },
   {
    "duration": 31,
    "start_time": "2023-09-30T17:47:50.811Z"
   },
   {
    "duration": 32,
    "start_time": "2023-09-30T17:47:50.843Z"
   },
   {
    "duration": 15,
    "start_time": "2023-09-30T17:47:50.876Z"
   },
   {
    "duration": 55,
    "start_time": "2023-09-30T17:47:50.892Z"
   },
   {
    "duration": 7,
    "start_time": "2023-09-30T17:47:50.948Z"
   },
   {
    "duration": 21,
    "start_time": "2023-09-30T17:47:50.957Z"
   },
   {
    "duration": 33,
    "start_time": "2023-09-30T17:47:50.980Z"
   },
   {
    "duration": 105,
    "start_time": "2023-09-30T17:53:22.761Z"
   },
   {
    "duration": 8,
    "start_time": "2023-09-30T17:55:12.538Z"
   },
   {
    "duration": 4,
    "start_time": "2023-09-30T17:55:57.882Z"
   },
   {
    "duration": 8,
    "start_time": "2023-09-30T17:58:21.965Z"
   },
   {
    "duration": 13,
    "start_time": "2023-09-30T18:03:48.520Z"
   },
   {
    "duration": 15,
    "start_time": "2023-09-30T18:04:12.424Z"
   },
   {
    "duration": 14,
    "start_time": "2023-09-30T18:04:57.652Z"
   },
   {
    "duration": 10,
    "start_time": "2023-09-30T18:05:57.260Z"
   },
   {
    "duration": 6,
    "start_time": "2023-09-30T18:06:02.958Z"
   },
   {
    "duration": 15,
    "start_time": "2023-09-30T18:06:14.835Z"
   },
   {
    "duration": 14,
    "start_time": "2023-09-30T18:06:19.271Z"
   },
   {
    "duration": 19,
    "start_time": "2023-09-30T18:06:27.408Z"
   },
   {
    "duration": 11,
    "start_time": "2023-09-30T18:07:02.765Z"
   },
   {
    "duration": 12,
    "start_time": "2023-09-30T18:07:37.173Z"
   },
   {
    "duration": 11,
    "start_time": "2023-09-30T18:07:45.545Z"
   },
   {
    "duration": 14,
    "start_time": "2023-09-30T18:07:58.024Z"
   },
   {
    "duration": 11,
    "start_time": "2023-09-30T18:09:20.284Z"
   },
   {
    "duration": 5,
    "start_time": "2023-09-30T18:09:27.161Z"
   },
   {
    "duration": 7,
    "start_time": "2023-09-30T18:09:35.779Z"
   },
   {
    "duration": 3,
    "start_time": "2023-09-30T18:15:10.161Z"
   },
   {
    "duration": 5,
    "start_time": "2023-09-30T18:16:51.433Z"
   },
   {
    "duration": 6,
    "start_time": "2023-09-30T18:17:11.219Z"
   },
   {
    "duration": 9,
    "start_time": "2023-09-30T18:17:39.007Z"
   },
   {
    "duration": 5,
    "start_time": "2023-09-30T18:18:03.467Z"
   },
   {
    "duration": 10,
    "start_time": "2023-09-30T18:18:22.811Z"
   },
   {
    "duration": 10,
    "start_time": "2023-09-30T18:18:43.378Z"
   },
   {
    "duration": 142,
    "start_time": "2023-09-30T18:20:04.167Z"
   },
   {
    "duration": 9,
    "start_time": "2023-09-30T18:22:47.280Z"
   },
   {
    "duration": 6,
    "start_time": "2023-09-30T18:23:04.974Z"
   },
   {
    "duration": 6,
    "start_time": "2023-09-30T18:23:10.730Z"
   },
   {
    "duration": 8,
    "start_time": "2023-09-30T18:24:05.722Z"
   },
   {
    "duration": 9,
    "start_time": "2023-09-30T18:25:43.226Z"
   },
   {
    "duration": 11,
    "start_time": "2023-09-30T18:27:22.226Z"
   },
   {
    "duration": 148,
    "start_time": "2023-09-30T18:27:40.533Z"
   },
   {
    "duration": 8,
    "start_time": "2023-09-30T18:28:46.194Z"
   },
   {
    "duration": 6,
    "start_time": "2023-09-30T18:29:00.974Z"
   },
   {
    "duration": 9,
    "start_time": "2023-09-30T18:29:51.219Z"
   },
   {
    "duration": 8,
    "start_time": "2023-09-30T18:30:00.156Z"
   },
   {
    "duration": 1433,
    "start_time": "2023-09-30T18:30:49.940Z"
   },
   {
    "duration": 10,
    "start_time": "2023-09-30T18:31:00.728Z"
   },
   {
    "duration": 102,
    "start_time": "2023-09-30T18:31:40.055Z"
   },
   {
    "duration": 11,
    "start_time": "2023-09-30T18:31:47.238Z"
   },
   {
    "duration": 8,
    "start_time": "2023-09-30T19:52:32.636Z"
   },
   {
    "duration": 49,
    "start_time": "2023-10-01T04:03:06.161Z"
   },
   {
    "duration": 1396,
    "start_time": "2023-10-01T04:03:11.731Z"
   },
   {
    "duration": 61,
    "start_time": "2023-10-01T04:03:13.129Z"
   },
   {
    "duration": 3,
    "start_time": "2023-10-01T04:03:13.192Z"
   },
   {
    "duration": 21,
    "start_time": "2023-10-01T04:03:13.197Z"
   },
   {
    "duration": 17,
    "start_time": "2023-10-01T04:03:13.220Z"
   },
   {
    "duration": 12,
    "start_time": "2023-10-01T04:03:13.238Z"
   },
   {
    "duration": 28,
    "start_time": "2023-10-01T04:03:13.252Z"
   },
   {
    "duration": 226,
    "start_time": "2023-10-01T04:03:13.282Z"
   },
   {
    "duration": 80,
    "start_time": "2023-10-01T04:03:13.510Z"
   },
   {
    "duration": 31,
    "start_time": "2023-10-01T04:03:13.593Z"
   },
   {
    "duration": 26,
    "start_time": "2023-10-01T04:03:13.626Z"
   },
   {
    "duration": 30,
    "start_time": "2023-10-01T04:03:13.654Z"
   },
   {
    "duration": 13,
    "start_time": "2023-10-01T04:03:13.685Z"
   },
   {
    "duration": 13,
    "start_time": "2023-10-01T04:03:13.699Z"
   },
   {
    "duration": 35,
    "start_time": "2023-10-01T04:03:13.713Z"
   },
   {
    "duration": 26,
    "start_time": "2023-10-01T04:03:13.751Z"
   },
   {
    "duration": 20,
    "start_time": "2023-10-01T04:03:13.779Z"
   },
   {
    "duration": 26,
    "start_time": "2023-10-01T04:03:13.801Z"
   },
   {
    "duration": 15,
    "start_time": "2023-10-01T04:03:13.828Z"
   },
   {
    "duration": 21,
    "start_time": "2023-10-01T04:03:13.845Z"
   },
   {
    "duration": 28,
    "start_time": "2023-10-01T04:03:13.868Z"
   },
   {
    "duration": 60,
    "start_time": "2023-10-01T04:03:13.898Z"
   },
   {
    "duration": 9,
    "start_time": "2023-10-01T04:03:13.961Z"
   },
   {
    "duration": 38,
    "start_time": "2023-10-01T04:03:13.971Z"
   },
   {
    "duration": 13,
    "start_time": "2023-10-01T04:03:14.010Z"
   },
   {
    "duration": 24,
    "start_time": "2023-10-01T04:03:14.025Z"
   },
   {
    "duration": 37,
    "start_time": "2023-10-01T04:03:14.051Z"
   },
   {
    "duration": 377,
    "start_time": "2023-10-01T04:03:14.093Z"
   },
   {
    "duration": 8,
    "start_time": "2023-10-01T04:03:14.472Z"
   },
   {
    "duration": 23,
    "start_time": "2023-10-01T04:03:14.482Z"
   },
   {
    "duration": 246,
    "start_time": "2023-10-01T04:03:14.507Z"
   },
   {
    "duration": 147,
    "start_time": "2023-10-01T04:03:14.755Z"
   },
   {
    "duration": 18,
    "start_time": "2023-10-01T04:03:14.904Z"
   },
   {
    "duration": 34,
    "start_time": "2023-10-01T04:03:14.924Z"
   },
   {
    "duration": 256,
    "start_time": "2023-10-01T04:03:14.960Z"
   },
   {
    "duration": 242,
    "start_time": "2023-10-01T04:03:15.219Z"
   },
   {
    "duration": 416,
    "start_time": "2023-10-01T04:03:15.464Z"
   },
   {
    "duration": 245,
    "start_time": "2023-10-01T04:03:15.882Z"
   },
   {
    "duration": 323,
    "start_time": "2023-10-01T04:03:16.129Z"
   },
   {
    "duration": 239,
    "start_time": "2023-10-01T04:03:16.454Z"
   },
   {
    "duration": 46,
    "start_time": "2023-10-01T04:03:16.695Z"
   },
   {
    "duration": 188,
    "start_time": "2023-10-01T04:03:16.743Z"
   },
   {
    "duration": 7,
    "start_time": "2023-10-01T04:03:16.933Z"
   },
   {
    "duration": 41,
    "start_time": "2023-10-01T04:03:16.942Z"
   },
   {
    "duration": 76,
    "start_time": "2023-10-01T04:03:16.985Z"
   },
   {
    "duration": 42,
    "start_time": "2023-10-01T04:03:17.062Z"
   },
   {
    "duration": 254,
    "start_time": "2023-10-01T04:03:17.106Z"
   },
   {
    "duration": 33,
    "start_time": "2023-10-01T04:03:17.362Z"
   },
   {
    "duration": 63,
    "start_time": "2023-10-01T04:03:17.396Z"
   },
   {
    "duration": 59,
    "start_time": "2023-10-01T04:03:17.461Z"
   },
   {
    "duration": 68,
    "start_time": "2023-10-01T04:03:17.522Z"
   },
   {
    "duration": 48,
    "start_time": "2023-10-01T04:03:17.592Z"
   },
   {
    "duration": 72,
    "start_time": "2023-10-01T04:03:17.642Z"
   },
   {
    "duration": 71,
    "start_time": "2023-10-01T04:03:17.716Z"
   },
   {
    "duration": 20,
    "start_time": "2023-10-01T04:03:17.789Z"
   },
   {
    "duration": 175,
    "start_time": "2023-10-01T04:03:17.810Z"
   },
   {
    "duration": 42,
    "start_time": "2023-10-01T04:03:17.986Z"
   },
   {
    "duration": 9,
    "start_time": "2023-10-01T04:03:18.030Z"
   },
   {
    "duration": 45,
    "start_time": "2023-10-01T04:03:18.041Z"
   },
   {
    "duration": 37,
    "start_time": "2023-10-01T04:03:18.087Z"
   },
   {
    "duration": 98,
    "start_time": "2023-10-01T04:03:18.126Z"
   },
   {
    "duration": 81,
    "start_time": "2023-10-01T04:03:18.225Z"
   },
   {
    "duration": 21,
    "start_time": "2023-10-01T04:03:18.307Z"
   },
   {
    "duration": 17,
    "start_time": "2023-10-01T04:03:18.330Z"
   },
   {
    "duration": 11,
    "start_time": "2023-10-01T04:03:18.349Z"
   },
   {
    "duration": 12,
    "start_time": "2023-10-01T04:03:18.362Z"
   },
   {
    "duration": 32,
    "start_time": "2023-10-01T04:03:18.376Z"
   },
   {
    "duration": 25,
    "start_time": "2023-10-01T04:03:18.409Z"
   },
   {
    "duration": 25,
    "start_time": "2023-10-01T04:03:18.436Z"
   },
   {
    "duration": 43,
    "start_time": "2023-10-01T04:03:18.463Z"
   },
   {
    "duration": 8,
    "start_time": "2023-10-01T04:03:18.508Z"
   },
   {
    "duration": 13,
    "start_time": "2023-10-01T04:03:18.518Z"
   },
   {
    "duration": 13,
    "start_time": "2023-10-01T04:03:18.533Z"
   },
   {
    "duration": 5,
    "start_time": "2023-10-01T04:06:39.734Z"
   },
   {
    "duration": 6,
    "start_time": "2023-10-01T04:09:40.030Z"
   },
   {
    "duration": 5,
    "start_time": "2023-10-01T04:24:50.364Z"
   },
   {
    "duration": 229,
    "start_time": "2023-10-01T04:25:10.364Z"
   },
   {
    "duration": 3,
    "start_time": "2023-10-01T04:26:23.766Z"
   },
   {
    "duration": 161,
    "start_time": "2023-10-01T04:27:16.113Z"
   },
   {
    "duration": 4,
    "start_time": "2023-10-01T04:28:20.913Z"
   },
   {
    "duration": 11,
    "start_time": "2023-10-01T04:31:46.676Z"
   },
   {
    "duration": 3,
    "start_time": "2023-10-01T04:32:25.091Z"
   },
   {
    "duration": 100,
    "start_time": "2023-10-01T04:35:20.126Z"
   },
   {
    "duration": 16,
    "start_time": "2023-10-01T04:36:23.447Z"
   },
   {
    "duration": 135,
    "start_time": "2023-10-01T04:38:32.761Z"
   },
   {
    "duration": 16,
    "start_time": "2023-10-01T04:38:37.469Z"
   },
   {
    "duration": 12,
    "start_time": "2023-10-01T04:40:02.552Z"
   },
   {
    "duration": 14,
    "start_time": "2023-10-01T04:40:08.734Z"
   },
   {
    "duration": 15,
    "start_time": "2023-10-01T04:40:13.880Z"
   },
   {
    "duration": 4,
    "start_time": "2023-10-01T04:40:35.021Z"
   },
   {
    "duration": 11,
    "start_time": "2023-10-01T04:40:39.205Z"
   },
   {
    "duration": 9,
    "start_time": "2023-10-01T04:40:47.175Z"
   },
   {
    "duration": 25,
    "start_time": "2023-10-01T04:52:39.496Z"
   },
   {
    "duration": 26,
    "start_time": "2023-10-01T04:53:28.782Z"
   },
   {
    "duration": 8,
    "start_time": "2023-10-01T04:53:48.093Z"
   },
   {
    "duration": 27,
    "start_time": "2023-10-01T04:54:05.813Z"
   },
   {
    "duration": 8,
    "start_time": "2023-10-01T04:54:13.067Z"
   },
   {
    "duration": 10,
    "start_time": "2023-10-01T04:54:49.423Z"
   },
   {
    "duration": 9,
    "start_time": "2023-10-01T04:55:17.223Z"
   },
   {
    "duration": 25,
    "start_time": "2023-10-01T04:56:40.833Z"
   },
   {
    "duration": 10,
    "start_time": "2023-10-01T04:57:00.128Z"
   },
   {
    "duration": 1212,
    "start_time": "2023-10-01T05:05:55.134Z"
   },
   {
    "duration": 28,
    "start_time": "2023-10-01T05:05:56.347Z"
   },
   {
    "duration": 3,
    "start_time": "2023-10-01T05:05:56.376Z"
   },
   {
    "duration": 15,
    "start_time": "2023-10-01T05:05:56.381Z"
   },
   {
    "duration": 14,
    "start_time": "2023-10-01T05:05:56.398Z"
   },
   {
    "duration": 111,
    "start_time": "2023-10-01T05:05:56.414Z"
   },
   {
    "duration": 0,
    "start_time": "2023-10-01T05:05:56.529Z"
   },
   {
    "duration": 1,
    "start_time": "2023-10-01T05:05:56.530Z"
   },
   {
    "duration": 0,
    "start_time": "2023-10-01T05:05:56.531Z"
   },
   {
    "duration": 0,
    "start_time": "2023-10-01T05:05:56.533Z"
   },
   {
    "duration": 0,
    "start_time": "2023-10-01T05:05:56.534Z"
   },
   {
    "duration": 0,
    "start_time": "2023-10-01T05:05:56.535Z"
   },
   {
    "duration": 0,
    "start_time": "2023-10-01T05:05:56.536Z"
   },
   {
    "duration": 0,
    "start_time": "2023-10-01T05:05:56.538Z"
   },
   {
    "duration": 0,
    "start_time": "2023-10-01T05:05:56.539Z"
   },
   {
    "duration": 0,
    "start_time": "2023-10-01T05:05:56.540Z"
   },
   {
    "duration": 0,
    "start_time": "2023-10-01T05:05:56.541Z"
   },
   {
    "duration": 0,
    "start_time": "2023-10-01T05:05:56.542Z"
   },
   {
    "duration": 0,
    "start_time": "2023-10-01T05:05:56.543Z"
   },
   {
    "duration": 0,
    "start_time": "2023-10-01T05:05:56.545Z"
   },
   {
    "duration": 0,
    "start_time": "2023-10-01T05:05:56.547Z"
   },
   {
    "duration": 0,
    "start_time": "2023-10-01T05:05:56.548Z"
   },
   {
    "duration": 0,
    "start_time": "2023-10-01T05:05:56.549Z"
   },
   {
    "duration": 0,
    "start_time": "2023-10-01T05:05:56.550Z"
   },
   {
    "duration": 0,
    "start_time": "2023-10-01T05:05:56.552Z"
   },
   {
    "duration": 0,
    "start_time": "2023-10-01T05:05:56.553Z"
   },
   {
    "duration": 0,
    "start_time": "2023-10-01T05:05:56.554Z"
   },
   {
    "duration": 0,
    "start_time": "2023-10-01T05:05:56.555Z"
   },
   {
    "duration": 0,
    "start_time": "2023-10-01T05:05:56.556Z"
   },
   {
    "duration": 0,
    "start_time": "2023-10-01T05:05:56.602Z"
   },
   {
    "duration": 0,
    "start_time": "2023-10-01T05:05:56.604Z"
   },
   {
    "duration": 0,
    "start_time": "2023-10-01T05:05:56.605Z"
   },
   {
    "duration": 0,
    "start_time": "2023-10-01T05:05:56.610Z"
   },
   {
    "duration": 0,
    "start_time": "2023-10-01T05:05:56.614Z"
   },
   {
    "duration": 0,
    "start_time": "2023-10-01T05:05:56.615Z"
   },
   {
    "duration": 0,
    "start_time": "2023-10-01T05:05:56.617Z"
   },
   {
    "duration": 0,
    "start_time": "2023-10-01T05:05:56.618Z"
   },
   {
    "duration": 0,
    "start_time": "2023-10-01T05:05:56.619Z"
   },
   {
    "duration": 0,
    "start_time": "2023-10-01T05:05:56.624Z"
   },
   {
    "duration": 0,
    "start_time": "2023-10-01T05:05:56.625Z"
   },
   {
    "duration": 0,
    "start_time": "2023-10-01T05:05:56.626Z"
   },
   {
    "duration": 0,
    "start_time": "2023-10-01T05:05:56.627Z"
   },
   {
    "duration": 0,
    "start_time": "2023-10-01T05:05:56.629Z"
   },
   {
    "duration": 0,
    "start_time": "2023-10-01T05:05:56.630Z"
   },
   {
    "duration": 0,
    "start_time": "2023-10-01T05:05:56.631Z"
   },
   {
    "duration": 0,
    "start_time": "2023-10-01T05:05:56.632Z"
   },
   {
    "duration": 0,
    "start_time": "2023-10-01T05:05:56.633Z"
   },
   {
    "duration": 0,
    "start_time": "2023-10-01T05:05:56.634Z"
   },
   {
    "duration": 0,
    "start_time": "2023-10-01T05:05:56.635Z"
   },
   {
    "duration": 0,
    "start_time": "2023-10-01T05:05:56.636Z"
   },
   {
    "duration": 0,
    "start_time": "2023-10-01T05:05:56.637Z"
   },
   {
    "duration": 0,
    "start_time": "2023-10-01T05:05:56.638Z"
   },
   {
    "duration": 0,
    "start_time": "2023-10-01T05:05:56.639Z"
   },
   {
    "duration": 0,
    "start_time": "2023-10-01T05:05:56.640Z"
   },
   {
    "duration": 0,
    "start_time": "2023-10-01T05:05:56.642Z"
   },
   {
    "duration": 0,
    "start_time": "2023-10-01T05:05:56.643Z"
   },
   {
    "duration": 0,
    "start_time": "2023-10-01T05:05:56.644Z"
   },
   {
    "duration": 0,
    "start_time": "2023-10-01T05:05:56.702Z"
   },
   {
    "duration": 0,
    "start_time": "2023-10-01T05:05:56.703Z"
   },
   {
    "duration": 0,
    "start_time": "2023-10-01T05:05:56.704Z"
   },
   {
    "duration": 0,
    "start_time": "2023-10-01T05:05:56.706Z"
   },
   {
    "duration": 0,
    "start_time": "2023-10-01T05:05:56.707Z"
   },
   {
    "duration": 0,
    "start_time": "2023-10-01T05:05:56.708Z"
   },
   {
    "duration": 0,
    "start_time": "2023-10-01T05:05:56.709Z"
   },
   {
    "duration": 0,
    "start_time": "2023-10-01T05:05:56.711Z"
   },
   {
    "duration": 0,
    "start_time": "2023-10-01T05:05:56.714Z"
   },
   {
    "duration": 0,
    "start_time": "2023-10-01T05:05:56.716Z"
   },
   {
    "duration": 0,
    "start_time": "2023-10-01T05:05:56.716Z"
   },
   {
    "duration": 0,
    "start_time": "2023-10-01T05:05:56.717Z"
   },
   {
    "duration": 0,
    "start_time": "2023-10-01T05:05:56.718Z"
   },
   {
    "duration": 0,
    "start_time": "2023-10-01T05:05:56.719Z"
   },
   {
    "duration": 0,
    "start_time": "2023-10-01T05:05:56.720Z"
   },
   {
    "duration": 0,
    "start_time": "2023-10-01T05:05:56.721Z"
   },
   {
    "duration": 0,
    "start_time": "2023-10-01T05:05:56.725Z"
   },
   {
    "duration": 0,
    "start_time": "2023-10-01T05:05:56.726Z"
   },
   {
    "duration": 0,
    "start_time": "2023-10-01T05:05:56.727Z"
   },
   {
    "duration": 0,
    "start_time": "2023-10-01T05:05:56.729Z"
   },
   {
    "duration": 0,
    "start_time": "2023-10-01T05:05:56.730Z"
   },
   {
    "duration": 0,
    "start_time": "2023-10-01T05:05:56.731Z"
   },
   {
    "duration": 0,
    "start_time": "2023-10-01T05:05:56.732Z"
   },
   {
    "duration": 0,
    "start_time": "2023-10-01T05:05:56.733Z"
   },
   {
    "duration": 1262,
    "start_time": "2023-10-01T05:06:56.782Z"
   },
   {
    "duration": 28,
    "start_time": "2023-10-01T05:06:58.046Z"
   },
   {
    "duration": 2,
    "start_time": "2023-10-01T05:06:58.079Z"
   },
   {
    "duration": 25,
    "start_time": "2023-10-01T05:06:58.083Z"
   },
   {
    "duration": 25,
    "start_time": "2023-10-01T05:06:58.110Z"
   },
   {
    "duration": 27,
    "start_time": "2023-10-01T05:06:58.136Z"
   },
   {
    "duration": 156,
    "start_time": "2023-10-01T05:06:58.165Z"
   },
   {
    "duration": 0,
    "start_time": "2023-10-01T05:06:58.327Z"
   },
   {
    "duration": 0,
    "start_time": "2023-10-01T05:06:58.329Z"
   },
   {
    "duration": 0,
    "start_time": "2023-10-01T05:06:58.330Z"
   },
   {
    "duration": 0,
    "start_time": "2023-10-01T05:06:58.332Z"
   },
   {
    "duration": 0,
    "start_time": "2023-10-01T05:06:58.333Z"
   },
   {
    "duration": 0,
    "start_time": "2023-10-01T05:06:58.335Z"
   },
   {
    "duration": 0,
    "start_time": "2023-10-01T05:06:58.337Z"
   },
   {
    "duration": 0,
    "start_time": "2023-10-01T05:06:58.338Z"
   },
   {
    "duration": 0,
    "start_time": "2023-10-01T05:06:58.339Z"
   },
   {
    "duration": 0,
    "start_time": "2023-10-01T05:06:58.341Z"
   },
   {
    "duration": 0,
    "start_time": "2023-10-01T05:06:58.342Z"
   },
   {
    "duration": 0,
    "start_time": "2023-10-01T05:06:58.344Z"
   },
   {
    "duration": 0,
    "start_time": "2023-10-01T05:06:58.346Z"
   },
   {
    "duration": 0,
    "start_time": "2023-10-01T05:06:58.347Z"
   },
   {
    "duration": 0,
    "start_time": "2023-10-01T05:06:58.349Z"
   },
   {
    "duration": 0,
    "start_time": "2023-10-01T05:06:58.350Z"
   },
   {
    "duration": 0,
    "start_time": "2023-10-01T05:06:58.352Z"
   },
   {
    "duration": 0,
    "start_time": "2023-10-01T05:06:58.354Z"
   },
   {
    "duration": 0,
    "start_time": "2023-10-01T05:06:58.355Z"
   },
   {
    "duration": 0,
    "start_time": "2023-10-01T05:06:58.403Z"
   },
   {
    "duration": 0,
    "start_time": "2023-10-01T05:06:58.407Z"
   },
   {
    "duration": 0,
    "start_time": "2023-10-01T05:06:58.408Z"
   },
   {
    "duration": 0,
    "start_time": "2023-10-01T05:06:58.410Z"
   },
   {
    "duration": 0,
    "start_time": "2023-10-01T05:06:58.411Z"
   },
   {
    "duration": 0,
    "start_time": "2023-10-01T05:06:58.411Z"
   },
   {
    "duration": 0,
    "start_time": "2023-10-01T05:06:58.413Z"
   },
   {
    "duration": 0,
    "start_time": "2023-10-01T05:06:58.417Z"
   },
   {
    "duration": 0,
    "start_time": "2023-10-01T05:06:58.417Z"
   },
   {
    "duration": 0,
    "start_time": "2023-10-01T05:06:58.418Z"
   },
   {
    "duration": 0,
    "start_time": "2023-10-01T05:06:58.419Z"
   },
   {
    "duration": 0,
    "start_time": "2023-10-01T05:06:58.421Z"
   },
   {
    "duration": 0,
    "start_time": "2023-10-01T05:06:58.422Z"
   },
   {
    "duration": 0,
    "start_time": "2023-10-01T05:06:58.422Z"
   },
   {
    "duration": 0,
    "start_time": "2023-10-01T05:06:58.424Z"
   },
   {
    "duration": 0,
    "start_time": "2023-10-01T05:06:58.425Z"
   },
   {
    "duration": 0,
    "start_time": "2023-10-01T05:06:58.428Z"
   },
   {
    "duration": 0,
    "start_time": "2023-10-01T05:06:58.429Z"
   },
   {
    "duration": 0,
    "start_time": "2023-10-01T05:06:58.431Z"
   },
   {
    "duration": 0,
    "start_time": "2023-10-01T05:06:58.432Z"
   },
   {
    "duration": 0,
    "start_time": "2023-10-01T05:06:58.432Z"
   },
   {
    "duration": 0,
    "start_time": "2023-10-01T05:06:58.434Z"
   },
   {
    "duration": 0,
    "start_time": "2023-10-01T05:06:58.435Z"
   },
   {
    "duration": 0,
    "start_time": "2023-10-01T05:06:58.436Z"
   },
   {
    "duration": 0,
    "start_time": "2023-10-01T05:06:58.438Z"
   },
   {
    "duration": 0,
    "start_time": "2023-10-01T05:06:58.439Z"
   },
   {
    "duration": 0,
    "start_time": "2023-10-01T05:06:58.440Z"
   },
   {
    "duration": 0,
    "start_time": "2023-10-01T05:06:58.441Z"
   },
   {
    "duration": 0,
    "start_time": "2023-10-01T05:06:58.442Z"
   },
   {
    "duration": 0,
    "start_time": "2023-10-01T05:06:58.502Z"
   },
   {
    "duration": 0,
    "start_time": "2023-10-01T05:06:58.503Z"
   },
   {
    "duration": 0,
    "start_time": "2023-10-01T05:06:58.505Z"
   },
   {
    "duration": 0,
    "start_time": "2023-10-01T05:06:58.508Z"
   },
   {
    "duration": 0,
    "start_time": "2023-10-01T05:06:58.509Z"
   },
   {
    "duration": 0,
    "start_time": "2023-10-01T05:06:58.510Z"
   },
   {
    "duration": 0,
    "start_time": "2023-10-01T05:06:58.510Z"
   },
   {
    "duration": 0,
    "start_time": "2023-10-01T05:06:58.512Z"
   },
   {
    "duration": 0,
    "start_time": "2023-10-01T05:06:58.513Z"
   },
   {
    "duration": 0,
    "start_time": "2023-10-01T05:06:58.516Z"
   },
   {
    "duration": 0,
    "start_time": "2023-10-01T05:06:58.517Z"
   },
   {
    "duration": 0,
    "start_time": "2023-10-01T05:06:58.520Z"
   },
   {
    "duration": 0,
    "start_time": "2023-10-01T05:06:58.523Z"
   },
   {
    "duration": 0,
    "start_time": "2023-10-01T05:06:58.524Z"
   },
   {
    "duration": 0,
    "start_time": "2023-10-01T05:06:58.525Z"
   },
   {
    "duration": 0,
    "start_time": "2023-10-01T05:06:58.525Z"
   },
   {
    "duration": 0,
    "start_time": "2023-10-01T05:06:58.529Z"
   },
   {
    "duration": 0,
    "start_time": "2023-10-01T05:06:58.530Z"
   },
   {
    "duration": 0,
    "start_time": "2023-10-01T05:06:58.531Z"
   },
   {
    "duration": 0,
    "start_time": "2023-10-01T05:06:58.532Z"
   },
   {
    "duration": 0,
    "start_time": "2023-10-01T05:06:58.533Z"
   },
   {
    "duration": 0,
    "start_time": "2023-10-01T05:06:58.534Z"
   },
   {
    "duration": 0,
    "start_time": "2023-10-01T05:06:58.536Z"
   },
   {
    "duration": 0,
    "start_time": "2023-10-01T05:06:58.537Z"
   },
   {
    "duration": 0,
    "start_time": "2023-10-01T05:06:58.538Z"
   },
   {
    "duration": 0,
    "start_time": "2023-10-01T05:06:58.540Z"
   },
   {
    "duration": 1239,
    "start_time": "2023-10-01T05:07:22.174Z"
   },
   {
    "duration": 28,
    "start_time": "2023-10-01T05:07:23.417Z"
   },
   {
    "duration": 2,
    "start_time": "2023-10-01T05:07:23.447Z"
   },
   {
    "duration": 43,
    "start_time": "2023-10-01T05:07:23.451Z"
   },
   {
    "duration": 33,
    "start_time": "2023-10-01T05:07:23.495Z"
   },
   {
    "duration": 28,
    "start_time": "2023-10-01T05:07:23.530Z"
   },
   {
    "duration": 32,
    "start_time": "2023-10-01T05:07:23.559Z"
   },
   {
    "duration": 117,
    "start_time": "2023-10-01T05:07:23.592Z"
   },
   {
    "duration": 0,
    "start_time": "2023-10-01T05:07:23.713Z"
   },
   {
    "duration": 0,
    "start_time": "2023-10-01T05:07:23.715Z"
   },
   {
    "duration": 0,
    "start_time": "2023-10-01T05:07:23.716Z"
   },
   {
    "duration": 0,
    "start_time": "2023-10-01T05:07:23.717Z"
   },
   {
    "duration": 0,
    "start_time": "2023-10-01T05:07:23.718Z"
   },
   {
    "duration": 0,
    "start_time": "2023-10-01T05:07:23.719Z"
   },
   {
    "duration": 0,
    "start_time": "2023-10-01T05:07:23.721Z"
   },
   {
    "duration": 0,
    "start_time": "2023-10-01T05:07:23.722Z"
   },
   {
    "duration": 0,
    "start_time": "2023-10-01T05:07:23.724Z"
   },
   {
    "duration": 0,
    "start_time": "2023-10-01T05:07:23.725Z"
   },
   {
    "duration": 0,
    "start_time": "2023-10-01T05:07:23.726Z"
   },
   {
    "duration": 0,
    "start_time": "2023-10-01T05:07:23.728Z"
   },
   {
    "duration": 0,
    "start_time": "2023-10-01T05:07:23.729Z"
   },
   {
    "duration": 0,
    "start_time": "2023-10-01T05:07:23.730Z"
   },
   {
    "duration": 0,
    "start_time": "2023-10-01T05:07:23.731Z"
   },
   {
    "duration": 0,
    "start_time": "2023-10-01T05:07:23.733Z"
   },
   {
    "duration": 0,
    "start_time": "2023-10-01T05:07:23.734Z"
   },
   {
    "duration": 0,
    "start_time": "2023-10-01T05:07:23.735Z"
   },
   {
    "duration": 0,
    "start_time": "2023-10-01T05:07:23.736Z"
   },
   {
    "duration": 0,
    "start_time": "2023-10-01T05:07:23.737Z"
   },
   {
    "duration": 0,
    "start_time": "2023-10-01T05:07:23.738Z"
   },
   {
    "duration": 0,
    "start_time": "2023-10-01T05:07:23.740Z"
   },
   {
    "duration": 0,
    "start_time": "2023-10-01T05:07:23.740Z"
   },
   {
    "duration": 0,
    "start_time": "2023-10-01T05:07:23.742Z"
   },
   {
    "duration": 0,
    "start_time": "2023-10-01T05:07:23.743Z"
   },
   {
    "duration": 0,
    "start_time": "2023-10-01T05:07:23.744Z"
   },
   {
    "duration": 0,
    "start_time": "2023-10-01T05:07:23.745Z"
   },
   {
    "duration": 0,
    "start_time": "2023-10-01T05:07:23.746Z"
   },
   {
    "duration": 0,
    "start_time": "2023-10-01T05:07:23.747Z"
   },
   {
    "duration": 0,
    "start_time": "2023-10-01T05:07:23.801Z"
   },
   {
    "duration": 0,
    "start_time": "2023-10-01T05:07:23.802Z"
   },
   {
    "duration": 0,
    "start_time": "2023-10-01T05:07:23.804Z"
   },
   {
    "duration": 0,
    "start_time": "2023-10-01T05:07:23.805Z"
   },
   {
    "duration": 0,
    "start_time": "2023-10-01T05:07:23.807Z"
   },
   {
    "duration": 0,
    "start_time": "2023-10-01T05:07:23.808Z"
   },
   {
    "duration": 0,
    "start_time": "2023-10-01T05:07:23.808Z"
   },
   {
    "duration": 0,
    "start_time": "2023-10-01T05:07:23.809Z"
   },
   {
    "duration": 0,
    "start_time": "2023-10-01T05:07:23.812Z"
   },
   {
    "duration": 0,
    "start_time": "2023-10-01T05:07:23.813Z"
   },
   {
    "duration": 0,
    "start_time": "2023-10-01T05:07:23.814Z"
   },
   {
    "duration": 0,
    "start_time": "2023-10-01T05:07:23.815Z"
   },
   {
    "duration": 0,
    "start_time": "2023-10-01T05:07:23.816Z"
   },
   {
    "duration": 0,
    "start_time": "2023-10-01T05:07:23.817Z"
   },
   {
    "duration": 0,
    "start_time": "2023-10-01T05:07:23.818Z"
   },
   {
    "duration": 0,
    "start_time": "2023-10-01T05:07:23.819Z"
   },
   {
    "duration": 0,
    "start_time": "2023-10-01T05:07:23.821Z"
   },
   {
    "duration": 0,
    "start_time": "2023-10-01T05:07:23.822Z"
   },
   {
    "duration": 0,
    "start_time": "2023-10-01T05:07:23.825Z"
   },
   {
    "duration": 0,
    "start_time": "2023-10-01T05:07:23.826Z"
   },
   {
    "duration": 0,
    "start_time": "2023-10-01T05:07:23.830Z"
   },
   {
    "duration": 0,
    "start_time": "2023-10-01T05:07:23.831Z"
   },
   {
    "duration": 0,
    "start_time": "2023-10-01T05:07:23.832Z"
   },
   {
    "duration": 0,
    "start_time": "2023-10-01T05:07:23.833Z"
   },
   {
    "duration": 0,
    "start_time": "2023-10-01T05:07:23.835Z"
   },
   {
    "duration": 1,
    "start_time": "2023-10-01T05:07:23.837Z"
   },
   {
    "duration": 0,
    "start_time": "2023-10-01T05:07:23.840Z"
   },
   {
    "duration": 0,
    "start_time": "2023-10-01T05:07:23.841Z"
   },
   {
    "duration": 0,
    "start_time": "2023-10-01T05:07:23.902Z"
   },
   {
    "duration": 0,
    "start_time": "2023-10-01T05:07:23.903Z"
   },
   {
    "duration": 0,
    "start_time": "2023-10-01T05:07:23.905Z"
   },
   {
    "duration": 0,
    "start_time": "2023-10-01T05:07:23.906Z"
   },
   {
    "duration": 0,
    "start_time": "2023-10-01T05:07:23.907Z"
   },
   {
    "duration": 0,
    "start_time": "2023-10-01T05:07:23.908Z"
   },
   {
    "duration": 0,
    "start_time": "2023-10-01T05:07:23.910Z"
   },
   {
    "duration": 0,
    "start_time": "2023-10-01T05:07:23.912Z"
   },
   {
    "duration": 0,
    "start_time": "2023-10-01T05:07:23.913Z"
   },
   {
    "duration": 0,
    "start_time": "2023-10-01T05:07:23.915Z"
   },
   {
    "duration": 0,
    "start_time": "2023-10-01T05:07:23.917Z"
   },
   {
    "duration": 0,
    "start_time": "2023-10-01T05:07:23.918Z"
   },
   {
    "duration": 0,
    "start_time": "2023-10-01T05:07:23.920Z"
   },
   {
    "duration": 0,
    "start_time": "2023-10-01T05:07:23.921Z"
   },
   {
    "duration": 0,
    "start_time": "2023-10-01T05:07:23.923Z"
   },
   {
    "duration": 0,
    "start_time": "2023-10-01T05:07:23.924Z"
   },
   {
    "duration": 1295,
    "start_time": "2023-10-01T05:07:40.935Z"
   },
   {
    "duration": 27,
    "start_time": "2023-10-01T05:07:42.232Z"
   },
   {
    "duration": 3,
    "start_time": "2023-10-01T05:07:42.261Z"
   },
   {
    "duration": 20,
    "start_time": "2023-10-01T05:07:42.267Z"
   },
   {
    "duration": 30,
    "start_time": "2023-10-01T05:07:42.289Z"
   },
   {
    "duration": 23,
    "start_time": "2023-10-01T05:07:42.322Z"
   },
   {
    "duration": 11,
    "start_time": "2023-10-01T05:07:42.347Z"
   },
   {
    "duration": 17,
    "start_time": "2023-10-01T05:07:42.359Z"
   },
   {
    "duration": 231,
    "start_time": "2023-10-01T05:07:42.378Z"
   },
   {
    "duration": 37,
    "start_time": "2023-10-01T05:07:42.612Z"
   },
   {
    "duration": 8,
    "start_time": "2023-10-01T05:07:42.651Z"
   },
   {
    "duration": 36,
    "start_time": "2023-10-01T05:07:42.660Z"
   },
   {
    "duration": 25,
    "start_time": "2023-10-01T05:07:42.698Z"
   },
   {
    "duration": 53,
    "start_time": "2023-10-01T05:07:42.726Z"
   },
   {
    "duration": 10,
    "start_time": "2023-10-01T05:07:42.781Z"
   },
   {
    "duration": 25,
    "start_time": "2023-10-01T05:07:42.793Z"
   },
   {
    "duration": 10,
    "start_time": "2023-10-01T05:07:42.819Z"
   },
   {
    "duration": 22,
    "start_time": "2023-10-01T05:07:42.831Z"
   },
   {
    "duration": 25,
    "start_time": "2023-10-01T05:07:42.855Z"
   },
   {
    "duration": 18,
    "start_time": "2023-10-01T05:07:42.882Z"
   },
   {
    "duration": 23,
    "start_time": "2023-10-01T05:07:42.903Z"
   },
   {
    "duration": 8,
    "start_time": "2023-10-01T05:07:42.927Z"
   },
   {
    "duration": 23,
    "start_time": "2023-10-01T05:07:42.936Z"
   },
   {
    "duration": 7,
    "start_time": "2023-10-01T05:07:42.961Z"
   },
   {
    "duration": 14,
    "start_time": "2023-10-01T05:07:42.970Z"
   },
   {
    "duration": 17,
    "start_time": "2023-10-01T05:07:42.985Z"
   },
   {
    "duration": 33,
    "start_time": "2023-10-01T05:07:43.004Z"
   },
   {
    "duration": 153,
    "start_time": "2023-10-01T05:07:43.041Z"
   },
   {
    "duration": 21,
    "start_time": "2023-10-01T05:07:43.195Z"
   },
   {
    "duration": 19,
    "start_time": "2023-10-01T05:07:43.217Z"
   },
   {
    "duration": 22,
    "start_time": "2023-10-01T05:07:43.238Z"
   },
   {
    "duration": 196,
    "start_time": "2023-10-01T05:07:43.261Z"
   },
   {
    "duration": 149,
    "start_time": "2023-10-01T05:07:43.458Z"
   },
   {
    "duration": 21,
    "start_time": "2023-10-01T05:07:43.610Z"
   },
   {
    "duration": 29,
    "start_time": "2023-10-01T05:07:43.633Z"
   },
   {
    "duration": 368,
    "start_time": "2023-10-01T05:07:43.663Z"
   },
   {
    "duration": 262,
    "start_time": "2023-10-01T05:07:44.033Z"
   },
   {
    "duration": 421,
    "start_time": "2023-10-01T05:07:44.297Z"
   },
   {
    "duration": 273,
    "start_time": "2023-10-01T05:07:44.721Z"
   },
   {
    "duration": 369,
    "start_time": "2023-10-01T05:07:44.996Z"
   },
   {
    "duration": 167,
    "start_time": "2023-10-01T05:07:45.367Z"
   },
   {
    "duration": 127,
    "start_time": "2023-10-01T05:07:45.535Z"
   },
   {
    "duration": 210,
    "start_time": "2023-10-01T05:07:45.663Z"
   },
   {
    "duration": 8,
    "start_time": "2023-10-01T05:07:45.875Z"
   },
   {
    "duration": 38,
    "start_time": "2023-10-01T05:07:45.885Z"
   },
   {
    "duration": 65,
    "start_time": "2023-10-01T05:07:45.926Z"
   },
   {
    "duration": 44,
    "start_time": "2023-10-01T05:07:45.992Z"
   },
   {
    "duration": 76,
    "start_time": "2023-10-01T05:07:46.038Z"
   },
   {
    "duration": 36,
    "start_time": "2023-10-01T05:07:46.115Z"
   },
   {
    "duration": 94,
    "start_time": "2023-10-01T05:07:46.153Z"
   },
   {
    "duration": 57,
    "start_time": "2023-10-01T05:07:46.248Z"
   },
   {
    "duration": 72,
    "start_time": "2023-10-01T05:07:46.307Z"
   },
   {
    "duration": 46,
    "start_time": "2023-10-01T05:07:46.381Z"
   },
   {
    "duration": 75,
    "start_time": "2023-10-01T05:07:46.429Z"
   },
   {
    "duration": 99,
    "start_time": "2023-10-01T05:07:46.506Z"
   },
   {
    "duration": 8,
    "start_time": "2023-10-01T05:07:46.607Z"
   },
   {
    "duration": 37,
    "start_time": "2023-10-01T05:07:46.617Z"
   },
   {
    "duration": 33,
    "start_time": "2023-10-01T05:07:46.655Z"
   },
   {
    "duration": 16,
    "start_time": "2023-10-01T05:07:46.690Z"
   },
   {
    "duration": 38,
    "start_time": "2023-10-01T05:07:46.708Z"
   },
   {
    "duration": 26,
    "start_time": "2023-10-01T05:07:46.747Z"
   },
   {
    "duration": 27,
    "start_time": "2023-10-01T05:07:46.774Z"
   },
   {
    "duration": 15,
    "start_time": "2023-10-01T05:07:46.803Z"
   },
   {
    "duration": 51,
    "start_time": "2023-10-01T05:07:46.820Z"
   },
   {
    "duration": 18,
    "start_time": "2023-10-01T05:07:46.872Z"
   },
   {
    "duration": 16,
    "start_time": "2023-10-01T05:07:46.891Z"
   },
   {
    "duration": 39,
    "start_time": "2023-10-01T05:07:46.909Z"
   },
   {
    "duration": 26,
    "start_time": "2023-10-01T05:07:46.949Z"
   },
   {
    "duration": 12,
    "start_time": "2023-10-01T05:07:46.977Z"
   },
   {
    "duration": 32,
    "start_time": "2023-10-01T05:07:46.990Z"
   },
   {
    "duration": 9,
    "start_time": "2023-10-01T05:07:47.023Z"
   },
   {
    "duration": 42,
    "start_time": "2023-10-01T05:07:47.034Z"
   },
   {
    "duration": 63,
    "start_time": "2023-10-01T05:07:47.077Z"
   },
   {
    "duration": 18,
    "start_time": "2023-10-01T05:07:47.142Z"
   },
   {
    "duration": 47,
    "start_time": "2023-10-01T05:07:47.162Z"
   },
   {
    "duration": 19,
    "start_time": "2023-10-01T05:07:47.211Z"
   },
   {
    "duration": 30,
    "start_time": "2023-10-01T05:07:47.233Z"
   },
   {
    "duration": 24,
    "start_time": "2023-10-01T05:07:47.265Z"
   },
   {
    "duration": 7,
    "start_time": "2023-10-01T05:07:47.291Z"
   },
   {
    "duration": 19,
    "start_time": "2023-10-01T05:07:47.300Z"
   },
   {
    "duration": 10,
    "start_time": "2023-10-01T05:07:47.321Z"
   },
   {
    "duration": 116,
    "start_time": "2023-10-01T05:13:27.748Z"
   },
   {
    "duration": 12,
    "start_time": "2023-10-01T05:13:33.984Z"
   },
   {
    "duration": 102,
    "start_time": "2023-10-01T05:15:12.604Z"
   },
   {
    "duration": 11,
    "start_time": "2023-10-01T05:15:18.851Z"
   },
   {
    "duration": 1652,
    "start_time": "2023-10-01T05:16:17.915Z"
   },
   {
    "duration": 1651,
    "start_time": "2023-10-01T05:17:18.741Z"
   },
   {
    "duration": 9,
    "start_time": "2023-10-01T05:17:30.837Z"
   },
   {
    "duration": 9,
    "start_time": "2023-10-01T05:19:05.154Z"
   },
   {
    "duration": 85,
    "start_time": "2023-10-01T05:19:51.110Z"
   },
   {
    "duration": 9,
    "start_time": "2023-10-01T05:20:00.569Z"
   },
   {
    "duration": 13,
    "start_time": "2023-10-01T06:18:38.077Z"
   },
   {
    "duration": 20,
    "start_time": "2023-10-01T06:22:13.181Z"
   },
   {
    "duration": 12,
    "start_time": "2023-10-01T06:25:33.045Z"
   },
   {
    "duration": 13,
    "start_time": "2023-10-01T06:26:50.641Z"
   },
   {
    "duration": 1269,
    "start_time": "2023-10-01T06:33:38.239Z"
   },
   {
    "duration": 29,
    "start_time": "2023-10-01T06:33:39.510Z"
   },
   {
    "duration": 3,
    "start_time": "2023-10-01T06:33:39.541Z"
   },
   {
    "duration": 35,
    "start_time": "2023-10-01T06:33:39.546Z"
   },
   {
    "duration": 20,
    "start_time": "2023-10-01T06:33:39.582Z"
   },
   {
    "duration": 29,
    "start_time": "2023-10-01T06:33:39.604Z"
   },
   {
    "duration": 18,
    "start_time": "2023-10-01T06:33:39.634Z"
   },
   {
    "duration": 26,
    "start_time": "2023-10-01T06:33:39.654Z"
   },
   {
    "duration": 225,
    "start_time": "2023-10-01T06:33:39.681Z"
   },
   {
    "duration": 8,
    "start_time": "2023-10-01T06:33:39.909Z"
   },
   {
    "duration": 62,
    "start_time": "2023-10-01T06:33:39.918Z"
   },
   {
    "duration": 7,
    "start_time": "2023-10-01T06:33:39.982Z"
   },
   {
    "duration": 37,
    "start_time": "2023-10-01T06:33:39.991Z"
   },
   {
    "duration": 65,
    "start_time": "2023-10-01T06:33:40.030Z"
   },
   {
    "duration": 29,
    "start_time": "2023-10-01T06:33:40.096Z"
   },
   {
    "duration": 18,
    "start_time": "2023-10-01T06:33:40.127Z"
   },
   {
    "duration": 16,
    "start_time": "2023-10-01T06:33:40.147Z"
   },
   {
    "duration": 6,
    "start_time": "2023-10-01T06:33:40.165Z"
   },
   {
    "duration": 7,
    "start_time": "2023-10-01T06:33:40.173Z"
   },
   {
    "duration": 22,
    "start_time": "2023-10-01T06:33:40.182Z"
   },
   {
    "duration": 15,
    "start_time": "2023-10-01T06:33:40.206Z"
   },
   {
    "duration": 20,
    "start_time": "2023-10-01T06:33:40.223Z"
   },
   {
    "duration": 13,
    "start_time": "2023-10-01T06:33:40.244Z"
   },
   {
    "duration": 35,
    "start_time": "2023-10-01T06:33:40.259Z"
   },
   {
    "duration": 35,
    "start_time": "2023-10-01T06:33:40.296Z"
   },
   {
    "duration": 34,
    "start_time": "2023-10-01T06:33:40.332Z"
   },
   {
    "duration": 22,
    "start_time": "2023-10-01T06:33:40.368Z"
   },
   {
    "duration": 7,
    "start_time": "2023-10-01T06:33:40.395Z"
   },
   {
    "duration": 22,
    "start_time": "2023-10-01T06:33:40.404Z"
   },
   {
    "duration": 16,
    "start_time": "2023-10-01T06:33:40.427Z"
   },
   {
    "duration": 37,
    "start_time": "2023-10-01T06:33:40.445Z"
   },
   {
    "duration": 7,
    "start_time": "2023-10-01T06:33:40.484Z"
   },
   {
    "duration": 20,
    "start_time": "2023-10-01T06:33:40.493Z"
   },
   {
    "duration": 17,
    "start_time": "2023-10-01T06:33:40.514Z"
   },
   {
    "duration": 15,
    "start_time": "2023-10-01T06:33:40.533Z"
   },
   {
    "duration": 7,
    "start_time": "2023-10-01T06:33:40.553Z"
   },
   {
    "duration": 188,
    "start_time": "2023-10-01T06:33:40.562Z"
   },
   {
    "duration": 138,
    "start_time": "2023-10-01T06:33:40.752Z"
   },
   {
    "duration": 24,
    "start_time": "2023-10-01T06:33:40.891Z"
   },
   {
    "duration": 19,
    "start_time": "2023-10-01T06:33:40.916Z"
   },
   {
    "duration": 322,
    "start_time": "2023-10-01T06:33:40.937Z"
   },
   {
    "duration": 240,
    "start_time": "2023-10-01T06:33:41.261Z"
   },
   {
    "duration": 334,
    "start_time": "2023-10-01T06:33:41.503Z"
   },
   {
    "duration": 258,
    "start_time": "2023-10-01T06:33:41.839Z"
   },
   {
    "duration": 353,
    "start_time": "2023-10-01T06:33:42.100Z"
   },
   {
    "duration": 251,
    "start_time": "2023-10-01T06:33:42.454Z"
   },
   {
    "duration": 43,
    "start_time": "2023-10-01T06:33:42.707Z"
   },
   {
    "duration": 193,
    "start_time": "2023-10-01T06:33:42.751Z"
   },
   {
    "duration": 7,
    "start_time": "2023-10-01T06:33:42.946Z"
   },
   {
    "duration": 48,
    "start_time": "2023-10-01T06:33:42.955Z"
   },
   {
    "duration": 73,
    "start_time": "2023-10-01T06:33:43.005Z"
   },
   {
    "duration": 18,
    "start_time": "2023-10-01T06:33:43.079Z"
   },
   {
    "duration": 68,
    "start_time": "2023-10-01T06:33:43.098Z"
   },
   {
    "duration": 114,
    "start_time": "2023-10-01T06:33:43.168Z"
   },
   {
    "duration": 90,
    "start_time": "2023-10-01T06:33:43.284Z"
   },
   {
    "duration": 27,
    "start_time": "2023-10-01T06:33:43.376Z"
   },
   {
    "duration": 55,
    "start_time": "2023-10-01T06:33:43.405Z"
   },
   {
    "duration": 45,
    "start_time": "2023-10-01T06:33:43.462Z"
   },
   {
    "duration": 81,
    "start_time": "2023-10-01T06:33:43.508Z"
   },
   {
    "duration": 88,
    "start_time": "2023-10-01T06:33:43.590Z"
   },
   {
    "duration": 26,
    "start_time": "2023-10-01T06:33:43.679Z"
   },
   {
    "duration": 26,
    "start_time": "2023-10-01T06:33:43.707Z"
   },
   {
    "duration": 27,
    "start_time": "2023-10-01T06:33:43.734Z"
   },
   {
    "duration": 6,
    "start_time": "2023-10-01T06:33:43.763Z"
   },
   {
    "duration": 23,
    "start_time": "2023-10-01T06:33:43.771Z"
   },
   {
    "duration": 25,
    "start_time": "2023-10-01T06:33:43.796Z"
   },
   {
    "duration": 41,
    "start_time": "2023-10-01T06:33:43.823Z"
   },
   {
    "duration": 17,
    "start_time": "2023-10-01T06:33:43.866Z"
   },
   {
    "duration": 11,
    "start_time": "2023-10-01T06:33:43.884Z"
   },
   {
    "duration": 15,
    "start_time": "2023-10-01T06:33:43.897Z"
   },
   {
    "duration": 21,
    "start_time": "2023-10-01T06:33:43.913Z"
   },
   {
    "duration": 24,
    "start_time": "2023-10-01T06:33:43.936Z"
   },
   {
    "duration": 16,
    "start_time": "2023-10-01T06:33:43.962Z"
   },
   {
    "duration": 7,
    "start_time": "2023-10-01T06:33:43.980Z"
   },
   {
    "duration": 35,
    "start_time": "2023-10-01T06:33:43.989Z"
   },
   {
    "duration": 20,
    "start_time": "2023-10-01T06:33:44.026Z"
   },
   {
    "duration": 135,
    "start_time": "2023-10-01T06:33:44.048Z"
   },
   {
    "duration": 35,
    "start_time": "2023-10-01T06:33:44.185Z"
   },
   {
    "duration": 34,
    "start_time": "2023-10-01T06:33:44.222Z"
   },
   {
    "duration": 68,
    "start_time": "2023-10-01T06:33:44.257Z"
   },
   {
    "duration": 32,
    "start_time": "2023-10-01T06:33:44.327Z"
   },
   {
    "duration": 8,
    "start_time": "2023-10-01T06:33:44.365Z"
   },
   {
    "duration": 39,
    "start_time": "2023-10-01T06:33:44.375Z"
   },
   {
    "duration": 7,
    "start_time": "2023-10-01T06:33:44.416Z"
   },
   {
    "duration": 15,
    "start_time": "2023-10-01T06:33:44.425Z"
   },
   {
    "duration": 7,
    "start_time": "2023-10-01T06:33:44.442Z"
   },
   {
    "duration": 1226,
    "start_time": "2023-10-01T06:35:13.543Z"
   },
   {
    "duration": 27,
    "start_time": "2023-10-01T06:35:14.771Z"
   },
   {
    "duration": 2,
    "start_time": "2023-10-01T06:35:14.800Z"
   },
   {
    "duration": 37,
    "start_time": "2023-10-01T06:35:14.804Z"
   },
   {
    "duration": 35,
    "start_time": "2023-10-01T06:35:14.843Z"
   },
   {
    "duration": 49,
    "start_time": "2023-10-01T06:35:14.880Z"
   },
   {
    "duration": 15,
    "start_time": "2023-10-01T06:35:14.931Z"
   },
   {
    "duration": 22,
    "start_time": "2023-10-01T06:35:14.947Z"
   },
   {
    "duration": 210,
    "start_time": "2023-10-01T06:35:14.971Z"
   },
   {
    "duration": 9,
    "start_time": "2023-10-01T06:35:15.184Z"
   },
   {
    "duration": 42,
    "start_time": "2023-10-01T06:35:15.202Z"
   },
   {
    "duration": 8,
    "start_time": "2023-10-01T06:35:15.246Z"
   },
   {
    "duration": 17,
    "start_time": "2023-10-01T06:35:15.255Z"
   },
   {
    "duration": 20,
    "start_time": "2023-10-01T06:35:15.274Z"
   },
   {
    "duration": 12,
    "start_time": "2023-10-01T06:35:15.296Z"
   },
   {
    "duration": 4,
    "start_time": "2023-10-01T06:35:15.310Z"
   },
   {
    "duration": 12,
    "start_time": "2023-10-01T06:35:15.315Z"
   },
   {
    "duration": 22,
    "start_time": "2023-10-01T06:35:15.329Z"
   },
   {
    "duration": 10,
    "start_time": "2023-10-01T06:35:15.352Z"
   },
   {
    "duration": 22,
    "start_time": "2023-10-01T06:35:15.364Z"
   },
   {
    "duration": 4,
    "start_time": "2023-10-01T06:35:15.388Z"
   },
   {
    "duration": 43,
    "start_time": "2023-10-01T06:35:15.394Z"
   },
   {
    "duration": 29,
    "start_time": "2023-10-01T06:35:15.438Z"
   },
   {
    "duration": 7,
    "start_time": "2023-10-01T06:35:15.469Z"
   },
   {
    "duration": 12,
    "start_time": "2023-10-01T06:35:15.478Z"
   },
   {
    "duration": 16,
    "start_time": "2023-10-01T06:35:15.491Z"
   },
   {
    "duration": 15,
    "start_time": "2023-10-01T06:35:15.509Z"
   },
   {
    "duration": 7,
    "start_time": "2023-10-01T06:35:15.528Z"
   },
   {
    "duration": 13,
    "start_time": "2023-10-01T06:35:15.536Z"
   },
   {
    "duration": 13,
    "start_time": "2023-10-01T06:35:15.551Z"
   },
   {
    "duration": 27,
    "start_time": "2023-10-01T06:35:15.565Z"
   },
   {
    "duration": 5,
    "start_time": "2023-10-01T06:35:15.594Z"
   },
   {
    "duration": 7,
    "start_time": "2023-10-01T06:35:15.600Z"
   },
   {
    "duration": 25,
    "start_time": "2023-10-01T06:35:15.608Z"
   },
   {
    "duration": 15,
    "start_time": "2023-10-01T06:35:15.634Z"
   },
   {
    "duration": 11,
    "start_time": "2023-10-01T06:35:15.651Z"
   },
   {
    "duration": 181,
    "start_time": "2023-10-01T06:35:15.664Z"
   },
   {
    "duration": 138,
    "start_time": "2023-10-01T06:35:15.846Z"
   },
   {
    "duration": 31,
    "start_time": "2023-10-01T06:35:15.986Z"
   },
   {
    "duration": 7,
    "start_time": "2023-10-01T06:35:16.019Z"
   },
   {
    "duration": 299,
    "start_time": "2023-10-01T06:35:16.028Z"
   },
   {
    "duration": 245,
    "start_time": "2023-10-01T06:35:16.329Z"
   },
   {
    "duration": 354,
    "start_time": "2023-10-01T06:35:16.575Z"
   },
   {
    "duration": 246,
    "start_time": "2023-10-01T06:35:16.930Z"
   },
   {
    "duration": 361,
    "start_time": "2023-10-01T06:35:17.177Z"
   },
   {
    "duration": 232,
    "start_time": "2023-10-01T06:35:17.540Z"
   },
   {
    "duration": 50,
    "start_time": "2023-10-01T06:35:17.773Z"
   },
   {
    "duration": 190,
    "start_time": "2023-10-01T06:35:17.825Z"
   },
   {
    "duration": 10,
    "start_time": "2023-10-01T06:35:18.017Z"
   },
   {
    "duration": 24,
    "start_time": "2023-10-01T06:35:18.028Z"
   },
   {
    "duration": 67,
    "start_time": "2023-10-01T06:35:18.054Z"
   },
   {
    "duration": 25,
    "start_time": "2023-10-01T06:35:18.122Z"
   },
   {
    "duration": 83,
    "start_time": "2023-10-01T06:35:18.149Z"
   },
   {
    "duration": 63,
    "start_time": "2023-10-01T06:35:18.234Z"
   },
   {
    "duration": 54,
    "start_time": "2023-10-01T06:35:18.298Z"
   },
   {
    "duration": 47,
    "start_time": "2023-10-01T06:35:18.354Z"
   },
   {
    "duration": 58,
    "start_time": "2023-10-01T06:35:18.402Z"
   },
   {
    "duration": 45,
    "start_time": "2023-10-01T06:35:18.462Z"
   },
   {
    "duration": 69,
    "start_time": "2023-10-01T06:35:18.509Z"
   },
   {
    "duration": 149,
    "start_time": "2023-10-01T06:35:18.580Z"
   },
   {
    "duration": 28,
    "start_time": "2023-10-01T06:35:18.730Z"
   },
   {
    "duration": 20,
    "start_time": "2023-10-01T06:35:18.760Z"
   },
   {
    "duration": 40,
    "start_time": "2023-10-01T06:35:18.782Z"
   },
   {
    "duration": 7,
    "start_time": "2023-10-01T06:35:18.824Z"
   },
   {
    "duration": 15,
    "start_time": "2023-10-01T06:35:18.833Z"
   },
   {
    "duration": 11,
    "start_time": "2023-10-01T06:35:18.851Z"
   },
   {
    "duration": 54,
    "start_time": "2023-10-01T06:35:18.864Z"
   },
   {
    "duration": 16,
    "start_time": "2023-10-01T06:35:18.919Z"
   },
   {
    "duration": 6,
    "start_time": "2023-10-01T06:35:18.936Z"
   },
   {
    "duration": 30,
    "start_time": "2023-10-01T06:35:18.944Z"
   },
   {
    "duration": 6,
    "start_time": "2023-10-01T06:35:18.976Z"
   },
   {
    "duration": 9,
    "start_time": "2023-10-01T06:35:18.984Z"
   },
   {
    "duration": 4,
    "start_time": "2023-10-01T06:35:18.995Z"
   },
   {
    "duration": 5,
    "start_time": "2023-10-01T06:35:19.001Z"
   },
   {
    "duration": 11,
    "start_time": "2023-10-01T06:35:19.007Z"
   },
   {
    "duration": 7,
    "start_time": "2023-10-01T06:35:19.020Z"
   },
   {
    "duration": 17,
    "start_time": "2023-10-01T06:35:19.028Z"
   },
   {
    "duration": 27,
    "start_time": "2023-10-01T06:35:19.047Z"
   },
   {
    "duration": 22,
    "start_time": "2023-10-01T06:35:19.075Z"
   },
   {
    "duration": 52,
    "start_time": "2023-10-01T06:35:19.099Z"
   },
   {
    "duration": 28,
    "start_time": "2023-10-01T06:35:19.152Z"
   },
   {
    "duration": 9,
    "start_time": "2023-10-01T06:35:19.187Z"
   },
   {
    "duration": 30,
    "start_time": "2023-10-01T06:35:19.198Z"
   },
   {
    "duration": 8,
    "start_time": "2023-10-01T06:35:19.230Z"
   },
   {
    "duration": 33,
    "start_time": "2023-10-01T06:35:19.240Z"
   },
   {
    "duration": 9,
    "start_time": "2023-10-01T06:35:19.275Z"
   },
   {
    "duration": 1525,
    "start_time": "2023-10-01T07:37:44.162Z"
   },
   {
    "duration": 40,
    "start_time": "2023-10-01T07:37:45.689Z"
   },
   {
    "duration": 4,
    "start_time": "2023-10-01T07:37:45.731Z"
   },
   {
    "duration": 39,
    "start_time": "2023-10-01T07:37:45.738Z"
   },
   {
    "duration": 26,
    "start_time": "2023-10-01T07:37:45.780Z"
   },
   {
    "duration": 46,
    "start_time": "2023-10-01T07:37:45.808Z"
   },
   {
    "duration": 17,
    "start_time": "2023-10-01T07:37:45.857Z"
   },
   {
    "duration": 47,
    "start_time": "2023-10-01T07:37:45.876Z"
   },
   {
    "duration": 276,
    "start_time": "2023-10-01T07:37:45.928Z"
   },
   {
    "duration": 18,
    "start_time": "2023-10-01T07:37:46.212Z"
   },
   {
    "duration": 72,
    "start_time": "2023-10-01T07:37:46.235Z"
   },
   {
    "duration": 13,
    "start_time": "2023-10-01T07:37:46.308Z"
   },
   {
    "duration": 23,
    "start_time": "2023-10-01T07:37:46.328Z"
   },
   {
    "duration": 8,
    "start_time": "2023-10-01T07:37:46.354Z"
   },
   {
    "duration": 19,
    "start_time": "2023-10-01T07:37:46.363Z"
   },
   {
    "duration": 33,
    "start_time": "2023-10-01T07:37:46.384Z"
   },
   {
    "duration": 14,
    "start_time": "2023-10-01T07:37:46.422Z"
   },
   {
    "duration": 9,
    "start_time": "2023-10-01T07:37:46.438Z"
   },
   {
    "duration": 9,
    "start_time": "2023-10-01T07:37:46.449Z"
   },
   {
    "duration": 27,
    "start_time": "2023-10-01T07:37:46.461Z"
   },
   {
    "duration": 9,
    "start_time": "2023-10-01T07:37:46.509Z"
   },
   {
    "duration": 22,
    "start_time": "2023-10-01T07:37:46.525Z"
   },
   {
    "duration": 25,
    "start_time": "2023-10-01T07:37:46.549Z"
   },
   {
    "duration": 40,
    "start_time": "2023-10-01T07:37:46.576Z"
   },
   {
    "duration": 16,
    "start_time": "2023-10-01T07:37:46.619Z"
   },
   {
    "duration": 17,
    "start_time": "2023-10-01T07:37:46.638Z"
   },
   {
    "duration": 17,
    "start_time": "2023-10-01T07:37:46.658Z"
   },
   {
    "duration": 36,
    "start_time": "2023-10-01T07:37:46.682Z"
   },
   {
    "duration": 18,
    "start_time": "2023-10-01T07:37:46.720Z"
   },
   {
    "duration": 8,
    "start_time": "2023-10-01T07:37:46.741Z"
   },
   {
    "duration": 43,
    "start_time": "2023-10-01T07:37:46.752Z"
   },
   {
    "duration": 8,
    "start_time": "2023-10-01T07:37:46.821Z"
   },
   {
    "duration": 14,
    "start_time": "2023-10-01T07:37:46.831Z"
   },
   {
    "duration": 33,
    "start_time": "2023-10-01T07:37:46.846Z"
   },
   {
    "duration": 34,
    "start_time": "2023-10-01T07:37:46.881Z"
   },
   {
    "duration": 12,
    "start_time": "2023-10-01T07:37:46.923Z"
   },
   {
    "duration": 252,
    "start_time": "2023-10-01T07:37:46.937Z"
   },
   {
    "duration": 164,
    "start_time": "2023-10-01T07:37:47.191Z"
   },
   {
    "duration": 18,
    "start_time": "2023-10-01T07:37:47.358Z"
   },
   {
    "duration": 51,
    "start_time": "2023-10-01T07:37:47.378Z"
   },
   {
    "duration": 352,
    "start_time": "2023-10-01T07:37:47.432Z"
   },
   {
    "duration": 297,
    "start_time": "2023-10-01T07:37:47.786Z"
   },
   {
    "duration": 402,
    "start_time": "2023-10-01T07:37:48.085Z"
   },
   {
    "duration": 316,
    "start_time": "2023-10-01T07:37:48.490Z"
   },
   {
    "duration": 449,
    "start_time": "2023-10-01T07:37:48.810Z"
   },
   {
    "duration": 300,
    "start_time": "2023-10-01T07:37:49.261Z"
   },
   {
    "duration": 69,
    "start_time": "2023-10-01T07:37:49.563Z"
   },
   {
    "duration": 218,
    "start_time": "2023-10-01T07:37:49.634Z"
   },
   {
    "duration": 10,
    "start_time": "2023-10-01T07:37:49.854Z"
   },
   {
    "duration": 13,
    "start_time": "2023-10-01T07:37:49.866Z"
   },
   {
    "duration": 123,
    "start_time": "2023-10-01T07:37:49.882Z"
   },
   {
    "duration": 36,
    "start_time": "2023-10-01T07:37:50.013Z"
   },
   {
    "duration": 86,
    "start_time": "2023-10-01T07:37:50.052Z"
   },
   {
    "duration": 51,
    "start_time": "2023-10-01T07:37:50.141Z"
   },
   {
    "duration": 72,
    "start_time": "2023-10-01T07:37:50.194Z"
   },
   {
    "duration": 45,
    "start_time": "2023-10-01T07:37:50.268Z"
   },
   {
    "duration": 75,
    "start_time": "2023-10-01T07:37:50.318Z"
   },
   {
    "duration": 67,
    "start_time": "2023-10-01T07:37:50.395Z"
   },
   {
    "duration": 82,
    "start_time": "2023-10-01T07:37:50.464Z"
   },
   {
    "duration": 113,
    "start_time": "2023-10-01T07:37:50.548Z"
   },
   {
    "duration": 11,
    "start_time": "2023-10-01T07:37:50.663Z"
   },
   {
    "duration": 14,
    "start_time": "2023-10-01T07:37:50.676Z"
   },
   {
    "duration": 55,
    "start_time": "2023-10-01T07:37:50.692Z"
   },
   {
    "duration": 9,
    "start_time": "2023-10-01T07:37:50.749Z"
   },
   {
    "duration": 15,
    "start_time": "2023-10-01T07:37:50.761Z"
   },
   {
    "duration": 50,
    "start_time": "2023-10-01T07:37:50.779Z"
   },
   {
    "duration": 8,
    "start_time": "2023-10-01T07:37:50.833Z"
   },
   {
    "duration": 20,
    "start_time": "2023-10-01T07:37:50.842Z"
   },
   {
    "duration": 62,
    "start_time": "2023-10-01T07:37:50.865Z"
   },
   {
    "duration": 5,
    "start_time": "2023-10-01T07:37:50.929Z"
   },
   {
    "duration": 14,
    "start_time": "2023-10-01T07:37:50.937Z"
   },
   {
    "duration": 172,
    "start_time": "2023-10-01T07:37:50.954Z"
   },
   {
    "duration": 12,
    "start_time": "2023-10-01T07:37:51.129Z"
   },
   {
    "duration": 26,
    "start_time": "2023-10-01T07:37:51.143Z"
   },
   {
    "duration": 16,
    "start_time": "2023-10-01T07:37:51.172Z"
   },
   {
    "duration": 23,
    "start_time": "2023-10-01T07:37:51.190Z"
   },
   {
    "duration": 17,
    "start_time": "2023-10-01T07:37:51.215Z"
   },
   {
    "duration": 20,
    "start_time": "2023-10-01T07:37:51.235Z"
   },
   {
    "duration": 22,
    "start_time": "2023-10-01T07:37:51.257Z"
   },
   {
    "duration": 36,
    "start_time": "2023-10-01T07:37:51.282Z"
   },
   {
    "duration": 22,
    "start_time": "2023-10-01T07:37:51.320Z"
   },
   {
    "duration": 12,
    "start_time": "2023-10-01T07:37:51.350Z"
   },
   {
    "duration": 169,
    "start_time": "2023-10-01T07:37:51.365Z"
   },
   {
    "duration": 8,
    "start_time": "2023-10-01T07:37:51.536Z"
   },
   {
    "duration": 50,
    "start_time": "2023-10-01T07:37:51.546Z"
   },
   {
    "duration": 15,
    "start_time": "2023-10-01T07:37:51.599Z"
   },
   {
    "duration": 77,
    "start_time": "2023-10-01T12:11:13.882Z"
   },
   {
    "duration": 1372,
    "start_time": "2023-10-01T12:11:21.588Z"
   },
   {
    "duration": 71,
    "start_time": "2023-10-01T12:11:22.962Z"
   },
   {
    "duration": 4,
    "start_time": "2023-10-01T12:11:23.035Z"
   },
   {
    "duration": 44,
    "start_time": "2023-10-01T12:11:23.042Z"
   },
   {
    "duration": 37,
    "start_time": "2023-10-01T12:11:23.088Z"
   },
   {
    "duration": 48,
    "start_time": "2023-10-01T12:11:23.127Z"
   },
   {
    "duration": 37,
    "start_time": "2023-10-01T12:11:23.177Z"
   },
   {
    "duration": 50,
    "start_time": "2023-10-01T12:11:23.216Z"
   },
   {
    "duration": 228,
    "start_time": "2023-10-01T12:11:23.268Z"
   },
   {
    "duration": 9,
    "start_time": "2023-10-01T12:11:23.499Z"
   },
   {
    "duration": 107,
    "start_time": "2023-10-01T12:11:23.510Z"
   },
   {
    "duration": 10,
    "start_time": "2023-10-01T12:11:23.619Z"
   },
   {
    "duration": 24,
    "start_time": "2023-10-01T12:11:23.631Z"
   },
   {
    "duration": 11,
    "start_time": "2023-10-01T12:11:23.657Z"
   },
   {
    "duration": 25,
    "start_time": "2023-10-01T12:11:23.670Z"
   },
   {
    "duration": 9,
    "start_time": "2023-10-01T12:11:23.697Z"
   },
   {
    "duration": 9,
    "start_time": "2023-10-01T12:11:23.708Z"
   },
   {
    "duration": 17,
    "start_time": "2023-10-01T12:11:23.718Z"
   },
   {
    "duration": 9,
    "start_time": "2023-10-01T12:11:23.737Z"
   },
   {
    "duration": 15,
    "start_time": "2023-10-01T12:11:23.752Z"
   },
   {
    "duration": 5,
    "start_time": "2023-10-01T12:11:23.769Z"
   },
   {
    "duration": 15,
    "start_time": "2023-10-01T12:11:23.775Z"
   },
   {
    "duration": 21,
    "start_time": "2023-10-01T12:11:23.791Z"
   },
   {
    "duration": 7,
    "start_time": "2023-10-01T12:11:23.814Z"
   },
   {
    "duration": 49,
    "start_time": "2023-10-01T12:11:23.822Z"
   },
   {
    "duration": 18,
    "start_time": "2023-10-01T12:11:23.874Z"
   },
   {
    "duration": 60,
    "start_time": "2023-10-01T12:11:23.894Z"
   },
   {
    "duration": 8,
    "start_time": "2023-10-01T12:11:23.961Z"
   },
   {
    "duration": 13,
    "start_time": "2023-10-01T12:11:23.970Z"
   },
   {
    "duration": 12,
    "start_time": "2023-10-01T12:11:23.984Z"
   },
   {
    "duration": 13,
    "start_time": "2023-10-01T12:11:23.998Z"
   },
   {
    "duration": 26,
    "start_time": "2023-10-01T12:11:24.013Z"
   },
   {
    "duration": 24,
    "start_time": "2023-10-01T12:11:24.041Z"
   },
   {
    "duration": 17,
    "start_time": "2023-10-01T12:11:24.070Z"
   },
   {
    "duration": 13,
    "start_time": "2023-10-01T12:11:24.089Z"
   },
   {
    "duration": 13,
    "start_time": "2023-10-01T12:11:24.104Z"
   },
   {
    "duration": 214,
    "start_time": "2023-10-01T12:11:24.119Z"
   },
   {
    "duration": 172,
    "start_time": "2023-10-01T12:11:24.337Z"
   },
   {
    "duration": 16,
    "start_time": "2023-10-01T12:11:24.510Z"
   },
   {
    "duration": 18,
    "start_time": "2023-10-01T12:11:24.545Z"
   },
   {
    "duration": 311,
    "start_time": "2023-10-01T12:11:24.565Z"
   },
   {
    "duration": 236,
    "start_time": "2023-10-01T12:11:24.878Z"
   },
   {
    "duration": 387,
    "start_time": "2023-10-01T12:11:25.116Z"
   },
   {
    "duration": 261,
    "start_time": "2023-10-01T12:11:25.506Z"
   },
   {
    "duration": 354,
    "start_time": "2023-10-01T12:11:25.769Z"
   },
   {
    "duration": 273,
    "start_time": "2023-10-01T12:11:26.125Z"
   },
   {
    "duration": 54,
    "start_time": "2023-10-01T12:11:26.400Z"
   },
   {
    "duration": 164,
    "start_time": "2023-10-01T12:11:26.457Z"
   },
   {
    "duration": 8,
    "start_time": "2023-10-01T12:11:26.622Z"
   },
   {
    "duration": 28,
    "start_time": "2023-10-01T12:11:26.632Z"
   },
   {
    "duration": 49,
    "start_time": "2023-10-01T12:11:26.664Z"
   },
   {
    "duration": 11,
    "start_time": "2023-10-01T12:11:26.714Z"
   },
   {
    "duration": 69,
    "start_time": "2023-10-01T12:11:26.726Z"
   },
   {
    "duration": 19,
    "start_time": "2023-10-01T12:11:26.797Z"
   },
   {
    "duration": 78,
    "start_time": "2023-10-01T12:11:26.817Z"
   },
   {
    "duration": 19,
    "start_time": "2023-10-01T12:11:26.897Z"
   },
   {
    "duration": 83,
    "start_time": "2023-10-01T12:11:26.918Z"
   },
   {
    "duration": 46,
    "start_time": "2023-10-01T12:11:27.003Z"
   },
   {
    "duration": 86,
    "start_time": "2023-10-01T12:11:27.050Z"
   },
   {
    "duration": 82,
    "start_time": "2023-10-01T12:11:27.143Z"
   },
   {
    "duration": 29,
    "start_time": "2023-10-01T12:11:27.226Z"
   },
   {
    "duration": 12,
    "start_time": "2023-10-01T12:11:27.256Z"
   },
   {
    "duration": 29,
    "start_time": "2023-10-01T12:11:27.270Z"
   },
   {
    "duration": 7,
    "start_time": "2023-10-01T12:11:27.301Z"
   },
   {
    "duration": 10,
    "start_time": "2023-10-01T12:11:27.310Z"
   },
   {
    "duration": 30,
    "start_time": "2023-10-01T12:11:27.322Z"
   },
   {
    "duration": 19,
    "start_time": "2023-10-01T12:11:27.358Z"
   },
   {
    "duration": 8,
    "start_time": "2023-10-01T12:11:27.379Z"
   },
   {
    "duration": 24,
    "start_time": "2023-10-01T12:11:27.389Z"
   },
   {
    "duration": 5,
    "start_time": "2023-10-01T12:11:27.415Z"
   },
   {
    "duration": 5,
    "start_time": "2023-10-01T12:11:27.423Z"
   },
   {
    "duration": 6,
    "start_time": "2023-10-01T12:11:27.430Z"
   },
   {
    "duration": 18,
    "start_time": "2023-10-01T12:11:27.438Z"
   },
   {
    "duration": 8,
    "start_time": "2023-10-01T12:11:27.457Z"
   },
   {
    "duration": 6,
    "start_time": "2023-10-01T12:11:27.466Z"
   },
   {
    "duration": 9,
    "start_time": "2023-10-01T12:11:27.474Z"
   },
   {
    "duration": 5,
    "start_time": "2023-10-01T12:11:27.485Z"
   },
   {
    "duration": 12,
    "start_time": "2023-10-01T12:11:27.492Z"
   },
   {
    "duration": 39,
    "start_time": "2023-10-01T12:11:27.506Z"
   },
   {
    "duration": 17,
    "start_time": "2023-10-01T12:11:27.547Z"
   },
   {
    "duration": 9,
    "start_time": "2023-10-01T12:11:27.565Z"
   },
   {
    "duration": 7,
    "start_time": "2023-10-01T12:11:27.579Z"
   },
   {
    "duration": 8,
    "start_time": "2023-10-01T12:11:27.588Z"
   },
   {
    "duration": 71,
    "start_time": "2023-10-01T12:11:27.597Z"
   },
   {
    "duration": 7,
    "start_time": "2023-10-01T12:11:27.670Z"
   },
   {
    "duration": 17,
    "start_time": "2023-10-01T12:11:27.678Z"
   },
   {
    "duration": 6,
    "start_time": "2023-10-01T12:11:27.697Z"
   },
   {
    "duration": 93,
    "start_time": "2023-10-01T15:12:41.421Z"
   },
   {
    "duration": 9,
    "start_time": "2023-10-01T15:32:58.466Z"
   },
   {
    "duration": 8,
    "start_time": "2023-10-01T15:33:17.431Z"
   },
   {
    "duration": 9,
    "start_time": "2023-10-01T15:33:24.349Z"
   },
   {
    "duration": 147,
    "start_time": "2023-10-01T15:38:35.665Z"
   },
   {
    "duration": 14,
    "start_time": "2023-10-01T15:38:44.696Z"
   },
   {
    "duration": 10,
    "start_time": "2023-10-01T15:38:57.956Z"
   },
   {
    "duration": 10,
    "start_time": "2023-10-01T15:39:04.158Z"
   },
   {
    "duration": 4,
    "start_time": "2023-10-01T15:39:11.866Z"
   },
   {
    "duration": 4,
    "start_time": "2023-10-01T15:39:14.972Z"
   },
   {
    "duration": 4,
    "start_time": "2023-10-01T15:39:17.146Z"
   },
   {
    "duration": 4,
    "start_time": "2023-10-01T15:39:18.837Z"
   },
   {
    "duration": 3,
    "start_time": "2023-10-01T15:41:52.063Z"
   },
   {
    "duration": 4,
    "start_time": "2023-10-01T15:41:58.119Z"
   },
   {
    "duration": 4,
    "start_time": "2023-10-01T15:42:10.768Z"
   },
   {
    "duration": 4,
    "start_time": "2023-10-01T15:42:15.875Z"
   },
   {
    "duration": 3,
    "start_time": "2023-10-01T15:42:23.704Z"
   },
   {
    "duration": 4,
    "start_time": "2023-10-01T15:42:46.636Z"
   },
   {
    "duration": 7,
    "start_time": "2023-10-01T15:43:27.513Z"
   },
   {
    "duration": 7,
    "start_time": "2023-10-01T15:43:30.086Z"
   },
   {
    "duration": 7,
    "start_time": "2023-10-01T15:43:33.940Z"
   },
   {
    "duration": 6,
    "start_time": "2023-10-01T15:43:37.377Z"
   },
   {
    "duration": 1171,
    "start_time": "2023-10-01T15:50:58.169Z"
   },
   {
    "duration": 27,
    "start_time": "2023-10-01T15:50:59.342Z"
   },
   {
    "duration": 3,
    "start_time": "2023-10-01T15:50:59.371Z"
   },
   {
    "duration": 12,
    "start_time": "2023-10-01T15:50:59.377Z"
   },
   {
    "duration": 11,
    "start_time": "2023-10-01T15:50:59.391Z"
   },
   {
    "duration": 22,
    "start_time": "2023-10-01T15:50:59.404Z"
   },
   {
    "duration": 27,
    "start_time": "2023-10-01T15:50:59.428Z"
   },
   {
    "duration": 17,
    "start_time": "2023-10-01T15:50:59.457Z"
   },
   {
    "duration": 227,
    "start_time": "2023-10-01T15:50:59.476Z"
   },
   {
    "duration": 8,
    "start_time": "2023-10-01T15:50:59.706Z"
   },
   {
    "duration": 38,
    "start_time": "2023-10-01T15:50:59.715Z"
   },
   {
    "duration": 8,
    "start_time": "2023-10-01T15:50:59.755Z"
   },
   {
    "duration": 11,
    "start_time": "2023-10-01T15:50:59.765Z"
   },
   {
    "duration": 5,
    "start_time": "2023-10-01T15:50:59.778Z"
   },
   {
    "duration": 15,
    "start_time": "2023-10-01T15:50:59.785Z"
   },
   {
    "duration": 7,
    "start_time": "2023-10-01T15:50:59.802Z"
   },
   {
    "duration": 35,
    "start_time": "2023-10-01T15:50:59.810Z"
   },
   {
    "duration": 7,
    "start_time": "2023-10-01T15:50:59.847Z"
   },
   {
    "duration": 11,
    "start_time": "2023-10-01T15:50:59.856Z"
   },
   {
    "duration": 13,
    "start_time": "2023-10-01T15:50:59.869Z"
   },
   {
    "duration": 9,
    "start_time": "2023-10-01T15:50:59.884Z"
   },
   {
    "duration": 13,
    "start_time": "2023-10-01T15:50:59.895Z"
   },
   {
    "duration": 45,
    "start_time": "2023-10-01T15:50:59.909Z"
   },
   {
    "duration": 13,
    "start_time": "2023-10-01T15:50:59.956Z"
   },
   {
    "duration": 17,
    "start_time": "2023-10-01T15:50:59.971Z"
   },
   {
    "duration": 46,
    "start_time": "2023-10-01T15:50:59.989Z"
   },
   {
    "duration": 51,
    "start_time": "2023-10-01T15:51:00.037Z"
   },
   {
    "duration": 11,
    "start_time": "2023-10-01T15:51:00.093Z"
   },
   {
    "duration": 67,
    "start_time": "2023-10-01T15:51:00.106Z"
   },
   {
    "duration": 45,
    "start_time": "2023-10-01T15:51:00.176Z"
   },
   {
    "duration": 38,
    "start_time": "2023-10-01T15:51:00.222Z"
   },
   {
    "duration": 32,
    "start_time": "2023-10-01T15:51:00.262Z"
   },
   {
    "duration": 33,
    "start_time": "2023-10-01T15:51:00.295Z"
   },
   {
    "duration": 36,
    "start_time": "2023-10-01T15:51:00.330Z"
   },
   {
    "duration": 39,
    "start_time": "2023-10-01T15:51:00.368Z"
   },
   {
    "duration": 35,
    "start_time": "2023-10-01T15:51:00.409Z"
   },
   {
    "duration": 208,
    "start_time": "2023-10-01T15:51:00.446Z"
   },
   {
    "duration": 135,
    "start_time": "2023-10-01T15:51:00.655Z"
   },
   {
    "duration": 46,
    "start_time": "2023-10-01T15:51:00.791Z"
   },
   {
    "duration": 26,
    "start_time": "2023-10-01T15:51:00.850Z"
   },
   {
    "duration": 318,
    "start_time": "2023-10-01T15:51:00.877Z"
   },
   {
    "duration": 214,
    "start_time": "2023-10-01T15:51:01.197Z"
   },
   {
    "duration": 380,
    "start_time": "2023-10-01T15:51:01.414Z"
   },
   {
    "duration": 256,
    "start_time": "2023-10-01T15:51:01.797Z"
   },
   {
    "duration": 374,
    "start_time": "2023-10-01T15:51:02.056Z"
   },
   {
    "duration": 267,
    "start_time": "2023-10-01T15:51:02.432Z"
   },
   {
    "duration": 47,
    "start_time": "2023-10-01T15:51:02.701Z"
   },
   {
    "duration": 172,
    "start_time": "2023-10-01T15:51:02.749Z"
   },
   {
    "duration": 7,
    "start_time": "2023-10-01T15:51:02.923Z"
   },
   {
    "duration": 30,
    "start_time": "2023-10-01T15:51:02.932Z"
   },
   {
    "duration": 82,
    "start_time": "2023-10-01T15:51:02.964Z"
   },
   {
    "duration": 10,
    "start_time": "2023-10-01T15:51:03.048Z"
   },
   {
    "duration": 76,
    "start_time": "2023-10-01T15:51:03.059Z"
   },
   {
    "duration": 26,
    "start_time": "2023-10-01T15:51:03.136Z"
   },
   {
    "duration": 64,
    "start_time": "2023-10-01T15:51:03.164Z"
   },
   {
    "duration": 44,
    "start_time": "2023-10-01T15:51:03.230Z"
   },
   {
    "duration": 63,
    "start_time": "2023-10-01T15:51:03.276Z"
   },
   {
    "duration": 27,
    "start_time": "2023-10-01T15:51:03.342Z"
   },
   {
    "duration": 89,
    "start_time": "2023-10-01T15:51:03.371Z"
   },
   {
    "duration": 69,
    "start_time": "2023-10-01T15:51:03.462Z"
   },
   {
    "duration": 7,
    "start_time": "2023-10-01T15:51:03.545Z"
   },
   {
    "duration": 8,
    "start_time": "2023-10-01T15:51:03.554Z"
   },
   {
    "duration": 34,
    "start_time": "2023-10-01T15:51:03.564Z"
   },
   {
    "duration": 7,
    "start_time": "2023-10-01T15:51:03.600Z"
   },
   {
    "duration": 39,
    "start_time": "2023-10-01T15:51:03.609Z"
   },
   {
    "duration": 15,
    "start_time": "2023-10-01T15:51:03.649Z"
   },
   {
    "duration": 14,
    "start_time": "2023-10-01T15:51:03.665Z"
   },
   {
    "duration": 9,
    "start_time": "2023-10-01T15:51:03.680Z"
   },
   {
    "duration": 12,
    "start_time": "2023-10-01T15:51:03.690Z"
   },
   {
    "duration": 9,
    "start_time": "2023-10-01T15:51:03.703Z"
   },
   {
    "duration": 5,
    "start_time": "2023-10-01T15:51:03.714Z"
   },
   {
    "duration": 6,
    "start_time": "2023-10-01T15:51:03.720Z"
   },
   {
    "duration": 18,
    "start_time": "2023-10-01T15:51:03.727Z"
   },
   {
    "duration": 7,
    "start_time": "2023-10-01T15:51:03.747Z"
   },
   {
    "duration": 14,
    "start_time": "2023-10-01T15:51:03.756Z"
   },
   {
    "duration": 6,
    "start_time": "2023-10-01T15:51:03.772Z"
   },
   {
    "duration": 15,
    "start_time": "2023-10-01T15:51:03.779Z"
   },
   {
    "duration": 5,
    "start_time": "2023-10-01T15:51:03.796Z"
   },
   {
    "duration": 16,
    "start_time": "2023-10-01T15:51:03.803Z"
   },
   {
    "duration": 33,
    "start_time": "2023-10-01T15:51:03.821Z"
   },
   {
    "duration": 16,
    "start_time": "2023-10-01T15:51:03.856Z"
   },
   {
    "duration": 8,
    "start_time": "2023-10-01T15:51:03.877Z"
   },
   {
    "duration": 30,
    "start_time": "2023-10-01T15:51:03.887Z"
   },
   {
    "duration": 9,
    "start_time": "2023-10-01T15:51:03.918Z"
   },
   {
    "duration": 37,
    "start_time": "2023-10-01T15:51:03.929Z"
   },
   {
    "duration": 7,
    "start_time": "2023-10-01T15:51:03.968Z"
   },
   {
    "duration": 20,
    "start_time": "2023-10-01T15:51:03.977Z"
   },
   {
    "duration": 16,
    "start_time": "2023-10-01T15:51:03.999Z"
   },
   {
    "duration": 7,
    "start_time": "2023-10-01T15:52:09.989Z"
   },
   {
    "duration": 8,
    "start_time": "2023-10-01T15:52:40.807Z"
   },
   {
    "duration": 1757,
    "start_time": "2023-10-02T06:17:12.084Z"
   },
   {
    "duration": 63,
    "start_time": "2023-10-02T06:17:13.844Z"
   },
   {
    "duration": 4,
    "start_time": "2023-10-02T06:17:13.909Z"
   },
   {
    "duration": 49,
    "start_time": "2023-10-02T06:17:13.915Z"
   },
   {
    "duration": 17,
    "start_time": "2023-10-02T06:17:13.967Z"
   },
   {
    "duration": 24,
    "start_time": "2023-10-02T06:17:13.986Z"
   },
   {
    "duration": 15,
    "start_time": "2023-10-02T06:17:14.012Z"
   },
   {
    "duration": 17,
    "start_time": "2023-10-02T06:17:14.031Z"
   },
   {
    "duration": 281,
    "start_time": "2023-10-02T06:17:14.049Z"
   },
   {
    "duration": 9,
    "start_time": "2023-10-02T06:17:14.333Z"
   },
   {
    "duration": 92,
    "start_time": "2023-10-02T06:17:14.344Z"
   },
   {
    "duration": 11,
    "start_time": "2023-10-02T06:17:14.438Z"
   },
   {
    "duration": 39,
    "start_time": "2023-10-02T06:17:14.451Z"
   },
   {
    "duration": 12,
    "start_time": "2023-10-02T06:17:14.492Z"
   },
   {
    "duration": 21,
    "start_time": "2023-10-02T06:17:14.506Z"
   },
   {
    "duration": 16,
    "start_time": "2023-10-02T06:17:14.530Z"
   },
   {
    "duration": 8,
    "start_time": "2023-10-02T06:17:14.549Z"
   },
   {
    "duration": 11,
    "start_time": "2023-10-02T06:17:14.560Z"
   },
   {
    "duration": 18,
    "start_time": "2023-10-02T06:17:14.573Z"
   },
   {
    "duration": 12,
    "start_time": "2023-10-02T06:17:14.610Z"
   },
   {
    "duration": 8,
    "start_time": "2023-10-02T06:17:14.625Z"
   },
   {
    "duration": 26,
    "start_time": "2023-10-02T06:17:14.635Z"
   },
   {
    "duration": 49,
    "start_time": "2023-10-02T06:17:14.664Z"
   },
   {
    "duration": 10,
    "start_time": "2023-10-02T06:17:14.716Z"
   },
   {
    "duration": 13,
    "start_time": "2023-10-02T06:17:14.729Z"
   },
   {
    "duration": 21,
    "start_time": "2023-10-02T06:17:14.745Z"
   },
   {
    "duration": 55,
    "start_time": "2023-10-02T06:17:14.768Z"
   },
   {
    "duration": 11,
    "start_time": "2023-10-02T06:17:14.830Z"
   },
   {
    "duration": 20,
    "start_time": "2023-10-02T06:17:14.843Z"
   },
   {
    "duration": 14,
    "start_time": "2023-10-02T06:17:14.865Z"
   },
   {
    "duration": 15,
    "start_time": "2023-10-02T06:17:14.881Z"
   },
   {
    "duration": 14,
    "start_time": "2023-10-02T06:17:14.899Z"
   },
   {
    "duration": 7,
    "start_time": "2023-10-02T06:17:14.915Z"
   },
   {
    "duration": 19,
    "start_time": "2023-10-02T06:17:14.925Z"
   },
   {
    "duration": 11,
    "start_time": "2023-10-02T06:17:14.947Z"
   },
   {
    "duration": 8,
    "start_time": "2023-10-02T06:17:14.960Z"
   },
   {
    "duration": 325,
    "start_time": "2023-10-02T06:17:14.971Z"
   },
   {
    "duration": 181,
    "start_time": "2023-10-02T06:17:15.299Z"
   },
   {
    "duration": 30,
    "start_time": "2023-10-02T06:17:15.482Z"
   },
   {
    "duration": 9,
    "start_time": "2023-10-02T06:17:15.514Z"
   },
   {
    "duration": 479,
    "start_time": "2023-10-02T06:17:15.526Z"
   },
   {
    "duration": 304,
    "start_time": "2023-10-02T06:17:16.010Z"
   },
   {
    "duration": 409,
    "start_time": "2023-10-02T06:17:16.316Z"
   },
   {
    "duration": 371,
    "start_time": "2023-10-02T06:17:16.727Z"
   },
   {
    "duration": 374,
    "start_time": "2023-10-02T06:17:17.100Z"
   },
   {
    "duration": 304,
    "start_time": "2023-10-02T06:17:17.476Z"
   },
   {
    "duration": 75,
    "start_time": "2023-10-02T06:17:17.783Z"
   },
   {
    "duration": 289,
    "start_time": "2023-10-02T06:17:17.860Z"
   },
   {
    "duration": 11,
    "start_time": "2023-10-02T06:17:18.152Z"
   },
   {
    "duration": 27,
    "start_time": "2023-10-02T06:17:18.166Z"
   },
   {
    "duration": 97,
    "start_time": "2023-10-02T06:17:18.208Z"
   },
   {
    "duration": 16,
    "start_time": "2023-10-02T06:17:18.310Z"
   },
   {
    "duration": 90,
    "start_time": "2023-10-02T06:17:18.329Z"
   },
   {
    "duration": 30,
    "start_time": "2023-10-02T06:17:18.422Z"
   },
   {
    "duration": 95,
    "start_time": "2023-10-02T06:17:18.455Z"
   },
   {
    "duration": 40,
    "start_time": "2023-10-02T06:17:18.553Z"
   },
   {
    "duration": 88,
    "start_time": "2023-10-02T06:17:18.612Z"
   },
   {
    "duration": 58,
    "start_time": "2023-10-02T06:17:18.710Z"
   },
   {
    "duration": 100,
    "start_time": "2023-10-02T06:17:18.770Z"
   },
   {
    "duration": 91,
    "start_time": "2023-10-02T06:17:18.872Z"
   },
   {
    "duration": 9,
    "start_time": "2023-10-02T06:17:18.965Z"
   },
   {
    "duration": 92,
    "start_time": "2023-10-02T06:17:18.977Z"
   },
   {
    "duration": 50,
    "start_time": "2023-10-02T06:17:19.071Z"
   },
   {
    "duration": 11,
    "start_time": "2023-10-02T06:17:19.123Z"
   },
   {
    "duration": 10,
    "start_time": "2023-10-02T06:17:19.137Z"
   },
   {
    "duration": 21,
    "start_time": "2023-10-02T06:17:19.150Z"
   },
   {
    "duration": 5,
    "start_time": "2023-10-02T06:17:19.174Z"
   },
   {
    "duration": 32,
    "start_time": "2023-10-02T06:17:19.182Z"
   },
   {
    "duration": 30,
    "start_time": "2023-10-02T06:17:19.216Z"
   },
   {
    "duration": 32,
    "start_time": "2023-10-02T06:17:19.248Z"
   },
   {
    "duration": 22,
    "start_time": "2023-10-02T06:17:19.282Z"
   },
   {
    "duration": 17,
    "start_time": "2023-10-02T06:17:19.306Z"
   },
   {
    "duration": 10,
    "start_time": "2023-10-02T06:17:19.325Z"
   },
   {
    "duration": 25,
    "start_time": "2023-10-02T06:17:19.338Z"
   },
   {
    "duration": 23,
    "start_time": "2023-10-02T06:17:19.365Z"
   },
   {
    "duration": 18,
    "start_time": "2023-10-02T06:17:19.391Z"
   },
   {
    "duration": 17,
    "start_time": "2023-10-02T06:17:19.412Z"
   },
   {
    "duration": 38,
    "start_time": "2023-10-02T06:17:19.431Z"
   },
   {
    "duration": 31,
    "start_time": "2023-10-02T06:17:19.472Z"
   },
   {
    "duration": 44,
    "start_time": "2023-10-02T06:17:19.505Z"
   },
   {
    "duration": 20,
    "start_time": "2023-10-02T06:17:19.552Z"
   },
   {
    "duration": 20,
    "start_time": "2023-10-02T06:17:19.580Z"
   },
   {
    "duration": 28,
    "start_time": "2023-10-02T06:17:19.603Z"
   },
   {
    "duration": 26,
    "start_time": "2023-10-02T06:17:19.633Z"
   },
   {
    "duration": 66,
    "start_time": "2023-10-02T06:17:19.661Z"
   },
   {
    "duration": 9,
    "start_time": "2023-10-02T06:17:19.729Z"
   },
   {
    "duration": 15,
    "start_time": "2023-10-02T06:17:19.740Z"
   },
   {
    "duration": 16,
    "start_time": "2023-10-02T06:17:19.758Z"
   }
  ],
  "kernelspec": {
   "display_name": "Python 3 (ipykernel)",
   "language": "python",
   "name": "python3"
  },
  "language_info": {
   "codemirror_mode": {
    "name": "ipython",
    "version": 3
   },
   "file_extension": ".py",
   "mimetype": "text/x-python",
   "name": "python",
   "nbconvert_exporter": "python",
   "pygments_lexer": "ipython3",
   "version": "3.9.13"
  },
  "toc": {
   "base_numbering": 1,
   "nav_menu": {},
   "number_sections": false,
   "sideBar": true,
   "skip_h1_title": true,
   "title_cell": "Table of Contents",
   "title_sidebar": "Contents",
   "toc_cell": false,
   "toc_position": {
    "height": "calc(100% - 180px)",
    "left": "10px",
    "top": "150px",
    "width": "346.781px"
   },
   "toc_section_display": true,
   "toc_window_display": true
  }
 },
 "nbformat": 4,
 "nbformat_minor": 2
}
